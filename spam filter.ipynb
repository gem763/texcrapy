{
 "cells": [
  {
   "cell_type": "code",
   "execution_count": 12,
   "metadata": {},
   "outputs": [],
   "source": [
    "import pandas_gbq as gbq\n",
    "import re\n",
    "# import texthero as hero\n",
    "from IPython.core.debugger import set_trace"
   ]
  },
  {
   "cell_type": "code",
   "execution_count": 2,
   "metadata": {},
   "outputs": [],
   "source": [
    "proj_id = 'sideb-proejct'\n",
    "table_id = 'moiber_20210920.twitter_feed'"
   ]
  },
  {
   "cell_type": "code",
   "execution_count": 3,
   "metadata": {},
   "outputs": [
    {
     "name": "stderr",
     "output_type": "stream",
     "text": [
      "Downloading: 100%|██████████| 215003/215003 [00:53<00:00, 4029.91rows/s]\n"
     ]
    }
   ],
   "source": [
    "sql = '''\n",
    "SELECT id, content\n",
    "FROM `sideb-proejct.moiber_20210920.twitter_feed`\n",
    "'''\n",
    "\n",
    "feeds = gbq.read_gbq(sql, project_id=proj_id)"
   ]
  },
  {
   "cell_type": "code",
   "execution_count": 6,
   "metadata": {},
   "outputs": [
    {
     "data": {
      "text/html": [
       "<div>\n",
       "<style scoped>\n",
       "    .dataframe tbody tr th:only-of-type {\n",
       "        vertical-align: middle;\n",
       "    }\n",
       "\n",
       "    .dataframe tbody tr th {\n",
       "        vertical-align: top;\n",
       "    }\n",
       "\n",
       "    .dataframe thead th {\n",
       "        text-align: right;\n",
       "    }\n",
       "</style>\n",
       "<table border=\"1\" class=\"dataframe\">\n",
       "  <thead>\n",
       "    <tr style=\"text-align: right;\">\n",
       "      <th></th>\n",
       "      <th>id</th>\n",
       "      <th>content</th>\n",
       "    </tr>\n",
       "  </thead>\n",
       "  <tbody>\n",
       "    <tr>\n",
       "      <th>0</th>\n",
       "      <td>1371320157453250563</td>\n",
       "      <td>@DOYOUNGbr_ @treasuremembers Doyoung fashion\\n...</td>\n",
       "    </tr>\n",
       "    <tr>\n",
       "      <th>1</th>\n",
       "      <td>1370918210216763392</td>\n",
       "      <td>화장품, 마스크, 세안용클렌징, 손소독제, 라면, 곡물스낵, 그외 식품, 의류 등등...</td>\n",
       "    </tr>\n",
       "    <tr>\n",
       "      <th>2</th>\n",
       "      <td>1370532027770892290</td>\n",
       "      <td>방탄소년단 인도네시아 팬들, 의류 3500벌 수집 “제이홉 이름으로 저소득층에 기부...</td>\n",
       "    </tr>\n",
       "    <tr>\n",
       "      <th>3</th>\n",
       "      <td>1371431339652640772</td>\n",
       "      <td>님들님들 의류브랜드인데 이거 이름이 뭐지 그 대각선으로 오프화이트 그래 이거야</td>\n",
       "    </tr>\n",
       "    <tr>\n",
       "      <th>4</th>\n",
       "      <td>1387353868288204800</td>\n",
       "      <td>ADOY의 LOVE I VIVID I CATNIP \\n3개의 앨범을 의류&amp;amp;가...</td>\n",
       "    </tr>\n",
       "  </tbody>\n",
       "</table>\n",
       "</div>"
      ],
      "text/plain": [
       "                    id                                            content\n",
       "0  1371320157453250563  @DOYOUNGbr_ @treasuremembers Doyoung fashion\\n...\n",
       "1  1370918210216763392  화장품, 마스크, 세안용클렌징, 손소독제, 라면, 곡물스낵, 그외 식품, 의류 등등...\n",
       "2  1370532027770892290  방탄소년단 인도네시아 팬들, 의류 3500벌 수집 “제이홉 이름으로 저소득층에 기부...\n",
       "3  1371431339652640772        님들님들 의류브랜드인데 이거 이름이 뭐지 그 대각선으로 오프화이트 그래 이거야\n",
       "4  1387353868288204800  ADOY의 LOVE I VIVID I CATNIP \\n3개의 앨범을 의류&amp;가..."
      ]
     },
     "execution_count": 6,
     "metadata": {},
     "output_type": "execute_result"
    }
   ],
   "source": [
    "feeds.head()"
   ]
  },
  {
   "cell_type": "code",
   "execution_count": 21,
   "metadata": {},
   "outputs": [],
   "source": [
    "feeds.sample(n=100, random_state=1).to_excel('feed samples for annotation.xlsx')"
   ]
  },
  {
   "cell_type": "code",
   "execution_count": 11,
   "metadata": {},
   "outputs": [],
   "source": [
    "def preproc(text, remove_url=True, remove_mention=True, remove_hashtag=False):\n",
    "    LINEBREAK = r'\\n' # str.replace에서는 r'\\n'으로 검색이 안된다\n",
    "    RT = '((?: rt)|(?:^rt))[^ @]?'\n",
    "    EMOJI = r'[\\U00010000-\\U0010ffff]'\n",
    "    DOTS = '…'\n",
    "    LONG_BLANK = r'[ ]+'\n",
    "    SPECIALS = r'([^ a-zA-Z0-9_\\u3131-\\u3163\\uac00-\\ud7a3]+)|([ㄱ-ㅣ]+)'\n",
    "    \n",
    "    # \\u3131-\\u3163\\uac00-\\ud7a3 는 한글을 의미함\n",
    "    # URL = r'(?P<url>(https?://)?(www[.])?[^ \\u3131-\\u3163\\uac00-\\ud7a3]+[.][a-z]{2,6}\\b([^ \\u3131-\\u3163\\uac00-\\ud7a3]*))'\n",
    "    URL1 = r'(?:https?:\\/\\/)?(?:www[.])?[^ :\\u3131-\\u3163\\uac00-\\ud7a3]+[.][a-z]{2,6}\\b(?:[^ \\u3131-\\u3163\\uac00-\\ud7a3]*)'\n",
    "    URL2 = r'pic.twitter.com/[a-zA-Z0-9_]+'\n",
    "    URL = '|'.join((URL1, URL2))\n",
    "    \n",
    "    HASHTAG = r'#(?P<inner_hashtag>[^ #@]+)'\n",
    "    MENTION = r'@(?P<inner_mention>[^ #@]+)' \n",
    "    \n",
    "    text = text.lower()\n",
    "    \n",
    "    if remove_url:\n",
    "        text = re.sub(URL, ' ', text)\n",
    "\n",
    "    if remove_mention:\n",
    "        text = re.sub(MENTION, ' ', text)        \n",
    "    else:\n",
    "        text = re.sub(MENTION, ' \\g<inner_mention>', text)\n",
    "        \n",
    "    if remove_hashtag:\n",
    "        text = re.sub(HASHTAG, ' ', text)\n",
    "    else:\n",
    "        text = re.sub(HASHTAG, ' \\g<inner_hashtag>', text)\n",
    "        \n",
    "    text = re.sub('|'.join((LINEBREAK, RT, EMOJI, DOTS, SPECIALS)), ' ', text)\n",
    "    return re.sub(LONG_BLANK, ' ', text).strip()"
   ]
  },
  {
   "cell_type": "code",
   "execution_count": 14,
   "metadata": {},
   "outputs": [],
   "source": [
    "feeds['text'] = feeds['content'].map(lambda t: preproc(t))"
   ]
  },
  {
   "cell_type": "code",
   "execution_count": 15,
   "metadata": {},
   "outputs": [
    {
     "data": {
      "text/html": [
       "<div>\n",
       "<style scoped>\n",
       "    .dataframe tbody tr th:only-of-type {\n",
       "        vertical-align: middle;\n",
       "    }\n",
       "\n",
       "    .dataframe tbody tr th {\n",
       "        vertical-align: top;\n",
       "    }\n",
       "\n",
       "    .dataframe thead th {\n",
       "        text-align: right;\n",
       "    }\n",
       "</style>\n",
       "<table border=\"1\" class=\"dataframe\">\n",
       "  <thead>\n",
       "    <tr style=\"text-align: right;\">\n",
       "      <th></th>\n",
       "      <th>id</th>\n",
       "      <th>content</th>\n",
       "      <th>text</th>\n",
       "    </tr>\n",
       "  </thead>\n",
       "  <tbody>\n",
       "    <tr>\n",
       "      <th>0</th>\n",
       "      <td>1371320157453250563</td>\n",
       "      <td>@DOYOUNGbr_ @treasuremembers Doyoung fashion\\n...</td>\n",
       "      <td>doyoung fashion 트레저 도영 보컬 트레저 도영 작곡가 트레저 도영 메인...</td>\n",
       "    </tr>\n",
       "    <tr>\n",
       "      <th>1</th>\n",
       "      <td>1370918210216763392</td>\n",
       "      <td>화장품, 마스크, 세안용클렌징, 손소독제, 라면, 곡물스낵, 그외 식품, 의류 등등...</td>\n",
       "      <td>화장품 마스크 세안용클렌징 손소독제 라면 곡물스낵 그외 식품 의류 등등 수입해가지 ...</td>\n",
       "    </tr>\n",
       "    <tr>\n",
       "      <th>2</th>\n",
       "      <td>1370532027770892290</td>\n",
       "      <td>방탄소년단 인도네시아 팬들, 의류 3500벌 수집 “제이홉 이름으로 저소득층에 기부...</td>\n",
       "      <td>방탄소년단 인도네시아 팬들 의류 3500벌 수집 제이홉 이름으로 저소득층에 기부 출...</td>\n",
       "    </tr>\n",
       "    <tr>\n",
       "      <th>3</th>\n",
       "      <td>1371431339652640772</td>\n",
       "      <td>님들님들 의류브랜드인데 이거 이름이 뭐지 그 대각선으로 오프화이트 그래 이거야</td>\n",
       "      <td>님들님들 의류브랜드인데 이거 이름이 뭐지 그 대각선으로 오프화이트 그래 이거야</td>\n",
       "    </tr>\n",
       "    <tr>\n",
       "      <th>4</th>\n",
       "      <td>1387353868288204800</td>\n",
       "      <td>ADOY의 LOVE I VIVID I CATNIP \\n3개의 앨범을 의류&amp;amp;가...</td>\n",
       "      <td>adoy의 love i vivid i catnip 3개의 앨범을 의류 amp 가방 ...</td>\n",
       "    </tr>\n",
       "  </tbody>\n",
       "</table>\n",
       "</div>"
      ],
      "text/plain": [
       "                    id                                            content  \\\n",
       "0  1371320157453250563  @DOYOUNGbr_ @treasuremembers Doyoung fashion\\n...   \n",
       "1  1370918210216763392  화장품, 마스크, 세안용클렌징, 손소독제, 라면, 곡물스낵, 그외 식품, 의류 등등...   \n",
       "2  1370532027770892290  방탄소년단 인도네시아 팬들, 의류 3500벌 수집 “제이홉 이름으로 저소득층에 기부...   \n",
       "3  1371431339652640772        님들님들 의류브랜드인데 이거 이름이 뭐지 그 대각선으로 오프화이트 그래 이거야   \n",
       "4  1387353868288204800  ADOY의 LOVE I VIVID I CATNIP \\n3개의 앨범을 의류&amp;가...   \n",
       "\n",
       "                                                text  \n",
       "0  doyoung fashion 트레저 도영 보컬 트레저 도영 작곡가 트레저 도영 메인...  \n",
       "1  화장품 마스크 세안용클렌징 손소독제 라면 곡물스낵 그외 식품 의류 등등 수입해가지 ...  \n",
       "2  방탄소년단 인도네시아 팬들 의류 3500벌 수집 제이홉 이름으로 저소득층에 기부 출...  \n",
       "3        님들님들 의류브랜드인데 이거 이름이 뭐지 그 대각선으로 오프화이트 그래 이거야  \n",
       "4  adoy의 love i vivid i catnip 3개의 앨범을 의류 amp 가방 ...  "
      ]
     },
     "execution_count": 15,
     "metadata": {},
     "output_type": "execute_result"
    }
   ],
   "source": [
    "feeds.head()"
   ]
  },
  {
   "cell_type": "code",
   "execution_count": 16,
   "metadata": {},
   "outputs": [
    {
     "data": {
      "text/html": [
       "<div>\n",
       "<style scoped>\n",
       "    .dataframe tbody tr th:only-of-type {\n",
       "        vertical-align: middle;\n",
       "    }\n",
       "\n",
       "    .dataframe tbody tr th {\n",
       "        vertical-align: top;\n",
       "    }\n",
       "\n",
       "    .dataframe thead th {\n",
       "        text-align: right;\n",
       "    }\n",
       "</style>\n",
       "<table border=\"1\" class=\"dataframe\">\n",
       "  <thead>\n",
       "    <tr style=\"text-align: right;\">\n",
       "      <th></th>\n",
       "      <th>id</th>\n",
       "      <th>content</th>\n",
       "      <th>text</th>\n",
       "    </tr>\n",
       "  </thead>\n",
       "  <tbody>\n",
       "    <tr>\n",
       "      <th>8013</th>\n",
       "      <td>1388010598634381314</td>\n",
       "      <td>@TeamLTY Taeyong Fashion 태용 패션 \\n#태용 #NCT태용 #T...</td>\n",
       "      <td>taeyong fashion 태용 패션 태용 nct태용 taeyong</td>\n",
       "    </tr>\n",
       "    <tr>\n",
       "      <th>210800</th>\n",
       "      <td>1381142543727874048</td>\n",
       "      <td>샀어\\n비비안웨스트우드 늘 갖고싶었는데\\n기분짱!!!!!! https://t.co/...</td>\n",
       "      <td>샀어 비비안웨스트우드 늘 갖고싶었는데 기분짱</td>\n",
       "    </tr>\n",
       "    <tr>\n",
       "      <th>118682</th>\n",
       "      <td>1414061813315084289</td>\n",
       "      <td>제비표비옷 추천 가성비 남성의류 가격비교 제품 TOP 50종 https://t.co...</td>\n",
       "      <td>제비표비옷 추천 가성비 남성의류 가격비교 제품 top 50종</td>\n",
       "    </tr>\n",
       "  </tbody>\n",
       "</table>\n",
       "</div>"
      ],
      "text/plain": [
       "                         id  \\\n",
       "8013    1388010598634381314   \n",
       "210800  1381142543727874048   \n",
       "118682  1414061813315084289   \n",
       "\n",
       "                                                  content  \\\n",
       "8013    @TeamLTY Taeyong Fashion 태용 패션 \\n#태용 #NCT태용 #T...   \n",
       "210800  샀어\\n비비안웨스트우드 늘 갖고싶었는데\\n기분짱!!!!!! https://t.co/...   \n",
       "118682  제비표비옷 추천 가성비 남성의류 가격비교 제품 TOP 50종 https://t.co...   \n",
       "\n",
       "                                          text  \n",
       "8013    taeyong fashion 태용 패션 태용 nct태용 taeyong  \n",
       "210800                샀어 비비안웨스트우드 늘 갖고싶었는데 기분짱  \n",
       "118682       제비표비옷 추천 가성비 남성의류 가격비교 제품 top 50종  "
      ]
     },
     "execution_count": 16,
     "metadata": {},
     "output_type": "execute_result"
    }
   ],
   "source": []
  },
  {
   "cell_type": "code",
   "execution_count": null,
   "metadata": {},
   "outputs": [],
   "source": []
  }
 ],
 "metadata": {
  "kernelspec": {
   "display_name": "Python 3",
   "language": "python",
   "name": "python3"
  },
  "language_info": {
   "codemirror_mode": {
    "name": "ipython",
    "version": 3
   },
   "file_extension": ".py",
   "mimetype": "text/x-python",
   "name": "python",
   "nbconvert_exporter": "python",
   "pygments_lexer": "ipython3",
   "version": "3.8.5"
  }
 },
 "nbformat": 4,
 "nbformat_minor": 4
}
