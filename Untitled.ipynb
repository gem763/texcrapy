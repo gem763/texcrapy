{
 "cells": [
  {
   "cell_type": "code",
   "execution_count": 1,
   "metadata": {},
   "outputs": [],
   "source": [
    "import os\n",
    "import glob\n",
    "import json\n",
    "import pandas as pd"
   ]
  },
  {
   "cell_type": "code",
   "execution_count": 16,
   "metadata": {},
   "outputs": [
    {
     "data": {
      "text/plain": [
       "['scrapped/twitter/feed/2021-05-29T09;45;38+09;00.json',\n",
       " 'scrapped/twitter/feed/2021-04-11T10;45;41+09;00.json',\n",
       " 'scrapped/twitter/feed/2021-06-29T23;58;49+09;00.json',\n",
       " 'scrapped/twitter/feed/2021-07-29T16;02;30+09;00.json',\n",
       " 'scrapped/twitter/feed/2021-08-24T14;36;09+09;00.json',\n",
       " 'scrapped/twitter/feed/2021-05-08T13;43;13+09;00.json',\n",
       " 'scrapped/twitter/feed/2021-03-26T16;48;58+09;00.json',\n",
       " 'scrapped/twitter/feed/2021-03-01T19;04;13+09;00.json',\n",
       " 'scrapped/twitter/feed/2021-07-08T12;05;53+09;00.json',\n",
       " 'scrapped/twitter/feed/2021-03-23T22;09;31+09;00.json']"
      ]
     },
     "execution_count": 16,
     "metadata": {},
     "output_type": "execute_result"
    }
   ],
   "source": [
    "fnames = glob.glob('scrapped/twitter/feed/*.json')[:10]; fnames"
   ]
  },
  {
   "cell_type": "code",
   "execution_count": 37,
   "metadata": {},
   "outputs": [],
   "source": [
    "class JsonCorpus:\n",
    "    def __init__(self, textkey='content'):\n",
    "        self.feed_dir = 'scrapped/twitter/feed/'\n",
    "        self.user_dir = 'scrapped/twitter/user/'\n",
    "        self.feed_files = self._feed_files\n",
    "        self.textkey = textkey\n",
    "        self.corpus = self._corpus()\n",
    "    \n",
    "    @property\n",
    "    def _feed_files(self):\n",
    "        return glob.glob(self.feed_dir + '*.json')[:1000]\n",
    "        \n",
    "    def _user(self, username):\n",
    "        ufile = self.user_dir + '/' + username + '.json'\n",
    "        with open(ufile, encoding='UTF-8-sig') as f:\n",
    "            _u = json.load(f)\n",
    "\n",
    "        return _u\n",
    "        \n",
    "    def _corpus(self):\n",
    "        corpus = {}\n",
    "        nfiles = len(self.feed_files)\n",
    "        tmp = []\n",
    "        \n",
    "        for i, fname in enumerate(self.feed_files):\n",
    "            with open(fname, encoding='UTF-8-sig') as f:\n",
    "                _js = json.load(f)\n",
    "                \n",
    "                for _brand in _js['brands']:\n",
    "                    if _brand not in corpus:\n",
    "                        corpus[_brand] = []\n",
    "                        \n",
    "                    corpus[_brand].append(_js[self.textkey])\n",
    "                \n",
    "                pct = '%.2f' % (100 * (i+1) / nfiles)\n",
    "                #print('\\r {pct}% completed'.format(pct=pct), end='')\n",
    "                \n",
    "                user = self._user(_js['user'])\n",
    "                #print(user['followersCount'])\n",
    "                tmp.append({\n",
    "                    'nfollowers': user['followersCount'],\n",
    "                    'nfriends': user['friendsCount'],\n",
    "                    'nstatuses': user['statusesCount'],\n",
    "                    'nfavourites': user['favouritesCount'],\n",
    "                    'nlisted': user['listedCount'],\n",
    "                    'content': _js[self.textkey],\n",
    "                    'nreply': _js['replyCount'],\n",
    "                    'nretweet': _js['retweetCount'],\n",
    "                    'nlike': _js['likeCount'],\n",
    "                    'nquote': _js['quoteCount']\n",
    "                })\n",
    "        \n",
    "        print('\\n')\n",
    "        #return corpus\n",
    "        return pd.DataFrame(tmp)\n",
    "    \n",
    "                \n",
    "    def __iter__(self):\n",
    "        for sents in self.corpus.values():\n",
    "            yield from sents\n",
    "\n",
    "    def __len__(self):\n",
    "        return sum([len(sents) for sents in self.corpus.values()])\n",
    "    \n",
    "    def tokenize(self, tagger):\n",
    "        return DocTokens(tagger, **self.corpus)\n",
    "\n"
   ]
  },
  {
   "cell_type": "code",
   "execution_count": 38,
   "metadata": {},
   "outputs": [
    {
     "name": "stdout",
     "output_type": "stream",
     "text": [
      "\n",
      "\n"
     ]
    },
    {
     "data": {
      "text/plain": [
       "<__main__.JsonCorpus at 0x7feac1eac9d0>"
      ]
     },
     "execution_count": 38,
     "metadata": {},
     "output_type": "execute_result"
    }
   ],
   "source": [
    "jcorpus = JsonCorpus(); jcorpus"
   ]
  },
  {
   "cell_type": "code",
   "execution_count": 39,
   "metadata": {},
   "outputs": [],
   "source": [
    "jcorpus.corpus.to_excel('test.xlsx')"
   ]
  },
  {
   "cell_type": "code",
   "execution_count": 7,
   "metadata": {},
   "outputs": [
    {
     "data": {
      "text/plain": [
       "504838"
      ]
     },
     "execution_count": 7,
     "metadata": {},
     "output_type": "execute_result"
    }
   ],
   "source": [
    "feed_dir = 'scrapped/twitter/feed/'\n",
    "len(glob.glob(feed_dir + '*.json'))"
   ]
  },
  {
   "cell_type": "code",
   "execution_count": 44,
   "metadata": {},
   "outputs": [
    {
     "name": "stdout",
     "output_type": "stream",
     "text": [
      "CPU times: user 1.12 s, sys: 737 ms, total: 1.86 s\n",
      "Wall time: 1.96 s\n"
     ]
    },
    {
     "data": {
      "text/plain": [
       "820884"
      ]
     },
     "execution_count": 44,
     "metadata": {},
     "output_type": "execute_result"
    }
   ],
   "source": [
    "%time len(glob.glob(feed_dir + '*.json'))"
   ]
  },
  {
   "cell_type": "code",
   "execution_count": 41,
   "metadata": {},
   "outputs": [
    {
     "data": {
      "text/plain": [
       "'scrapped/twitter/feed/2021-08-26T08;33;24+09;00.json'"
      ]
     },
     "execution_count": 41,
     "metadata": {},
     "output_type": "execute_result"
    }
   ],
   "source": [
    "ff = glob.glob(feed_dir + '*.json')[-1]; ff"
   ]
  },
  {
   "cell_type": "code",
   "execution_count": null,
   "metadata": {},
   "outputs": [],
   "source": []
  }
 ],
 "metadata": {
  "kernelspec": {
   "display_name": "Python 3",
   "language": "python",
   "name": "python3"
  },
  "language_info": {
   "codemirror_mode": {
    "name": "ipython",
    "version": 3
   },
   "file_extension": ".py",
   "mimetype": "text/x-python",
   "name": "python",
   "nbconvert_exporter": "python",
   "pygments_lexer": "ipython3",
   "version": "3.8.5"
  }
 },
 "nbformat": 4,
 "nbformat_minor": 5
}
