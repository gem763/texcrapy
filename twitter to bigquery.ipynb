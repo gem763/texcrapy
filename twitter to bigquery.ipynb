{
 "cells": [
  {
   "cell_type": "code",
   "execution_count": 1,
   "metadata": {},
   "outputs": [],
   "source": [
    "%load_ext autoreload\n",
    "%autoreload\n",
    "%matplotlib inline\n",
    "\n",
    "import pandas as pd\n",
    "import pandas_gbq as gbq\n",
    "import numpy as np\n",
    "from IPython.core.debugger import set_trace\n",
    "from tqdm.notebook import trange, tqdm\n",
    "import json\n",
    "import os\n",
    "import re\n",
    "import datetime\n",
    "from time import sleep\n",
    "import pytz\n",
    "KST = pytz.timezone('Asia/Seoul')\n",
    "\n",
    "import snscrape\n",
    "import snscrape.modules.twitter as sntwitter\n",
    "import gspread\n",
    "from oauth2client.service_account import ServiceAccountCredentials"
   ]
  },
  {
   "cell_type": "code",
   "execution_count": 27,
   "metadata": {},
   "outputs": [],
   "source": [
    "import pydata_google_auth\n",
    "\n",
    "credentials = pydata_google_auth.get_user_credentials(\n",
    "  ['https://www.googleapis.com/auth/bigquery'],\n",
    ")"
   ]
  },
  {
   "cell_type": "code",
   "execution_count": 30,
   "metadata": {},
   "outputs": [
    {
     "data": {
      "text/plain": [
       "Dataset(DatasetReference('sideb-proejct', 'moiber_20210920'))"
      ]
     },
     "execution_count": 30,
     "metadata": {},
     "output_type": "execute_result"
    }
   ],
   "source": [
    "from google.cloud import bigquery\n",
    "\n",
    "bq = bigquery.Client(project='sideb-proejct', credentials=credentials)\n",
    "dataset = bq.get_dataset('moiber_20210920'); dataset"
   ]
  },
  {
   "cell_type": "code",
   "execution_count": 31,
   "metadata": {},
   "outputs": [
    {
     "data": {
      "text/plain": [
       "Table(TableReference(DatasetReference('sideb-proejct', 'moiber_20210920'), 'twitter_feed'))"
      ]
     },
     "execution_count": 31,
     "metadata": {},
     "output_type": "execute_result"
    }
   ],
   "source": [
    "table = bq.get_table('sideb-proejct.moiber_20210920.twitter_feed'); table"
   ]
  },
  {
   "cell_type": "code",
   "execution_count": 32,
   "metadata": {},
   "outputs": [
    {
     "data": {
      "text/plain": [
       "[SchemaField('id', 'INTEGER', 'REQUIRED', None, (), ()),\n",
       " SchemaField('url', 'STRING', 'REQUIRED', None, (), ()),\n",
       " SchemaField('created', 'TIMESTAMP', 'REQUIRED', None, (), ()),\n",
       " SchemaField('content', 'STRING', 'NULLABLE', None, (), ()),\n",
       " SchemaField('userid', 'INTEGER', 'REQUIRED', None, (), ()),\n",
       " SchemaField('replyCount', 'INTEGER', 'NULLABLE', None, (), ()),\n",
       " SchemaField('retweetCount', 'INTEGER', 'NULLABLE', None, (), ()),\n",
       " SchemaField('likeCount', 'INTEGER', 'NULLABLE', None, (), ()),\n",
       " SchemaField('quoteCount', 'INTEGER', 'NULLABLE', None, (), ()),\n",
       " SchemaField('lang', 'STRING', 'NULLABLE', None, (), ()),\n",
       " SchemaField('sourceLabel', 'STRING', 'NULLABLE', None, (), ()),\n",
       " SchemaField('media', 'STRING', 'REPEATED', None, (), ()),\n",
       " SchemaField('inReplyToUserid', 'INTEGER', 'NULLABLE', None, (), ()),\n",
       " SchemaField('mentionedUserids', 'INTEGER', 'REPEATED', None, (), ())]"
      ]
     },
     "execution_count": 32,
     "metadata": {},
     "output_type": "execute_result"
    }
   ],
   "source": [
    "table.schema"
   ]
  },
  {
   "cell_type": "code",
   "execution_count": 68,
   "metadata": {},
   "outputs": [
    {
     "data": {
      "text/plain": [
       "[]"
      ]
     },
     "execution_count": 68,
     "metadata": {},
     "output_type": "execute_result"
    }
   ],
   "source": [
    "bq.insert_rows(table, [(\n",
    "    tw['id'],\n",
    "    tw['url'],\n",
    "    tw['date'],\n",
    "    tw['content'],\n",
    "    tw['user']['id'],\n",
    "    tw['replyCount'],\n",
    "    tw['retweetCount'],\n",
    "    tw['likeCount'],\n",
    "    tw['quoteCount'],\n",
    "    tw['lang'],\n",
    "    tw['sourceLabel'],\n",
    "    [_d['fullUrl'] for _d in tw['media']] if tw['media'] else None,\n",
    "    tw['inReplyToUser']['id'] if tw['inReplyToUser'] else None,\n",
    "    [_d['id'] for _d in tw['mentionedUsers']] if tw['mentionedUsers'] else None\n",
    ")])"
   ]
  },
  {
   "cell_type": "code",
   "execution_count": 83,
   "metadata": {},
   "outputs": [
    {
     "data": {
      "text/plain": [
       "'2021-08-30T06:32:06+00:00'"
      ]
     },
     "execution_count": 83,
     "metadata": {},
     "output_type": "execute_result"
    }
   ],
   "source": [
    "tw['date'].isoformat()"
   ]
  },
  {
   "cell_type": "code",
   "execution_count": 82,
   "metadata": {},
   "outputs": [
    {
     "data": {
      "text/plain": [
       "'2021-08-30T15:32:06+09:00'"
      ]
     },
     "execution_count": 82,
     "metadata": {},
     "output_type": "execute_result"
    }
   ],
   "source": [
    "tw['date'].astimezone(KST).isoformat()"
   ]
  },
  {
   "cell_type": "code",
   "execution_count": null,
   "metadata": {},
   "outputs": [],
   "source": []
  },
  {
   "cell_type": "code",
   "execution_count": 76,
   "metadata": {},
   "outputs": [],
   "source": [
    "def convert2serialize(obj):\n",
    "    if isinstance(obj, dict):\n",
    "        return { k: convert2serialize(v) for k, v in obj.items() }\n",
    "    \n",
    "    elif hasattr(obj, \"_ast\"):\n",
    "        return convert2serialize(obj._ast())\n",
    "    \n",
    "    elif not isinstance(obj, str) and hasattr(obj, \"__iter__\"):\n",
    "        return [ convert2serialize(v) for v in obj ]\n",
    "    \n",
    "    elif hasattr(obj, \"__dict__\"):\n",
    "        return {\n",
    "            k: convert2serialize(v)\n",
    "            for k, v in obj.__dict__.items()\n",
    "            if not callable(v) and not k.startswith('_')\n",
    "        }\n",
    "    \n",
    "#     elif isinstance(obj, datetime.date):\n",
    "#         return obj.astimezone(KST).isoformat()\n",
    "    \n",
    "    else:\n",
    "        return obj"
   ]
  },
  {
   "cell_type": "markdown",
   "metadata": {},
   "source": [
    "# 테스트 쿼리"
   ]
  },
  {
   "cell_type": "code",
   "execution_count": 3,
   "metadata": {},
   "outputs": [
    {
     "data": {
      "text/plain": [
       "'goalstudio OR 골스튜디오 since:2021-03-01 until:2021-08-31 lang:ko'"
      ]
     },
     "execution_count": 3,
     "metadata": {},
     "output_type": "execute_result"
    }
   ],
   "source": [
    "n_max = 10\n",
    "since = '2021-03-01'\n",
    "until = '2021-08-31'\n",
    "baseqry = 'goalstudio OR 골스튜디오'\n",
    "qry = '{baseqry} since:{since} until:{until} lang:ko'.format(baseqry=baseqry, since=since, until=until); qry"
   ]
  },
  {
   "cell_type": "code",
   "execution_count": 4,
   "metadata": {
    "collapsed": true
   },
   "outputs": [
    {
     "data": {
      "text/plain": [
       "[Tweet(url='https://twitter.com/cloudring0322/status/1432229622075125765', date=datetime.datetime(2021, 8, 30, 6, 32, 6, tzinfo=datetime.timezone.utc), content='나우 갈수록 맘에 안든거 참았는데\\n끝나고 나서도 우리한테 빅엿을 날리네\\n맨날 똑같은 대본에 똑같은거 연기만 시키고 스튜디오 불편한데만 골라서 가고 방역도 타방송국에 비해 최악임 흔한 가림막도 절대 설치 안해주고 자기들만 마스크 쓰고있음 그래도 마지막 예의는 있는줄 알았는데', renderedContent='나우 갈수록 맘에 안든거 참았는데\\n끝나고 나서도 우리한테 빅엿을 날리네\\n맨날 똑같은 대본에 똑같은거 연기만 시키고 스튜디오 불편한데만 골라서 가고 방역도 타방송국에 비해 최악임 흔한 가림막도 절대 설치 안해주고 자기들만 마스크 쓰고있음 그래도 마지막 예의는 있는줄 알았는데', id=1432229622075125765, user=User(username='cloudring0322', id=900996263566426112, displayname='구름반지☁️', description='성운이랑 우끼행중🤔 @gooreumseng', rawDescription='성운이랑 우끼행중🤔 @gooreumseng', descriptionUrls=None, verified=False, created=datetime.datetime(2017, 8, 25, 8, 20, 23, tzinfo=datetime.timezone.utc), followersCount=4607, friendsCount=276, statusesCount=122635, favouritesCount=19917, listedCount=113, mediaCount=14587, location='', protected=False, linkUrl=None, linkTcourl=None, profileImageUrl='https://pbs.twimg.com/profile_images/1435797625089843200/_qBo6Qnh_normal.png', profileBannerUrl='https://pbs.twimg.com/profile_banners/900996263566426112/1630749077', label=None), replyCount=0, retweetCount=6, likeCount=64, quoteCount=1, conversationId=1432229622075125765, lang='ko', source='<a href=\"http://twitter.com/download/android\" rel=\"nofollow\">Twitter for Android</a>', sourceUrl='http://twitter.com/download/android', sourceLabel='Twitter for Android', outlinks=None, tcooutlinks=None, media=None, retweetedTweet=None, quotedTweet=None, inReplyToTweetId=None, inReplyToUser=None, mentionedUsers=None, coordinates=None, place=None, hashtags=None, cashtags=None),\n",
       " Tweet(url='https://twitter.com/Morgana_rondo/status/1431543291376398337', date=datetime.datetime(2021, 8, 28, 9, 4, 52, tzinfo=datetime.timezone.utc), content='막간 자랑 우리 집에 내일 새 책장 온다^ㅅ^ 오비츠 스튜디오 만들고 본가에 있던 책들도 좀 골라서 가져와야지', renderedContent='막간 자랑 우리 집에 내일 새 책장 온다^ㅅ^ 오비츠 스튜디오 만들고 본가에 있던 책들도 좀 골라서 가져와야지', id=1431543291376398337, user=User(username='Morgana_rondo', id=1140146470223376384, displayname='회선곡', description='~G21, ~5.4 / fusetter.com', rawDescription='~G21, ~5.4 / https://t.co/yn7zLERSbr', descriptionUrls=[{'text': 'fusetter.com', 'url': 'http://fusetter.com', 'tcourl': 'https://t.co/yn7zLERSbr', 'indices': (13, 36)}], verified=False, created=datetime.datetime(2019, 6, 16, 6, 37, 56, tzinfo=datetime.timezone.utc), followersCount=23, friendsCount=40, statusesCount=2647, favouritesCount=1642, listedCount=0, mediaCount=111, location='루이수아 영감님의 학연지연혈연 클럽', protected=False, linkUrl=None, linkTcourl=None, profileImageUrl='https://pbs.twimg.com/profile_images/1414589673406488578/UkdYvgYr_normal.jpg', profileBannerUrl=None, label=None), replyCount=0, retweetCount=0, likeCount=0, quoteCount=0, conversationId=1431543291376398337, lang='ko', source='<a href=\"https://mobile.twitter.com\" rel=\"nofollow\">Twitter Web App</a>', sourceUrl='https://mobile.twitter.com', sourceLabel='Twitter Web App', outlinks=None, tcooutlinks=None, media=None, retweetedTweet=None, quotedTweet=None, inReplyToTweetId=None, inReplyToUser=None, mentionedUsers=None, coordinates=None, place=None, hashtags=None, cashtags=None),\n",
       " Tweet(url='https://twitter.com/Sajangnom_FF14/status/1430852180257349638', date=datetime.datetime(2021, 8, 26, 11, 18, 38, tzinfo=datetime.timezone.utc), content='근데 초코보 섭 시세 좀 오른거 같다...? \\n골서 겜 좀만 하고 장게 파밍하고..스튜디오 가야지..', renderedContent='근데 초코보 섭 시세 좀 오른거 같다...? \\n골서 겜 좀만 하고 장게 파밍하고..스튜디오 가야지..', id=1430852180257349638, user=User(username='Sajangnom_FF14', id=1384042134764802054, displayname='사장', description='~5.4 스포 주의', rawDescription='~5.4 스포 주의', descriptionUrls=None, verified=False, created=datetime.datetime(2021, 4, 19, 7, 12, 38, tzinfo=datetime.timezone.utc), followersCount=311, friendsCount=314, statusesCount=14795, favouritesCount=13876, listedCount=4, mediaCount=548, location='구름안개 거리', protected=False, linkUrl=None, linkTcourl=None, profileImageUrl='https://pbs.twimg.com/profile_images/1438071185003085824/BXjig6-8_normal.png', profileBannerUrl='https://pbs.twimg.com/profile_banners/1384042134764802054/1626233885', label=None), replyCount=0, retweetCount=0, likeCount=3, quoteCount=0, conversationId=1430852180257349638, lang='ko', source='<a href=\"https://mobile.twitter.com\" rel=\"nofollow\">Twitter Web App</a>', sourceUrl='https://mobile.twitter.com', sourceLabel='Twitter Web App', outlinks=None, tcooutlinks=None, media=None, retweetedTweet=None, quotedTweet=None, inReplyToTweetId=None, inReplyToUser=None, mentionedUsers=None, coordinates=None, place=None, hashtags=None, cashtags=None),\n",
       " Tweet(url='https://twitter.com/silian_loa/status/1429679226819473418', date=datetime.datetime(2021, 8, 23, 5, 37, 44, tzinfo=datetime.timezone.utc), content='골스튜디오는 당장 원본 사진을 올려달라 ✊🏻 https://t.co/65gkQJjul7', renderedContent='골스튜디오는 당장 원본 사진을 올려달라 ✊🏻 https://t.co/65gkQJjul7', id=1429679226819473418, user=User(username='silian_loa', id=1421495784613187585, displayname='조가 ㅅㅔyo', description='로스트아크 실리안  디트 ■------ ●▅▇█▇▆▅▄▇ /💙ㄷㅐ9💙모르는 건 디엠 궁금한 건 디엠', rawDescription='로스트아크 실리안  디트 ■------ ●▅▇█▇▆▅▄▇ /💙ㄷㅐ9💙모르는 건 디엠 궁금한 건 디엠', descriptionUrls=None, verified=False, created=datetime.datetime(2021, 7, 31, 15, 39, 49, tzinfo=datetime.timezone.utc), followersCount=24, friendsCount=25, statusesCount=1538, favouritesCount=1024, listedCount=0, mediaCount=376, location='', protected=False, linkUrl=None, linkTcourl=None, profileImageUrl='https://pbs.twimg.com/profile_images/1439199769033797633/lAnJA3yM_normal.jpg', profileBannerUrl='https://pbs.twimg.com/profile_banners/1421495784613187585/1632146720', label=None), replyCount=0, retweetCount=0, likeCount=0, quoteCount=0, conversationId=1429679226819473418, lang='ko', source='<a href=\"http://twitter.com/download/iphone\" rel=\"nofollow\">Twitter for iPhone</a>', sourceUrl='http://twitter.com/download/iphone', sourceLabel='Twitter for iPhone', outlinks=None, tcooutlinks=None, media=[Photo(previewUrl='https://pbs.twimg.com/media/E9c9rKIVEAgMU-F?format=jpg&name=small', fullUrl='https://pbs.twimg.com/media/E9c9rKIVEAgMU-F?format=jpg&name=large')], retweetedTweet=None, quotedTweet=None, inReplyToTweetId=None, inReplyToUser=None, mentionedUsers=None, coordinates=None, place=None, hashtags=None, cashtags=None),\n",
       " Tweet(url='https://twitter.com/zzrw88/status/1429461610066677760', date=datetime.datetime(2021, 8, 22, 15, 13, tzinfo=datetime.timezone.utc), content='렌트 가좍들 진짜 골때림\\n집세 졸라 밀렷으면서 안 낸다고 땡깡부림\\n근데 그럴만한 게\\n같이 쫄쫄 굶으면서 살던 친구가\\n냅다 부잣집 딸래미한테 장가가서\\n본인들 아파트 주인이 됐대\\n그러고 돈 주래;; 아파트 철거하고 스튜디오 만든대\\n시위할만해~~ 시위할만헤…~', renderedContent='렌트 가좍들 진짜 골때림\\n집세 졸라 밀렷으면서 안 낸다고 땡깡부림\\n근데 그럴만한 게\\n같이 쫄쫄 굶으면서 살던 친구가\\n냅다 부잣집 딸래미한테 장가가서\\n본인들 아파트 주인이 됐대\\n그러고 돈 주래;; 아파트 철거하고 스튜디오 만든대\\n시위할만해~~ 시위할만헤…~', id=1429461610066677760, user=User(username='zzrw88', id=1401060908160323584, displayname='챠', description='최재림 씨와 알아가는 사이입니다', rawDescription='최재림 씨와 알아가는 사이입니다', descriptionUrls=None, verified=False, created=datetime.datetime(2021, 6, 5, 6, 18, 51, tzinfo=datetime.timezone.utc), followersCount=85, friendsCount=72, statusesCount=3850, favouritesCount=1302, listedCount=0, mediaCount=993, location='보고 싶은 너에게', protected=False, linkUrl=None, linkTcourl=None, profileImageUrl='https://pbs.twimg.com/profile_images/1438456551107293184/aOq2DHU9_normal.jpg', profileBannerUrl='https://pbs.twimg.com/profile_banners/1401060908160323584/1631542167', label=None), replyCount=1, retweetCount=0, likeCount=3, quoteCount=0, conversationId=1429461610066677760, lang='ko', source='<a href=\"http://twitter.com/download/iphone\" rel=\"nofollow\">Twitter for iPhone</a>', sourceUrl='http://twitter.com/download/iphone', sourceLabel='Twitter for iPhone', outlinks=None, tcooutlinks=None, media=None, retweetedTweet=None, quotedTweet=None, inReplyToTweetId=None, inReplyToUser=None, mentionedUsers=None, coordinates=None, place=None, hashtags=None, cashtags=None),\n",
       " Tweet(url='https://twitter.com/RieL_Cho/status/1429415291054825475', date=datetime.datetime(2021, 8, 22, 12, 8, 57, tzinfo=datetime.timezone.utc), content='[GOALSTUDIO x MIC SWG 5] EP.07 레디(Reddy) https://t.co/e5Wwjm2aAx 출처 @YouTube \\n\\n인스타는 내 정신 건강에 해로워\\n그래서 그런가 내 인스타는 외로워\\n나 한가한 사람 아냐 그런 거 신경 쓸 정신있냐?', renderedContent='[GOALSTUDIO x MIC SWG 5] EP.07 레디(Reddy) youtu.be/x9b0c17S0Jg 출처 @YouTube \\n\\n인스타는 내 정신 건강에 해로워\\n그래서 그런가 내 인스타는 외로워\\n나 한가한 사람 아냐 그런 거 신경 쓸 정신있냐?', id=1429415291054825475, user=User(username='RieL_Cho', id=183958456, displayname='RieL', description='', rawDescription='', descriptionUrls=None, verified=False, created=datetime.datetime(2010, 8, 28, 9, 24, 7, tzinfo=datetime.timezone.utc), followersCount=268, friendsCount=338, statusesCount=30039, favouritesCount=11410, listedCount=4, mediaCount=7401, location='👁\\u200d🗨', protected=False, linkUrl=None, linkTcourl=None, profileImageUrl='https://pbs.twimg.com/profile_images/1440604153609277447/-2DHEJrw_normal.jpg', profileBannerUrl='https://pbs.twimg.com/profile_banners/183958456/1631635310', label=None), replyCount=0, retweetCount=0, likeCount=0, quoteCount=0, conversationId=1429415291054825475, lang='ko', source='<a href=\"https://mobile.twitter.com\" rel=\"nofollow\">Twitter Web App</a>', sourceUrl='https://mobile.twitter.com', sourceLabel='Twitter Web App', outlinks=['https://youtu.be/x9b0c17S0Jg'], tcooutlinks=['https://t.co/e5Wwjm2aAx'], media=None, retweetedTweet=None, quotedTweet=None, inReplyToTweetId=None, inReplyToUser=None, mentionedUsers=[User(username='YouTube', id=10228272, displayname='YouTube', description=None, rawDescription=None, descriptionUrls=None, verified=None, created=None, followersCount=None, friendsCount=None, statusesCount=None, favouritesCount=None, listedCount=None, mediaCount=None, location=None, protected=None, linkUrl=None, linkTcourl=None, profileImageUrl=None, profileBannerUrl=None, label=None)], coordinates=None, place=None, hashtags=None, cashtags=None),\n",
       " Tweet(url='https://twitter.com/PavlovBot/status/1428616752657666050', date=datetime.datetime(2021, 8, 20, 7, 15, 50, tzinfo=datetime.timezone.utc), content='Q. 형 다 중고 가격이에요 깁슨은 스튜디오..ㅎ 추천좀 해주세요. 기타마다 어떤게 장점인가요? 물론 일반적인 얘기는 많이 들어봤는데.. 아니면 형님이 좋아하시는 사운드의 기타는 어떤거라든지요 ㅎ \\n- 마음이 가는데로 고르세요. 뭘 골라도 그기타 나중엔 애증관계가됩니다', renderedContent='Q. 형 다 중고 가격이에요 깁슨은 스튜디오..ㅎ 추천좀 해주세요. 기타마다 어떤게 장점인가요? 물론 일반적인 얘기는 많이 들어봤는데.. 아니면 형님이 좋아하시는 사운드의 기타는 어떤거라든지요 ㅎ \\n- 마음이 가는데로 고르세요. 뭘 골라도 그기타 나중엔 애증관계가됩니다', id=1428616752657666050, user=User(username='PavlovBot', id=610414567, displayname='파블로프봇', description='파블로프의 개 왈왈', rawDescription='파블로프의 개 왈왈', descriptionUrls=None, verified=False, created=datetime.datetime(2012, 6, 17, 1, 27, 36, tzinfo=datetime.timezone.utc), followersCount=169, friendsCount=234, statusesCount=66910, favouritesCount=34, listedCount=1, mediaCount=2442, location='', protected=False, linkUrl=None, linkTcourl=None, profileImageUrl='https://pbs.twimg.com/profile_images/670941374573768704/zf2Jncro_normal.jpg', profileBannerUrl='https://pbs.twimg.com/profile_banners/610414567/1448799909', label=None), replyCount=0, retweetCount=0, likeCount=0, quoteCount=0, conversationId=1428616752657666050, lang='ko', source='<a href=\"http://twittbot.net/\" rel=\"nofollow\">twittbot.net</a>', sourceUrl='http://twittbot.net/', sourceLabel='twittbot.net', outlinks=None, tcooutlinks=None, media=None, retweetedTweet=None, quotedTweet=None, inReplyToTweetId=None, inReplyToUser=None, mentionedUsers=None, coordinates=None, place=None, hashtags=None, cashtags=None),\n",
       " Tweet(url='https://twitter.com/hjwldsaccuse/status/1428323088630902797', date=datetime.datetime(2021, 8, 19, 11, 48, 55, tzinfo=datetime.timezone.utc), content='@kashi_cats 진짜 무슨 일일까요 근데 스튜디오 촬영 얘기도 도는골 보니 재탕은 아닐거같기도 하구..... 하 ㅜㅜㅜㅜㅜ 진짜 한국에서 해줫으면 더 조왓을텐데여ㅠㅠㅠ', renderedContent='@kashi_cats 진짜 무슨 일일까요 근데 스튜디오 촬영 얘기도 도는골 보니 재탕은 아닐거같기도 하구..... 하 ㅜㅜㅜㅜㅜ 진짜 한국에서 해줫으면 더 조왓을텐데여ㅠㅠㅠ', id=1428323088630902797, user=User(username='hjwldsaccuse', id=1414146942574071812, displayname='고소', description='괴물 주원동식 여진구 신하균 | 주식 한정 리버스❌', rawDescription='괴물 주원동식 여진구 신하균 | 주식 한정 리버스❌', descriptionUrls=None, verified=False, created=datetime.datetime(2021, 7, 11, 8, 58, 6, tzinfo=datetime.timezone.utc), followersCount=243, friendsCount=187, statusesCount=6428, favouritesCount=14854, listedCount=2, mediaCount=359, location='문주시 만양읍', protected=False, linkUrl=None, linkTcourl=None, profileImageUrl='https://pbs.twimg.com/profile_images/1431330602146402305/-bLPLiPw_normal.jpg', profileBannerUrl='https://pbs.twimg.com/profile_banners/1414146942574071812/1630091096', label=None), replyCount=1, retweetCount=0, likeCount=1, quoteCount=0, conversationId=1428320684472557575, lang='ko', source='<a href=\"http://twitter.com/download/iphone\" rel=\"nofollow\">Twitter for iPhone</a>', sourceUrl='http://twitter.com/download/iphone', sourceLabel='Twitter for iPhone', outlinks=None, tcooutlinks=None, media=None, retweetedTweet=None, quotedTweet=None, inReplyToTweetId=1428322275485360139, inReplyToUser=User(username='kashi_cats', id=1118400718547763200, displayname='카시 in manyang', description=None, rawDescription=None, descriptionUrls=None, verified=None, created=None, followersCount=None, friendsCount=None, statusesCount=None, favouritesCount=None, listedCount=None, mediaCount=None, location=None, protected=None, linkUrl=None, linkTcourl=None, profileImageUrl=None, profileBannerUrl=None, label=None), mentionedUsers=[User(username='kashi_cats', id=1118400718547763200, displayname='카시 in manyang', description=None, rawDescription=None, descriptionUrls=None, verified=None, created=None, followersCount=None, friendsCount=None, statusesCount=None, favouritesCount=None, listedCount=None, mediaCount=None, location=None, protected=None, linkUrl=None, linkTcourl=None, profileImageUrl=None, profileBannerUrl=None, label=None)], coordinates=None, place=None, hashtags=None, cashtags=None),\n",
       " Tweet(url='https://twitter.com/chungjung__/status/1427505369387995140', date=datetime.datetime(2021, 8, 17, 5, 39, 36, tzinfo=datetime.timezone.utc), content='❗엔하이픈&amp;골스튜디오 슬리퍼 후기❗\\n착용감 좋아요.. 발등 감싸는 부분이 되게 푹신푹신하고 안정감👍 신고있다가 벗으면 바닥이 꽤 딱딱하게 느껴지지만 만족합니다🤍 https://t.co/jQbwij1tck', renderedContent='❗엔하이픈&amp;골스튜디오 슬리퍼 후기❗\\n착용감 좋아요.. 발등 감싸는 부분이 되게 푹신푹신하고 안정감👍 신고있다가 벗으면 바닥이 꽤 딱딱하게 느껴지지만 만족합니다🤍 https://t.co/jQbwij1tck', id=1427505369387995140, user=User(username='chungjung__', id=1308595151531458561, displayname='청정', description='🐈\\u200d⬛🐈 🤍', rawDescription='🐈\\u200d⬛🐈 🤍', descriptionUrls=None, verified=False, created=datetime.datetime(2020, 9, 23, 2, 32, 58, tzinfo=datetime.timezone.utc), followersCount=230, friendsCount=151, statusesCount=11596, favouritesCount=19463, listedCount=13, mediaCount=829, location='정원', protected=False, linkUrl='https://pushoong.com/ask/2574279675', linkTcourl='https://t.co/jZD4kENvFD', profileImageUrl='https://pbs.twimg.com/profile_images/1415711545758126082/-xadBCPF_normal.jpg', profileBannerUrl='https://pbs.twimg.com/profile_banners/1308595151531458561/1626366711', label=None), replyCount=2, retweetCount=2, likeCount=11, quoteCount=0, conversationId=1427505369387995140, lang='ko', source='<a href=\"http://twitter.com/download/android\" rel=\"nofollow\">Twitter for Android</a>', sourceUrl='http://twitter.com/download/android', sourceLabel='Twitter for Android', outlinks=None, tcooutlinks=None, media=[Photo(previewUrl='https://pbs.twimg.com/media/E8-EimaVkAE_4Ns?format=jpg&name=small', fullUrl='https://pbs.twimg.com/media/E8-EimaVkAE_4Ns?format=jpg&name=large'), Photo(previewUrl='https://pbs.twimg.com/media/E8-EjE1VUAQa0s1?format=jpg&name=small', fullUrl='https://pbs.twimg.com/media/E8-EjE1VUAQa0s1?format=jpg&name=large'), Photo(previewUrl='https://pbs.twimg.com/media/E8-EjpEUcAAJr2D?format=jpg&name=small', fullUrl='https://pbs.twimg.com/media/E8-EjpEUcAAJr2D?format=jpg&name=large'), Photo(previewUrl='https://pbs.twimg.com/media/E8-EkT-UYAEHEic?format=jpg&name=small', fullUrl='https://pbs.twimg.com/media/E8-EkT-UYAEHEic?format=jpg&name=large')], retweetedTweet=None, quotedTweet=None, inReplyToTweetId=None, inReplyToUser=None, mentionedUsers=None, coordinates=None, place=None, hashtags=None, cashtags=None),\n",
       " Tweet(url='https://twitter.com/HERO_0616_/status/1426064158433312773', date=datetime.datetime(2021, 8, 13, 6, 12, 45, tzinfo=datetime.timezone.utc), content='임군 너 설마 골스튜디오 모델된거야•••❓나 기대해도 되는 부분이니〰️❓', renderedContent='임군 너 설마 골스튜디오 모델된거야•••❓나 기대해도 되는 부분이니〰️❓', id=1426064158433312773, user=User(username='HERO_0616_', id=1233801038840205312, displayname='😈빌런🧏', description='✨악당이 영웅에게 인생배팅✨', rawDescription='✨악당이 영웅에게 인생배팅✨', descriptionUrls=None, verified=False, created=datetime.datetime(2020, 2, 29, 17, 7, 52, tzinfo=datetime.timezone.utc), followersCount=1126, friendsCount=60, statusesCount=13209, favouritesCount=2048, listedCount=6, mediaCount=3681, location='3.74 바가지소용없음', protected=False, linkUrl=None, linkTcourl=None, profileImageUrl='https://pbs.twimg.com/profile_images/1355737259698343940/oyEJQ0v__normal.jpg', profileBannerUrl='https://pbs.twimg.com/profile_banners/1233801038840205312/1614261076', label=None), replyCount=1, retweetCount=2, likeCount=11, quoteCount=0, conversationId=1426064158433312773, lang='ko', source='<a href=\"http://twitter.com/download/iphone\" rel=\"nofollow\">Twitter for iPhone</a>', sourceUrl='http://twitter.com/download/iphone', sourceLabel='Twitter for iPhone', outlinks=None, tcooutlinks=None, media=None, retweetedTweet=None, quotedTweet=None, inReplyToTweetId=None, inReplyToUser=None, mentionedUsers=None, coordinates=None, place=None, hashtags=None, cashtags=None),\n",
       " Tweet(url='https://twitter.com/dumpging/status/1425826740568346634', date=datetime.datetime(2021, 8, 12, 14, 29, 20, tzinfo=datetime.timezone.utc), content='소누이셀카진심레전드다\\n훈내폴폴나고..뽀송뽀송하고..골스튜디오시강이긴한데턱선쥐리고..하그냥심장쥐어뜯어 https://t.co/f69zK8Dgw0', renderedContent='소누이셀카진심레전드다\\n훈내폴폴나고..뽀송뽀송하고..골스튜디오시강이긴한데턱선쥐리고..하그냥심장쥐어뜯어 https://t.co/f69zK8Dgw0', id=1425826740568346634, user=User(username='dumpging', id=1419951615310647299, displayname='🍓', description='바빠서이틀못들어옴요..ㅠㅠ', rawDescription='바빠서이틀못들어옴요..ㅠㅠ', descriptionUrls=None, verified=False, created=datetime.datetime(2021, 7, 27, 9, 23, 51, tzinfo=datetime.timezone.utc), followersCount=60, friendsCount=47, statusesCount=621, favouritesCount=165, listedCount=1, mediaCount=265, location='', protected=False, linkUrl=None, linkTcourl=None, profileImageUrl='https://pbs.twimg.com/profile_images/1425760974762479623/Jp4KgzmJ_normal.jpg', profileBannerUrl=None, label=None), replyCount=0, retweetCount=0, likeCount=3, quoteCount=0, conversationId=1425826740568346634, lang='ko', source='<a href=\"http://twitter.com/download/iphone\" rel=\"nofollow\">Twitter for iPhone</a>', sourceUrl='http://twitter.com/download/iphone', sourceLabel='Twitter for iPhone', outlinks=None, tcooutlinks=None, media=[Photo(previewUrl='https://pbs.twimg.com/media/E8mN3OaUUBMQYAt?format=jpg&name=small', fullUrl='https://pbs.twimg.com/media/E8mN3OaUUBMQYAt?format=jpg&name=large')], retweetedTweet=None, quotedTweet=None, inReplyToTweetId=None, inReplyToUser=None, mentionedUsers=None, coordinates=None, place=None, hashtags=None, cashtags=None)]"
      ]
     },
     "execution_count": 4,
     "metadata": {},
     "output_type": "execute_result"
    }
   ],
   "source": [
    "tweets_list = []\n",
    "\n",
    "for i, _tw in enumerate(sntwitter.TwitterSearchScraper(qry).get_items()):\n",
    "    if i > n_max:\n",
    "        break\n",
    "        \n",
    "    tweets_list.append(_tw)\n",
    "tweets_list"
   ]
  },
  {
   "cell_type": "code",
   "execution_count": 77,
   "metadata": {
    "scrolled": true
   },
   "outputs": [
    {
     "data": {
      "text/plain": [
       "{'url': 'https://twitter.com/cloudring0322/status/1432229622075125765',\n",
       " 'date': datetime.datetime(2021, 8, 30, 6, 32, 6, tzinfo=datetime.timezone.utc),\n",
       " 'content': '나우 갈수록 맘에 안든거 참았는데\\n끝나고 나서도 우리한테 빅엿을 날리네\\n맨날 똑같은 대본에 똑같은거 연기만 시키고 스튜디오 불편한데만 골라서 가고 방역도 타방송국에 비해 최악임 흔한 가림막도 절대 설치 안해주고 자기들만 마스크 쓰고있음 그래도 마지막 예의는 있는줄 알았는데',\n",
       " 'renderedContent': '나우 갈수록 맘에 안든거 참았는데\\n끝나고 나서도 우리한테 빅엿을 날리네\\n맨날 똑같은 대본에 똑같은거 연기만 시키고 스튜디오 불편한데만 골라서 가고 방역도 타방송국에 비해 최악임 흔한 가림막도 절대 설치 안해주고 자기들만 마스크 쓰고있음 그래도 마지막 예의는 있는줄 알았는데',\n",
       " 'id': 1432229622075125765,\n",
       " 'user': {'username': 'cloudring0322',\n",
       "  'id': 900996263566426112,\n",
       "  'displayname': '구름반지☁️',\n",
       "  'description': '성운이랑 우끼행중🤔 @gooreumseng',\n",
       "  'rawDescription': '성운이랑 우끼행중🤔 @gooreumseng',\n",
       "  'descriptionUrls': None,\n",
       "  'verified': False,\n",
       "  'created': datetime.datetime(2017, 8, 25, 8, 20, 23, tzinfo=datetime.timezone.utc),\n",
       "  'followersCount': 4607,\n",
       "  'friendsCount': 276,\n",
       "  'statusesCount': 122635,\n",
       "  'favouritesCount': 19917,\n",
       "  'listedCount': 113,\n",
       "  'mediaCount': 14587,\n",
       "  'location': '',\n",
       "  'protected': False,\n",
       "  'linkUrl': None,\n",
       "  'linkTcourl': None,\n",
       "  'profileImageUrl': 'https://pbs.twimg.com/profile_images/1435797625089843200/_qBo6Qnh_normal.png',\n",
       "  'profileBannerUrl': 'https://pbs.twimg.com/profile_banners/900996263566426112/1630749077',\n",
       "  'label': None},\n",
       " 'replyCount': 0,\n",
       " 'retweetCount': 6,\n",
       " 'likeCount': 64,\n",
       " 'quoteCount': 1,\n",
       " 'conversationId': 1432229622075125765,\n",
       " 'lang': 'ko',\n",
       " 'source': '<a href=\"http://twitter.com/download/android\" rel=\"nofollow\">Twitter for Android</a>',\n",
       " 'sourceUrl': 'http://twitter.com/download/android',\n",
       " 'sourceLabel': 'Twitter for Android',\n",
       " 'outlinks': None,\n",
       " 'tcooutlinks': None,\n",
       " 'media': None,\n",
       " 'retweetedTweet': None,\n",
       " 'quotedTweet': None,\n",
       " 'inReplyToTweetId': None,\n",
       " 'inReplyToUser': None,\n",
       " 'mentionedUsers': None,\n",
       " 'coordinates': None,\n",
       " 'place': None,\n",
       " 'hashtags': None,\n",
       " 'cashtags': None}"
      ]
     },
     "execution_count": 77,
     "metadata": {},
     "output_type": "execute_result"
    }
   ],
   "source": [
    "tw = convert2serialize(tweets_list)[0]; tw"
   ]
  },
  {
   "cell_type": "code",
   "execution_count": null,
   "metadata": {},
   "outputs": [],
   "source": []
  },
  {
   "cell_type": "code",
   "execution_count": null,
   "metadata": {},
   "outputs": [],
   "source": []
  },
  {
   "cell_type": "code",
   "execution_count": null,
   "metadata": {},
   "outputs": [],
   "source": []
  },
  {
   "cell_type": "code",
   "execution_count": 5,
   "metadata": {},
   "outputs": [],
   "source": [
    "scope = [\n",
    "    'https://spreadsheets.google.com/feeds',\n",
    "    'https://www.googleapis.com/auth/drive',\n",
    "]\n",
    "\n",
    "json_file_name = 'sideb-proejct-066e081b7bcd.json'\n",
    "credentials = ServiceAccountCredentials.from_json_keyfile_name(json_file_name, scope)\n",
    "gc = gspread.authorize(credentials)\n",
    "spreadsheet_url = 'https://docs.google.com/spreadsheets/d/1roV5_RPFtJ6z40I6EYGRmqx01Fe6JOOmaJ6nbDrfmkw/edit#gid=2020655845'\n",
    "\n",
    "# 스프레스시트 문서 가져오기 \n",
    "doc = gc.open_by_url(spreadsheet_url)\n",
    "\n",
    "# 시트 선택하기\n",
    "worksheet = doc.worksheet('20210913')\n",
    "values = worksheet.get_all_values()\n",
    "header, rows = values[0], values[1:]\n",
    "\n",
    "df = pd.DataFrame(rows, columns=header)\n",
    "df = df[['구분','한글명','영문명 full','영문명 short','트위터 검색쿼리','검색잘됨']].set_index('영문명 short')\n",
    "df = df.applymap(lambda x: x.strip() if isinstance(x, str) else x)"
   ]
  },
  {
   "cell_type": "code",
   "execution_count": 8,
   "metadata": {},
   "outputs": [
    {
     "data": {
      "text/plain": [
       "영문명 short\n",
       "032c                                                       #032c OR #032씨\n",
       "87mm                                         87엠엠 OR 87앰앰 OR 팔칠앰앰 OR 팔칠엠엠\n",
       "99percentis                          99percentis OR 99퍼센트이즈 OR 나인티나인퍼센트이즈\n",
       "jwanderson                           #jwanderson OR \"jw앤더슨\" OR \"제이더블유앤더슨\"\n",
       "lostmanagementcities                                                  엘엠씨\n",
       "                                              ...                        \n",
       "medicomtoy                                          medicomtoy OR \"메디콤토이\"\n",
       "maisonmargiela          maisonmargiela OR \"메종마르지엘라\" OR margiela OR \"마르...\n",
       "maisonmined                                        maisonmined OR \"메종미네드\"\n",
       "maisonkitsune                                                     \"메종키츠네\"\n",
       "modified                                                          \"모디파이드\"\n",
       "Name: 트위터 검색쿼리, Length: 120, dtype: object"
      ]
     },
     "execution_count": 8,
     "metadata": {},
     "output_type": "execute_result"
    }
   ],
   "source": [
    "qrys = df[df['검색잘됨']=='1']['트위터 검색쿼리'][:148]; qrys"
   ]
  },
  {
   "cell_type": "code",
   "execution_count": null,
   "metadata": {},
   "outputs": [],
   "source": []
  }
 ],
 "metadata": {
  "kernelspec": {
   "display_name": "Python 3",
   "language": "python",
   "name": "python3"
  },
  "language_info": {
   "codemirror_mode": {
    "name": "ipython",
    "version": 3
   },
   "file_extension": ".py",
   "mimetype": "text/x-python",
   "name": "python",
   "nbconvert_exporter": "python",
   "pygments_lexer": "ipython3",
   "version": "3.8.5"
  }
 },
 "nbformat": 4,
 "nbformat_minor": 4
}
