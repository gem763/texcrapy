{
 "cells": [
  {
   "cell_type": "code",
   "execution_count": 181,
   "metadata": {},
   "outputs": [
    {
     "name": "stdout",
     "output_type": "stream",
     "text": [
      "The autoreload extension is already loaded. To reload it, use:\n",
      "  %reload_ext autoreload\n"
     ]
    }
   ],
   "source": [
    "%load_ext autoreload\n",
    "%autoreload\n",
    "%matplotlib inline\n",
    "\n",
    "import pandas as pd\n",
    "import numpy as np\n",
    "from IPython.core.debugger import set_trace\n",
    "from tqdm.notebook import trange, tqdm\n",
    "import json\n",
    "import os\n",
    "import re\n",
    "import datetime\n",
    "from time import sleep\n",
    "import pytz\n",
    "KST = pytz.timezone('Asia/Seoul')\n",
    "\n",
    "import snscrape\n",
    "import snscrape.modules.twitter as sntwitter\n",
    "import gspread\n",
    "import pydata_google_auth\n",
    "from oauth2client.service_account import ServiceAccountCredentials\n",
    "from google.cloud import bigquery"
   ]
  },
  {
   "cell_type": "markdown",
   "metadata": {},
   "source": [
    "# 빅쿼리 접속\n",
    "### (참고) pandas-gbq를 쓰지 않는다. pandas-gbq는 struct, repeated 자료형의 입력을 지원하지 않기 때문에"
   ]
  },
  {
   "cell_type": "code",
   "execution_count": 182,
   "metadata": {},
   "outputs": [],
   "source": [
    "credentials = pydata_google_auth.get_user_credentials(\n",
    "  ['https://www.googleapis.com/auth/bigquery'],\n",
    ")"
   ]
  },
  {
   "cell_type": "code",
   "execution_count": 183,
   "metadata": {},
   "outputs": [
    {
     "data": {
      "text/plain": [
       "Dataset(DatasetReference('sideb-proejct', 'moiber_20210920'))"
      ]
     },
     "execution_count": 183,
     "metadata": {},
     "output_type": "execute_result"
    }
   ],
   "source": [
    "bq = bigquery.Client(project='sideb-proejct', credentials=credentials)\n",
    "dataset = bq.get_dataset('moiber_20210920'); dataset"
   ]
  },
  {
   "cell_type": "code",
   "execution_count": 184,
   "metadata": {},
   "outputs": [],
   "source": [
    "twitter_feed = bq.get_table('sideb-proejct.moiber_20210920.twitter_feed')\n",
    "twitter_user = bq.get_table('sideb-proejct.moiber_20210920.twitter_user')"
   ]
  },
  {
   "cell_type": "code",
   "execution_count": 185,
   "metadata": {},
   "outputs": [
    {
     "data": {
      "text/plain": [
       "[SchemaField('id', 'INTEGER', 'REQUIRED', None, (), ()),\n",
       " SchemaField('url', 'STRING', 'REQUIRED', None, (), ()),\n",
       " SchemaField('created', 'TIMESTAMP', 'REQUIRED', None, (), ()),\n",
       " SchemaField('content', 'STRING', 'NULLABLE', None, (), ()),\n",
       " SchemaField('userid', 'INTEGER', 'REQUIRED', None, (), ()),\n",
       " SchemaField('replyCount', 'INTEGER', 'NULLABLE', None, (), ()),\n",
       " SchemaField('retweetCount', 'INTEGER', 'NULLABLE', None, (), ()),\n",
       " SchemaField('likeCount', 'INTEGER', 'NULLABLE', None, (), ()),\n",
       " SchemaField('quoteCount', 'INTEGER', 'NULLABLE', None, (), ()),\n",
       " SchemaField('lang', 'STRING', 'NULLABLE', None, (), ()),\n",
       " SchemaField('sourceLabel', 'STRING', 'NULLABLE', None, (), ()),\n",
       " SchemaField('media', 'STRING', 'REPEATED', None, (), ()),\n",
       " SchemaField('inReplyToUserid', 'INTEGER', 'NULLABLE', None, (), ()),\n",
       " SchemaField('mentionedUserids', 'INTEGER', 'REPEATED', None, (), ()),\n",
       " SchemaField('loaded', 'TIMESTAMP', 'NULLABLE', None, (), ())]"
      ]
     },
     "execution_count": 185,
     "metadata": {},
     "output_type": "execute_result"
    }
   ],
   "source": [
    "twitter_feed.schema"
   ]
  },
  {
   "cell_type": "code",
   "execution_count": 186,
   "metadata": {},
   "outputs": [
    {
     "data": {
      "text/plain": [
       "[SchemaField('id', 'INTEGER', 'REQUIRED', None, (), ()),\n",
       " SchemaField('username', 'STRING', 'REQUIRED', None, (), ()),\n",
       " SchemaField('displayname', 'STRING', 'NULLABLE', None, (), ()),\n",
       " SchemaField('description', 'STRING', 'NULLABLE', None, (), ()),\n",
       " SchemaField('verified', 'BOOLEAN', 'NULLABLE', None, (), ()),\n",
       " SchemaField('created', 'TIMESTAMP', 'NULLABLE', None, (), ()),\n",
       " SchemaField('followersCount', 'INTEGER', 'NULLABLE', None, (), ()),\n",
       " SchemaField('friendsCount', 'INTEGER', 'NULLABLE', None, (), ()),\n",
       " SchemaField('statusesCount', 'INTEGER', 'NULLABLE', None, (), ()),\n",
       " SchemaField('favouritesCount', 'INTEGER', 'NULLABLE', None, (), ()),\n",
       " SchemaField('listedCount', 'INTEGER', 'NULLABLE', None, (), ()),\n",
       " SchemaField('mediaCount', 'INTEGER', 'NULLABLE', None, (), ()),\n",
       " SchemaField('profileImageUrl', 'STRING', 'NULLABLE', None, (), ()),\n",
       " SchemaField('loaded', 'TIMESTAMP', 'NULLABLE', None, (), ())]"
      ]
     },
     "execution_count": 186,
     "metadata": {},
     "output_type": "execute_result"
    }
   ],
   "source": [
    "twitter_user.schema"
   ]
  },
  {
   "cell_type": "code",
   "execution_count": null,
   "metadata": {},
   "outputs": [],
   "source": []
  },
  {
   "cell_type": "markdown",
   "metadata": {},
   "source": [
    "# 테스트 쿼리"
   ]
  },
  {
   "cell_type": "code",
   "execution_count": 138,
   "metadata": {},
   "outputs": [
    {
     "data": {
      "text/plain": [
       "'#032c OR #032씨 since:2021-03-01 until:2021-08-31 lang:ko'"
      ]
     },
     "execution_count": 138,
     "metadata": {},
     "output_type": "execute_result"
    }
   ],
   "source": [
    "n_max = 10\n",
    "since = '2021-03-01'\n",
    "until = '2021-08-31'\n",
    "baseqry = '#032c OR #032씨'\n",
    "qry = '{baseqry} since:{since} until:{until} lang:ko'.format(baseqry=baseqry, since=since, until=until); qry"
   ]
  },
  {
   "cell_type": "code",
   "execution_count": 139,
   "metadata": {
    "collapsed": true
   },
   "outputs": [
    {
     "data": {
      "text/plain": [
       "[Tweet(url='https://twitter.com/ateezstyles/status/1394850512365887491', date=datetime.datetime(2021, 5, 19, 3, 0, 51, tzinfo=datetime.timezone.utc), content='[210518] #HONGJOONG • 홍중 모자 티셔츠 정보\\n➖\\n#032C Pyrate Society Cap\\n#SAINTLAURENT Striped Monogram T-Shirt in Wool Jersey\\n#whathongjoongwear \\n➖\\n#ATEEZ #에이티즈 #김홍중 #홍중 @ATEEZofficial https://t.co/1x5HXx5vCo', renderedContent='[210518] #HONGJOONG • 홍중 모자 티셔츠 정보\\n➖\\n#032C Pyrate Society Cap\\n#SAINTLAURENT Striped Monogram T-Shirt in Wool Jersey\\n#whathongjoongwear \\n➖\\n#ATEEZ #에이티즈 #김홍중 #홍중 @ATEEZofficial https://t.co/1x5HXx5vCo', id=1394850512365887491, user=User(username='ateezstyles', id=1285019843800915968, displayname='ATEEZ STYLES 에이티즈 옷장', description='(very slow) #에이티즈 의 옷 정보 계정입니다. 제보/요청은 DM 💌', rawDescription='(very slow) #에이티즈 의 옷 정보 계정입니다. 제보/요청은 DM 💌', descriptionUrls=None, verified=False, created=datetime.datetime(2020, 7, 20, 1, 13, 12, tzinfo=datetime.timezone.utc), followersCount=6063, friendsCount=5, statusesCount=1274, favouritesCount=2332, listedCount=63, mediaCount=1056, location='repost w/ cr ', protected=False, linkUrl=None, linkTcourl=None, profileImageUrl='https://pbs.twimg.com/profile_images/1431290978158080000/VZWufo5y_normal.jpg', profileBannerUrl='https://pbs.twimg.com/profile_banners/1285019843800915968/1630081337'), replyCount=0, retweetCount=13, likeCount=71, quoteCount=20, conversationId=1394850512365887491, lang='ko', source='<a href=\"http://twitter.com/download/android\" rel=\"nofollow\">Twitter for Android</a>', sourceUrl='http://twitter.com/download/android', sourceLabel='Twitter for Android', outlinks=None, tcooutlinks=None, media=[Photo(previewUrl='https://pbs.twimg.com/media/E1uBJZBVcAAboFz?format=jpg&name=small', fullUrl='https://pbs.twimg.com/media/E1uBJZBVcAAboFz?format=jpg&name=large')], retweetedTweet=None, quotedTweet=None, inReplyToTweetId=None, inReplyToUser=None, mentionedUsers=[User(username='ATEEZofficial', id=923415570522914819, displayname='ATEEZ(에이티즈)', description=None, rawDescription=None, descriptionUrls=None, verified=None, created=None, followersCount=None, friendsCount=None, statusesCount=None, favouritesCount=None, listedCount=None, mediaCount=None, location=None, protected=None, linkUrl=None, linkTcourl=None, profileImageUrl=None, profileBannerUrl=None)], coordinates=None, place=None, hashtags=['HONGJOONG', '032C', 'SAINTLAURENT', 'whathongjoongwear', 'ATEEZ', '에이티즈', '김홍중', '홍중'], cashtags=None),\n",
       " Tweet(url='https://twitter.com/ateezstyles/status/1392773885079134209', date=datetime.datetime(2021, 5, 13, 9, 29, 5, tzinfo=datetime.timezone.utc), content='[210511] #HONGJOONG • 홍중 스웨트셔츠 팬츠 가방 정보\\n➖\\n#TOMMYHILFIGER Icon Sweatshirt\\n#ADIDAS x #032C Duffle Bag\\n#DSQUARED2 Run Dan Embroidered Patch Jeans\\n#whathongjoongwear \\n➖\\n#ATEEZ #에이티즈 #김홍중 #홍중 @ATEEZofficial https://t.co/fKYJqCFJB0', renderedContent='[210511] #HONGJOONG • 홍중 스웨트셔츠 팬츠 가방 정보\\n➖\\n#TOMMYHILFIGER Icon Sweatshirt\\n#ADIDAS x #032C Duffle Bag\\n#DSQUARED2 Run Dan Embroidered Patch Jeans\\n#whathongjoongwear \\n➖\\n#ATEEZ #에이티즈 #김홍중 #홍중 @ATEEZofficial https://t.co/fKYJqCFJB0', id=1392773885079134209, user=User(username='ateezstyles', id=1285019843800915968, displayname='ATEEZ STYLES 에이티즈 옷장', description='(very slow) #에이티즈 의 옷 정보 계정입니다. 제보/요청은 DM 💌', rawDescription='(very slow) #에이티즈 의 옷 정보 계정입니다. 제보/요청은 DM 💌', descriptionUrls=None, verified=False, created=datetime.datetime(2020, 7, 20, 1, 13, 12, tzinfo=datetime.timezone.utc), followersCount=6063, friendsCount=5, statusesCount=1274, favouritesCount=2332, listedCount=63, mediaCount=1056, location='repost w/ cr ', protected=False, linkUrl=None, linkTcourl=None, profileImageUrl='https://pbs.twimg.com/profile_images/1431290978158080000/VZWufo5y_normal.jpg', profileBannerUrl='https://pbs.twimg.com/profile_banners/1285019843800915968/1630081337'), replyCount=0, retweetCount=40, likeCount=114, quoteCount=16, conversationId=1392773885079134209, lang='ko', source='<a href=\"http://twitter.com/download/android\" rel=\"nofollow\">Twitter for Android</a>', sourceUrl='http://twitter.com/download/android', sourceLabel='Twitter for Android', outlinks=None, tcooutlinks=None, media=[Photo(previewUrl='https://pbs.twimg.com/media/E1QgdJKVoAMh8Hw?format=jpg&name=small', fullUrl='https://pbs.twimg.com/media/E1QgdJKVoAMh8Hw?format=jpg&name=large'), Photo(previewUrl='https://pbs.twimg.com/media/E1Qgd0QUYAMdu9L?format=jpg&name=small', fullUrl='https://pbs.twimg.com/media/E1Qgd0QUYAMdu9L?format=jpg&name=large')], retweetedTweet=None, quotedTweet=None, inReplyToTweetId=None, inReplyToUser=None, mentionedUsers=[User(username='ATEEZofficial', id=923415570522914819, displayname='ATEEZ(에이티즈)', description=None, rawDescription=None, descriptionUrls=None, verified=None, created=None, followersCount=None, friendsCount=None, statusesCount=None, favouritesCount=None, listedCount=None, mediaCount=None, location=None, protected=None, linkUrl=None, linkTcourl=None, profileImageUrl=None, profileBannerUrl=None)], coordinates=None, place=None, hashtags=['HONGJOONG', 'TOMMYHILFIGER', 'ADIDAS', '032C', 'DSQUARED2', 'whathongjoongwear', 'ATEEZ', '에이티즈', '김홍중', '홍중'], cashtags=None),\n",
       " Tweet(url='https://twitter.com/Originals_kr/status/1384778936589111296', date=datetime.datetime(2021, 4, 21, 8, 0, 1, tzinfo=datetime.timezone.utc), content='adidas by 032C 4월 22일 발매 예정 \\n\\n우리 주위를 둘러싼 환경에서 영감을 받아 새롭게 탄생한 \\n두 가지의 디자인 032C GSG TR와 032C GSG Mule을 선보입니다. \\n\\n[판매처]\\n*아디다스 공식 온라인 스토어\\n\\n#아디다스오리지널스 #adidasOriginals #032C https://t.co/NpXjm6ltt7', renderedContent='adidas by 032C 4월 22일 발매 예정 \\n\\n우리 주위를 둘러싼 환경에서 영감을 받아 새롭게 탄생한 \\n두 가지의 디자인 032C GSG TR와 032C GSG Mule을 선보입니다. \\n\\n[판매처]\\n*아디다스 공식 온라인 스토어\\n\\n#아디다스오리지널스 #adidasOriginals #032C https://t.co/NpXjm6ltt7', id=1384778936589111296, user=User(username='Originals_kr', id=124949059, displayname='adidas Originals', description='컬러 컬쳐가 되다\\n컬러는 진지하게\\n표현은 유쾌하게, ADICOLOR', rawDescription='컬러 컬쳐가 되다\\n컬러는 진지하게\\n표현은 유쾌하게, ADICOLOR', descriptionUrls=None, verified=True, created=datetime.datetime(2010, 3, 21, 4, 26, 2, tzinfo=datetime.timezone.utc), followersCount=30284, friendsCount=10, statusesCount=3512, favouritesCount=10, listedCount=198, mediaCount=2397, location='', protected=False, linkUrl='https://www.adidas.com', linkTcourl='https://t.co/mPw8Rqpn41', profileImageUrl='https://pbs.twimg.com/profile_images/1273094454644051968/6niAJz7d_normal.jpg', profileBannerUrl='https://pbs.twimg.com/profile_banners/124949059/1631762819'), replyCount=0, retweetCount=0, likeCount=2, quoteCount=0, conversationId=1384778936589111296, lang='ko', source='<a href=\"https://about.twitter.com/products/tweetdeck\" rel=\"nofollow\">TweetDeck</a>', sourceUrl='https://about.twitter.com/products/tweetdeck', sourceLabel='TweetDeck', outlinks=None, tcooutlinks=None, media=[Video(thumbnailUrl='https://pbs.twimg.com/ext_tw_video_thumb/1384774873071820800/pu/img/_FloyymZ9cnWc7eb.jpg', variants=[VideoVariant(contentType='application/x-mpegURL', url='https://video.twimg.com/ext_tw_video/1384774873071820800/pu/pl/cHC09cQiM5xlNWMT.m3u8?tag=12', bitrate=None), VideoVariant(contentType='video/mp4', url='https://video.twimg.com/ext_tw_video/1384774873071820800/pu/vid/320x400/pUh3-e7lNxvWPgLD.mp4?tag=12', bitrate=632000), VideoVariant(contentType='video/mp4', url='https://video.twimg.com/ext_tw_video/1384774873071820800/pu/vid/720x900/UDUmvHWOkyHlJnhE.mp4?tag=12', bitrate=2176000), VideoVariant(contentType='video/mp4', url='https://video.twimg.com/ext_tw_video/1384774873071820800/pu/vid/480x600/IFAFFzmT1MUEf3Vt.mp4?tag=12', bitrate=950000)], duration=8.05, views=77)], retweetedTweet=None, quotedTweet=None, inReplyToTweetId=None, inReplyToUser=None, mentionedUsers=None, coordinates=None, place=None, hashtags=['아디다스오리지널스', 'adidasOriginals', '032C'], cashtags=None)]"
      ]
     },
     "execution_count": 139,
     "metadata": {},
     "output_type": "execute_result"
    }
   ],
   "source": [
    "tweets_list = []\n",
    "\n",
    "for i, _tw in enumerate(sntwitter.TwitterSearchScraper(qry).get_items()):\n",
    "    if i > n_max:\n",
    "        break\n",
    "        \n",
    "    tweets_list.append(_tw)\n",
    "    \n",
    "tweets_list"
   ]
  },
  {
   "cell_type": "code",
   "execution_count": 165,
   "metadata": {},
   "outputs": [
    {
     "data": {
      "text/plain": [
       "{'url': 'https://twitter.com/ateezstyles/status/1394850512365887491',\n",
       " 'date': datetime.datetime(2021, 5, 19, 3, 0, 51, tzinfo=datetime.timezone.utc),\n",
       " 'content': '[210518] #HONGJOONG • 홍중 모자 티셔츠 정보\\n➖\\n#032C Pyrate Society Cap\\n#SAINTLAURENT Striped Monogram T-Shirt in Wool Jersey\\n#whathongjoongwear \\n➖\\n#ATEEZ #에이티즈 #김홍중 #홍중 @ATEEZofficial https://t.co/1x5HXx5vCo',\n",
       " 'renderedContent': '[210518] #HONGJOONG • 홍중 모자 티셔츠 정보\\n➖\\n#032C Pyrate Society Cap\\n#SAINTLAURENT Striped Monogram T-Shirt in Wool Jersey\\n#whathongjoongwear \\n➖\\n#ATEEZ #에이티즈 #김홍중 #홍중 @ATEEZofficial https://t.co/1x5HXx5vCo',\n",
       " 'id': 1394850512365887491,\n",
       " 'user': User(username='ateezstyles', id=1285019843800915968, displayname='ATEEZ STYLES 에이티즈 옷장', description='(very slow) #에이티즈 의 옷 정보 계정입니다. 제보/요청은 DM 💌', rawDescription='(very slow) #에이티즈 의 옷 정보 계정입니다. 제보/요청은 DM 💌', descriptionUrls=None, verified=False, created=datetime.datetime(2020, 7, 20, 1, 13, 12, tzinfo=datetime.timezone.utc), followersCount=6063, friendsCount=5, statusesCount=1274, favouritesCount=2332, listedCount=63, mediaCount=1056, location='repost w/ cr ', protected=False, linkUrl=None, linkTcourl=None, profileImageUrl='https://pbs.twimg.com/profile_images/1431290978158080000/VZWufo5y_normal.jpg', profileBannerUrl='https://pbs.twimg.com/profile_banners/1285019843800915968/1630081337'),\n",
       " 'replyCount': 0,\n",
       " 'retweetCount': 13,\n",
       " 'likeCount': 71,\n",
       " 'quoteCount': 20,\n",
       " 'conversationId': 1394850512365887491,\n",
       " 'lang': 'ko',\n",
       " 'source': '<a href=\"http://twitter.com/download/android\" rel=\"nofollow\">Twitter for Android</a>',\n",
       " 'sourceUrl': 'http://twitter.com/download/android',\n",
       " 'sourceLabel': 'Twitter for Android',\n",
       " 'outlinks': None,\n",
       " 'tcooutlinks': None,\n",
       " 'media': [Photo(previewUrl='https://pbs.twimg.com/media/E1uBJZBVcAAboFz?format=jpg&name=small', fullUrl='https://pbs.twimg.com/media/E1uBJZBVcAAboFz?format=jpg&name=large')],\n",
       " 'retweetedTweet': None,\n",
       " 'quotedTweet': None,\n",
       " 'inReplyToTweetId': None,\n",
       " 'inReplyToUser': None,\n",
       " 'mentionedUsers': [User(username='ATEEZofficial', id=923415570522914819, displayname='ATEEZ(에이티즈)', description=None, rawDescription=None, descriptionUrls=None, verified=None, created=None, followersCount=None, friendsCount=None, statusesCount=None, favouritesCount=None, listedCount=None, mediaCount=None, location=None, protected=None, linkUrl=None, linkTcourl=None, profileImageUrl=None, profileBannerUrl=None)],\n",
       " 'coordinates': None,\n",
       " 'place': None,\n",
       " 'hashtags': ['HONGJOONG',\n",
       "  '032C',\n",
       "  'SAINTLAURENT',\n",
       "  'whathongjoongwear',\n",
       "  'ATEEZ',\n",
       "  '에이티즈',\n",
       "  '김홍중',\n",
       "  '홍중'],\n",
       " 'cashtags': None}"
      ]
     },
     "execution_count": 165,
     "metadata": {},
     "output_type": "execute_result"
    }
   ],
   "source": [
    "feed = tweets_list[0]; feed.__dict__"
   ]
  },
  {
   "cell_type": "code",
   "execution_count": 161,
   "metadata": {},
   "outputs": [
    {
     "data": {
      "text/plain": [
       "'https://pbs.twimg.com/ext_tw_video_thumb/1384774873071820800/pu/img/_FloyymZ9cnWc7eb.jpg'"
      ]
     },
     "execution_count": 161,
     "metadata": {},
     "output_type": "execute_result"
    }
   ],
   "source": [
    "media = feed.media[0]\n",
    "\n",
    "def get_url(m):\n",
    "    try:\n",
    "        return m.fullUrl\n",
    "    except:\n",
    "        return m.thumbnailUrl\n",
    "    \n",
    "get_url(media)"
   ]
  },
  {
   "cell_type": "code",
   "execution_count": 133,
   "metadata": {},
   "outputs": [],
   "source": [
    "tloaded = datetime.datetime.now(datetime.timezone.utc)\n",
    "\n",
    "users = []\n",
    "user = feed.user\n",
    "in_reply_to_user = feed.inReplyToUser\n",
    "mentioned_users = feed.mentionedUsers\n",
    "\n",
    "if mentioned_users:\n",
    "    users += mentioned_users\n",
    "\n",
    "if user and (user not in users):\n",
    "    users += [user]\n",
    "    \n",
    "if in_reply_to_user and (in_reply_to_user not in users):\n",
    "    users += [in_reply_to_user]"
   ]
  },
  {
   "cell_type": "code",
   "execution_count": 134,
   "metadata": {},
   "outputs": [
    {
     "data": {
      "text/plain": [
       "[User(username='YouTube', id=10228272, displayname='YouTube', description=None, rawDescription=None, descriptionUrls=None, verified=None, created=None, followersCount=None, friendsCount=None, statusesCount=None, favouritesCount=None, listedCount=None, mediaCount=None, location=None, protected=None, linkUrl=None, linkTcourl=None, profileImageUrl=None, profileBannerUrl=None),\n",
       " User(username='RieL_Cho', id=183958456, displayname='RieL', description='fun^10 x int^40 = Ir2', rawDescription='fun^10 x int^40 = Ir2', descriptionUrls=None, verified=False, created=datetime.datetime(2010, 8, 28, 9, 24, 7, tzinfo=datetime.timezone.utc), followersCount=267, friendsCount=338, statusesCount=30149, favouritesCount=11480, listedCount=4, mediaCount=7425, location='👁\\u200d🗨', protected=False, linkUrl=None, linkTcourl=None, profileImageUrl='https://pbs.twimg.com/profile_images/1440658908989689865/6SD9dhnS_normal.jpg', profileBannerUrl='https://pbs.twimg.com/profile_banners/183958456/1631635310')]"
      ]
     },
     "execution_count": 134,
     "metadata": {},
     "output_type": "execute_result"
    }
   ],
   "source": [
    "users"
   ]
  },
  {
   "cell_type": "code",
   "execution_count": 157,
   "metadata": {},
   "outputs": [
    {
     "data": {
      "text/plain": [
       "[(1384778936589111296,\n",
       "  'https://twitter.com/Originals_kr/status/1384778936589111296',\n",
       "  datetime.datetime(2021, 4, 21, 8, 0, 1, tzinfo=datetime.timezone.utc),\n",
       "  'adidas by 032C 4월 22일 발매 예정 \\n\\n우리 주위를 둘러싼 환경에서 영감을 받아 새롭게 탄생한 \\n두 가지의 디자인 032C GSG TR와 032C GSG Mule을 선보입니다. \\n\\n[판매처]\\n*아디다스 공식 온라인 스토어\\n\\n#아디다스오리지널스 #adidasOriginals #032C https://t.co/NpXjm6ltt7',\n",
       "  183958456,\n",
       "  0,\n",
       "  0,\n",
       "  2,\n",
       "  0,\n",
       "  'ko',\n",
       "  'TweetDeck',\n",
       "  ['https://pbs.twimg.com/ext_tw_video_thumb/1384774873071820800/pu/img/_FloyymZ9cnWc7eb.jpg'],\n",
       "  None,\n",
       "  [10228272],\n",
       "  datetime.datetime(2021, 9, 23, 13, 28, 19, 850159, tzinfo=datetime.timezone.utc))]"
      ]
     },
     "execution_count": 157,
     "metadata": {},
     "output_type": "execute_result"
    }
   ],
   "source": [
    "_twitter_feeds = [(\n",
    "    feed.id,\n",
    "    feed.url,\n",
    "    feed.date,\n",
    "    feed.content,\n",
    "    user.id,\n",
    "    feed.replyCount,\n",
    "    feed.retweetCount,\n",
    "    feed.likeCount,\n",
    "    feed.quoteCount,\n",
    "    feed.lang,\n",
    "    feed.sourceLabel,\n",
    "    [get_url(_d) for _d in feed.media] if feed.media else None,\n",
    "    in_reply_to_user.id if in_reply_to_user else None,\n",
    "    [_d.id for _d in mentioned_users] if mentioned_users else None,\n",
    "    tloaded\n",
    ")]\n",
    "\n",
    "_twitter_feeds"
   ]
  },
  {
   "cell_type": "code",
   "execution_count": 106,
   "metadata": {
    "collapsed": true
   },
   "outputs": [
    {
     "data": {
      "text/plain": [
       "[(1118400718547763200,\n",
       "  'kashi_cats',\n",
       "  '카시 in manyang',\n",
       "  None,\n",
       "  None,\n",
       "  None,\n",
       "  None,\n",
       "  None,\n",
       "  None,\n",
       "  None,\n",
       "  None,\n",
       "  None,\n",
       "  None,\n",
       "  datetime.datetime(2021, 9, 23, 12, 52, 50, 633197, tzinfo=datetime.timezone.utc)),\n",
       " (1414146942574071812,\n",
       "  'hjwldsaccuse',\n",
       "  '고소',\n",
       "  '괴물 주원동식 여진구 신하균 | 주식 한정 리버스❌',\n",
       "  False,\n",
       "  datetime.datetime(2021, 7, 11, 8, 58, 6, tzinfo=datetime.timezone.utc),\n",
       "  243,\n",
       "  186,\n",
       "  6478,\n",
       "  14978,\n",
       "  2,\n",
       "  365,\n",
       "  'https://pbs.twimg.com/profile_images/1431330602146402305/-bLPLiPw_normal.jpg',\n",
       "  datetime.datetime(2021, 9, 23, 12, 52, 50, 633197, tzinfo=datetime.timezone.utc))]"
      ]
     },
     "execution_count": 106,
     "metadata": {},
     "output_type": "execute_result"
    }
   ],
   "source": [
    "_twitter_users = [(\n",
    "    u.id,\n",
    "    u.username,\n",
    "    u.displayname,\n",
    "    u.description,\n",
    "    u.verified,\n",
    "    u.created,\n",
    "    u.followersCount,\n",
    "    u.friendsCount,\n",
    "    u.statusesCount,\n",
    "    u.favouritesCount,\n",
    "    u.listedCount,\n",
    "    u.mediaCount,\n",
    "    u.profileImageUrl,\n",
    "    tloaded\n",
    ") for u in users]\n",
    "\n",
    "_twitter_users"
   ]
  },
  {
   "cell_type": "code",
   "execution_count": null,
   "metadata": {},
   "outputs": [],
   "source": []
  },
  {
   "cell_type": "code",
   "execution_count": 107,
   "metadata": {},
   "outputs": [
    {
     "data": {
      "text/plain": [
       "[]"
      ]
     },
     "execution_count": 107,
     "metadata": {},
     "output_type": "execute_result"
    }
   ],
   "source": [
    "bq.insert_rows(twitter_feed, _twitter_feeds)"
   ]
  },
  {
   "cell_type": "code",
   "execution_count": 108,
   "metadata": {},
   "outputs": [
    {
     "data": {
      "text/plain": [
       "[]"
      ]
     },
     "execution_count": 108,
     "metadata": {},
     "output_type": "execute_result"
    }
   ],
   "source": [
    "bq.insert_rows(twitter_user, _twitter_users)"
   ]
  },
  {
   "cell_type": "code",
   "execution_count": null,
   "metadata": {},
   "outputs": [],
   "source": []
  },
  {
   "cell_type": "code",
   "execution_count": 175,
   "metadata": {},
   "outputs": [],
   "source": [
    "def get_url(m):\n",
    "    try:\n",
    "        return m.fullUrl\n",
    "    except:\n",
    "        return m.thumbnailUrl\n",
    "    \n",
    "\n",
    "def populate(feed):\n",
    "    tloaded = datetime.datetime.now(datetime.timezone.utc)\n",
    "\n",
    "    users = []\n",
    "    user = feed.user\n",
    "    in_reply_to_user = feed.inReplyToUser\n",
    "    mentioned_users = feed.mentionedUsers\n",
    "\n",
    "    if mentioned_users:\n",
    "        users += mentioned_users\n",
    "\n",
    "    if user and (user not in users):\n",
    "        users += [user]\n",
    "\n",
    "    if in_reply_to_user and (in_reply_to_user not in users):\n",
    "        users += [in_reply_to_user]\n",
    "        \n",
    "    _twitter_feeds = [(\n",
    "        feed.id,\n",
    "        feed.url,\n",
    "        feed.date,\n",
    "        feed.content,\n",
    "        user.id,\n",
    "        feed.replyCount,\n",
    "        feed.retweetCount,\n",
    "        feed.likeCount,\n",
    "        feed.quoteCount,\n",
    "        feed.lang,\n",
    "        feed.sourceLabel,\n",
    "        [get_url(_d) for _d in feed.media] if feed.media else None,\n",
    "        in_reply_to_user.id if in_reply_to_user else None,\n",
    "        [_d.id for _d in mentioned_users] if mentioned_users else None,\n",
    "        tloaded\n",
    "    )]\n",
    "    \n",
    "    _twitter_users = [(\n",
    "        u.id,\n",
    "        u.username,\n",
    "        u.displayname,\n",
    "        u.description,\n",
    "        u.verified,\n",
    "        u.created,\n",
    "        u.followersCount,\n",
    "        u.friendsCount,\n",
    "        u.statusesCount,\n",
    "        u.favouritesCount,\n",
    "        u.listedCount,\n",
    "        u.mediaCount,\n",
    "        u.profileImageUrl,\n",
    "        tloaded\n",
    "    ) for u in users]\n",
    "    \n",
    "    bq.insert_rows(twitter_feed, _twitter_feeds)\n",
    "    bq.insert_rows(twitter_user, _twitter_users)"
   ]
  },
  {
   "cell_type": "code",
   "execution_count": 110,
   "metadata": {},
   "outputs": [],
   "source": [
    "populate(feed)"
   ]
  },
  {
   "cell_type": "code",
   "execution_count": null,
   "metadata": {},
   "outputs": [],
   "source": []
  },
  {
   "cell_type": "code",
   "execution_count": null,
   "metadata": {},
   "outputs": [],
   "source": []
  },
  {
   "cell_type": "markdown",
   "metadata": {},
   "source": [
    "# 스프레드시트에서 트위터 쿼리정보 가져오기"
   ]
  },
  {
   "cell_type": "code",
   "execution_count": 187,
   "metadata": {},
   "outputs": [],
   "source": [
    "scope = [\n",
    "    'https://spreadsheets.google.com/feeds',\n",
    "    'https://www.googleapis.com/auth/drive',\n",
    "]\n",
    "\n",
    "json_file_name = 'sideb-proejct-066e081b7bcd.json'\n",
    "credentials = ServiceAccountCredentials.from_json_keyfile_name(json_file_name, scope)\n",
    "gc = gspread.authorize(credentials)\n",
    "spreadsheet_url = 'https://docs.google.com/spreadsheets/d/1roV5_RPFtJ6z40I6EYGRmqx01Fe6JOOmaJ6nbDrfmkw/edit#gid=2020655845'\n",
    "\n",
    "# 스프레스시트 문서 가져오기 \n",
    "doc = gc.open_by_url(spreadsheet_url)\n",
    "\n",
    "# 시트 선택하기\n",
    "worksheet = doc.worksheet('20210913')\n",
    "values = worksheet.get_all_values()\n",
    "header, rows = values[0], values[1:]\n",
    "\n",
    "df = pd.DataFrame(rows, columns=header)\n",
    "df = df[['구분','한글명','영문명 full','영문명 short','트위터 검색쿼리','검색잘됨']].set_index('영문명 short')\n",
    "df = df.applymap(lambda x: x.strip() if isinstance(x, str) else x)"
   ]
  },
  {
   "cell_type": "code",
   "execution_count": 198,
   "metadata": {},
   "outputs": [
    {
     "data": {
      "text/plain": [
       "영문명 short\n",
       "moscot                   moscot OR 모스코트 OR \"모스콧\" -\"존 모스콧\" -baseball -선발...\n",
       "moschino                                      \"모스키노\" OR \"모스치노\" OR moschino\n",
       "montbell                                montbell OR #몽벨 -from:montbell_xxx\n",
       "montblanc                                  #montblanc 몽블랑 -\"final fantasy\"\n",
       "monclear                  monclear OR \"몽클레르\" OR \"몽클레어\" OR \"몽끌레르\" OR \"몽끌레어\"\n",
       "                                               ...                        \n",
       "advisoryboardcrystals    advisoryboardcrystals OR \"어드바이저리보드크리스털\" OR #어드...\n",
       "urbanstoff                                           urbanstoff OR \"어반스터프\"\n",
       "a6ove                                                      \"a6ove\" OR #어보브\n",
       "awakeny                                                awakeny OR \"어웨이크뉴욕\"\n",
       "acoldwall                                      acoldwall OR #acw OR \"어콜드월\"\n",
       "Name: 트위터 검색쿼리, Length: 122, dtype: object"
      ]
     },
     "execution_count": 198,
     "metadata": {},
     "output_type": "execute_result"
    }
   ],
   "source": [
    "qrys = df[df['검색잘됨']=='1']['트위터 검색쿼리'][146:268]; qrys"
   ]
  },
  {
   "cell_type": "code",
   "execution_count": null,
   "metadata": {},
   "outputs": [],
   "source": []
  },
  {
   "cell_type": "markdown",
   "metadata": {},
   "source": [
    "# 크롤링 실행"
   ]
  },
  {
   "cell_type": "code",
   "execution_count": null,
   "metadata": {
    "scrolled": true
   },
   "outputs": [
    {
     "data": {
      "application/vnd.jupyter.widget-view+json": {
       "model_id": "2e92da26faa84814b3e94707d1c2c3da",
       "version_major": 2,
       "version_minor": 0
      },
      "text/plain": [
       "  0%|          | 0/122 [00:00<?, ?it/s]"
      ]
     },
     "metadata": {},
     "output_type": "display_data"
    },
    {
     "name": "stdout",
     "output_type": "stream",
     "text": [
      "moscot 55\n",
      "moschino 1299\n",
      "montbell 4\n",
      "montblanc 18\n",
      "monclear 1569\n",
      "muji 5902\n",
      "midnightstudios 5902\n",
      "mischief 240\n",
      "miumiu 2123\n",
      "mizuno 28\n",
      "millet 1\n",
      "baracuta 31\n",
      "barbour 1\n",
      "vans 10214\n",
      "balenciaga 5377\n",
      "valentino 123\n",
      "bally 11\n",
      "balmain 624\n",
      "barrel 6\n"
     ]
    }
   ],
   "source": [
    "since = '2021-03-01'\n",
    "until = '2021-08-31'\n",
    "\n",
    "for brand, baseqry in tqdm(list(qrys.items())[:]):\n",
    "    qry = '{baseqry} since:{since} until:{until} lang:ko'.format(baseqry=baseqry.strip(), since=since, until=until)\n",
    "    \n",
    "    for i, _feed in enumerate(sntwitter.TwitterSearchScraper(qry).get_items()):\n",
    "        populate(_feed)\n",
    "    \n",
    "    print(brand + ' ' + str(i+1))\n",
    "    sleep(10)"
   ]
  },
  {
   "cell_type": "code",
   "execution_count": 179,
   "metadata": {},
   "outputs": [
    {
     "data": {
      "text/plain": [
       "'test5'"
      ]
     },
     "execution_count": 179,
     "metadata": {},
     "output_type": "execute_result"
    }
   ],
   "source": [
    "'test' + str(5)"
   ]
  },
  {
   "cell_type": "code",
   "execution_count": null,
   "metadata": {},
   "outputs": [],
   "source": []
  }
 ],
 "metadata": {
  "kernelspec": {
   "display_name": "Python 3",
   "language": "python",
   "name": "python3"
  },
  "language_info": {
   "codemirror_mode": {
    "name": "ipython",
    "version": 3
   },
   "file_extension": ".py",
   "mimetype": "text/x-python",
   "name": "python",
   "nbconvert_exporter": "python",
   "pygments_lexer": "ipython3",
   "version": "3.8.8"
  }
 },
 "nbformat": 4,
 "nbformat_minor": 4
}
