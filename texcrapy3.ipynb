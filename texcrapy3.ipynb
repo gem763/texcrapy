{
 "cells": [
  {
   "cell_type": "code",
   "execution_count": 173,
   "metadata": {},
   "outputs": [
    {
     "name": "stdout",
     "output_type": "stream",
     "text": [
      "The autoreload extension is already loaded. To reload it, use:\n",
      "  %reload_ext autoreload\n"
     ]
    }
   ],
   "source": [
    "%load_ext autoreload\n",
    "%autoreload\n",
    "%matplotlib inline\n",
    "\n",
    "import pandas as pd\n",
    "import numpy as np\n",
    "from IPython.core.debugger import set_trace\n",
    "from tqdm import tqdm_notebook\n",
    "import texcrapy\n",
    "#from konlpy.corpus import word\n",
    "from ckonlpy.tag import Twitter, Postprocessor\n",
    "import json\n",
    "from soynlp.word import WordExtractor\n",
    "from soynlp.tokenizer import MaxScoreTokenizer, LTokenizer\n",
    "from soynlp.noun import LRNounExtractor_v2\n",
    "import nltk\n",
    "from nltk import Text\n",
    "from nltk.corpus import stopwords as STOPWORDS\n",
    "from nltk.corpus import words as WORDS\n",
    "import math\n",
    "import os\n",
    "import re\n",
    "\n",
    "from gensim.models import Word2Vec, FastText\n",
    "from gensim.corpora import Dictionary\n",
    "from gensim.models.tfidfmodel import TfidfModel\n",
    "from gensim.matutils import sparse2full\n",
    "\n",
    "import seaborn as sns\n",
    "from matplotlib import rcParams\n",
    "from matplotlib import pyplot as plt\n",
    "from sklearn import preprocessing\n",
    "from sklearn.decomposition import PCA\n",
    "from sklearn.cluster import KMeans, DBSCAN, AffinityPropagation\n",
    "\n",
    "from wordcloud import WordCloud\n",
    "\n",
    "sns.set(style='ticks')\n",
    "rcParams['font.family'] = u'Malgun Gothic'"
   ]
  },
  {
   "cell_type": "code",
   "execution_count": 174,
   "metadata": {
    "scrolled": true
   },
   "outputs": [
    {
     "name": "stderr",
     "output_type": "stream",
     "text": [
      "[nltk_data] Downloading package stopwords to C:\\Users\\sekan.CA-\n",
      "[nltk_data]     AM\\AppData\\Roaming\\nltk_data...\n",
      "[nltk_data]   Package stopwords is already up-to-date!\n",
      "[nltk_data] Downloading package words to C:\\Users\\sekan.CA-\n",
      "[nltk_data]     AM\\AppData\\Roaming\\nltk_data...\n",
      "[nltk_data]   Package words is already up-to-date!\n"
     ]
    },
    {
     "data": {
      "text/plain": [
       "True"
      ]
     },
     "execution_count": 174,
     "metadata": {},
     "output_type": "execute_result"
    }
   ],
   "source": [
    "nltk.download('stopwords')\n",
    "nltk.download('words')"
   ]
  },
  {
   "cell_type": "markdown",
   "metadata": {},
   "source": [
    "# Scraping"
   ]
  },
  {
   "cell_type": "code",
   "execution_count": 175,
   "metadata": {},
   "outputs": [],
   "source": [
    "df = pd.read_excel('keywords and logos.xlsx', sheet_name='20190215')[['shortname','kw_supporter','kw_supported','keywords']]; df\n",
    "_or = lambda kw: ' OR '.join(['#' + k.strip() for k in kw.split(',')])\n",
    "\n",
    "qry_base = {row.shortname:_or(row.keywords) for row in df.itertuples()}\n",
    "supporters = df.shortname[df.kw_supporter==True]\n",
    "qry_sup = ' OR '.join([qry_base[sup] for sup in supporters]); qry_sup\n",
    "qry = {row.shortname: '(' + qry_base[row.shortname] + ') AND (' + qry_sup + ')' if row.kw_supported==True else qry_base[row.shortname] for row in df.itertuples()}"
   ]
  },
  {
   "cell_type": "code",
   "execution_count": null,
   "metadata": {},
   "outputs": [],
   "source": [
    "%%time\n",
    "what = ['id', 'timestamp', 'text']\n",
    "texcrapy.scrap(qry, what=what, lang='ko', end='2019-01-31', download_to='scrapped/twitter')"
   ]
  },
  {
   "cell_type": "code",
   "execution_count": null,
   "metadata": {},
   "outputs": [],
   "source": []
  },
  {
   "cell_type": "markdown",
   "metadata": {},
   "source": [
    "# Making Corpus"
   ]
  },
  {
   "cell_type": "code",
   "execution_count": 280,
   "metadata": {},
   "outputs": [],
   "source": [
    "def preproc(text, remove_url=True, remove_mention=True, remove_hashtag=False):\n",
    "    LINEBREAK = r'\\n' # str.replace에서는 r'\\n'으로 검색이 안된다\n",
    "    RT = '((?: rt)|(?:^rt))[^ @]?'\n",
    "    EMOJI = r'[\\U00010000-\\U0010ffff]'\n",
    "    DOTS = '…'\n",
    "    LONG_BLANK = r'[ ]+'\n",
    "    SPECIALS = r'([^ a-zA-Z0-9_\\u3131-\\u3163\\uac00-\\ud7a3]+)|([ㄱ-ㅣ]+)'\n",
    "    \n",
    "    # \\u3131-\\u3163\\uac00-\\ud7a3 는 한글을 의미함\n",
    "    # URL = r'(?P<url>(https?://)?(www[.])?[^ \\u3131-\\u3163\\uac00-\\ud7a3]+[.][a-z]{2,6}\\b([^ \\u3131-\\u3163\\uac00-\\ud7a3]*))'\n",
    "    URL1 = r'(?:https?:\\/\\/)?(?:www[.])?[^ :\\u3131-\\u3163\\uac00-\\ud7a3]+[.][a-z]{2,6}\\b(?:[^ \\u3131-\\u3163\\uac00-\\ud7a3]*)'\n",
    "    URL2 = r'pic.twitter.com/[a-zA-Z0-9_]+'\n",
    "    URL = '|'.join((URL1, URL2))\n",
    "    \n",
    "    HASHTAG = r'#(?P<inner_hashtag>[^ #@]+)'\n",
    "    MENTION = r'@(?P<inner_mention>[^ #@]+)' \n",
    "    \n",
    "    #PTNS = '|'.join((LINEBREAK, RT, URL, HASHTAG, MENTION, EMOJI))\n",
    "    \n",
    "    #out = {}\n",
    "    #text = re.sub('|'.join((LINEBREAK, RT, EMOJI, DOTS, SPECIALS)), '', text.lower())\n",
    "    text = text.lower()\n",
    "    \n",
    "    if remove_url:\n",
    "        text = re.sub(URL, ' ', text)\n",
    "\n",
    "    if remove_mention:\n",
    "        text = re.sub(MENTION, ' ', text)        \n",
    "    else:\n",
    "        text = re.sub(MENTION, ' \\g<inner_mention>', text)\n",
    "        \n",
    "    if remove_hashtag:\n",
    "        text = re.sub(HASHTAG, ' ', text)\n",
    "    else:\n",
    "        text = re.sub(HASHTAG, ' \\g<inner_hashtag>', text)\n",
    "        \n",
    "    #set_trace()\n",
    "    text = re.sub('|'.join((LINEBREAK, RT, EMOJI, DOTS, SPECIALS)), ' ', text)\n",
    "    return re.sub(LONG_BLANK, ' ', text).strip()\n",
    "\n",
    "\n",
    "\n",
    "class JsonCorpus:\n",
    "    def __init__(self, *fnames, textkey='text'):\n",
    "        self.fnames = fnames\n",
    "        self.textkey = textkey\n",
    "        self.corpus = self._corpus()\n",
    "\n",
    "    def _corpus(self):\n",
    "        corpus = {}\n",
    "        for fname in tqdm_notebook(self.fnames):\n",
    "            with open(fname, encoding='UTF-8-sig') as f:\n",
    "                js = json.load(f)\n",
    "                topitem = next(iter(js))\n",
    "                sents = set() #[]\n",
    "                \n",
    "                for doc in js[topitem]:\n",
    "                    sents.add(preproc(doc[self.textkey]))\n",
    "                    #sents.append(preproc(doc[self.textkey]))\n",
    "                    \n",
    "                corpus[topitem] = sents\n",
    "                \n",
    "        return corpus\n",
    "                \n",
    "    def __iter__(self):\n",
    "        for sents in self.corpus.values():\n",
    "            yield from sents\n",
    "\n",
    "    def __len__(self):\n",
    "        return sum([len(sents) for sents in self.corpus.values()])\n",
    "    \n",
    "    \n",
    "class Tokens:\n",
    "    def __init__(self, tagger, **corpora):\n",
    "        self.tagger = tagger\n",
    "        self.tokensdict = self._get_tokens(**corpora)\n",
    "    \n",
    "    def _get_tokens(self, **corpora):\n",
    "        tokens = {}\n",
    "        for item, corpus in tqdm_notebook(corpora.items()):\n",
    "            tokens[item] = [\n",
    "                [\n",
    "                    #(tok[0].replace(' - ', ''), tok[1]) for tok in self.tagger.pos(corp)\n",
    "                    tok[0].replace(' - ', '') for tok in self.tagger.pos(corp)\n",
    "                ] \n",
    "                for corp in corpus\n",
    "            ]\n",
    "        return tokens\n",
    "    \n",
    "    \n",
    "    def freq(self):\n",
    "        return {\n",
    "            item: Text(sum(toks, [])).vocab() \n",
    "            for item, toks in tqdm_notebook(self.tokensdict.items())\n",
    "            if item not in ['ootd','fashion','category']\n",
    "        }\n",
    "                \n",
    "    def __iter__(self):\n",
    "        for toks in self.tokensdict.values():\n",
    "            yield from toks\n",
    "            \n",
    "    def __len__(self):\n",
    "        return sum([len(toks) for toks in self.tokensdict.values()])    "
   ]
  },
  {
   "cell_type": "code",
   "execution_count": 281,
   "metadata": {},
   "outputs": [
    {
     "data": {
      "application/vnd.jupyter.widget-view+json": {
       "model_id": "86e7a239f0094469a1e22e22393715f1",
       "version_major": 2,
       "version_minor": 0
      },
      "text/plain": [
       "HBox(children=(IntProgress(value=0, max=327), HTML(value='')))"
      ]
     },
     "metadata": {},
     "output_type": "display_data"
    }
   ],
   "source": [
    "fnames = ['scrapped/twitter/' + fname for fname in os.listdir('scrapped/twitter')]\n",
    "jcorpus = JsonCorpus(*fnames)"
   ]
  },
  {
   "cell_type": "code",
   "execution_count": null,
   "metadata": {},
   "outputs": [],
   "source": []
  },
  {
   "cell_type": "markdown",
   "metadata": {},
   "source": [
    "# Making Dictionary"
   ]
  },
  {
   "cell_type": "markdown",
   "metadata": {},
   "source": [
    "### 1. From Scraping keywords"
   ]
  },
  {
   "cell_type": "code",
   "execution_count": 282,
   "metadata": {},
   "outputs": [],
   "source": [
    "df_keywords = pd.read_excel('keywords and logos.xlsx', sheet_name='20190215')['keywords']\n",
    "keywords = {w.strip() for w in ', '.join(df_keywords).split(',')}"
   ]
  },
  {
   "cell_type": "markdown",
   "metadata": {},
   "source": [
    "### 2. Soynlp nouns"
   ]
  },
  {
   "cell_type": "code",
   "execution_count": 283,
   "metadata": {},
   "outputs": [
    {
     "name": "stdout",
     "output_type": "stream",
     "text": [
      "[Noun Extractor] use default predictors\n",
      "[Noun Extractor] num features: pos=1260, neg=1173, common=12\n",
      "[Noun Extractor] counting eojeols\n",
      "[EojeolCounter] n eojeol = 493329 from 297951 sents. mem=3.163 Gb                    \n",
      "[Noun Extractor] complete eojeol counter -> lr graph\n",
      "[Noun Extractor] has been trained. #eojeols=4452893, mem=3.533 Gb\n",
      "[Noun Extractor] batch prediction was completed for 112092 words\n",
      "[Noun Extractor] checked compounds. discovered 106546 compounds\n",
      "[Noun Extractor] postprocessing detaching_features : 128390 -> 117173\n",
      "[Noun Extractor] postprocessing ignore_features : 117173 -> 117064\n",
      "[Noun Extractor] postprocessing ignore_NJ : 117064 -> 116600\n",
      "[Noun Extractor] 116600 nouns (106546 compounds) with min frequency=1\n",
      "[Noun Extractor] flushing was done. mem=3.740 Gb                    \n",
      "[Noun Extractor] 74.05 % eojeols are covered\n"
     ]
    }
   ],
   "source": [
    "noun_extractor = LRNounExtractor_v2(verbose=True)\n",
    "_soynouns = noun_extractor.train_extract(jcorpus)"
   ]
  },
  {
   "cell_type": "code",
   "execution_count": 284,
   "metadata": {},
   "outputs": [],
   "source": [
    "freq_atleast = 5\n",
    "soynouns = {k for k,v in _soynouns.items() if v.frequency>=freq_atleast}\n",
    "soyngrams = {v for k,v in noun_extractor._compounds_components.items() if k in soynouns}"
   ]
  },
  {
   "cell_type": "markdown",
   "metadata": {},
   "source": [
    "### 3. Korean words"
   ]
  },
  {
   "cell_type": "code",
   "execution_count": 285,
   "metadata": {},
   "outputs": [],
   "source": [
    "with open('dic_system.txt', encoding='UTF-8-sig') as f:\n",
    "    lines = f.readlines()\n",
    "    \n",
    "kowords = set() #{tok.split('\\t')[0] for tok in lines}"
   ]
  },
  {
   "cell_type": "markdown",
   "metadata": {},
   "source": [
    "### 4. English words"
   ]
  },
  {
   "cell_type": "code",
   "execution_count": 286,
   "metadata": {},
   "outputs": [],
   "source": [
    "enwords = set(WORDS.words())"
   ]
  },
  {
   "cell_type": "markdown",
   "metadata": {},
   "source": [
    "### 5. Custom words"
   ]
  },
  {
   "cell_type": "code",
   "execution_count": 287,
   "metadata": {},
   "outputs": [],
   "source": [
    "cwords = '''\n",
    "    주구장창, 셀스타그램, literide, 재고정리, kids, 하지만, uhd, snsd, 빛내, 키네스, yoona, lahaina, 발휘, 윤아, \n",
    "    클락스, station, jeju, asap, 침대, fedex, usps, 초근접, 상상, \n",
    "'''\n",
    "\n",
    "#     이벤트, 스포츠, 이투데이, 보좌진, 홍보수석, 체리핑, 체리핑크, 기업, 오니츠카, 오니츠카타이거, \n",
    "#     마일드세븐, 세븐일레븐, 1949년, 오니츠카기하치로, 운동화, 2013, 시세이도, \n",
    "#     농구화, 제조회사, 1977년, 깔맞춤, 황금비율, \n",
    "#     주행거리, 인스파이어, 구입, 오니츠카슬립온, 계속, 생각, 맥시코66, 마라톤화,  hajiwon, \n",
    "#     연예인, kimchiu, 다시한번, 마린시티, 참가신청, 완료, 제주도, 게이밍, 운동스타그램, 아름다운, 러닝화, 미션완료, \n",
    "#     크리스마스선물, 아이제아, 질주본능, 어짜피, 소유욕, 뽀대욕, \n",
    "#     1990년, 보라매공원, 이름값, 이성경, 디자인, 베이스볼, 스파이크, 한그루, 토리브엔터테인먼트, 다방구, 재밌는추억, \n",
    "#     패션쇼, 스키니진, 프로젝트, 의상학, tryout, 크리스마스, 얼스타그램, 셀스타그램, 콜라보, \n",
    "#     selfie, 아스크림, 들기름, 에어맥스, 2008, 뭐시기, 이미테이션, 게다가, \n",
    "#     우먼스, 하의실종, 준비물, 1994년, 패스트, 오프화이트, 인스타, 팬도럼, \n",
    "\n",
    "\n",
    "cwords = set(re.findall(r'[^ ,]+', re.sub(r'\\n', '', cwords)))"
   ]
  },
  {
   "cell_type": "markdown",
   "metadata": {},
   "source": [
    "### 4. Twitter dictionary"
   ]
  },
  {
   "cell_type": "code",
   "execution_count": 288,
   "metadata": {},
   "outputs": [
    {
     "name": "stderr",
     "output_type": "stream",
     "text": [
      "C:\\ProgramData\\Anaconda3\\lib\\site-packages\\konlpy\\tag\\_okt.py:16: UserWarning: \"Twitter\" has changed to \"Okt\" since KoNLPy v0.4.5.\n",
      "  warn('\"Twitter\" has changed to \"Okt\" since KoNLPy v0.4.5.')\n"
     ]
    }
   ],
   "source": [
    "twitter = Twitter()\n",
    "newwords = list(keywords | soynouns | kowords | enwords | cwords)\n",
    "twitter.add_dictionary(newwords, 'Noun')"
   ]
  },
  {
   "cell_type": "code",
   "execution_count": null,
   "metadata": {},
   "outputs": [],
   "source": []
  },
  {
   "cell_type": "markdown",
   "metadata": {},
   "source": [
    "# Tagger setup"
   ]
  },
  {
   "cell_type": "markdown",
   "metadata": {},
   "source": [
    "### 1. Passtags"
   ]
  },
  {
   "cell_type": "code",
   "execution_count": 289,
   "metadata": {},
   "outputs": [],
   "source": [
    "stoptags = {'Foreign','Punctuation','KoreanParticle','Josa','Eomi','PreEomi','Exclamation','Determiner'}\n",
    "passtags = set(twitter.tagset.keys()) - stoptags"
   ]
  },
  {
   "cell_type": "markdown",
   "metadata": {},
   "source": [
    "### 2. Stopwords"
   ]
  },
  {
   "cell_type": "code",
   "execution_count": 290,
   "metadata": {},
   "outputs": [],
   "source": [
    "stopwords_en = STOPWORDS.words('english')\n",
    "\n",
    "with open('stopwords-ko.json', encoding='UTF-8-sig') as f:\n",
    "    stopwords_ko = json.load(f)\n",
    "    \n",
    "stopwords_custom = '''\n",
    "    엔, 줄, 내, 에는, 잖아요, 라는, 데, 는, 것은, 는, 인가요, 란, 말인가, 시, 은, 하네, 이나, 지, 있음, 수, 있는, \n",
    "    있으신가, 요, 그렇다면, 하고, 내는, 후, 생, 가거, 한, 하시겠어요, 만, 되네, 하려면, 하다, 랑, 하게, 근데, pic, 님의, \n",
    "    호, 하세요, 흑, 적인, 다욧, 니, 보니, 건, 다, 위해, 히, 께, 난, 해, 면서, 용, 보자, 가서, 하는, 중, 도, \n",
    "    잉, 인, 울, 하러가기, 인, 준, 든, 이셨으면, 와의, \n",
    "    드는, 되네요, 크흐, 이걸, 서, 에도, 됩니다, 하다고, 날, \n",
    "    하네요, 했습니다, 해지네요, 이였냐, 더, \n",
    "    되니, 하지않을, 아아, htm, 고, 냐고, 이야, 아니야, 너네, 된, 이냐, 해봐라, 해서, \n",
    "    vi, \n",
    "'''    \n",
    "\n",
    "stopwords_custom = re.findall(r'[^ ,]+', re.sub(r'\\n','',stopwords_custom))\n",
    "stopwords = set(stopwords_en + stopwords_ko)# + stopwords_custom)"
   ]
  },
  {
   "cell_type": "markdown",
   "metadata": {},
   "source": [
    "### 3. N-grams"
   ]
  },
  {
   "cell_type": "code",
   "execution_count": 291,
   "metadata": {},
   "outputs": [],
   "source": [
    "cngrams = {\n",
    "    ('캘빈','클라인'),('켈빈','클라인'),\n",
    "}\n",
    "#     ('the','boyz'),\n",
    "#     ('어글리','슈즈'),\n",
    "#     ('리미티드','에디션'),\n",
    "#     ('키코','코스타디노브'), ('kiko','kostadinov'),\n",
    "#     ('젤','카야노'),\n",
    "#     ('젤','라이트'),('gel','lyte'),\n",
    "#     ('스튜어트','와이츠먼'),\n",
    "#     ('주니','블랙'),\n",
    "#     ('jun','hyo','seong'),\n",
    "#     ('gel','ptg'),\n",
    "#     ('오니츠카','타이거'),\n",
    "#     ('노박','조코비치'),\n",
    "#     ('후디','티셔츠'),\n",
    "#     ('최종병기','활'),\n",
    "#     ('아이제아','토마스'),\n",
    "#     ('gel','ace')\n",
    "# ]\n",
    "\n",
    "ngrams = list(cngrams | soyngrams)"
   ]
  },
  {
   "cell_type": "code",
   "execution_count": 292,
   "metadata": {},
   "outputs": [],
   "source": [
    "tagger = Postprocessor(twitter, stopwords=stopwords, passtags=passtags, ngrams=ngrams)"
   ]
  },
  {
   "cell_type": "code",
   "execution_count": 293,
   "metadata": {},
   "outputs": [
    {
     "data": {
      "application/vnd.jupyter.widget-view+json": {
       "model_id": "2f086da40ccf467b979c3704a4712b0b",
       "version_major": 2,
       "version_minor": 0
      },
      "text/plain": [
       "HBox(children=(IntProgress(value=0, max=327), HTML(value='')))"
      ]
     },
     "metadata": {},
     "output_type": "display_data"
    }
   ],
   "source": [
    "tokens = Tokens(tagger, **jcorpus.corpus)"
   ]
  },
  {
   "cell_type": "code",
   "execution_count": 295,
   "metadata": {},
   "outputs": [],
   "source": [
    "tokens.tokensdict['crocs'];"
   ]
  },
  {
   "cell_type": "code",
   "execution_count": null,
   "metadata": {},
   "outputs": [],
   "source": [
    "newwords: "
   ]
  },
  {
   "cell_type": "code",
   "execution_count": null,
   "metadata": {},
   "outputs": [],
   "source": []
  },
  {
   "cell_type": "code",
   "execution_count": null,
   "metadata": {},
   "outputs": [],
   "source": []
  },
  {
   "cell_type": "code",
   "execution_count": 296,
   "metadata": {},
   "outputs": [
    {
     "data": {
      "application/vnd.jupyter.widget-view+json": {
       "model_id": "d8bac7c4d0bc48bdac1c9bed0f188902",
       "version_major": 2,
       "version_minor": 0
      },
      "text/plain": [
       "HBox(children=(IntProgress(value=0, max=327), HTML(value='')))"
      ]
     },
     "metadata": {},
     "output_type": "display_data"
    }
   ],
   "source": [
    "tokensfreq = tokens.freq()"
   ]
  },
  {
   "cell_type": "code",
   "execution_count": 297,
   "metadata": {},
   "outputs": [],
   "source": [
    "with open('model/tokensfreq.json', 'w', encoding='UTF-8-sig') as f:\n",
    "    json.dump(tokensfreq, f, ensure_ascii=False)"
   ]
  },
  {
   "cell_type": "code",
   "execution_count": 299,
   "metadata": {},
   "outputs": [],
   "source": [
    "tokensfreq;"
   ]
  },
  {
   "cell_type": "code",
   "execution_count": null,
   "metadata": {},
   "outputs": [],
   "source": []
  },
  {
   "cell_type": "markdown",
   "metadata": {},
   "source": [
    "# Word2vec"
   ]
  },
  {
   "cell_type": "code",
   "execution_count": 300,
   "metadata": {},
   "outputs": [],
   "source": [
    "w2v = Word2Vec(tokens, size=100, window=5, min_count=10, workers=4, sg=1)\n",
    "w2v.save('model/word2vec.model')"
   ]
  },
  {
   "cell_type": "code",
   "execution_count": 301,
   "metadata": {},
   "outputs": [],
   "source": [
    "w2v.init_sims(replace=True)"
   ]
  },
  {
   "cell_type": "code",
   "execution_count": 302,
   "metadata": {},
   "outputs": [],
   "source": [
    "w2v = Word2Vec.load('model/word2vec.model')"
   ]
  },
  {
   "cell_type": "code",
   "execution_count": 304,
   "metadata": {},
   "outputs": [
    {
     "data": {
      "text/plain": [
       "[('성비', 0.7515897750854492),\n",
       " ('가격대비', 0.7347947359085083),\n",
       " ('성능', 0.6302908658981323),\n",
       " ('저렴이', 0.6245683431625366),\n",
       " ('최우수', 0.6229339838027954),\n",
       " ('보호대', 0.6150311231613159),\n",
       " ('실용성', 0.6097210049629211),\n",
       " ('인기템', 0.6085457801818848),\n",
       " ('pamu', 0.6070997714996338),\n",
       " ('이건사야', 0.6044137477874756)]"
      ]
     },
     "execution_count": 304,
     "metadata": {},
     "output_type": "execute_result"
    }
   ],
   "source": [
    "w2v.wv.most_similar(positive=['가성비'], topn=10)"
   ]
  },
  {
   "cell_type": "code",
   "execution_count": 305,
   "metadata": {},
   "outputs": [
    {
     "data": {
      "text/plain": [
       "0.23139843984982017"
      ]
     },
     "execution_count": 305,
     "metadata": {},
     "output_type": "execute_result"
    }
   ],
   "source": [
    "w2v.wv.similarity('무난','유니클로')"
   ]
  },
  {
   "cell_type": "code",
   "execution_count": 306,
   "metadata": {},
   "outputs": [],
   "source": [
    "id_pools = {\n",
    "    '가성비': ['가성비','저렴','효율','성능','실용'], \n",
    "    '트렌디': ['유행','트렌드','trend','trendy'],#,'민감'],\n",
    "    '신뢰성': ['신뢰','믿음','trust','견고','품질','안정','클래식','classic'],\n",
    "    '럭셔리': ['럭셔리','고급','호화','luxury'], #,'품격'\n",
    "    '유니크': ['유니크','독특','독창','unique','개성','only','참신','특이'],\n",
    "    '활동성': ['활동','활발','운동','액티브','스포츠','active','sport','sports','sporty'],\n",
    "    '과감함': ['과감','선도','선구','대담','강렬','선명','예술','art'],\n",
    "    # 철학, 정통, 격식, 아이디어, 변화, 변동, 환상, 신상, 새로운, 튀는, \n",
    "}"
   ]
  },
  {
   "cell_type": "code",
   "execution_count": 307,
   "metadata": {},
   "outputs": [],
   "source": [
    "#docs = sum(tokens_dict.values(), [])"
   ]
  },
  {
   "cell_type": "code",
   "execution_count": 308,
   "metadata": {},
   "outputs": [],
   "source": [
    "dct = Dictionary(tokens)\n",
    "dct.filter_extremes(no_below=20, no_above=0.2)\n",
    "dct.compactify()"
   ]
  },
  {
   "cell_type": "code",
   "execution_count": 309,
   "metadata": {},
   "outputs": [
    {
     "data": {
      "application/vnd.jupyter.widget-view+json": {
       "model_id": "a47db617126946c589b91f2bfd28b813",
       "version_major": 2,
       "version_minor": 0
      },
      "text/plain": [
       "HBox(children=(IntProgress(value=0, max=327), HTML(value='')))"
      ]
     },
     "metadata": {},
     "output_type": "display_data"
    }
   ],
   "source": [
    "corp = {item:[dct.doc2bow(tok) for tok in toks] for item, toks in tqdm_notebook(tokens.tokensdict.items())}"
   ]
  },
  {
   "cell_type": "code",
   "execution_count": 310,
   "metadata": {},
   "outputs": [],
   "source": [
    "model_tfidf = TfidfModel(sum(corp.values(),[]), id2word=dct)"
   ]
  },
  {
   "cell_type": "code",
   "execution_count": 311,
   "metadata": {},
   "outputs": [],
   "source": [
    "wordlist = list(dct.values())\n",
    "identities = list(id_pools.keys())\n",
    "brands = list(tokens.tokensdict.keys())"
   ]
  },
  {
   "cell_type": "code",
   "execution_count": 312,
   "metadata": {},
   "outputs": [
    {
     "data": {
      "application/vnd.jupyter.widget-view+json": {
       "model_id": "427910411f4d47bf938cf493c09feeca",
       "version_major": 2,
       "version_minor": 0
      },
      "text/plain": [
       "HBox(children=(IntProgress(value=0, max=7), HTML(value='')))"
      ]
     },
     "metadata": {},
     "output_type": "display_data"
    }
   ],
   "source": [
    "sim_mat = np.zeros((len(identities),len(wordlist)))\n",
    "for i, idty in enumerate(tqdm_notebook(identities)):\n",
    "    for j, word in enumerate(wordlist):\n",
    "        sims = []\n",
    "        for w in id_pools[idty]:\n",
    "            try:\n",
    "                sims.append(w2v.wv.similarity(w, word))\n",
    "            except:\n",
    "                sims.append(0)\n",
    "        sim_mat[i,j] = np.mean(sims)\n",
    "        #sim_mat[i,j] = np.mean([w2v.wv.similarity(w, word) for w in id_pools[idty]])"
   ]
  },
  {
   "cell_type": "code",
   "execution_count": 313,
   "metadata": {},
   "outputs": [
    {
     "data": {
      "text/plain": [
       "(7, 20489)"
      ]
     },
     "execution_count": 313,
     "metadata": {},
     "output_type": "execute_result"
    }
   ],
   "source": [
    "sim_mat.shape"
   ]
  },
  {
   "cell_type": "code",
   "execution_count": 314,
   "metadata": {},
   "outputs": [],
   "source": [
    "def get_brand_vecs(bname):\n",
    "    brand_tfidf  = model_tfidf[corp[bname]]\n",
    "    return np.vstack([sparse2full(c, len(dct)) for c in brand_tfidf]).mean(axis=0)\n",
    "\n",
    "def plot_id(bname):\n",
    "    val = sim_mat.dot(get_brand_vecs(bname))\n",
    "    #val /= val.sum()\n",
    "    pd.Series(val, index=identities).plot.barh()"
   ]
  },
  {
   "cell_type": "code",
   "execution_count": null,
   "metadata": {},
   "outputs": [],
   "source": []
  },
  {
   "cell_type": "code",
   "execution_count": 315,
   "metadata": {},
   "outputs": [
    {
     "name": "stdout",
     "output_type": "stream",
     "text": [
      "advisoryboardcrystals\n",
      "doublet\n",
      "engineeredgarment\n",
      "experthorror\n",
      "goat\n",
      "heliotemil\n",
      "ignoredprayers\n",
      "novacancyinn\n",
      "onlineceramics\n",
      "saterdaysnyc\n",
      "someware\n",
      "sssworldcorp\n",
      "ystrdystmrrw\n"
     ]
    }
   ],
   "source": [
    "id_dict = {}\n",
    "for bname in brands:\n",
    "    if bname not in ['ootd','fashion','category']:\n",
    "        try:\n",
    "            id_dict[bname] = sim_mat.dot(get_brand_vecs(bname))\n",
    "        except:\n",
    "            print(bname)\n",
    "\n",
    "#id_dict = {\n",
    "#    bname:sim_mat.dot(get_brand_vecs(bname)) \n",
    "#    for bname in tqdm_notebook(brands)\n",
    "#    if bname not in ['ootd','fashion','category']\n",
    "#}"
   ]
  },
  {
   "cell_type": "code",
   "execution_count": 316,
   "metadata": {},
   "outputs": [],
   "source": [
    "pd.DataFrame(id_dict, index=identities).to_pickle('model/id_dict.pkl')"
   ]
  },
  {
   "cell_type": "code",
   "execution_count": 317,
   "metadata": {},
   "outputs": [
    {
     "data": {
      "text/plain": [
       "<matplotlib.axes._subplots.AxesSubplot at 0x12437a550>"
      ]
     },
     "execution_count": 317,
     "metadata": {},
     "output_type": "execute_result"
    },
    {
     "data": {
      "image/png": "[encoded data removed]",
      "text/plain": [
       "<Figure size 432x288 with 1 Axes>"
      ]
     },
     "metadata": {},
     "output_type": "display_data"
    }
   ],
   "source": [
    "df = pd.read_pickle('model/id_dict.pkl')\n",
    "df /= df.sum()\n",
    "df[['bape','chanel']].plot.barh()"
   ]
  },
  {
   "cell_type": "code",
   "execution_count": null,
   "metadata": {},
   "outputs": [],
   "source": []
  },
  {
   "cell_type": "markdown",
   "metadata": {},
   "source": [
    "# 여기서 normalize 축을 바꾸면 어떨까?"
   ]
  },
  {
   "cell_type": "code",
   "execution_count": 318,
   "metadata": {},
   "outputs": [
    {
     "data": {
      "text/plain": [
       "<matplotlib.axes._subplots.AxesSubplot at 0x12453f4a8>"
      ]
     },
     "execution_count": 318,
     "metadata": {},
     "output_type": "execute_result"
    },
    {
     "data": {
      "image/png": "[encoded data removed]",
      "text/plain": [
       "<Figure size 360x504 with 1 Axes>"
      ]
     },
     "metadata": {},
     "output_type": "display_data"
    }
   ],
   "source": [
    "df = pd.read_pickle('model/id_dict.pkl')\n",
    "min_max_scaler = preprocessing.MinMaxScaler(feature_range=(0.1, 1))\n",
    "X_train_minmax = min_max_scaler.fit_transform(df)\n",
    "df2 = df.copy()\n",
    "df2[:] = X_train_minmax\n",
    "df2[['mine','time']].plot.barh(figsize=(5,7))"
   ]
  },
  {
   "cell_type": "code",
   "execution_count": null,
   "metadata": {},
   "outputs": [],
   "source": [
    "df2.T"
   ]
  },
  {
   "cell_type": "code",
   "execution_count": 319,
   "metadata": {
    "collapsed": true
   },
   "outputs": [
    {
     "data": {
      "text/plain": [
       "032c                     0\n",
       "1017alyx9sm              1\n",
       "8seconds                 3\n",
       "99percentis             10\n",
       "aape                     2\n",
       "abecrombiefitch         19\n",
       "acnestudios              0\n",
       "acoldwall               16\n",
       "acronym                  4\n",
       "adererror               24\n",
       "adidas                   4\n",
       "adidasoriginal           1\n",
       "aecawhite               16\n",
       "aimeleondore            10\n",
       "aldo                     3\n",
       "alexandermcqueen        11\n",
       "alexanderwang           16\n",
       "allsaints                4\n",
       "alphaindustry            4\n",
       "ambush                  10\n",
       "ami                     17\n",
       "amiri                   23\n",
       "antisocialsocialclub    13\n",
       "apc                     17\n",
       "arcteryx                 3\n",
       "asics                    9\n",
       "awakeny                 22\n",
       "balenciaga              21\n",
       "bally                   23\n",
       "balmain                 23\n",
       "                        ..\n",
       "tomsshoes                8\n",
       "topshop                 25\n",
       "topten                   6\n",
       "toryburch               23\n",
       "tumi                    23\n",
       "ugg                      8\n",
       "umbro                    7\n",
       "undefeated               7\n",
       "underarmour             18\n",
       "undercover              13\n",
       "uniqlo                  14\n",
       "urutokyo                14\n",
       "valentino               11\n",
       "vans                    17\n",
       "veja                    24\n",
       "versace                 15\n",
       "vetement                 6\n",
       "visvim                   2\n",
       "vivastudio               8\n",
       "vivianwestwood          15\n",
       "whitemountaineering      4\n",
       "wilson                   3\n",
       "woolrich                13\n",
       "wtaps                   17\n",
       "xlarge                   2\n",
       "y3                      13\n",
       "yeezy                    4\n",
       "yojiyamamoto             2\n",
       "zara                    21\n",
       "zucca                    3\n",
       "Length: 311, dtype: int64"
      ]
     },
     "execution_count": 319,
     "metadata": {},
     "output_type": "execute_result"
    }
   ],
   "source": [
    "pca = PCA(n_components=0.9)\n",
    "X_reduced = pca.fit_transform(df2.T)\n",
    "# cluster = KMeans(n_clusters=10, random_state=0).fit(X_reduced)\n",
    "# cluster = DBSCAN().fit(X_reduced)\n",
    "cluster = AffinityPropagation().fit(X_reduced)\n",
    "clustered = pd.Series(cluster.labels_, index=df2.columns); clustered"
   ]
  },
  {
   "cell_type": "code",
   "execution_count": 320,
   "metadata": {
    "scrolled": true
   },
   "outputs": [],
   "source": [
    "clrd = pd.DataFrame(clustered.sort_values()).reset_index()\n",
    "clrd.columns = ['bname', 'cluster']\n",
    "clrd.to_excel('model/clustered.xlsx')"
   ]
  },
  {
   "cell_type": "code",
   "execution_count": 321,
   "metadata": {},
   "outputs": [
    {
     "data": {
      "text/html": [
       "<div>\n",
       "<style scoped>\n",
       "    .dataframe tbody tr th:only-of-type {\n",
       "        vertical-align: middle;\n",
       "    }\n",
       "\n",
       "    .dataframe tbody tr th {\n",
       "        vertical-align: top;\n",
       "    }\n",
       "\n",
       "    .dataframe thead th {\n",
       "        text-align: right;\n",
       "    }\n",
       "</style>\n",
       "<table border=\"1\" class=\"dataframe\">\n",
       "  <thead>\n",
       "    <tr style=\"text-align: right;\">\n",
       "      <th></th>\n",
       "      <th>bname</th>\n",
       "      <th>cluster</th>\n",
       "    </tr>\n",
       "  </thead>\n",
       "  <tbody>\n",
       "    <tr>\n",
       "      <th>62</th>\n",
       "      <td>adidas</td>\n",
       "      <td>4</td>\n",
       "    </tr>\n",
       "  </tbody>\n",
       "</table>\n",
       "</div>"
      ],
      "text/plain": [
       "     bname  cluster\n",
       "62  adidas        4"
      ]
     },
     "execution_count": 321,
     "metadata": {},
     "output_type": "execute_result"
    }
   ],
   "source": [
    "clrd[clrd.bname=='adidas']"
   ]
  },
  {
   "cell_type": "code",
   "execution_count": 322,
   "metadata": {},
   "outputs": [
    {
     "data": {
      "text/plain": [
       "Index(['asics', 'descente', 'drmartens', 'eider', 'fila', 'giordano',\n",
       "       'jansport', 'kangol', 'kolonsport', 'lafuma', 'lmc', 'nepa',\n",
       "       'newbalance', 'prospecs'],\n",
       "      dtype='object')"
      ]
     },
     "execution_count": 322,
     "metadata": {},
     "output_type": "execute_result"
    }
   ],
   "source": [
    "clustered.index[clustered==9]"
   ]
  },
  {
   "cell_type": "code",
   "execution_count": 323,
   "metadata": {
    "collapsed": true
   },
   "outputs": [
    {
     "data": {
      "text/plain": [
       "032c                    0.921131\n",
       "1017alyx9sm             1.000000\n",
       "8seconds                0.894010\n",
       "99percentis             0.773222\n",
       "aape                    0.975499\n",
       "abecrombiefitch         0.844910\n",
       "acnestudios             1.000000\n",
       "acoldwall               1.000000\n",
       "acronym                 1.000000\n",
       "adererror               1.000000\n",
       "adidas                  0.907210\n",
       "adidasoriginal          1.000000\n",
       "aecawhite               1.000000\n",
       "aimeleondore            0.809190\n",
       "aldo                    1.000000\n",
       "alexandermcqueen        1.000000\n",
       "alexanderwang           1.000000\n",
       "allsaints               1.000000\n",
       "alphaindustry           0.916350\n",
       "ambush                  0.815106\n",
       "ami                     0.947703\n",
       "amiri                   0.979774\n",
       "antisocialsocialclub    0.971174\n",
       "apc                     0.955957\n",
       "arcteryx                0.983103\n",
       "asics                   0.862977\n",
       "awakeny                 0.987181\n",
       "balenciaga              1.000000\n",
       "bally                   0.899009\n",
       "balmain                 0.930140\n",
       "                          ...   \n",
       "tomsshoes               0.917824\n",
       "topshop                 0.745188\n",
       "topten                  0.649428\n",
       "toryburch               1.000000\n",
       "tumi                    0.924542\n",
       "ugg                     0.925125\n",
       "umbro                   0.729065\n",
       "undefeated              0.893982\n",
       "underarmour             0.800339\n",
       "undercover              0.907338\n",
       "uniqlo                  0.909249\n",
       "urutokyo                0.921592\n",
       "valentino               0.925484\n",
       "vans                    1.000000\n",
       "veja                    1.000000\n",
       "versace                 0.987600\n",
       "vetement                1.000000\n",
       "visvim                  1.000000\n",
       "vivastudio              0.865780\n",
       "vivianwestwood          1.000000\n",
       "whitemountaineering     1.000000\n",
       "wilson                  0.993942\n",
       "woolrich                0.829324\n",
       "wtaps                   1.000000\n",
       "xlarge                  1.000000\n",
       "y3                      0.981440\n",
       "yeezy                   1.000000\n",
       "yojiyamamoto            0.962689\n",
       "zara                    1.000000\n",
       "zucca                   0.970794\n",
       "Name: 신뢰성, Length: 311, dtype: float64"
      ]
     },
     "execution_count": 323,
     "metadata": {},
     "output_type": "execute_result"
    }
   ],
   "source": [
    "df2.loc['신뢰성']"
   ]
  },
  {
   "cell_type": "code",
   "execution_count": null,
   "metadata": {},
   "outputs": [],
   "source": []
  },
  {
   "cell_type": "code",
   "execution_count": null,
   "metadata": {},
   "outputs": [],
   "source": []
  },
  {
   "cell_type": "code",
   "execution_count": 325,
   "metadata": {},
   "outputs": [],
   "source": [
    "df_kw = pd.read_excel('keywords and logos.xlsx', sheet_name='20190215')[['shortname','keywords']].set_index('shortname')\n",
    "df_kw;"
   ]
  },
  {
   "cell_type": "code",
   "execution_count": 326,
   "metadata": {},
   "outputs": [],
   "source": [
    "def plot_wc(bname):\n",
    "    with open('model/tokensfreq.json', encoding='UTF-8-sig') as f:\n",
    "        j = json.load(f)[bname]\n",
    "        kws = [kw.strip() for kw in df_kw.keywords.loc[bname].split(',')]\n",
    "        [j.pop(kw, None) for kw in kws]\n",
    "\n",
    "    x,y = np.ogrid[:300, :300]\n",
    "    mask = (x-150)**2 + (y-150)**2 > 130**2\n",
    "    mask = 255 * mask.astype(int)\n",
    "        \n",
    "    font_path = r'c:\\Windows\\Fonts\\NanumBarunGothic.ttf'\n",
    "    wc = WordCloud(width=100, height=100, background_color='white', font_path=font_path, random_state=0, mask=mask)\n",
    "    \n",
    "    try:\n",
    "        fig, ax = plt.subplots(figsize=(7,7))\n",
    "        ax.imshow(wc.generate_from_frequencies(j), interpolation='bilinear')\n",
    "        ax.axis('off')\n",
    "        fig.savefig('model/wordcloud/wc_' + bname + '.png', format='png')\n",
    "        \n",
    "    except:\n",
    "        print(bname)\n",
    "        \n",
    "    finally:\n",
    "        plt.close(fig)"
   ]
  },
  {
   "cell_type": "code",
   "execution_count": 327,
   "metadata": {},
   "outputs": [
    {
     "data": {
      "application/vnd.jupyter.widget-view+json": {
       "model_id": "a5375748340a4e71bff0bc61fae373fa",
       "version_major": 2,
       "version_minor": 0
      },
      "text/plain": [
       "HBox(children=(IntProgress(value=1, bar_style='info', max=1), HTML(value='')))"
      ]
     },
     "metadata": {},
     "output_type": "display_data"
    },
    {
     "name": "stdout",
     "output_type": "stream",
     "text": [
      "doublet\n",
      "engineeredgarment\n",
      "ignoredprayers\n",
      "saterdaysnyc\n",
      "advisoryboardcrystals\n",
      "experthorror\n",
      "goat\n",
      "heliotemil\n",
      "novacancyinn\n",
      "onlineceramics\n",
      "someware\n",
      "sssworldcorp\n",
      "ystrdystmrrw\n"
     ]
    }
   ],
   "source": [
    "for row in tqdm_notebook(df_kw.itertuples()):\n",
    "    bname = row.Index\n",
    "    \n",
    "    fname = 'model/wordcloud/wc_' + bname + '.png'\n",
    "    if os.path.isfile(fname):\n",
    "        continue\n",
    "        \n",
    "    if bname not in ['ootd','fashion','category']:\n",
    "        plot_wc(bname)"
   ]
  },
  {
   "cell_type": "code",
   "execution_count": null,
   "metadata": {},
   "outputs": [],
   "source": []
  },
  {
   "cell_type": "code",
   "execution_count": null,
   "metadata": {},
   "outputs": [],
   "source": []
  },
  {
   "cell_type": "code",
   "execution_count": null,
   "metadata": {},
   "outputs": [],
   "source": []
  }
 ],
 "metadata": {
  "kernelspec": {
   "display_name": "Python 3",
   "language": "python",
   "name": "python3"
  },
  "language_info": {
   "codemirror_mode": {
    "name": "ipython",
    "version": 3
   },
   "file_extension": ".py",
   "mimetype": "text/x-python",
   "name": "python",
   "nbconvert_exporter": "python",
   "pygments_lexer": "ipython3",
   "version": "3.7.1"
  }
 },
 "nbformat": 4,
 "nbformat_minor": 2
}
