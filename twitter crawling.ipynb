{
 "cells": [
  {
   "cell_type": "code",
   "execution_count": 1,
   "id": "c034f6ba",
   "metadata": {},
   "outputs": [],
   "source": [
    "%load_ext autoreload\n",
    "%autoreload\n",
    "%matplotlib inline\n",
    "\n",
    "import pandas as pd\n",
    "import numpy as np\n",
    "import _pickle as pickle\n",
    "from IPython.core.debugger import set_trace\n",
    "from tqdm import tqdm_notebook\n",
    "import json\n",
    "import math\n",
    "import os\n",
    "import re\n",
    "import datetime\n",
    "from time import sleep\n",
    "from sklearn import preprocessing\n",
    "from tqdm.notebook import tqdm\n",
    "\n",
    "import gensim\n",
    "from gensim.models import Word2Vec, Doc2Vec, FastText\n",
    "from gensim.corpora import Dictionary\n",
    "from gensim.models.tfidfmodel import TfidfModel\n",
    "from gensim.matutils import sparse2full\n",
    "from gensim.models.doc2vec import TaggedDocument\n",
    "\n",
    "import pytz\n",
    "KST = pytz.timezone('Asia/Seoul')\n",
    "\n",
    "import snscrape\n",
    "import snscrape.modules.twitter as sntwitter\n",
    "import gspread\n",
    "from oauth2client.service_account import ServiceAccountCredentials"
   ]
  },
  {
   "cell_type": "markdown",
   "id": "5626788d",
   "metadata": {},
   "source": [
    "# 구글시트에서 트위터 검색쿼리 데이터 가져오기"
   ]
  },
  {
   "cell_type": "code",
   "execution_count": 2,
   "id": "dd484e59",
   "metadata": {},
   "outputs": [],
   "source": [
    "scope = [\n",
    "    'https://spreadsheets.google.com/feeds',\n",
    "    'https://www.googleapis.com/auth/drive',\n",
    "]\n",
    "\n",
    "json_file_name = 'sideb-proejct-066e081b7bcd.json'\n",
    "credentials = ServiceAccountCredentials.from_json_keyfile_name(json_file_name, scope)\n",
    "gc = gspread.authorize(credentials)\n",
    "spreadsheet_url = 'https://docs.google.com/spreadsheets/d/1roV5_RPFtJ6z40I6EYGRmqx01Fe6JOOmaJ6nbDrfmkw/edit#gid=2020655845'\n",
    "\n",
    "# 스프레스시트 문서 가져오기 \n",
    "doc = gc.open_by_url(spreadsheet_url)\n",
    "\n",
    "# 시트 선택하기\n",
    "worksheet = doc.worksheet('20210913')\n",
    "values = worksheet.get_all_values()\n",
    "header, rows = values[0], values[1:]\n",
    "\n",
    "df = pd.DataFrame(rows, columns=header)\n",
    "df = df[['구분','한글명','영문명 full','영문명 short','트위터 검색쿼리','검색잘됨']].set_index('영문명 short')\n",
    "df = df.applymap(lambda x: x.strip() if isinstance(x, str) else x)"
   ]
  },
  {
   "cell_type": "code",
   "execution_count": null,
   "id": "f28b1b9e",
   "metadata": {},
   "outputs": [],
   "source": []
  },
  {
   "cell_type": "code",
   "execution_count": 84,
   "id": "26a5c7f4",
   "metadata": {},
   "outputs": [
    {
     "data": {
      "text/plain": [
       "'goalstudio OR 골스튜디오 since:2021-03-01 until:2021-08-31 lang:ko'"
      ]
     },
     "execution_count": 84,
     "metadata": {},
     "output_type": "execute_result"
    }
   ],
   "source": [
    "user_download_to = 'scrapped/twitter/user'\n",
    "feed_download_to = 'scrapped/twitter/feed'\n",
    "n_max = 50\n",
    "since = '2021-03-01'\n",
    "until = '2021-08-31'\n",
    "baseqry = 'goalstudio OR 골스튜디오'\n",
    "# qry = '{baseqry} until:{until} lang:ko'.format(baseqry=baseqry, until=until)\n",
    "qry = '{baseqry} since:{since} until:{until} lang:ko'.format(baseqry=baseqry, since=since, until=until); qry"
   ]
  },
  {
   "cell_type": "code",
   "execution_count": 3,
   "id": "c97994f2",
   "metadata": {},
   "outputs": [],
   "source": [
    "def convert2serialize(obj):\n",
    "    if isinstance(obj, dict):\n",
    "        return { k: convert2serialize(v) for k, v in obj.items() }\n",
    "    \n",
    "    elif hasattr(obj, \"_ast\"):\n",
    "        return convert2serialize(obj._ast())\n",
    "    \n",
    "    elif not isinstance(obj, str) and hasattr(obj, \"__iter__\"):\n",
    "        return [ convert2serialize(v) for v in obj ]\n",
    "    \n",
    "    elif hasattr(obj, \"__dict__\"):\n",
    "        return {\n",
    "            k: convert2serialize(v)\n",
    "            for k, v in obj.__dict__.items()\n",
    "            if not callable(v) and not k.startswith('_')\n",
    "        }\n",
    "    \n",
    "    elif isinstance(obj, datetime.date):\n",
    "        return obj.astimezone(KST).isoformat()\n",
    "    \n",
    "    else:\n",
    "        return obj"
   ]
  },
  {
   "cell_type": "code",
   "execution_count": 85,
   "id": "d2aeedab",
   "metadata": {},
   "outputs": [],
   "source": [
    "tweets_list = []\n",
    "\n",
    "# Using TwitterSearchScraper to scrape data and append tweets to list\n",
    "for i, _tw in enumerate(sntwitter.TwitterSearchScraper(qry).get_items()):\n",
    "    if i > n_max:\n",
    "        break\n",
    "        \n",
    "    tweets_list.append(_tw)\n",
    "#     tweets_list1.append([tweet.date, tweet.id, tweet.content, tweet.user.username])"
   ]
  },
  {
   "cell_type": "code",
   "execution_count": 86,
   "id": "b43fe0f0",
   "metadata": {},
   "outputs": [
    {
     "data": {
      "text/plain": [
       "[Tweet(url='https://twitter.com/cloudring0322/status/1432229622075125765', date=datetime.datetime(2021, 8, 30, 6, 32, 6, tzinfo=datetime.timezone.utc), content='나우 갈수록 맘에 안든거 참았는데\\n끝나고 나서도 우리한테 빅엿을 날리네\\n맨날 똑같은 대본에 똑같은거 연기만 시키고 스튜디오 불편한데만 골라서 가고 방역도 타방송국에 비해 최악임 흔한 가림막도 절대 설치 안해주고 자기들만 마스크 쓰고있음 그래도 마지막 예의는 있는줄 알았는데', renderedContent='나우 갈수록 맘에 안든거 참았는데\\n끝나고 나서도 우리한테 빅엿을 날리네\\n맨날 똑같은 대본에 똑같은거 연기만 시키고 스튜디오 불편한데만 골라서 가고 방역도 타방송국에 비해 최악임 흔한 가림막도 절대 설치 안해주고 자기들만 마스크 쓰고있음 그래도 마지막 예의는 있는줄 알았는데', id=1432229622075125765, user=User(username='cloudring0322', id=900996263566426112, displayname='구름반지☁️', description='성운이랑 우끼행중🤔 @gooreumseng', rawDescription='성운이랑 우끼행중🤔 @gooreumseng', descriptionUrls=None, verified=False, created=datetime.datetime(2017, 8, 25, 8, 20, 23, tzinfo=datetime.timezone.utc), followersCount=4608, friendsCount=277, statusesCount=122634, favouritesCount=19917, listedCount=0, mediaCount=14587, location='', protected=False, linkUrl=None, linkTcourl=None, profileImageUrl='https://pbs.twimg.com/profile_images/1435797625089843200/_qBo6Qnh_normal.png', profileBannerUrl='https://pbs.twimg.com/profile_banners/900996263566426112/1630749077', label=None), replyCount=0, retweetCount=6, likeCount=64, quoteCount=1, conversationId=1432229622075125765, lang='ko', source='<a href=\"http://twitter.com/download/android\" rel=\"nofollow\">Twitter for Android</a>', sourceUrl='http://twitter.com/download/android', sourceLabel='Twitter for Android', outlinks=None, tcooutlinks=None, media=None, retweetedTweet=None, quotedTweet=None, inReplyToTweetId=None, inReplyToUser=None, mentionedUsers=None, coordinates=None, place=None, hashtags=None, cashtags=None),\n",
       " Tweet(url='https://twitter.com/Morgana_rondo/status/1431543291376398337', date=datetime.datetime(2021, 8, 28, 9, 4, 52, tzinfo=datetime.timezone.utc), content='막간 자랑 우리 집에 내일 새 책장 온다^ㅅ^ 오비츠 스튜디오 만들고 본가에 있던 책들도 좀 골라서 가져와야지', renderedContent='막간 자랑 우리 집에 내일 새 책장 온다^ㅅ^ 오비츠 스튜디오 만들고 본가에 있던 책들도 좀 골라서 가져와야지', id=1431543291376398337, user=User(username='Morgana_rondo', id=1140146470223376384, displayname='회선곡', description='~G21, ~5.4 / fusetter.com', rawDescription='~G21, ~5.4 / https://t.co/yn7zLERSbr', descriptionUrls=[{'text': 'fusetter.com', 'url': 'http://fusetter.com', 'tcourl': 'https://t.co/yn7zLERSbr', 'indices': (13, 36)}], verified=False, created=datetime.datetime(2019, 6, 16, 6, 37, 56, tzinfo=datetime.timezone.utc), followersCount=23, friendsCount=40, statusesCount=2643, favouritesCount=1640, listedCount=0, mediaCount=111, location='루이수아 영감님의 학연지연혈연 클럽', protected=False, linkUrl=None, linkTcourl=None, profileImageUrl='https://pbs.twimg.com/profile_images/1414589673406488578/UkdYvgYr_normal.jpg', profileBannerUrl=None, label=None), replyCount=0, retweetCount=0, likeCount=0, quoteCount=0, conversationId=1431543291376398337, lang='ko', source='<a href=\"https://mobile.twitter.com\" rel=\"nofollow\">Twitter Web App</a>', sourceUrl='https://mobile.twitter.com', sourceLabel='Twitter Web App', outlinks=None, tcooutlinks=None, media=None, retweetedTweet=None, quotedTweet=None, inReplyToTweetId=None, inReplyToUser=None, mentionedUsers=None, coordinates=None, place=None, hashtags=None, cashtags=None),\n",
       " Tweet(url='https://twitter.com/Sajangnom_FF14/status/1430852180257349638', date=datetime.datetime(2021, 8, 26, 11, 18, 38, tzinfo=datetime.timezone.utc), content='근데 초코보 섭 시세 좀 오른거 같다...? \\n골서 겜 좀만 하고 장게 파밍하고..스튜디오 가야지..', renderedContent='근데 초코보 섭 시세 좀 오른거 같다...? \\n골서 겜 좀만 하고 장게 파밍하고..스튜디오 가야지..', id=1430852180257349638, user=User(username='Sajangnom_FF14', id=1384042134764802054, displayname='사장', description='~5.4 스포 주의', rawDescription='~5.4 스포 주의', descriptionUrls=None, verified=False, created=datetime.datetime(2021, 4, 19, 7, 12, 38, tzinfo=datetime.timezone.utc), followersCount=310, friendsCount=313, statusesCount=14782, favouritesCount=13852, listedCount=4, mediaCount=545, location='구름안개 거리', protected=False, linkUrl=None, linkTcourl=None, profileImageUrl='https://pbs.twimg.com/profile_images/1438071185003085824/BXjig6-8_normal.png', profileBannerUrl='https://pbs.twimg.com/profile_banners/1384042134764802054/1626233885', label=None), replyCount=0, retweetCount=0, likeCount=3, quoteCount=0, conversationId=1430852180257349638, lang='ko', source='<a href=\"https://mobile.twitter.com\" rel=\"nofollow\">Twitter Web App</a>', sourceUrl='https://mobile.twitter.com', sourceLabel='Twitter Web App', outlinks=None, tcooutlinks=None, media=None, retweetedTweet=None, quotedTweet=None, inReplyToTweetId=None, inReplyToUser=None, mentionedUsers=None, coordinates=None, place=None, hashtags=None, cashtags=None),\n",
       " Tweet(url='https://twitter.com/silian_loa/status/1429679226819473418', date=datetime.datetime(2021, 8, 23, 5, 37, 44, tzinfo=datetime.timezone.utc), content='골스튜디오는 당장 원본 사진을 올려달라 ✊🏻 https://t.co/65gkQJjul7', renderedContent='골스튜디오는 당장 원본 사진을 올려달라 ✊🏻 https://t.co/65gkQJjul7', id=1429679226819473418, user=User(username='silian_loa', id=1421495784613187585, displayname='조가 ㅅㅔyo', description='로스트아크 실리안  디트 ■------ ●▅▇█▇▆▅▄▇ /💙ㄷㅐ9💙모르는 건 디엠 궁금한 건 디엠', rawDescription='로스트아크 실리안  디트 ■------ ●▅▇█▇▆▅▄▇ /💙ㄷㅐ9💙모르는 건 디엠 궁금한 건 디엠', descriptionUrls=None, verified=False, created=datetime.datetime(2021, 7, 31, 15, 39, 49, tzinfo=datetime.timezone.utc), followersCount=24, friendsCount=25, statusesCount=1500, favouritesCount=993, listedCount=0, mediaCount=368, location='', protected=False, linkUrl=None, linkTcourl=None, profileImageUrl='https://pbs.twimg.com/profile_images/1439199769033797633/lAnJA3yM_normal.jpg', profileBannerUrl='https://pbs.twimg.com/profile_banners/1421495784613187585/1632146720', label=None), replyCount=0, retweetCount=0, likeCount=0, quoteCount=0, conversationId=1429679226819473418, lang='ko', source='<a href=\"http://twitter.com/download/iphone\" rel=\"nofollow\">Twitter for iPhone</a>', sourceUrl='http://twitter.com/download/iphone', sourceLabel='Twitter for iPhone', outlinks=None, tcooutlinks=None, media=[Photo(previewUrl='https://pbs.twimg.com/media/E9c9rKIVEAgMU-F?format=jpg&name=small', fullUrl='https://pbs.twimg.com/media/E9c9rKIVEAgMU-F?format=jpg&name=large')], retweetedTweet=None, quotedTweet=None, inReplyToTweetId=None, inReplyToUser=None, mentionedUsers=None, coordinates=None, place=None, hashtags=None, cashtags=None),\n",
       " Tweet(url='https://twitter.com/zzrw88/status/1429461610066677760', date=datetime.datetime(2021, 8, 22, 15, 13, tzinfo=datetime.timezone.utc), content='렌트 가좍들 진짜 골때림\\n집세 졸라 밀렷으면서 안 낸다고 땡깡부림\\n근데 그럴만한 게\\n같이 쫄쫄 굶으면서 살던 친구가\\n냅다 부잣집 딸래미한테 장가가서\\n본인들 아파트 주인이 됐대\\n그러고 돈 주래;; 아파트 철거하고 스튜디오 만든대\\n시위할만해~~ 시위할만헤…~', renderedContent='렌트 가좍들 진짜 골때림\\n집세 졸라 밀렷으면서 안 낸다고 땡깡부림\\n근데 그럴만한 게\\n같이 쫄쫄 굶으면서 살던 친구가\\n냅다 부잣집 딸래미한테 장가가서\\n본인들 아파트 주인이 됐대\\n그러고 돈 주래;; 아파트 철거하고 스튜디오 만든대\\n시위할만해~~ 시위할만헤…~', id=1429461610066677760, user=User(username='zzrw88', id=1401060908160323584, displayname='챠', description='최재림 씨와 알아가는 사이입니다', rawDescription='최재림 씨와 알아가는 사이입니다', descriptionUrls=None, verified=False, created=datetime.datetime(2021, 6, 5, 6, 18, 51, tzinfo=datetime.timezone.utc), followersCount=84, friendsCount=72, statusesCount=3843, favouritesCount=1300, listedCount=0, mediaCount=993, location='보고 싶은 너에게', protected=False, linkUrl=None, linkTcourl=None, profileImageUrl='https://pbs.twimg.com/profile_images/1438456551107293184/aOq2DHU9_normal.jpg', profileBannerUrl='https://pbs.twimg.com/profile_banners/1401060908160323584/1631542167', label=None), replyCount=1, retweetCount=0, likeCount=3, quoteCount=0, conversationId=1429461610066677760, lang='ko', source='<a href=\"http://twitter.com/download/iphone\" rel=\"nofollow\">Twitter for iPhone</a>', sourceUrl='http://twitter.com/download/iphone', sourceLabel='Twitter for iPhone', outlinks=None, tcooutlinks=None, media=None, retweetedTweet=None, quotedTweet=None, inReplyToTweetId=None, inReplyToUser=None, mentionedUsers=None, coordinates=None, place=None, hashtags=None, cashtags=None),\n",
       " Tweet(url='https://twitter.com/RieL_Cho/status/1429415291054825475', date=datetime.datetime(2021, 8, 22, 12, 8, 57, tzinfo=datetime.timezone.utc), content='[GOALSTUDIO x MIC SWG 5] EP.07 레디(Reddy) https://t.co/e5Wwjm2aAx 출처 @YouTube \\n\\n인스타는 내 정신 건강에 해로워\\n그래서 그런가 내 인스타는 외로워\\n나 한가한 사람 아냐 그런 거 신경 쓸 정신있냐?', renderedContent='[GOALSTUDIO x MIC SWG 5] EP.07 레디(Reddy) youtu.be/x9b0c17S0Jg 출처 @YouTube \\n\\n인스타는 내 정신 건강에 해로워\\n그래서 그런가 내 인스타는 외로워\\n나 한가한 사람 아냐 그런 거 신경 쓸 정신있냐?', id=1429415291054825475, user=User(username='RieL_Cho', id=183958456, displayname='RieL', description='', rawDescription='', descriptionUrls=None, verified=False, created=datetime.datetime(2010, 8, 28, 9, 24, 7, tzinfo=datetime.timezone.utc), followersCount=268, friendsCount=338, statusesCount=30011, favouritesCount=11392, listedCount=4, mediaCount=7394, location='👁\\u200d🗨', protected=False, linkUrl=None, linkTcourl=None, profileImageUrl='https://pbs.twimg.com/profile_images/1440341713021648898/YC5UEYjS_normal.jpg', profileBannerUrl='https://pbs.twimg.com/profile_banners/183958456/1631635310', label=None), replyCount=0, retweetCount=0, likeCount=0, quoteCount=0, conversationId=1429415291054825475, lang='ko', source='<a href=\"https://mobile.twitter.com\" rel=\"nofollow\">Twitter Web App</a>', sourceUrl='https://mobile.twitter.com', sourceLabel='Twitter Web App', outlinks=['https://youtu.be/x9b0c17S0Jg'], tcooutlinks=['https://t.co/e5Wwjm2aAx'], media=None, retweetedTweet=None, quotedTweet=None, inReplyToTweetId=None, inReplyToUser=None, mentionedUsers=[User(username='YouTube', id=10228272, displayname='YouTube', description=None, rawDescription=None, descriptionUrls=None, verified=None, created=None, followersCount=None, friendsCount=None, statusesCount=None, favouritesCount=None, listedCount=None, mediaCount=None, location=None, protected=None, linkUrl=None, linkTcourl=None, profileImageUrl=None, profileBannerUrl=None, label=None)], coordinates=None, place=None, hashtags=None, cashtags=None),\n",
       " Tweet(url='https://twitter.com/PavlovBot/status/1428616752657666050', date=datetime.datetime(2021, 8, 20, 7, 15, 50, tzinfo=datetime.timezone.utc), content='Q. 형 다 중고 가격이에요 깁슨은 스튜디오..ㅎ 추천좀 해주세요. 기타마다 어떤게 장점인가요? 물론 일반적인 얘기는 많이 들어봤는데.. 아니면 형님이 좋아하시는 사운드의 기타는 어떤거라든지요 ㅎ \\n- 마음이 가는데로 고르세요. 뭘 골라도 그기타 나중엔 애증관계가됩니다', renderedContent='Q. 형 다 중고 가격이에요 깁슨은 스튜디오..ㅎ 추천좀 해주세요. 기타마다 어떤게 장점인가요? 물론 일반적인 얘기는 많이 들어봤는데.. 아니면 형님이 좋아하시는 사운드의 기타는 어떤거라든지요 ㅎ \\n- 마음이 가는데로 고르세요. 뭘 골라도 그기타 나중엔 애증관계가됩니다', id=1428616752657666050, user=User(username='PavlovBot', id=610414567, displayname='파블로프봇', description='파블로프의 개 왈왈', rawDescription='파블로프의 개 왈왈', descriptionUrls=None, verified=False, created=datetime.datetime(2012, 6, 17, 1, 27, 36, tzinfo=datetime.timezone.utc), followersCount=168, friendsCount=234, statusesCount=66903, favouritesCount=34, listedCount=1, mediaCount=2442, location='', protected=False, linkUrl=None, linkTcourl=None, profileImageUrl='https://pbs.twimg.com/profile_images/670941374573768704/zf2Jncro_normal.jpg', profileBannerUrl='https://pbs.twimg.com/profile_banners/610414567/1448799909', label=None), replyCount=0, retweetCount=0, likeCount=0, quoteCount=0, conversationId=1428616752657666050, lang='ko', source='<a href=\"http://twittbot.net/\" rel=\"nofollow\">twittbot.net</a>', sourceUrl='http://twittbot.net/', sourceLabel='twittbot.net', outlinks=None, tcooutlinks=None, media=None, retweetedTweet=None, quotedTweet=None, inReplyToTweetId=None, inReplyToUser=None, mentionedUsers=None, coordinates=None, place=None, hashtags=None, cashtags=None),\n",
       " Tweet(url='https://twitter.com/hjwldsaccuse/status/1428323088630902797', date=datetime.datetime(2021, 8, 19, 11, 48, 55, tzinfo=datetime.timezone.utc), content='@kashi_cats 진짜 무슨 일일까요 근데 스튜디오 촬영 얘기도 도는골 보니 재탕은 아닐거같기도 하구..... 하 ㅜㅜㅜㅜㅜ 진짜 한국에서 해줫으면 더 조왓을텐데여ㅠㅠㅠ', renderedContent='@kashi_cats 진짜 무슨 일일까요 근데 스튜디오 촬영 얘기도 도는골 보니 재탕은 아닐거같기도 하구..... 하 ㅜㅜㅜㅜㅜ 진짜 한국에서 해줫으면 더 조왓을텐데여ㅠㅠㅠ', id=1428323088630902797, user=User(username='hjwldsaccuse', id=1414146942574071812, displayname='고소', description='괴물 주원동식 여진구 신하균 | 주식 한정 리버스❌', rawDescription='괴물 주원동식 여진구 신하균 | 주식 한정 리버스❌', descriptionUrls=None, verified=False, created=datetime.datetime(2021, 7, 11, 8, 58, 6, tzinfo=datetime.timezone.utc), followersCount=242, friendsCount=185, statusesCount=6423, favouritesCount=14809, listedCount=2, mediaCount=357, location='문주시 만양읍', protected=False, linkUrl=None, linkTcourl=None, profileImageUrl='https://pbs.twimg.com/profile_images/1431330602146402305/-bLPLiPw_normal.jpg', profileBannerUrl='https://pbs.twimg.com/profile_banners/1414146942574071812/1630091096', label=None), replyCount=1, retweetCount=0, likeCount=1, quoteCount=0, conversationId=1428320684472557575, lang='ko', source='<a href=\"http://twitter.com/download/iphone\" rel=\"nofollow\">Twitter for iPhone</a>', sourceUrl='http://twitter.com/download/iphone', sourceLabel='Twitter for iPhone', outlinks=None, tcooutlinks=None, media=None, retweetedTweet=None, quotedTweet=None, inReplyToTweetId=1428322275485360139, inReplyToUser=User(username='kashi_cats', id=1118400718547763200, displayname='카시 in manyang', description=None, rawDescription=None, descriptionUrls=None, verified=None, created=None, followersCount=None, friendsCount=None, statusesCount=None, favouritesCount=None, listedCount=None, mediaCount=None, location=None, protected=None, linkUrl=None, linkTcourl=None, profileImageUrl=None, profileBannerUrl=None, label=None), mentionedUsers=[User(username='kashi_cats', id=1118400718547763200, displayname='카시 in manyang', description=None, rawDescription=None, descriptionUrls=None, verified=None, created=None, followersCount=None, friendsCount=None, statusesCount=None, favouritesCount=None, listedCount=None, mediaCount=None, location=None, protected=None, linkUrl=None, linkTcourl=None, profileImageUrl=None, profileBannerUrl=None, label=None)], coordinates=None, place=None, hashtags=None, cashtags=None),\n",
       " Tweet(url='https://twitter.com/chungjung__/status/1427505369387995140', date=datetime.datetime(2021, 8, 17, 5, 39, 36, tzinfo=datetime.timezone.utc), content='❗엔하이픈&amp;골스튜디오 슬리퍼 후기❗\\n착용감 좋아요.. 발등 감싸는 부분이 되게 푹신푹신하고 안정감👍 신고있다가 벗으면 바닥이 꽤 딱딱하게 느껴지지만 만족합니다🤍 https://t.co/jQbwij1tck', renderedContent='❗엔하이픈&amp;골스튜디오 슬리퍼 후기❗\\n착용감 좋아요.. 발등 감싸는 부분이 되게 푹신푹신하고 안정감👍 신고있다가 벗으면 바닥이 꽤 딱딱하게 느껴지지만 만족합니다🤍 https://t.co/jQbwij1tck', id=1427505369387995140, user=User(username='chungjung__', id=1308595151531458561, displayname='청정', description='🐈\\u200d⬛🐈 🤍', rawDescription='🐈\\u200d⬛🐈 🤍', descriptionUrls=None, verified=False, created=datetime.datetime(2020, 9, 23, 2, 32, 58, tzinfo=datetime.timezone.utc), followersCount=231, friendsCount=152, statusesCount=11595, favouritesCount=19466, listedCount=13, mediaCount=829, location='정원', protected=False, linkUrl='https://pushoong.com/ask/2574279675', linkTcourl='https://t.co/jZD4kENvFD', profileImageUrl='https://pbs.twimg.com/profile_images/1415711545758126082/-xadBCPF_normal.jpg', profileBannerUrl='https://pbs.twimg.com/profile_banners/1308595151531458561/1626366711', label=None), replyCount=2, retweetCount=2, likeCount=11, quoteCount=0, conversationId=1427505369387995140, lang='ko', source='<a href=\"http://twitter.com/download/android\" rel=\"nofollow\">Twitter for Android</a>', sourceUrl='http://twitter.com/download/android', sourceLabel='Twitter for Android', outlinks=None, tcooutlinks=None, media=[Photo(previewUrl='https://pbs.twimg.com/media/E8-EimaVkAE_4Ns?format=jpg&name=small', fullUrl='https://pbs.twimg.com/media/E8-EimaVkAE_4Ns?format=jpg&name=large'), Photo(previewUrl='https://pbs.twimg.com/media/E8-EjE1VUAQa0s1?format=jpg&name=small', fullUrl='https://pbs.twimg.com/media/E8-EjE1VUAQa0s1?format=jpg&name=large'), Photo(previewUrl='https://pbs.twimg.com/media/E8-EjpEUcAAJr2D?format=jpg&name=small', fullUrl='https://pbs.twimg.com/media/E8-EjpEUcAAJr2D?format=jpg&name=large'), Photo(previewUrl='https://pbs.twimg.com/media/E8-EkT-UYAEHEic?format=jpg&name=small', fullUrl='https://pbs.twimg.com/media/E8-EkT-UYAEHEic?format=jpg&name=large')], retweetedTweet=None, quotedTweet=None, inReplyToTweetId=None, inReplyToUser=None, mentionedUsers=None, coordinates=None, place=None, hashtags=None, cashtags=None),\n",
       " Tweet(url='https://twitter.com/HERO_0616_/status/1426064158433312773', date=datetime.datetime(2021, 8, 13, 6, 12, 45, tzinfo=datetime.timezone.utc), content='임군 너 설마 골스튜디오 모델된거야•••❓나 기대해도 되는 부분이니〰️❓', renderedContent='임군 너 설마 골스튜디오 모델된거야•••❓나 기대해도 되는 부분이니〰️❓', id=1426064158433312773, user=User(username='HERO_0616_', id=1233801038840205312, displayname='😈빌런🧏', description='✨악당이 영웅에게 인생배팅✨', rawDescription='✨악당이 영웅에게 인생배팅✨', descriptionUrls=None, verified=False, created=datetime.datetime(2020, 2, 29, 17, 7, 52, tzinfo=datetime.timezone.utc), followersCount=1126, friendsCount=60, statusesCount=13209, favouritesCount=2048, listedCount=6, mediaCount=3681, location='3.74 바가지소용없음', protected=False, linkUrl=None, linkTcourl=None, profileImageUrl='https://pbs.twimg.com/profile_images/1355737259698343940/oyEJQ0v__normal.jpg', profileBannerUrl='https://pbs.twimg.com/profile_banners/1233801038840205312/1614261076', label=None), replyCount=1, retweetCount=2, likeCount=11, quoteCount=0, conversationId=1426064158433312773, lang='ko', source='<a href=\"http://twitter.com/download/iphone\" rel=\"nofollow\">Twitter for iPhone</a>', sourceUrl='http://twitter.com/download/iphone', sourceLabel='Twitter for iPhone', outlinks=None, tcooutlinks=None, media=None, retweetedTweet=None, quotedTweet=None, inReplyToTweetId=None, inReplyToUser=None, mentionedUsers=None, coordinates=None, place=None, hashtags=None, cashtags=None),\n",
       " Tweet(url='https://twitter.com/dumpging/status/1425826740568346634', date=datetime.datetime(2021, 8, 12, 14, 29, 20, tzinfo=datetime.timezone.utc), content='소누이셀카진심레전드다\\n훈내폴폴나고..뽀송뽀송하고..골스튜디오시강이긴한데턱선쥐리고..하그냥심장쥐어뜯어 https://t.co/f69zK8Dgw0', renderedContent='소누이셀카진심레전드다\\n훈내폴폴나고..뽀송뽀송하고..골스튜디오시강이긴한데턱선쥐리고..하그냥심장쥐어뜯어 https://t.co/f69zK8Dgw0', id=1425826740568346634, user=User(username='dumpging', id=1419951615310647299, displayname='🍓', description='바빠서이틀못들어옴요..ㅠㅠ', rawDescription='바빠서이틀못들어옴요..ㅠㅠ', descriptionUrls=None, verified=False, created=datetime.datetime(2021, 7, 27, 9, 23, 51, tzinfo=datetime.timezone.utc), followersCount=60, friendsCount=47, statusesCount=621, favouritesCount=165, listedCount=1, mediaCount=265, location='', protected=False, linkUrl=None, linkTcourl=None, profileImageUrl='https://pbs.twimg.com/profile_images/1425760974762479623/Jp4KgzmJ_normal.jpg', profileBannerUrl=None, label=None), replyCount=0, retweetCount=0, likeCount=3, quoteCount=0, conversationId=1425826740568346634, lang='ko', source='<a href=\"http://twitter.com/download/iphone\" rel=\"nofollow\">Twitter for iPhone</a>', sourceUrl='http://twitter.com/download/iphone', sourceLabel='Twitter for iPhone', outlinks=None, tcooutlinks=None, media=[Photo(previewUrl='https://pbs.twimg.com/media/E8mN3OaUUBMQYAt?format=jpg&name=small', fullUrl='https://pbs.twimg.com/media/E8mN3OaUUBMQYAt?format=jpg&name=large')], retweetedTweet=None, quotedTweet=None, inReplyToTweetId=None, inReplyToUser=None, mentionedUsers=None, coordinates=None, place=None, hashtags=None, cashtags=None),\n",
       " Tweet(url='https://twitter.com/highlightcloset/status/1425059738648256558', date=datetime.datetime(2021, 8, 10, 11, 41, 32, tzinfo=datetime.timezone.utc), content='210810  땅끝마을 해남.\\n.\\nhttps://t.co/gf6jE2i3AZ\\n.\\n#윤두준 #두준 #하이라이트 #YoonDuJun #DuJun #HIGHLIGHT #골스튜디오 #GOALSTUDIO #불어온다 https://t.co/LCmVCfo4OA', renderedContent='210810  땅끝마을 해남.\\n.\\nen.goalstudio.com/product/strike…\\n.\\n#윤두준 #두준 #하이라이트 #YoonDuJun #DuJun #HIGHLIGHT #골스튜디오 #GOALSTUDIO #불어온다 https://t.co/LCmVCfo4OA', id=1425059738648256558, user=User(username='highlightcloset', id=1336775577907453955, displayname='HIGHLIGHT Closet 🛍', description='with @yoseopcloset', rawDescription='with @yoseopcloset', descriptionUrls=None, verified=False, created=datetime.datetime(2020, 12, 9, 20, 52, 5, tzinfo=datetime.timezone.utc), followersCount=1802, friendsCount=18, statusesCount=569, favouritesCount=55, listedCount=5, mediaCount=561, location='', protected=False, linkUrl=None, linkTcourl=None, profileImageUrl='https://pbs.twimg.com/profile_images/1339189810976747521/ljSnQYbJ_normal.jpg', profileBannerUrl='https://pbs.twimg.com/profile_banners/1336775577907453955/1607556499', label=None), replyCount=0, retweetCount=10, likeCount=45, quoteCount=1, conversationId=1425059738648256558, lang='ko', source='<a href=\"http://twitter.com/download/iphone\" rel=\"nofollow\">Twitter for iPhone</a>', sourceUrl='http://twitter.com/download/iphone', sourceLabel='Twitter for iPhone', outlinks=['https://en.goalstudio.com/product/striker-hoodie-20-3-colors/1105/'], tcooutlinks=['https://t.co/gf6jE2i3AZ'], media=[Photo(previewUrl='https://pbs.twimg.com/media/E8bURyVXICUN_Fo?format=jpg&name=small', fullUrl='https://pbs.twimg.com/media/E8bURyVXICUN_Fo?format=jpg&name=large')], retweetedTweet=None, quotedTweet=None, inReplyToTweetId=None, inReplyToUser=None, mentionedUsers=None, coordinates=None, place=None, hashtags=['윤두준', '두준', '하이라이트', 'YoonDuJun', 'DuJun', 'HIGHLIGHT', '골스튜디오', 'GOALSTUDIO', '불어온다'], cashtags=None),\n",
       " Tweet(url='https://twitter.com/mae_giii2/status/1424193753514844167', date=datetime.datetime(2021, 8, 8, 2, 20, 25, tzinfo=datetime.timezone.utc), content='1.아이패드 프로크리에이트\\n2.다운로드 사이브러시/기본(6B연필,나린더 연필, 스튜디오펜)\\n3.연두(그림 그릴 땐 딱히 없음)\\n4.할골...??\\n5.레퍼런스 없으면 다 못그리는디? 대갈치기 최고~~ 우헹헹\\n6.유튜브에 저장해놓은 노래들 무한반복\\n7.셀채색', renderedContent='1.아이패드 프로크리에이트\\n2.다운로드 사이브러시/기본(6B연필,나린더 연필, 스튜디오펜)\\n3.연두(그림 그릴 땐 딱히 없음)\\n4.할골...??\\n5.레퍼런스 없으면 다 못그리는디? 대갈치기 최고~~ 우헹헹\\n6.유튜브에 저장해놓은 노래들 무한반복\\n7.셀채색', id=1424193753514844167, user=User(username='mae_giii2', id=1368092826131599361, displayname='ㅁㄱ', description='ㅁㄱ(메기)Oo∑ㅇ)33▷™=3 / 🎃할로윈컨셉사이버락밴드 할골🎃 #할골', rawDescription='ㅁㄱ(메기)Oo∑ㅇ)33▷™=3 / 🎃할로윈컨셉사이버락밴드 할골🎃 #할골', descriptionUrls=None, verified=False, created=datetime.datetime(2021, 3, 6, 6, 55, 33, tzinfo=datetime.timezone.utc), followersCount=564, friendsCount=217, statusesCount=7501, favouritesCount=12368, listedCount=3, mediaCount=198, location='', protected=False, linkUrl='https://peing.net/mae_giii2', linkTcourl='https://t.co/ZyN0WLjyY8', profileImageUrl='https://pbs.twimg.com/profile_images/1438400978781229060/7Ddu5EyR_normal.jpg', profileBannerUrl='https://pbs.twimg.com/profile_banners/1368092826131599361/1625306682', label=None), replyCount=1, retweetCount=0, likeCount=4, quoteCount=0, conversationId=1424191224148230147, lang='ko', source='<a href=\"http://twitter.com/download/iphone\" rel=\"nofollow\">Twitter for iPhone</a>', sourceUrl='http://twitter.com/download/iphone', sourceLabel='Twitter for iPhone', outlinks=None, tcooutlinks=None, media=None, retweetedTweet=None, quotedTweet=None, inReplyToTweetId=1424191224148230147, inReplyToUser=User(username='mae_giii2', id=1368092826131599361, displayname='ㅁㄱ', description='ㅁㄱ(메기)Oo∑ㅇ)33▷™=3 / 🎃할로윈컨셉사이버락밴드 할골🎃 #할골', rawDescription='ㅁㄱ(메기)Oo∑ㅇ)33▷™=3 / 🎃할로윈컨셉사이버락밴드 할골🎃 #할골', descriptionUrls=None, verified=False, created=datetime.datetime(2021, 3, 6, 6, 55, 33, tzinfo=datetime.timezone.utc), followersCount=564, friendsCount=217, statusesCount=7501, favouritesCount=12368, listedCount=3, mediaCount=198, location='', protected=False, linkUrl='https://peing.net/mae_giii2', linkTcourl='https://t.co/ZyN0WLjyY8', profileImageUrl='https://pbs.twimg.com/profile_images/1438400978781229060/7Ddu5EyR_normal.jpg', profileBannerUrl='https://pbs.twimg.com/profile_banners/1368092826131599361/1625306682', label=None), mentionedUsers=None, coordinates=None, place=None, hashtags=None, cashtags=None),\n",
       " Tweet(url='https://twitter.com/puppytakuu2/status/1424036391491555330', date=datetime.datetime(2021, 8, 7, 15, 55, 7, tzinfo=datetime.timezone.utc), content='@chhhhako 하씨발 골 스튜디오 후드 씹ㅋㅋㅋㅋㅋㅋ', renderedContent='@chhhhako 하씨발 골 스튜디오 후드 씹ㅋㅋㅋㅋㅋㅋ', id=1424036391491555330, user=User(username='puppytakuu2', id=1423246667516497920, displayname='ㅌr쿠0l(세컨드◠‿◠)', description='@puppytakuu 계정 한남들한테 신고 당해 잠겨서 사용하는 세컨 계정♡', rawDescription='@puppytakuu 계정 한남들한테 신고 당해 잠겨서 사용하는 세컨 계정♡', descriptionUrls=None, verified=False, created=datetime.datetime(2021, 8, 5, 11, 37, 13, tzinfo=datetime.timezone.utc), followersCount=17, friendsCount=16, statusesCount=1242, favouritesCount=56, listedCount=0, mediaCount=100, location='', protected=False, linkUrl=None, linkTcourl=None, profileImageUrl='https://pbs.twimg.com/profile_images/1423669041772699650/WtE9Yt2B_normal.jpg', profileBannerUrl=None, label=None), replyCount=0, retweetCount=0, likeCount=0, quoteCount=0, conversationId=1424035587271450633, lang='ko', source='<a href=\"http://twitter.com/download/iphone\" rel=\"nofollow\">Twitter for iPhone</a>', sourceUrl='http://twitter.com/download/iphone', sourceLabel='Twitter for iPhone', outlinks=None, tcooutlinks=None, media=None, retweetedTweet=None, quotedTweet=None, inReplyToTweetId=1424035587271450633, inReplyToUser=User(username='chhhhako', id=1297516779212660741, displayname='차코', description=None, rawDescription=None, descriptionUrls=None, verified=None, created=None, followersCount=None, friendsCount=None, statusesCount=None, favouritesCount=None, listedCount=None, mediaCount=None, location=None, protected=None, linkUrl=None, linkTcourl=None, profileImageUrl=None, profileBannerUrl=None, label=None), mentionedUsers=[User(username='chhhhako', id=1297516779212660741, displayname='차코', description=None, rawDescription=None, descriptionUrls=None, verified=None, created=None, followersCount=None, friendsCount=None, statusesCount=None, favouritesCount=None, listedCount=None, mediaCount=None, location=None, protected=None, linkUrl=None, linkTcourl=None, profileImageUrl=None, profileBannerUrl=None, label=None)], coordinates=None, place=None, hashtags=None, cashtags=None),\n",
       " Tweet(url='https://twitter.com/bynanaside/status/1423869265686392840', date=datetime.datetime(2021, 8, 7, 4, 51, 1, tzinfo=datetime.timezone.utc), content='골라마디쉬 재민이도 환장하지만 뒤에 비트 쿵쿵 두번에 맞춰서 어깨 쿵 쿵 하는 안무 미쳣어 … 덜그럭덜그럭(?)거린다해야되나 하여튼 미치겟음 특히 스튜디오 춤 영상에서 더 그럼 https://t.co/kIMjE67Twz', renderedContent='골라마디쉬 재민이도 환장하지만 뒤에 비트 쿵쿵 두번에 맞춰서 어깨 쿵 쿵 하는 안무 미쳣어 … 덜그럭덜그럭(?)거린다해야되나 하여튼 미치겟음 특히 스튜디오 춤 영상에서 더 그럼 https://t.co/kIMjE67Twz', id=1423869265686392840, user=User(username='bynanaside', id=1388756281922449412, displayname='시로 (휴트)', description='아기토끼냐냥이햄토리사슴재미니짱', rawDescription='아기토끼냐냥이햄토리사슴재미니짱', descriptionUrls=None, verified=False, created=datetime.datetime(2021, 5, 2, 7, 24, 41, tzinfo=datetime.timezone.utc), followersCount=240, friendsCount=162, statusesCount=6100, favouritesCount=2617, listedCount=9, mediaCount=1471, location='초반, RPS xx | 🔕', protected=False, linkUrl='https://peing.net/bynanaside', linkTcourl='https://t.co/nb5ahdNzhU', profileImageUrl='https://pbs.twimg.com/profile_images/1433445395489701899/CDbqpksP_normal.jpg', profileBannerUrl='https://pbs.twimg.com/profile_banners/1388756281922449412/1630602276', label=None), replyCount=0, retweetCount=24, likeCount=47, quoteCount=1, conversationId=1423869265686392840, lang='ko', source='<a href=\"http://twitter.com/download/iphone\" rel=\"nofollow\">Twitter for iPhone</a>', sourceUrl='http://twitter.com/download/iphone', sourceLabel='Twitter for iPhone', outlinks=None, tcooutlinks=None, media=[Video(thumbnailUrl='https://pbs.twimg.com/ext_tw_video_thumb/1423869204655067143/pu/img/bneEkXPuy2uP6snj.jpg', variants=[VideoVariant(contentType='video/mp4', url='https://video.twimg.com/ext_tw_video/1423869204655067143/pu/vid/1280x720/LpJqJ-JWfh84jkka.mp4?tag=12', bitrate=2176000), VideoVariant(contentType='video/mp4', url='https://video.twimg.com/ext_tw_video/1423869204655067143/pu/vid/640x360/lrfB6Y1hYmJIbahE.mp4?tag=12', bitrate=832000), VideoVariant(contentType='application/x-mpegURL', url='https://video.twimg.com/ext_tw_video/1423869204655067143/pu/pl/FcHaiFd5_7T1T8ZX.m3u8?tag=12&container=fmp4', bitrate=None), VideoVariant(contentType='video/mp4', url='https://video.twimg.com/ext_tw_video/1423869204655067143/pu/vid/480x270/WP8zYykta1BezPRe.mp4?tag=12', bitrate=256000)], duration=4.253, views=1377)], retweetedTweet=None, quotedTweet=None, inReplyToTweetId=None, inReplyToUser=None, mentionedUsers=None, coordinates=None, place=None, hashtags=None, cashtags=None),\n",
       " Tweet(url='https://twitter.com/PavlovBot/status/1423656573855952903', date=datetime.datetime(2021, 8, 6, 14, 45, 52, tzinfo=datetime.timezone.utc), content='Q. 형 다 중고 가격이에요 깁슨은 스튜디오..ㅎ 추천좀 해주세요. 기타마다 어떤게 장점인가요? 물론 일반적인 얘기는 많이 들어봤는데.. 아니면 형님이 좋아하시는 사운드의 기타는 어떤거라든지요 ㅎ \\n- 마음이 가는데로 고르세요. 뭘 골라도 그기타 나중엔 애증관계가됩니다', renderedContent='Q. 형 다 중고 가격이에요 깁슨은 스튜디오..ㅎ 추천좀 해주세요. 기타마다 어떤게 장점인가요? 물론 일반적인 얘기는 많이 들어봤는데.. 아니면 형님이 좋아하시는 사운드의 기타는 어떤거라든지요 ㅎ \\n- 마음이 가는데로 고르세요. 뭘 골라도 그기타 나중엔 애증관계가됩니다', id=1423656573855952903, user=User(username='PavlovBot', id=610414567, displayname='파블로프봇', description='파블로프의 개 왈왈', rawDescription='파블로프의 개 왈왈', descriptionUrls=None, verified=False, created=datetime.datetime(2012, 6, 17, 1, 27, 36, tzinfo=datetime.timezone.utc), followersCount=168, friendsCount=234, statusesCount=66903, favouritesCount=34, listedCount=1, mediaCount=2442, location='', protected=False, linkUrl=None, linkTcourl=None, profileImageUrl='https://pbs.twimg.com/profile_images/670941374573768704/zf2Jncro_normal.jpg', profileBannerUrl='https://pbs.twimg.com/profile_banners/610414567/1448799909', label=None), replyCount=0, retweetCount=0, likeCount=0, quoteCount=0, conversationId=1423656573855952903, lang='ko', source='<a href=\"http://twittbot.net/\" rel=\"nofollow\">twittbot.net</a>', sourceUrl='http://twittbot.net/', sourceLabel='twittbot.net', outlinks=None, tcooutlinks=None, media=None, retweetedTweet=None, quotedTweet=None, inReplyToTweetId=None, inReplyToUser=None, mentionedUsers=None, coordinates=None, place=None, hashtags=None, cashtags=None),\n",
       " Tweet(url='https://twitter.com/mysuno_o/status/1422515321554882561', date=datetime.datetime(2021, 8, 3, 11, 10, 56, tzinfo=datetime.timezone.utc), content='혹시 이게 급하게 골 스튜디오 옷 입고 찍었다는 그 민증사진인가요? https://t.co/VLaYqvjTgA', renderedContent='혹시 이게 급하게 골 스튜디오 옷 입고 찍었다는 그 민증사진인가요? https://t.co/VLaYqvjTgA', id=1422515321554882561, user=User(username='mysuno_o', id=1341790480002998275, displayname='썬키스트', description='선우가행복하면됐다', rawDescription='선우가행복하면됐다', descriptionUrls=None, verified=False, created=datetime.datetime(2020, 12, 23, 16, 59, 22, tzinfo=datetime.timezone.utc), followersCount=2863, friendsCount=39, statusesCount=1357, favouritesCount=407, listedCount=299, mediaCount=691, location='', protected=False, linkUrl=None, linkTcourl=None, profileImageUrl='https://pbs.twimg.com/profile_images/1425131973081669633/Wh6KJb7S_normal.jpg', profileBannerUrl='https://pbs.twimg.com/profile_banners/1341790480002998275/1627400382', label=None), replyCount=0, retweetCount=1, likeCount=22, quoteCount=1, conversationId=1422515321554882561, lang='ko', source='<a href=\"http://twitter.com/download/iphone\" rel=\"nofollow\">Twitter for iPhone</a>', sourceUrl='http://twitter.com/download/iphone', sourceLabel='Twitter for iPhone', outlinks=None, tcooutlinks=None, media=[Photo(previewUrl='https://pbs.twimg.com/media/E73KJF3VkAIFW8_?format=jpg&name=small', fullUrl='https://pbs.twimg.com/media/E73KJF3VkAIFW8_?format=jpg&name=large')], retweetedTweet=None, quotedTweet=None, inReplyToTweetId=None, inReplyToUser=None, mentionedUsers=None, coordinates=None, place=None, hashtags=None, cashtags=None),\n",
       " Tweet(url='https://twitter.com/chochomintt/status/1422119859417059328', date=datetime.datetime(2021, 8, 2, 8, 59, 30, tzinfo=datetime.timezone.utc), content='골스튜디오 단골을 잡아요 https://t.co/jbhLLnVj8r', renderedContent='골스튜디오 단골을 잡아요 twitter.com/blueming_01/st…', id=1422119859417059328, user=User(username='chochomintt', id=1276975327114260481, displayname='🐰트빙🐻\\u200d❄️', description='추지 배인 절대지켜💓 #송병희 #추지민', rawDescription='추지 배인 절대지켜💓 #송병희 #추지민', descriptionUrls=None, verified=False, created=datetime.datetime(2020, 6, 27, 20, 27, 5, tzinfo=datetime.timezone.utc), followersCount=65, friendsCount=77, statusesCount=1980, favouritesCount=3367, listedCount=0, mediaCount=26, location='JUSTB', protected=False, linkUrl=None, linkTcourl=None, profileImageUrl='https://pbs.twimg.com/profile_images/1416097772470603776/NEEs9-S__normal.jpg', profileBannerUrl='https://pbs.twimg.com/profile_banners/1276975327114260481/1623615178', label=None), replyCount=0, retweetCount=0, likeCount=4, quoteCount=0, conversationId=1422119859417059328, lang='ko', source='<a href=\"http://twitter.com/download/iphone\" rel=\"nofollow\">Twitter for iPhone</a>', sourceUrl='http://twitter.com/download/iphone', sourceLabel='Twitter for iPhone', outlinks=['https://twitter.com/blueming_01/status/1422114187765981187'], tcooutlinks=['https://t.co/jbhLLnVj8r'], media=None, retweetedTweet=None, quotedTweet=Tweet(url='https://twitter.com/blueming_01/status/1422114187765981187', date=datetime.datetime(2021, 8, 2, 8, 36, 58, tzinfo=datetime.timezone.utc), content='아이패드 광고주세요\\n슬리퍼 광고주세요\\n라고 냅다 외치기 https://t.co/27daK84Rwo', renderedContent='아이패드 광고주세요\\n슬리퍼 광고주세요\\n라고 냅다 외치기 https://t.co/27daK84Rwo', id=1422114187765981187, user=User(username='blueming_01', id=1409354134998773769, displayname='밍', description='고급 취미 #추지민', rawDescription='고급 취미 #추지민', descriptionUrls=None, verified=False, created=datetime.datetime(2021, 6, 28, 3, 33, 13, tzinfo=datetime.timezone.utc), followersCount=265, friendsCount=15, statusesCount=1195, favouritesCount=91, listedCount=5, mediaCount=692, location='(❛◡❛)✿', protected=False, linkUrl='https://peing.net/ko/blueming_01', linkTcourl='https://t.co/L6k0tFZmrK', profileImageUrl='https://pbs.twimg.com/profile_images/1409354249813696513/tJ_8jsQf_normal.jpg', profileBannerUrl=None, label=None), replyCount=0, retweetCount=5, likeCount=18, quoteCount=1, conversationId=1422114187765981187, lang='ko', source='<a href=\"http://twitter.com/download/iphone\" rel=\"nofollow\">Twitter for iPhone</a>', sourceUrl='http://twitter.com/download/iphone', sourceLabel='Twitter for iPhone', outlinks=None, tcooutlinks=None, media=[Photo(previewUrl='https://pbs.twimg.com/media/E7xdT8TVgAMIZHO?format=jpg&name=small', fullUrl='https://pbs.twimg.com/media/E7xdT8TVgAMIZHO?format=jpg&name=large')], retweetedTweet=None, quotedTweet=None, inReplyToTweetId=None, inReplyToUser=None, mentionedUsers=None, coordinates=None, place=None, hashtags=None, cashtags=None), inReplyToTweetId=None, inReplyToUser=None, mentionedUsers=None, coordinates=None, place=None, hashtags=None, cashtags=None),\n",
       " Tweet(url='https://twitter.com/sano789/status/1421807879930081281', date=datetime.datetime(2021, 8, 1, 12, 19, 49, tzinfo=datetime.timezone.utc), content='[골스튜디오] 발 피로회복 프로젝트, 골스튜디오 그래비티 밸런스 슬리퍼 체험단 10명 모집! &gt; 맘스클럽 https://t.co/ekiGuj44Fr', renderedContent='[골스튜디오] 발 피로회복 프로젝트, 골스튜디오 그래비티 밸런스 슬리퍼 체험단 10명 모집! &gt; 맘스클럽 moms-club.co.kr/views/event/ev…', id=1421807879930081281, user=User(username='sano789', id=3709004172, displayname='tonjimom', description='', rawDescription='', descriptionUrls=None, verified=False, created=datetime.datetime(2015, 9, 28, 0, 25, 18, tzinfo=datetime.timezone.utc), followersCount=15, friendsCount=11, statusesCount=1655, favouritesCount=7, listedCount=0, mediaCount=96, location='', protected=False, linkUrl='http://blog.naver.com/sano789', linkTcourl='https://t.co/nzKdisJKkL', profileImageUrl='https://pbs.twimg.com/profile_images/813563784665018369/x2bQv2Kj_normal.jpg', profileBannerUrl=None, label=None), replyCount=0, retweetCount=0, likeCount=0, quoteCount=0, conversationId=1421807879930081281, lang='ko', source='<a href=\"http://twitter.com/download/iphone\" rel=\"nofollow\">Twitter for iPhone</a>', sourceUrl='http://twitter.com/download/iphone', sourceLabel='Twitter for iPhone', outlinks=['https://moms-club.co.kr/views/event/event_ongoing_view.php?pCd=2&mCd=200&Uid=8704&type=&current=1&max=4&size=8&keyword='], tcooutlinks=['https://t.co/ekiGuj44Fr'], media=None, retweetedTweet=None, quotedTweet=None, inReplyToTweetId=None, inReplyToUser=None, mentionedUsers=None, coordinates=None, place=None, hashtags=None, cashtags=None),\n",
       " Tweet(url='https://twitter.com/RieL_Cho/status/1421769582616858626', date=datetime.datetime(2021, 8, 1, 9, 47, 38, tzinfo=datetime.timezone.utc), content='[GOALSTUDIO x MIC SWG 5] EP.07 레디(Reddy) https://t.co/e5Wwjm2aAx 출처 @YouTube', renderedContent='[GOALSTUDIO x MIC SWG 5] EP.07 레디(Reddy) youtu.be/x9b0c17S0Jg 출처 @YouTube', id=1421769582616858626, user=User(username='RieL_Cho', id=183958456, displayname='RieL', description='', rawDescription='', descriptionUrls=None, verified=False, created=datetime.datetime(2010, 8, 28, 9, 24, 7, tzinfo=datetime.timezone.utc), followersCount=268, friendsCount=338, statusesCount=30011, favouritesCount=11392, listedCount=4, mediaCount=7394, location='👁\\u200d🗨', protected=False, linkUrl=None, linkTcourl=None, profileImageUrl='https://pbs.twimg.com/profile_images/1440341713021648898/YC5UEYjS_normal.jpg', profileBannerUrl='https://pbs.twimg.com/profile_banners/183958456/1631635310', label=None), replyCount=0, retweetCount=0, likeCount=0, quoteCount=0, conversationId=1421769582616858626, lang='ko', source='<a href=\"https://mobile.twitter.com\" rel=\"nofollow\">Twitter Web App</a>', sourceUrl='https://mobile.twitter.com', sourceLabel='Twitter Web App', outlinks=['https://youtu.be/x9b0c17S0Jg'], tcooutlinks=['https://t.co/e5Wwjm2aAx'], media=None, retweetedTweet=None, quotedTweet=None, inReplyToTweetId=None, inReplyToUser=None, mentionedUsers=[User(username='YouTube', id=10228272, displayname='YouTube', description=None, rawDescription=None, descriptionUrls=None, verified=None, created=None, followersCount=None, friendsCount=None, statusesCount=None, favouritesCount=None, listedCount=None, mediaCount=None, location=None, protected=None, linkUrl=None, linkTcourl=None, profileImageUrl=None, profileBannerUrl=None, label=None)], coordinates=None, place=None, hashtags=None, cashtags=None),\n",
       " Tweet(url='https://twitter.com/ppppsh08/status/1421112861741355008', date=datetime.datetime(2021, 7, 30, 14, 18, 3, tzinfo=datetime.timezone.utc), content='골스튜디오 슬리퍼 주섬주섬 신은 것 봐 의리 대박이다', renderedContent='골스튜디오 슬리퍼 주섬주섬 신은 것 봐 의리 대박이다', id=1421112861741355008, user=User(username='ppppsh08', id=1409126964275814401, displayname='드록바', description='뭔 소리야 또 씨', rawDescription='뭔 소리야 또 씨', descriptionUrls=None, verified=False, created=datetime.datetime(2021, 6, 27, 12, 30, 31, tzinfo=datetime.timezone.utc), followersCount=296, friendsCount=43, statusesCount=5427, favouritesCount=2361, listedCount=4, mediaCount=711, location='', protected=False, linkUrl='https://peing.net/ko/ppppsh08', linkTcourl='https://t.co/5ZetpLEVjn', profileImageUrl='https://pbs.twimg.com/profile_images/1436639186208002050/Q2LBKdQJ_normal.jpg', profileBannerUrl=None, label=None), replyCount=0, retweetCount=0, likeCount=2, quoteCount=0, conversationId=1421112861741355008, lang='ko', source='<a href=\"http://twitter.com/download/iphone\" rel=\"nofollow\">Twitter for iPhone</a>', sourceUrl='http://twitter.com/download/iphone', sourceLabel='Twitter for iPhone', outlinks=None, tcooutlinks=None, media=None, retweetedTweet=None, quotedTweet=None, inReplyToTweetId=None, inReplyToUser=None, mentionedUsers=None, coordinates=None, place=None, hashtags=None, cashtags=None),\n",
       " Tweet(url='https://twitter.com/Rai10151130/status/1421112540461813762', date=datetime.datetime(2021, 7, 30, 14, 16, 47, tzinfo=datetime.timezone.utc), content='그래 아이랜드에서 맨날 골스튜디오 겨울옷 입어서 엄청 추운가보다 했었지.....진짜였다니', renderedContent='그래 아이랜드에서 맨날 골스튜디오 겨울옷 입어서 엄청 추운가보다 했었지.....진짜였다니', id=1421112540461813762, user=User(username='Rai10151130', id=1304733322501697536, displayname='Rai - 라이', description='엔하이픈 ENHYPEN / 7인 / 최애 LEE HEESEUNG 🌟\\n/ 아이랜드부터~평엔☺ / Korean / 성인 / #항상_잘하고있다_이희승 / (9월-10월초 slow)', rawDescription='엔하이픈 ENHYPEN / 7인 / 최애 LEE HEESEUNG 🌟\\n/ 아이랜드부터~평엔☺ / Korean / 성인 / #항상_잘하고있다_이희승 / (9월-10월초 slow)', descriptionUrls=None, verified=False, created=datetime.datetime(2020, 9, 12, 10, 47, 31, tzinfo=datetime.timezone.utc), followersCount=750, friendsCount=193, statusesCount=14202, favouritesCount=19121, listedCount=12, mediaCount=3043, location='', protected=False, linkUrl=None, linkTcourl=None, profileImageUrl='https://pbs.twimg.com/profile_images/1349233195120644099/tZ-Ct4S__normal.jpg', profileBannerUrl='https://pbs.twimg.com/profile_banners/1304733322501697536/1623235824', label=None), replyCount=0, retweetCount=0, likeCount=4, quoteCount=0, conversationId=1421112540461813762, lang='ko', source='<a href=\"https://mobile.twitter.com\" rel=\"nofollow\">Twitter Web App</a>', sourceUrl='https://mobile.twitter.com', sourceLabel='Twitter Web App', outlinks=None, tcooutlinks=None, media=None, retweetedTweet=None, quotedTweet=None, inReplyToTweetId=None, inReplyToUser=None, mentionedUsers=None, coordinates=None, place=None, hashtags=None, cashtags=None),\n",
       " Tweet(url='https://twitter.com/icekidneverdie/status/1421110108147175425', date=datetime.datetime(2021, 7, 30, 14, 7, 7, tzinfo=datetime.timezone.utc), content='박종성&lt;&lt;이남자골스튜디오슬리퍼아직도신네', renderedContent='박종성&lt;&lt;이남자골스튜디오슬리퍼아직도신네', id=1421110108147175425, user=User(username='icekidneverdie', id=1396536667226345472, displayname='💟', description='그만좀뭐라해요', rawDescription='그만좀뭐라해요', descriptionUrls=None, verified=False, created=datetime.datetime(2021, 5, 23, 18, 41, 14, tzinfo=datetime.timezone.utc), followersCount=67, friendsCount=11, statusesCount=368, favouritesCount=88, listedCount=4, mediaCount=159, location='', protected=False, linkUrl=None, linkTcourl=None, profileImageUrl='https://pbs.twimg.com/profile_images/1396891253770383360/WWOc57as_normal.jpg', profileBannerUrl='https://pbs.twimg.com/profile_banners/1396536667226345472/1621846576', label=None), replyCount=0, retweetCount=0, likeCount=0, quoteCount=1, conversationId=1421110108147175425, lang='ko', source='<a href=\"http://twitter.com/download/iphone\" rel=\"nofollow\">Twitter for iPhone</a>', sourceUrl='http://twitter.com/download/iphone', sourceLabel='Twitter for iPhone', outlinks=None, tcooutlinks=None, media=None, retweetedTweet=None, quotedTweet=None, inReplyToTweetId=None, inReplyToUser=None, mentionedUsers=None, coordinates=None, place=None, hashtags=None, cashtags=None),\n",
       " Tweet(url='https://twitter.com/enhshs1015/status/1421039800526589953', date=datetime.datetime(2021, 7, 30, 9, 27, 44, tzinfo=datetime.timezone.utc), content='타요 안무영상을 보게될줄이야ㅋㅋㅋㅋㅋㅋㅋㅋㅋㅋㅋㅋㅋㅋ\\n근데 희승이 골스튜디오 슬리퍼신고 춤 되게 잘춤ㅋㅋㅋㅋㅋㅋㅋㅋㅋ https://t.co/tPLndKtyvH', renderedContent='타요 안무영상을 보게될줄이야ㅋㅋㅋㅋㅋㅋㅋㅋㅋㅋㅋㅋㅋㅋ\\n근데 희승이 골스튜디오 슬리퍼신고 춤 되게 잘춤ㅋㅋㅋㅋㅋㅋㅋㅋㅋ https://t.co/tPLndKtyvH', id=1421039800526589953, user=User(username='enhshs1015', id=1147498054217375750, displayname='땅콩ෆ', description='ENHYPEN 희승 HEESEUNGෆ\\xa0\\xa0\\xa0\\xa0\\xa0\\xa0\\xa0\\xa0\\xa0\\xa0\\xa0\\xa0\\xa0\\xa0\\xa0\\xa0\\xa0\\xa0\\xa0\\xa0\\xa0\\xa0\\xa0\\xa0\\xa0\\xa0\\xa0\\xa0\\xa0\\xa0\\xa0\\xa0\\xa0\\xa0\\xa0\\n강아지풀 좋아하는 솜사탕 햄승', rawDescription='ENHYPEN 희승 HEESEUNGෆ\\xa0\\xa0\\xa0\\xa0\\xa0\\xa0\\xa0\\xa0\\xa0\\xa0\\xa0\\xa0\\xa0\\xa0\\xa0\\xa0\\xa0\\xa0\\xa0\\xa0\\xa0\\xa0\\xa0\\xa0\\xa0\\xa0\\xa0\\xa0\\xa0\\xa0\\xa0\\xa0\\xa0\\xa0\\xa0\\n강아지풀 좋아하는 솜사탕 햄승', descriptionUrls=None, verified=False, created=datetime.datetime(2019, 7, 6, 13, 30, 30, tzinfo=datetime.timezone.utc), followersCount=6537, friendsCount=115, statusesCount=9373, favouritesCount=19830, listedCount=397, mediaCount=4266, location='always together since 200626', protected=False, linkUrl=None, linkTcourl=None, profileImageUrl='https://pbs.twimg.com/profile_images/1420020195888926722/o83_cEE8_normal.jpg', profileBannerUrl='https://pbs.twimg.com/profile_banners/1147498054217375750/1621688388', label=None), replyCount=0, retweetCount=0, likeCount=13, quoteCount=0, conversationId=1421039800526589953, lang='ko', source='<a href=\"http://twitter.com/download/android\" rel=\"nofollow\">Twitter for Android</a>', sourceUrl='http://twitter.com/download/android', sourceLabel='Twitter for Android', outlinks=None, tcooutlinks=None, media=[Video(thumbnailUrl='https://pbs.twimg.com/ext_tw_video_thumb/1421039740132810758/pu/img/qZL_IcDQpAYo9mj8.jpg', variants=[VideoVariant(contentType='video/mp4', url='https://video.twimg.com/ext_tw_video/1421039740132810758/pu/vid/540x540/7ch8kB098q8Ip-0f.mp4?tag=12', bitrate=832000), VideoVariant(contentType='application/x-mpegURL', url='https://video.twimg.com/ext_tw_video/1421039740132810758/pu/pl/ipaGOm747ZjTi9TR.m3u8?tag=12&container=fmp4', bitrate=None), VideoVariant(contentType='video/mp4', url='https://video.twimg.com/ext_tw_video/1421039740132810758/pu/vid/720x720/qcTXb9DRSfA_6PVm.mp4?tag=12', bitrate=1280000), VideoVariant(contentType='video/mp4', url='https://video.twimg.com/ext_tw_video/1421039740132810758/pu/vid/320x320/LGvJMhJT8BZfi7SC.mp4?tag=12', bitrate=432000)], duration=24.8, views=592)], retweetedTweet=None, quotedTweet=None, inReplyToTweetId=None, inReplyToUser=None, mentionedUsers=None, coordinates=None, place=None, hashtags=None, cashtags=None),\n",
       " Tweet(url='https://twitter.com/liuliangdi/status/1420710052025946113', date=datetime.datetime(2021, 7, 29, 11, 37, 26, tzinfo=datetime.timezone.utc), content='글고보니 녹음 당일 제작진이 5개의 곡명을 준비했는데 쟌쟌이 직접 &lt;曲尽陈情 곡진진정&gt;을 골라서 이걸로 정해졌고(https://t.co/sLArI2ip2N), 녹음 스튜디오에서 스탭들이 가사를 건네자 이미 이 노래에 엄청 능숙해있어서 녹음은 아주 고효율로 한시간도 채 걸리지 않았다고 함! 😝 한결같음👏👏👏 https://t.co/2yKxDYXJkM', renderedContent='글고보니 녹음 당일 제작진이 5개의 곡명을 준비했는데 쟌쟌이 직접 &lt;曲尽陈情 곡진진정&gt;을 골라서 이걸로 정해졌고(twitter.com/liuliangdi/sta…), 녹음 스튜디오에서 스탭들이 가사를 건네자 이미 이 노래에 엄청 능숙해있어서 녹음은 아주 고효율로 한시간도 채 걸리지 않았다고 함! 😝 한결같음👏👏👏 https://t.co/2yKxDYXJkM', id=1420710052025946113, user=User(username='liuliangdi', id=4654585392, displayname='XueXue', description='知足常乐', rawDescription='知足常乐', descriptionUrls=None, verified=False, created=datetime.datetime(2015, 12, 26, 10, 21, 1, tzinfo=datetime.timezone.utc), followersCount=4040, friendsCount=26, statusesCount=50537, favouritesCount=2851, listedCount=43, mediaCount=23225, location='', protected=False, linkUrl=None, linkTcourl=None, profileImageUrl='https://pbs.twimg.com/profile_images/1434698521123307525/6UeyG2ra_normal.jpg', profileBannerUrl='https://pbs.twimg.com/profile_banners/4654585392/1628581793', label=None), replyCount=1, retweetCount=45, likeCount=112, quoteCount=1, conversationId=1420700528833548298, lang='ko', source='<a href=\"https://mobile.twitter.com\" rel=\"nofollow\">Twitter Web App</a>', sourceUrl='https://mobile.twitter.com', sourceLabel='Twitter Web App', outlinks=['https://twitter.com/liuliangdi/status/1275308184547229697?s=20'], tcooutlinks=['https://t.co/sLArI2ip2N'], media=[Photo(previewUrl='https://pbs.twimg.com/media/E7df8aoVoAQ8RMa?format=jpg&name=small', fullUrl='https://pbs.twimg.com/media/E7df8aoVoAQ8RMa?format=jpg&name=large'), Photo(previewUrl='https://pbs.twimg.com/media/E7df9b2VoAIhcyU?format=jpg&name=small', fullUrl='https://pbs.twimg.com/media/E7df9b2VoAIhcyU?format=jpg&name=large'), Photo(previewUrl='https://pbs.twimg.com/media/E7df_Y2VgAEKuK9?format=jpg&name=small', fullUrl='https://pbs.twimg.com/media/E7df_Y2VgAEKuK9?format=jpg&name=large'), Photo(previewUrl='https://pbs.twimg.com/media/E7dgO13VoAgfXHb?format=jpg&name=small', fullUrl='https://pbs.twimg.com/media/E7dgO13VoAgfXHb?format=jpg&name=large')], retweetedTweet=None, quotedTweet=Tweet(url='https://twitter.com/liuliangdi/status/1275308184547229697', date=datetime.datetime(2020, 6, 23, 6, 2, 19, tzinfo=datetime.timezone.utc), content='#pRT &lt;曲尽陈情 곡진진정&gt; 제목을 직접 쟌선이 골라서 결정됐단 사실은 처음으로 듣는 이야기! 하기야 더는 얽매이지 않고 풍류를 아는 호쾌호방한 선선이의 읊조림 같은 가사(더군다나 곡조 또한 그렇고)에 아주 잘 어울리는 제목이지 않을까👍', renderedContent='#pRT &lt;曲尽陈情 곡진진정&gt; 제목을 직접 쟌선이 골라서 결정됐단 사실은 처음으로 듣는 이야기! 하기야 더는 얽매이지 않고 풍류를 아는 호쾌호방한 선선이의 읊조림 같은 가사(더군다나 곡조 또한 그렇고)에 아주 잘 어울리는 제목이지 않을까👍', id=1275308184547229697, user=User(username='liuliangdi', id=4654585392, displayname='XueXue', description='知足常乐', rawDescription='知足常乐', descriptionUrls=None, verified=False, created=datetime.datetime(2015, 12, 26, 10, 21, 1, tzinfo=datetime.timezone.utc), followersCount=4040, friendsCount=26, statusesCount=50537, favouritesCount=2851, listedCount=43, mediaCount=23225, location='', protected=False, linkUrl=None, linkTcourl=None, profileImageUrl='https://pbs.twimg.com/profile_images/1434698521123307525/6UeyG2ra_normal.jpg', profileBannerUrl='https://pbs.twimg.com/profile_banners/4654585392/1628581793', label=None), replyCount=0, retweetCount=28, likeCount=61, quoteCount=2, conversationId=1275308184547229697, lang='ko', source='<a href=\"http://twitter.com/download/android\" rel=\"nofollow\">Twitter for Android</a>', sourceUrl='http://twitter.com/download/android', sourceLabel='Twitter for Android', outlinks=None, tcooutlinks=None, media=None, retweetedTweet=None, quotedTweet=None, inReplyToTweetId=None, inReplyToUser=None, mentionedUsers=None, coordinates=None, place=None, hashtags=['pRT'], cashtags=None), inReplyToTweetId=1420700528833548298, inReplyToUser=User(username='liuliangdi', id=4654585392, displayname='XueXue', description='知足常乐', rawDescription='知足常乐', descriptionUrls=None, verified=False, created=datetime.datetime(2015, 12, 26, 10, 21, 1, tzinfo=datetime.timezone.utc), followersCount=4040, friendsCount=26, statusesCount=50537, favouritesCount=2851, listedCount=43, mediaCount=23225, location='', protected=False, linkUrl=None, linkTcourl=None, profileImageUrl='https://pbs.twimg.com/profile_images/1434698521123307525/6UeyG2ra_normal.jpg', profileBannerUrl='https://pbs.twimg.com/profile_banners/4654585392/1628581793', label=None), mentionedUsers=None, coordinates=None, place=None, hashtags=None, cashtags=None),\n",
       " Tweet(url='https://twitter.com/cutygirl6/status/1419918764896776194', date=datetime.datetime(2021, 7, 27, 7, 13, 9, tzinfo=datetime.timezone.utc), content='[골스튜디오] 발 피로회복 프로젝트, 골스튜디오 그래비티 밸런스 슬리퍼 체험단 10명 모집! &gt; 맘스클럽 https://t.co/rPVDudseR7', renderedContent='[골스튜디오] 발 피로회복 프로젝트, 골스튜디오 그래비티 밸런스 슬리퍼 체험단 10명 모집! &gt; 맘스클럽 moms-club.co.kr/views/event/ev…', id=1419918764896776194, user=User(username='cutygirl6', id=245653795, displayname='이지민', description='난 쿠키만드는 여자 !!!', rawDescription='난 쿠키만드는 여자 !!!', descriptionUrls=None, verified=False, created=datetime.datetime(2011, 2, 1, 5, 3, 50, tzinfo=datetime.timezone.utc), followersCount=23, friendsCount=32, statusesCount=1047, favouritesCount=4, listedCount=0, mediaCount=117, location='대구', protected=False, linkUrl=None, linkTcourl=None, profileImageUrl='https://pbs.twimg.com/profile_images/1231446520/Photo914_normal.jpg', profileBannerUrl=None, label=None), replyCount=0, retweetCount=0, likeCount=0, quoteCount=0, conversationId=1419918764896776194, lang='ko', source='<a href=\"https://mobile.twitter.com\" rel=\"nofollow\">Twitter Web App</a>', sourceUrl='https://mobile.twitter.com', sourceLabel='Twitter Web App', outlinks=['https://moms-club.co.kr/views/event/event_ongoing_view.php?pCd=2&mCd=200&Uid=8704&type=&current=1&max=5&size=8&keyword='], tcooutlinks=['https://t.co/rPVDudseR7'], media=None, retweetedTweet=None, quotedTweet=None, inReplyToTweetId=None, inReplyToUser=None, mentionedUsers=None, coordinates=None, place=None, hashtags=None, cashtags=None),\n",
       " Tweet(url='https://twitter.com/sk8_begom/status/1418158152994803712', date=datetime.datetime(2021, 7, 22, 10, 37, 6, tzinfo=datetime.timezone.utc), content='오르골버전 인피니티 만들고 싶어서 음 따고 있는데 템포가 넘 빨라서 첨부터 다시 조절해야 되나 싶기도 하고 습~~&lt;0&gt; 스튜디오원 해보신 분~~~ㅠ.ㅠ https://t.co/ZREfhnQkUF', renderedContent='오르골버전 인피니티 만들고 싶어서 음 따고 있는데 템포가 넘 빨라서 첨부터 다시 조절해야 되나 싶기도 하고 습~~&lt;0&gt; 스튜디오원 해보신 분~~~ㅠ.ㅠ https://t.co/ZREfhnQkUF', id=1418158152994803712, user=User(username='sk8_begom', id=1257716739736924160, displayname='BEGOM༼;´༎ຶ \\u06dd༎ຶ`༽ ❄🌺', description='❄🌺 / Reki Love / 구독알티🔥🔥 / 당신의 에스케이덕질을 사랑합니다😭 / 일상사담계 @today_begom / 플사 ven @REKI_L2S😭 / 헤더 리터님S2S2', rawDescription='❄🌺 / Reki Love / 구독알티🔥🔥 / 당신의 에스케이덕질을 사랑합니다😭 / 일상사담계 @today_begom / 플사 ven @REKI_L2S😭 / 헤더 리터님S2S2', descriptionUrls=None, verified=False, created=datetime.datetime(2020, 5, 5, 17, 0, 18, tzinfo=datetime.timezone.utc), followersCount=990, friendsCount=150, statusesCount=10981, favouritesCount=10145, listedCount=11, mediaCount=106, location='', protected=False, linkUrl=None, linkTcourl=None, profileImageUrl='https://pbs.twimg.com/profile_images/1419426490110775298/uQt1eMZs_normal.jpg', profileBannerUrl='https://pbs.twimg.com/profile_banners/1257716739736924160/1627260221', label=None), replyCount=8, retweetCount=15, likeCount=43, quoteCount=1, conversationId=1418158152994803712, lang='ko', source='<a href=\"https://mobile.twitter.com\" rel=\"nofollow\">Twitter Web App</a>', sourceUrl='https://mobile.twitter.com', sourceLabel='Twitter Web App', outlinks=None, tcooutlinks=None, media=[Video(thumbnailUrl='https://pbs.twimg.com/ext_tw_video_thumb/1418158016390602753/pu/img/TcoHoUNTY0v_he_r.jpg', variants=[VideoVariant(contentType='application/x-mpegURL', url='https://video.twimg.com/ext_tw_video/1418158016390602753/pu/pl/nS__CSkQ7dMM8cQ1.m3u8?tag=12&container=fmp4', bitrate=None), VideoVariant(contentType='video/mp4', url='https://video.twimg.com/ext_tw_video/1418158016390602753/pu/vid/480x270/TPX_rg7U5hsL3BuI.mp4?tag=12', bitrate=256000), VideoVariant(contentType='video/mp4', url='https://video.twimg.com/ext_tw_video/1418158016390602753/pu/vid/1280x720/LojWls-rZe0aVMbn.mp4?tag=12', bitrate=2176000), VideoVariant(contentType='video/mp4', url='https://video.twimg.com/ext_tw_video/1418158016390602753/pu/vid/640x360/EP2TjpWbh1VodFhD.mp4?tag=12', bitrate=832000)], duration=20.458, views=840)], retweetedTweet=None, quotedTweet=None, inReplyToTweetId=None, inReplyToUser=None, mentionedUsers=None, coordinates=None, place=None, hashtags=None, cashtags=None),\n",
       " Tweet(url='https://twitter.com/Rai10151130/status/1417519073781436419', date=datetime.datetime(2021, 7, 20, 16, 17, 38, tzinfo=datetime.timezone.utc), content='EN 골스튜디오 슬리퍼는 대체 언제 오려는걸까...? 분명 7월 12일부터 판매 시작이었는데 왜 출발도 안하는데..😐', renderedContent='EN 골스튜디오 슬리퍼는 대체 언제 오려는걸까...? 분명 7월 12일부터 판매 시작이었는데 왜 출발도 안하는데..😐', id=1417519073781436419, user=User(username='Rai10151130', id=1304733322501697536, displayname='Rai - 라이', description='엔하이픈 ENHYPEN / 7인 / 최애 LEE HEESEUNG 🌟\\n/ 아이랜드부터~평엔☺ / Korean / 성인 / #항상_잘하고있다_이희승 / (9월-10월초 slow)', rawDescription='엔하이픈 ENHYPEN / 7인 / 최애 LEE HEESEUNG 🌟\\n/ 아이랜드부터~평엔☺ / Korean / 성인 / #항상_잘하고있다_이희승 / (9월-10월초 slow)', descriptionUrls=None, verified=False, created=datetime.datetime(2020, 9, 12, 10, 47, 31, tzinfo=datetime.timezone.utc), followersCount=750, friendsCount=193, statusesCount=14202, favouritesCount=19121, listedCount=12, mediaCount=3043, location='', protected=False, linkUrl=None, linkTcourl=None, profileImageUrl='https://pbs.twimg.com/profile_images/1349233195120644099/tZ-Ct4S__normal.jpg', profileBannerUrl='https://pbs.twimg.com/profile_banners/1304733322501697536/1623235824', label=None), replyCount=2, retweetCount=0, likeCount=5, quoteCount=0, conversationId=1417519073781436419, lang='ko', source='<a href=\"https://mobile.twitter.com\" rel=\"nofollow\">Twitter Web App</a>', sourceUrl='https://mobile.twitter.com', sourceLabel='Twitter Web App', outlinks=None, tcooutlinks=None, media=None, retweetedTweet=None, quotedTweet=None, inReplyToTweetId=None, inReplyToUser=None, mentionedUsers=None, coordinates=None, place=None, hashtags=None, cashtags=None),\n",
       " Tweet(url='https://twitter.com/blues114/status/1417479385741942784', date=datetime.datetime(2021, 7, 20, 13, 39, 55, tzinfo=datetime.timezone.utc), content='피파21 스트리트 축구 게임 모드 볼타 골스튜디오 스페셜 컬렉션 추가 https://t.co/yiDZVfxGjr', renderedContent='피파21 스트리트 축구 게임 모드 볼타 골스튜디오 스페셜 컬렉션 추가 fdn7500.tistory.com/1918', id=1417479385741942784, user=User(username='blues114', id=192767660, displayname='포커스데일리뉴스', description='경제산업부,새로운시선,바른언론', rawDescription='경제산업부,새로운시선,바른언론', descriptionUrls=None, verified=False, created=datetime.datetime(2010, 9, 20, 2, 47, 2, tzinfo=datetime.timezone.utc), followersCount=860, friendsCount=2579, statusesCount=9922, favouritesCount=816, listedCount=0, mediaCount=296, location='대한민국 서울', protected=False, linkUrl='http://www.ulsanfocus.com/', linkTcourl='https://t.co/j1zWAsB4Fn', profileImageUrl='https://pbs.twimg.com/profile_images/1048956194629382145/d85meGKS_normal.jpg', profileBannerUrl='https://pbs.twimg.com/profile_banners/192767660/1553345106', label=None), replyCount=0, retweetCount=0, likeCount=0, quoteCount=0, conversationId=1417479385741942784, lang='ko', source='<a href=\"http://notice.tistory.com/1357\" rel=\"nofollow\">Tistory2Twitter</a>', sourceUrl='http://notice.tistory.com/1357', sourceLabel='Tistory2Twitter', outlinks=['https://fdn7500.tistory.com/1918'], tcooutlinks=['https://t.co/yiDZVfxGjr'], media=None, retweetedTweet=None, quotedTweet=None, inReplyToTweetId=None, inReplyToUser=None, mentionedUsers=None, coordinates=None, place=None, hashtags=None, cashtags=None),\n",
       " Tweet(url='https://twitter.com/dmakernews/status/1417452461929897986', date=datetime.datetime(2021, 7, 20, 11, 52, 56, tzinfo=datetime.timezone.utc), content='골스튜디오, 피파21 스트리트 축구 게임 모드 볼타에 골스튜디오 스페셜 컬렉션 추가\\nhttps://t.co/ZKh4HSF8vG', renderedContent='골스튜디오, 피파21 스트리트 축구 게임 모드 볼타에 골스튜디오 스페셜 컬렉션 추가\\nd-maker.kr/news/articleVi…', id=1417452461929897986, user=User(username='dmakernews', id=971172564222410752, displayname='데일리메이커', description='메이커(Maker)를 위한 인터넷 신문', rawDescription='메이커(Maker)를 위한 인터넷 신문', descriptionUrls=None, verified=False, created=datetime.datetime(2018, 3, 6, 23, 55, 57, tzinfo=datetime.timezone.utc), followersCount=30, friendsCount=90, statusesCount=17109, favouritesCount=78, listedCount=0, mediaCount=32, location='대한민국 용산구', protected=False, linkUrl='http://www.d-maker.kr', linkTcourl='https://t.co/uF93V68MK6', profileImageUrl='https://pbs.twimg.com/profile_images/971174145365966848/BgedBIgN_normal.jpg', profileBannerUrl='https://pbs.twimg.com/profile_banners/971172564222410752/1579336823', label=None), replyCount=0, retweetCount=0, likeCount=0, quoteCount=0, conversationId=1417452461929897986, lang='ko', source='<a href=\"https://mobile.twitter.com\" rel=\"nofollow\">Twitter Web App</a>', sourceUrl='https://mobile.twitter.com', sourceLabel='Twitter Web App', outlinks=['http://www.d-maker.kr/news/articleView.html?idxno=41005'], tcooutlinks=['https://t.co/ZKh4HSF8vG'], media=None, retweetedTweet=None, quotedTweet=None, inReplyToTweetId=None, inReplyToUser=None, mentionedUsers=None, coordinates=None, place=None, hashtags=None, cashtags=None),\n",
       " Tweet(url='https://twitter.com/koreanewswire/status/1417364426051637251', date=datetime.datetime(2021, 7, 20, 6, 3, 7, tzinfo=datetime.timezone.utc), content='골스튜디오, 피파21 스트리트 축구 게임 모드 볼타에 골스튜디오 스페셜 컬렉션 추가 https://t.co/YHpFhj059z', renderedContent='골스튜디오, 피파21 스트리트 축구 게임 모드 볼타에 골스튜디오 스페셜 컬렉션 추가 newswire.co.kr/newsRead.php?n…', id=1417364426051637251, user=User(username='koreanewswire', id=39690395, displayname='뉴스와이어', description='기업이 뉴스와이어를 통해 발표한 전분야 보도자료 트윗입니다. 뉴스와이어는 기업이 발표한 보도자료를 국내외 언론, 포털에 전송하는 NO.1 보도자료 통신사입니다. 📞문의 02-737-3600 help@newswire.co.kr  \\nnewswire.co.kr', rawDescription='기업이 뉴스와이어를 통해 발표한 전분야 보도자료 트윗입니다. 뉴스와이어는 기업이 발표한 보도자료를 국내외 언론, 포털에 전송하는 NO.1 보도자료 통신사입니다. 📞문의 02-737-3600 help@newswire.co.kr  \\nhttps://t.co/hoFZSRmNgz', descriptionUrls=[{'text': 'newswire.co.kr', 'url': 'http://www.newswire.co.kr/', 'tcourl': 'https://t.co/hoFZSRmNgz', 'indices': (128, 151)}], verified=False, created=datetime.datetime(2009, 5, 13, 4, 48, 11, tzinfo=datetime.timezone.utc), followersCount=5674, friendsCount=5016, statusesCount=388473, favouritesCount=3, listedCount=504, mediaCount=0, location='Seoul, Korea.', protected=False, linkUrl='http://www.newswire.co.kr', linkTcourl='http://t.co/dX2UoRqfZi', profileImageUrl='https://pbs.twimg.com/profile_images/911016815630757888/c2nPYR22_normal.jpg', profileBannerUrl='https://pbs.twimg.com/profile_banners/39690395/1506038543', label=None), replyCount=0, retweetCount=0, likeCount=0, quoteCount=0, conversationId=1417364426051637251, lang='ko', source='<a href=\"http://www.newswire.co.kr\" rel=\"nofollow\">Korea NewsWire</a>', sourceUrl='http://www.newswire.co.kr', sourceLabel='Korea NewsWire', outlinks=['https://www.newswire.co.kr/newsRead.php?no=927322'], tcooutlinks=['https://t.co/YHpFhj059z'], media=None, retweetedTweet=None, quotedTweet=None, inReplyToTweetId=None, inReplyToUser=None, mentionedUsers=None, coordinates=None, place=None, hashtags=None, cashtags=None),\n",
       " Tweet(url='https://twitter.com/kei3kun/status/1417041850410541061', date=datetime.datetime(2021, 7, 19, 8, 41, 19, tzinfo=datetime.timezone.utc), content='@221_greatDK 그나저나 골스튜디오는 진짜 그 골닷컴이 만든건지...볼때마다 신기하네요 축구사이트가 의류업체를 만든게', renderedContent='@221_greatDK 그나저나 골스튜디오는 진짜 그 골닷컴이 만든건지...볼때마다 신기하네요 축구사이트가 의류업체를 만든게', id=1417041850410541061, user=User(username='kei3kun', id=125942659, displayname='공놀이에 고통받는 SAM (ᵔᗜᵔ*)', description='여러분들이 알고 있는 그 삼군 맞습니다\\n#Lovelyz #bluewings #lgtwins\\n\\n코로나 사라져서 내가 좋아하는 공놀이 소리높여 응원하며 맘껏 직관할수 있길\\n\\n근데 그전에 이 거지같은 공놀이 땜시 내가 고통받아 죽을지도', rawDescription='여러분들이 알고 있는 그 삼군 맞습니다\\n#Lovelyz #bluewings #lgtwins\\n\\n코로나 사라져서 내가 좋아하는 공놀이 소리높여 응원하며 맘껏 직관할수 있길\\n\\n근데 그전에 이 거지같은 공놀이 땜시 내가 고통받아 죽을지도', descriptionUrls=None, verified=False, created=datetime.datetime(2010, 3, 24, 10, 24, 7, tzinfo=datetime.timezone.utc), followersCount=2314, friendsCount=521, statusesCount=323508, favouritesCount=488, listedCount=50, mediaCount=9521, location='', protected=False, linkUrl=None, linkTcourl=None, profileImageUrl='https://pbs.twimg.com/profile_images/1429586636958887937/qqhXxMqz_normal.jpg', profileBannerUrl=None, label=None), replyCount=1, retweetCount=0, likeCount=0, quoteCount=0, conversationId=1416978460581396481, lang='ko', source='<a href=\"http://twitter.com/download/android\" rel=\"nofollow\">Twitter for Android</a>', sourceUrl='http://twitter.com/download/android', sourceLabel='Twitter for Android', outlinks=None, tcooutlinks=None, media=None, retweetedTweet=None, quotedTweet=None, inReplyToTweetId=1417023013237641216, inReplyToUser=User(username='221_yagunojam', id=1116604030879330304, displayname=None, description=None, rawDescription=None, descriptionUrls=None, verified=None, created=None, followersCount=None, friendsCount=None, statusesCount=None, favouritesCount=None, listedCount=None, mediaCount=None, location=None, protected=None, linkUrl=None, linkTcourl=None, profileImageUrl=None, profileBannerUrl=None, label=None), mentionedUsers=None, coordinates=None, place=None, hashtags=None, cashtags=None),\n",
       " Tweet(url='https://twitter.com/long4you/status/1417035077737799680', date=datetime.datetime(2021, 7, 19, 8, 14, 24, tzinfo=datetime.timezone.utc), content='추 ㅅ ㅣㄴ수 슬리퍼라니까 뭔가 싫은 느낌... 이지만 골 스튜디오 슬리퍼 좋을까 인스타 쇼핑 하지 말까?', renderedContent='추 ㅅ ㅣㄴ수 슬리퍼라니까 뭔가 싫은 느낌... 이지만 골 스튜디오 슬리퍼 좋을까 인스타 쇼핑 하지 말까?', id=1417035077737799680, user=User(username='long4you', id=66286439, displayname='플롯시는 오늘도 따분해', description='아마 내일도 따분할 듯.', rawDescription='아마 내일도 따분할 듯.', descriptionUrls=None, verified=False, created=datetime.datetime(2009, 8, 17, 5, 30, 47, tzinfo=datetime.timezone.utc), followersCount=510, friendsCount=114, statusesCount=75966, favouritesCount=118, listedCount=11, mediaCount=1044, location='S.Korea', protected=False, linkUrl=None, linkTcourl=None, profileImageUrl='https://pbs.twimg.com/profile_images/1907303636/tmp_image_file_profile_normal.jpg', profileBannerUrl=None, label=None), replyCount=0, retweetCount=0, likeCount=0, quoteCount=0, conversationId=1417035077737799680, lang='ko', source='<a href=\"https://mobile.twitter.com\" rel=\"nofollow\">Twitter Web App</a>', sourceUrl='https://mobile.twitter.com', sourceLabel='Twitter Web App', outlinks=None, tcooutlinks=None, media=None, retweetedTweet=None, quotedTweet=None, inReplyToTweetId=None, inReplyToUser=None, mentionedUsers=None, coordinates=None, place=None, hashtags=None, cashtags=None),\n",
       " Tweet(url='https://twitter.com/jeje_1224/status/1415293548845408258', date=datetime.datetime(2021, 7, 14, 12, 54, 11, tzinfo=datetime.timezone.utc), content='@kimhanzi 헐... 한지님을 골스튜디오 명예 회장으로 임명', renderedContent='@kimhanzi 헐... 한지님을 골스튜디오 명예 회장으로 임명', id=1415293548845408258, user=User(username='jeje_1224', id=1145326647098261504, displayname='JeJe', description='', rawDescription='', descriptionUrls=None, verified=False, created=datetime.datetime(2019, 6, 30, 13, 42, 6, tzinfo=datetime.timezone.utc), followersCount=442, friendsCount=103, statusesCount=16391, favouritesCount=19646, listedCount=2, mediaCount=2176, location='리헨즈 아카이브🐱', protected=False, linkUrl='http://bit.ly/3aI54U5', linkTcourl='https://t.co/Rl5BeTZhI0', profileImageUrl='https://pbs.twimg.com/profile_images/1406529125221736449/C9QlvBta_normal.jpg', profileBannerUrl='https://pbs.twimg.com/profile_banners/1145326647098261504/1627704867', label=None), replyCount=1, retweetCount=0, likeCount=1, quoteCount=0, conversationId=1415291903906512901, lang='ko', source='<a href=\"http://twitter.com/download/iphone\" rel=\"nofollow\">Twitter for iPhone</a>', sourceUrl='http://twitter.com/download/iphone', sourceLabel='Twitter for iPhone', outlinks=None, tcooutlinks=None, media=None, retweetedTweet=None, quotedTweet=None, inReplyToTweetId=1415291903906512901, inReplyToUser=User(username='kimhanzi', id=1399722358206877707, displayname='한지', description=None, rawDescription=None, descriptionUrls=None, verified=None, created=None, followersCount=None, friendsCount=None, statusesCount=None, favouritesCount=None, listedCount=None, mediaCount=None, location=None, protected=None, linkUrl=None, linkTcourl=None, profileImageUrl=None, profileBannerUrl=None, label=None), mentionedUsers=[User(username='kimhanzi', id=1399722358206877707, displayname='한지', description=None, rawDescription=None, descriptionUrls=None, verified=None, created=None, followersCount=None, friendsCount=None, statusesCount=None, favouritesCount=None, listedCount=None, mediaCount=None, location=None, protected=None, linkUrl=None, linkTcourl=None, profileImageUrl=None, profileBannerUrl=None, label=None)], coordinates=None, place=None, hashtags=None, cashtags=None),\n",
       " Tweet(url='https://twitter.com/kimhanzi/status/1415291903906512901', date=datetime.datetime(2021, 7, 14, 12, 47, 39, tzinfo=datetime.timezone.utc), content='우리도 막 이렇게 집업같은거 내줬음 좋겠다,,,, 골스튜디오 예쁜거 많은데 \\U0001f972 (합성임 https://t.co/wY2Oc6AIhb', renderedContent='우리도 막 이렇게 집업같은거 내줬음 좋겠다,,,, 골스튜디오 예쁜거 많은데 \\U0001f972 (합성임 https://t.co/wY2Oc6AIhb', id=1415291903906512901, user=User(username='kimhanzi', id=1399722358206877707, displayname='한지', description='#GoFreecs #AFWIN 20-21', rawDescription='#GoFreecs #AFWIN 20-21', descriptionUrls=None, verified=False, created=datetime.datetime(2021, 6, 1, 13, 39, 58, tzinfo=datetime.timezone.utc), followersCount=16, friendsCount=23, statusesCount=679, favouritesCount=383, listedCount=0, mediaCount=54, location='대충 롤 즐겜하고 아프리카 프릭스 좋아하는 사람', protected=False, linkUrl=None, linkTcourl=None, profileImageUrl='https://pbs.twimg.com/profile_images/1399723891585658880/rNCOEdSS_normal.jpg', profileBannerUrl='https://pbs.twimg.com/profile_banners/1399722358206877707/1623813297', label=None), replyCount=2, retweetCount=6, likeCount=8, quoteCount=2, conversationId=1415291903906512901, lang='ko', source='<a href=\"https://mobile.twitter.com\" rel=\"nofollow\">Twitter Web App</a>', sourceUrl='https://mobile.twitter.com', sourceLabel='Twitter Web App', outlinks=None, tcooutlinks=None, media=[Photo(previewUrl='https://pbs.twimg.com/media/E6QgXnQVkAoOqcW?format=jpg&name=small', fullUrl='https://pbs.twimg.com/media/E6QgXnQVkAoOqcW?format=jpg&name=large'), Photo(previewUrl='https://pbs.twimg.com/media/E6QgXnKVgAcB6a4?format=jpg&name=small', fullUrl='https://pbs.twimg.com/media/E6QgXnKVgAcB6a4?format=jpg&name=large')], retweetedTweet=None, quotedTweet=None, inReplyToTweetId=None, inReplyToUser=None, mentionedUsers=None, coordinates=None, place=None, hashtags=None, cashtags=None),\n",
       " Tweet(url='https://twitter.com/insight_co_kr/status/1414494744198012932', date=datetime.datetime(2021, 7, 12, 8, 0, 1, tzinfo=datetime.timezone.utc), content=\"운동 매니아 이시영이 '찐뷰티템'이라 강력 추천한 아이템\\n\\n#이시영 #골스튜디오 #Goalstudio #골스튜디오슬리퍼 #그래비티밸런스 #이시영슬리퍼 #발편한슬리퍼 #추신수슬리퍼 #슬리퍼 #셀럽뷰티\\n\\nhttps://t.co/SHIh5kWWpX\", renderedContent=\"운동 매니아 이시영이 '찐뷰티템'이라 강력 추천한 아이템\\n\\n#이시영 #골스튜디오 #Goalstudio #골스튜디오슬리퍼 #그래비티밸런스 #이시영슬리퍼 #발편한슬리퍼 #추신수슬리퍼 #슬리퍼 #셀럽뷰티\\n\\ninsight.co.kr/news/347400\", id=1414494744198012932, user=User(username='insight_co_kr', id=1711736172, displayname='인사이트', description='온라인 뉴스 미디어 인사이트 facebook.com/insight.co.kr', rawDescription='온라인 뉴스 미디어 인사이트 http://t.co/L7veRKbgiN', descriptionUrls=[{'text': 'facebook.com/insight.co.kr', 'url': 'http://www.facebook.com/insight.co.kr', 'tcourl': 'http://t.co/L7veRKbgiN', 'indices': (16, 38)}], verified=True, created=datetime.datetime(2013, 8, 30, 4, 26, 28, tzinfo=datetime.timezone.utc), followersCount=157612, friendsCount=233, statusesCount=160481, favouritesCount=6, listedCount=436, mediaCount=24442, location='Seoul', protected=False, linkUrl='http://www.insight.co.kr', linkTcourl='http://t.co/JI6dRUf1S2', profileImageUrl='https://pbs.twimg.com/profile_images/589948975425277952/W5wd3nie_normal.png', profileBannerUrl='https://pbs.twimg.com/profile_banners/1711736172/1510559384', label=None), replyCount=0, retweetCount=2, likeCount=4, quoteCount=0, conversationId=1414494744198012932, lang='ko', source='<a href=\"https://mobile.twitter.com\" rel=\"nofollow\">Twitter Web App</a>', sourceUrl='https://mobile.twitter.com', sourceLabel='Twitter Web App', outlinks=['https://www.insight.co.kr/news/347400'], tcooutlinks=['https://t.co/SHIh5kWWpX'], media=None, retweetedTweet=None, quotedTweet=None, inReplyToTweetId=None, inReplyToUser=None, mentionedUsers=None, coordinates=None, place=None, hashtags=['이시영', '골스튜디오', 'Goalstudio', '골스튜디오슬리퍼', '그래비티밸런스', '이시영슬리퍼', '발편한슬리퍼', '추신수슬리퍼', '슬리퍼', '셀럽뷰티'], cashtags=None),\n",
       " Tweet(url='https://twitter.com/Freecs_LoL/status/1413395146796720133', date=datetime.datetime(2021, 7, 9, 7, 10, 37, tzinfo=datetime.timezone.utc), content='오늘 롤파크 현장에서도 SNS를 팔로우해주신 팬분들께 New 슬로건, 치어풀, 그리고 선착순 20분에게는 골스튜디오&amp;프릭스 마스크 + 스티커팩을 드릴 예정이오니 많은 참여 부탁 드립니다! (19시 ~ 20시)\\n\\n* 응원 물품 수령 시, 금일 AF 경기 티켓 실물 인증 절차가 진행되오니 참고 부탁 드립니다. https://t.co/pEn42R93Pd', renderedContent='오늘 롤파크 현장에서도 SNS를 팔로우해주신 팬분들께 New 슬로건, 치어풀, 그리고 선착순 20분에게는 골스튜디오&amp;프릭스 마스크 + 스티커팩을 드릴 예정이오니 많은 참여 부탁 드립니다! (19시 ~ 20시)\\n\\n* 응원 물품 수령 시, 금일 AF 경기 티켓 실물 인증 절차가 진행되오니 참고 부탁 드립니다. https://t.co/pEn42R93Pd', id=1413395146796720133, user=User(username='Freecs_LoL', id=4847618379, displayname='Afreeca Freecs LoL', description='아프리카 프릭스 LoL팀의 공식 트위터 계정입니다. Official Twitter for Afreeca Freecs LoL Team.', rawDescription='아프리카 프릭스 LoL팀의 공식 트위터 계정입니다. Official Twitter for Afreeca Freecs LoL Team.', descriptionUrls=None, verified=True, created=datetime.datetime(2016, 1, 26, 1, 37, 17, tzinfo=datetime.timezone.utc), followersCount=28984, friendsCount=40, statusesCount=4960, favouritesCount=1986, listedCount=206, mediaCount=3048, location='Seoul', protected=False, linkUrl='http://www.facebook.com/afreecafreecs', linkTcourl='https://t.co/6SCwdZEZG8', profileImageUrl='https://pbs.twimg.com/profile_images/1336833869631246337/pK7ILMak_normal.jpg', profileBannerUrl='https://pbs.twimg.com/profile_banners/4847618379/1614233230', label=None), replyCount=1, retweetCount=11, likeCount=14, quoteCount=5, conversationId=1413395146796720133, lang='ko', source='<a href=\"http://twitter.com/download/iphone\" rel=\"nofollow\">Twitter for iPhone</a>', sourceUrl='http://twitter.com/download/iphone', sourceLabel='Twitter for iPhone', outlinks=None, tcooutlinks=None, media=[Photo(previewUrl='https://pbs.twimg.com/media/E51jY0pVEAEo2ED?format=jpg&name=small', fullUrl='https://pbs.twimg.com/media/E51jY0pVEAEo2ED?format=jpg&name=large')], retweetedTweet=None, quotedTweet=None, inReplyToTweetId=None, inReplyToUser=None, mentionedUsers=None, coordinates=None, place=None, hashtags=None, cashtags=None),\n",
       " Tweet(url='https://twitter.com/Periodistasc2/status/1412999320970747909', date=datetime.datetime(2021, 7, 8, 4, 57, 45, tzinfo=datetime.timezone.utc), content='어제 #LCK 굿즈 첫 인상 리뷰에서 몇 가지 내용을 추가했습니다. 브랜드가 정말 쟁쟁하더군요.\\n\\n- 슬리퍼 (골스튜디오) : 추신수 선수가 사용해서 유명한 그래비티 밸런스\\n- 컵 &amp; 텀블러 (미르) : 블루 보틀에서 사용하는 친환경 텀블러 브랜드. 판매 수익의 3%를 기부한다는게 특징.', renderedContent='어제 #LCK 굿즈 첫 인상 리뷰에서 몇 가지 내용을 추가했습니다. 브랜드가 정말 쟁쟁하더군요.\\n\\n- 슬리퍼 (골스튜디오) : 추신수 선수가 사용해서 유명한 그래비티 밸런스\\n- 컵 &amp; 텀블러 (미르) : 블루 보틀에서 사용하는 친환경 텀블러 브랜드. 판매 수익의 3%를 기부한다는게 특징.', id=1412999320970747909, user=User(username='Periodistasc2', id=595560618, displayname='무관의제왕 - Periodista vs. Variants', description='LFW, A Time Walker e-sports personal editor l NAVER INFLUENCER l NAVER GAME MATE. * Business Contact : stpaul1988@naver.com', rawDescription='LFW, A Time Walker e-sports personal editor l NAVER INFLUENCER l NAVER GAME MATE. * Business Contact : stpaul1988@naver.com', descriptionUrls=None, verified=False, created=datetime.datetime(2012, 5, 31, 13, 18, 55, tzinfo=datetime.timezone.utc), followersCount=191, friendsCount=280, statusesCount=10198, favouritesCount=7470, listedCount=3, mediaCount=2675, location='Cheonan, Republic of Korea', protected=False, linkUrl='https://in.naver.com/periodista', linkTcourl='https://t.co/0Ab9QOvEpN', profileImageUrl='https://pbs.twimg.com/profile_images/1322131455439368192/DqtiAvaj_normal.jpg', profileBannerUrl='https://pbs.twimg.com/profile_banners/595560618/1528562759', label=None), replyCount=0, retweetCount=0, likeCount=0, quoteCount=0, conversationId=1412999320970747909, lang='ko', source='<a href=\"https://mobile.twitter.com\" rel=\"nofollow\">Twitter Web App</a>', sourceUrl='https://mobile.twitter.com', sourceLabel='Twitter Web App', outlinks=None, tcooutlinks=None, media=None, retweetedTweet=None, quotedTweet=None, inReplyToTweetId=None, inReplyToUser=None, mentionedUsers=None, coordinates=None, place=None, hashtags=['LCK'], cashtags=None),\n",
       " Tweet(url='https://twitter.com/ENHYPEN_0624/status/1412618469003038720', date=datetime.datetime(2021, 7, 7, 3, 44, 22, tzinfo=datetime.timezone.utc), content='@021208S2 최근만 해도 일본 굿즈도 있고... 골스튜디오에... 디비디에.. 유니폼에.. 피버포카앨범에... 먼 드데굿즈에.. 👎', renderedContent='@021208S2 최근만 해도 일본 굿즈도 있고... 골스튜디오에... 디비디에.. 유니폼에.. 피버포카앨범에... 먼 드데굿즈에.. 👎', id=1412618469003038720, user=User(username='ENHYPEN_0624', id=1268817391489675264, displayname='랑', description='정말 소중한 #선우 ๑ᴖ◡ᴖ๑ 💕', rawDescription='정말 소중한 #선우 ๑ᴖ◡ᴖ๑ 💕', descriptionUrls=None, verified=False, created=datetime.datetime(2020, 6, 5, 8, 10, 27, tzinfo=datetime.timezone.utc), followersCount=25728, friendsCount=27, statusesCount=12742, favouritesCount=186, listedCount=864, mediaCount=6972, location='🔕 I-LAND VIDEO = MOMENT', protected=False, linkUrl=None, linkTcourl=None, profileImageUrl='https://pbs.twimg.com/profile_images/1268817549329788931/wbH7jMAn_normal.jpg', profileBannerUrl=None, label=None), replyCount=0, retweetCount=1, likeCount=0, quoteCount=0, conversationId=1412612121922207751, lang='ko', source='<a href=\"http://twitter.com/download/iphone\" rel=\"nofollow\">Twitter for iPhone</a>', sourceUrl='http://twitter.com/download/iphone', sourceLabel='Twitter for iPhone', outlinks=None, tcooutlinks=None, media=None, retweetedTweet=None, quotedTweet=None, inReplyToTweetId=1412615851472162823, inReplyToUser=User(username='021208S2', id=1277676287511805954, displayname='blue', description=None, rawDescription=None, descriptionUrls=None, verified=None, created=None, followersCount=None, friendsCount=None, statusesCount=None, favouritesCount=None, listedCount=None, mediaCount=None, location=None, protected=None, linkUrl=None, linkTcourl=None, profileImageUrl=None, profileBannerUrl=None, label=None), mentionedUsers=[User(username='021208S2', id=1277676287511805954, displayname='blue', description=None, rawDescription=None, descriptionUrls=None, verified=None, created=None, followersCount=None, friendsCount=None, statusesCount=None, favouritesCount=None, listedCount=None, mediaCount=None, location=None, protected=None, linkUrl=None, linkTcourl=None, profileImageUrl=None, profileBannerUrl=None, label=None)], coordinates=None, place=None, hashtags=None, cashtags=None),\n",
       " Tweet(url='https://twitter.com/weverseshop/status/1411882772486975490', date=datetime.datetime(2021, 7, 5, 3, 0, 59, tzinfo=datetime.timezone.utc), content='#ENHYPEN 멤버들이 신어보고 편안함에 감탄한\\n#골스튜디오 리커버리 슬리퍼를 ENGENE만의 스타일로 경험해 보세요!\\n#엔하이픈 로고가 새겨진 EN-GRAB-ITY BALANCE는\\n편안한 착용감과 깔끔한 디자인으로 여러분의 패션을 책임져 줄 거예요.\\n\\n🚚 7/12(월)부터 순차 배송 (KST)\\n👉https://t.co/po9v9D8rsY https://t.co/YYa1qY0Ggs', renderedContent='#ENHYPEN 멤버들이 신어보고 편안함에 감탄한\\n#골스튜디오 리커버리 슬리퍼를 ENGENE만의 스타일로 경험해 보세요!\\n#엔하이픈 로고가 새겨진 EN-GRAB-ITY BALANCE는\\n편안한 착용감과 깔끔한 디자인으로 여러분의 패션을 책임져 줄 거예요.\\n\\n🚚 7/12(월)부터 순차 배송 (KST)\\n👉weverseshop.onelink.me/BZSY/e7d6a27 https://t.co/YYa1qY0Ggs', id=1411882772486975490, user=User(username='weverseshop', id=1109011576659427328, displayname='Weverse Shop', description='All things for Fans\\u3000\\u3000\\u3000\\u3000\\u3000\\u3000\\u3000\\u3000 \\nCopyright by WEVERSE COMPANY Inc. All rights reserved.', rawDescription='All things for Fans\\u3000\\u3000\\u3000\\u3000\\u3000\\u3000\\u3000\\u3000 \\nCopyright by WEVERSE COMPANY Inc. All rights reserved.', descriptionUrls=None, verified=True, created=datetime.datetime(2019, 3, 22, 8, 38, 59, tzinfo=datetime.timezone.utc), followersCount=2388508, friendsCount=28, statusesCount=1944, favouritesCount=0, listedCount=4060, mediaCount=1804, location='대한민국 서울', protected=False, linkUrl='https://weverseshop.page.link/AmFB', linkTcourl='https://t.co/l0VjvfxTwq', profileImageUrl='https://pbs.twimg.com/profile_images/1236886162863616000/cf8enYEg_normal.jpg', profileBannerUrl='https://pbs.twimg.com/profile_banners/1109011576659427328/1583731320', label=None), replyCount=109, retweetCount=1706, likeCount=11097, quoteCount=138, conversationId=1411882772486975490, lang='ko', source='<a href=\"https://mobile.twitter.com\" rel=\"nofollow\">Twitter Web App</a>', sourceUrl='https://mobile.twitter.com', sourceLabel='Twitter Web App', outlinks=['https://weverseshop.onelink.me/BZSY/e7d6a27'], tcooutlinks=['https://t.co/po9v9D8rsY'], media=[Photo(previewUrl='https://pbs.twimg.com/media/E5gD0PSUYAYYgB2?format=jpg&name=small', fullUrl='https://pbs.twimg.com/media/E5gD0PSUYAYYgB2?format=jpg&name=large')], retweetedTweet=None, quotedTweet=None, inReplyToTweetId=None, inReplyToUser=None, mentionedUsers=None, coordinates=None, place=None, hashtags=['ENHYPEN', '골스튜디오', '엔하이픈'], cashtags=None),\n",
       " Tweet(url='https://twitter.com/ch_cr_mn/status/1410932576198352901', date=datetime.datetime(2021, 7, 2, 12, 5, 14, tzinfo=datetime.timezone.utc), content='물론 이제혅은 촬영할 때 몰랐음\\n매일 최찭히가 놀러오면 티비로 같이 직캠 봐서 항상 시청기록에 직캠이 떠 있는 게 자연스러웠거든\\n카메라에 그거 잡힌 것도 모르고 여유롭게 영화 하나 골라서 보는 이제혅\\n그리고 스튜디오 촬영할 때 알았음\\n\\n아 *됐다...', renderedContent='물론 이제혅은 촬영할 때 몰랐음\\n매일 최찭히가 놀러오면 티비로 같이 직캠 봐서 항상 시청기록에 직캠이 떠 있는 게 자연스러웠거든\\n카메라에 그거 잡힌 것도 모르고 여유롭게 영화 하나 골라서 보는 이제혅\\n그리고 스튜디오 촬영할 때 알았음\\n\\n아 *됐다...', id=1410932576198352901, user=User(username='ch_cr_mn', id=1390710281169371136, displayname='초로', description='현재형이 장난 많이 치고 뉴형이 많이 당해요', rawDescription='현재형이 장난 많이 치고 뉴형이 많이 당해요', descriptionUrls=None, verified=False, created=datetime.datetime(2021, 5, 7, 16, 49, 10, tzinfo=datetime.timezone.utc), followersCount=528, friendsCount=22, statusesCount=1514, favouritesCount=32, listedCount=1, mediaCount=213, location='100024 17171771', protected=False, linkUrl='https://peing.net/ko/ch_cr_mn', linkTcourl='https://t.co/j4FAioi5YG', profileImageUrl='https://pbs.twimg.com/profile_images/1432360675334967303/Rtdl2OYJ_normal.jpg', profileBannerUrl='https://pbs.twimg.com/profile_banners/1390710281169371136/1627057337', label=None), replyCount=1, retweetCount=0, likeCount=4, quoteCount=0, conversationId=1410929423952404486, lang='ko', source='<a href=\"http://twitter.com/download/iphone\" rel=\"nofollow\">Twitter for iPhone</a>', sourceUrl='http://twitter.com/download/iphone', sourceLabel='Twitter for iPhone', outlinks=None, tcooutlinks=None, media=None, retweetedTweet=None, quotedTweet=None, inReplyToTweetId=1410931637156679684, inReplyToUser=User(username='ch_cr_mn', id=1390710281169371136, displayname='초로', description='현재형이 장난 많이 치고 뉴형이 많이 당해요', rawDescription='현재형이 장난 많이 치고 뉴형이 많이 당해요', descriptionUrls=None, verified=False, created=datetime.datetime(2021, 5, 7, 16, 49, 10, tzinfo=datetime.timezone.utc), followersCount=528, friendsCount=22, statusesCount=1514, favouritesCount=32, listedCount=1, mediaCount=213, location='100024 17171771', protected=False, linkUrl='https://peing.net/ko/ch_cr_mn', linkTcourl='https://t.co/j4FAioi5YG', profileImageUrl='https://pbs.twimg.com/profile_images/1432360675334967303/Rtdl2OYJ_normal.jpg', profileBannerUrl='https://pbs.twimg.com/profile_banners/1390710281169371136/1627057337', label=None), mentionedUsers=None, coordinates=None, place=None, hashtags=None, cashtags=None),\n",
       " Tweet(url='https://twitter.com/spacekat_musubi/status/1410525198781091844', date=datetime.datetime(2021, 7, 1, 9, 6, 28, tzinfo=datetime.timezone.utc), content='부산 달맞이 고개, 동생이 오픈한 작은 스튜디오. 이 귀여운 친구는 오골이예요. ☺️ https://t.co/AuvQKEYjHl', renderedContent='부산 달맞이 고개, 동생이 오픈한 작은 스튜디오. 이 귀여운 친구는 오골이예요. ☺️ https://t.co/AuvQKEYjHl', id=1410525198781091844, user=User(username='spacekat_musubi', id=234741434, displayname='우주고양이 ㅁㅅㅂ', description='인연을 만드는 밥을 합니다. / 상황이 나아질 때까지 기존 방문자들의 예약을 우선으로 받습니다. 9월 예약은 마감되었습니다. / 문의는 메세지 혹은 카카오톡 spacekat으로 연락주세요. / 함께 먹어줘서 고마워요. 🍙', rawDescription='인연을 만드는 밥을 합니다. / 상황이 나아질 때까지 기존 방문자들의 예약을 우선으로 받습니다. 9월 예약은 마감되었습니다. / 문의는 메세지 혹은 카카오톡 spacekat으로 연락주세요. / 함께 먹어줘서 고마워요. 🍙', descriptionUrls=None, verified=False, created=datetime.datetime(2011, 1, 6, 13, 8, 40, tzinfo=datetime.timezone.utc), followersCount=9354, friendsCount=71, statusesCount=5029, favouritesCount=2329, listedCount=48, mediaCount=2884, location='', protected=False, linkUrl='http://Instagram.com/spacekat_musubi', linkTcourl='https://t.co/w1aClxUqae', profileImageUrl='https://pbs.twimg.com/profile_images/1289729686591819776/-Fevm6G4_normal.jpg', profileBannerUrl='https://pbs.twimg.com/profile_banners/234741434/1596330993', label=None), replyCount=0, retweetCount=1, likeCount=33, quoteCount=0, conversationId=1410525198781091844, lang='ko', source='<a href=\"http://twitter.com/download/iphone\" rel=\"nofollow\">Twitter for iPhone</a>', sourceUrl='http://twitter.com/download/iphone', sourceLabel='Twitter for iPhone', outlinks=None, tcooutlinks=None, media=[Photo(previewUrl='https://pbs.twimg.com/media/E5MxL6HUUAAVmvo?format=jpg&name=small', fullUrl='https://pbs.twimg.com/media/E5MxL6HUUAAVmvo?format=jpg&name=large'), Photo(previewUrl='https://pbs.twimg.com/media/E5MxL6HVgAQRHPp?format=jpg&name=small', fullUrl='https://pbs.twimg.com/media/E5MxL6HVgAQRHPp?format=jpg&name=large'), Photo(previewUrl='https://pbs.twimg.com/media/E5MxL6QVgAM52w5?format=jpg&name=small', fullUrl='https://pbs.twimg.com/media/E5MxL6QVgAM52w5?format=jpg&name=large'), Photo(previewUrl='https://pbs.twimg.com/media/E5MxL6QVkAEkXcT?format=jpg&name=small', fullUrl='https://pbs.twimg.com/media/E5MxL6QVkAEkXcT?format=jpg&name=large')], retweetedTweet=None, quotedTweet=None, inReplyToTweetId=None, inReplyToUser=None, mentionedUsers=None, coordinates=None, place=None, hashtags=None, cashtags=None),\n",
       " Tweet(url='https://twitter.com/chunsik_ba/status/1410190563970732034', date=datetime.datetime(2021, 6, 30, 10, 56, 45, tzinfo=datetime.timezone.utc), content='여기도 골스튜디오군아', renderedContent='여기도 골스튜디오군아', id=1410190563970732034, user=User(username='chunsik_ba', id=924501400616185856, displayname='춘식', description='19 GEN / 20,21 AF / SEOUL DYNASTY', rawDescription='19 GEN / 20,21 AF / SEOUL DYNASTY', descriptionUrls=None, verified=False, created=datetime.datetime(2017, 10, 29, 5, 1, 25, tzinfo=datetime.timezone.utc), followersCount=410, friendsCount=262, statusesCount=34687, favouritesCount=19205, listedCount=0, mediaCount=1779, location='', protected=False, linkUrl='https://peing.net/ko/chunsik_ba', linkTcourl='https://t.co/wn4RCrb5uY', profileImageUrl='https://pbs.twimg.com/profile_images/1418229208820551680/NlDJPzyt_normal.jpg', profileBannerUrl='https://pbs.twimg.com/profile_banners/924501400616185856/1626429282', label=None), replyCount=0, retweetCount=0, likeCount=0, quoteCount=0, conversationId=1410190563970732034, lang='ko', source='<a href=\"http://twitter.com/download/iphone\" rel=\"nofollow\">Twitter for iPhone</a>', sourceUrl='http://twitter.com/download/iphone', sourceLabel='Twitter for iPhone', outlinks=None, tcooutlinks=None, media=None, retweetedTweet=None, quotedTweet=None, inReplyToTweetId=None, inReplyToUser=None, mentionedUsers=None, coordinates=None, place=None, hashtags=None, cashtags=None),\n",
       " Tweet(url='https://twitter.com/highlightcloset/status/1410110008398864387', date=datetime.datetime(2021, 6, 30, 5, 36, 39, tzinfo=datetime.timezone.utc), content='210630  비하인드 #51.\\n.\\nhttps://t.co/a3V7HwMaqH\\n.\\n#윤두준 #두준 #하이라이트 #YoonDuJun #DuJun #HIGHLIGHT #골스튜디오 #GOALSTUDIO #불어온다 @BeeeestDJ https://t.co/GcHt5cJYnV', renderedContent='210630  비하인드 #51.\\n.\\nstore.musinsa.com/app/goods/1421…\\n.\\n#윤두준 #두준 #하이라이트 #YoonDuJun #DuJun #HIGHLIGHT #골스튜디오 #GOALSTUDIO #불어온다 @BeeeestDJ https://t.co/GcHt5cJYnV', id=1410110008398864387, user=User(username='highlightcloset', id=1336775577907453955, displayname='HIGHLIGHT Closet 🛍', description='with @yoseopcloset', rawDescription='with @yoseopcloset', descriptionUrls=None, verified=False, created=datetime.datetime(2020, 12, 9, 20, 52, 5, tzinfo=datetime.timezone.utc), followersCount=1802, friendsCount=18, statusesCount=569, favouritesCount=55, listedCount=5, mediaCount=561, location='', protected=False, linkUrl=None, linkTcourl=None, profileImageUrl='https://pbs.twimg.com/profile_images/1339189810976747521/ljSnQYbJ_normal.jpg', profileBannerUrl='https://pbs.twimg.com/profile_banners/1336775577907453955/1607556499', label=None), replyCount=0, retweetCount=15, likeCount=60, quoteCount=1, conversationId=1410110008398864387, lang='ko', source='<a href=\"http://twitter.com/download/iphone\" rel=\"nofollow\">Twitter for iPhone</a>', sourceUrl='http://twitter.com/download/iphone', sourceLabel='Twitter for iPhone', outlinks=['https://store.musinsa.com/app/goods/1421043'], tcooutlinks=['https://t.co/a3V7HwMaqH'], media=[Photo(previewUrl='https://pbs.twimg.com/media/E5G3k15XMAAZ4AH?format=jpg&name=small', fullUrl='https://pbs.twimg.com/media/E5G3k15XMAAZ4AH?format=jpg&name=large')], retweetedTweet=None, quotedTweet=None, inReplyToTweetId=None, inReplyToUser=None, mentionedUsers=[User(username='BeeeestDJ', id=130665252, displayname='Yoon du jun', description=None, rawDescription=None, descriptionUrls=None, verified=None, created=None, followersCount=None, friendsCount=None, statusesCount=None, favouritesCount=None, listedCount=None, mediaCount=None, location=None, protected=None, linkUrl=None, linkTcourl=None, profileImageUrl=None, profileBannerUrl=None, label=None)], coordinates=None, place=None, hashtags=['윤두준', '두준', '하이라이트', 'YoonDuJun', 'DuJun', 'HIGHLIGHT', '골스튜디오', 'GOALSTUDIO', '불어온다'], cashtags=None),\n",
       " Tweet(url='https://twitter.com/plzsaveme_shub/status/1409111922767716352', date=datetime.datetime(2021, 6, 27, 11, 30, 37, tzinfo=datetime.timezone.utc), content='첨 원장님 상담 시작하기전에\\n성우공채디ㅐ본을 주시는겨\\n그래서 ???? 하고 봣는데\\n거기서 지문2개를 골라서 연습하고\\n녹음부스안에 들가래\\n우선...하라니까 해서\\n연습 5분쯤하다가\\n원장님이 들어오세요~ 해가꼬\\n자근 스튜디오안에서 헤드셋끼고 \\nㄹㅇ 멋진마이크 앞에서 녹음ㅎㅐㅅ더', renderedContent='첨 원장님 상담 시작하기전에\\n성우공채디ㅐ본을 주시는겨\\n그래서 ???? 하고 봣는데\\n거기서 지문2개를 골라서 연습하고\\n녹음부스안에 들가래\\n우선...하라니까 해서\\n연습 5분쯤하다가\\n원장님이 들어오세요~ 해가꼬\\n자근 스튜디오안에서 헤드셋끼고 \\nㄹㅇ 멋진마이크 앞에서 녹음ㅎㅐㅅ더', id=1409111922767716352, user=User(username='plzsaveme_shub', id=1261237704252985345, displayname='(미식한고독가)슙', description='매일 괜찮아... 하는 삶', rawDescription='매일 괜찮아... 하는 삶', descriptionUrls=None, verified=False, created=datetime.datetime(2020, 5, 15, 10, 11, 27, tzinfo=datetime.timezone.utc), followersCount=42, friendsCount=293, statusesCount=38967, favouritesCount=17494, listedCount=0, mediaCount=3039, location='', protected=False, linkUrl=None, linkTcourl=None, profileImageUrl='https://pbs.twimg.com/profile_images/1419535584175935490/wxaXxQw3_normal.png', profileBannerUrl='https://pbs.twimg.com/profile_banners/1261237704252985345/1617280720', label=None), replyCount=0, retweetCount=0, likeCount=1, quoteCount=0, conversationId=1409111922767716352, lang='ko', source='<a href=\"http://twitter.com/download/iphone\" rel=\"nofollow\">Twitter for iPhone</a>', sourceUrl='http://twitter.com/download/iphone', sourceLabel='Twitter for iPhone', outlinks=None, tcooutlinks=None, media=None, retweetedTweet=None, quotedTweet=None, inReplyToTweetId=None, inReplyToUser=None, mentionedUsers=None, coordinates=None, place=None, hashtags=None, cashtags=None),\n",
       " Tweet(url='https://twitter.com/ulsaniya/status/1408819955441672197', date=datetime.datetime(2021, 6, 26, 16, 10, 26, tzinfo=datetime.timezone.utc), content='@tavarez2k 골스튜디오던데요', renderedContent='@tavarez2k 골스튜디오던데요', id=1408819955441672197, user=User(username='ulsaniya', id=193963620, displayname='ulsaniya', description='이상하게 내가 좋아하는 것들을 조롱하고 혐오하는 세상. 티 안내도 다 보인다.', rawDescription='이상하게 내가 좋아하는 것들을 조롱하고 혐오하는 세상. 티 안내도 다 보인다.', descriptionUrls=None, verified=False, created=datetime.datetime(2010, 9, 23, 2, 41, 14, tzinfo=datetime.timezone.utc), followersCount=673, friendsCount=660, statusesCount=372752, favouritesCount=2211, listedCount=21, mediaCount=6102, location='Hell-Chosen', protected=False, linkUrl=None, linkTcourl=None, profileImageUrl='https://pbs.twimg.com/profile_images/1425674562683817992/wYNxbL9X_normal.jpg', profileBannerUrl='https://pbs.twimg.com/profile_banners/193963620/1564842690', label=None), replyCount=1, retweetCount=0, likeCount=0, quoteCount=0, conversationId=1408818728720953352, lang='ko', source='<a href=\"https://mobile.twitter.com\" rel=\"nofollow\">Twitter Web App</a>', sourceUrl='https://mobile.twitter.com', sourceLabel='Twitter Web App', outlinks=None, tcooutlinks=None, media=None, retweetedTweet=None, quotedTweet=None, inReplyToTweetId=1408819842900054021, inReplyToUser=User(username='tavarez2k', id=2294313554, displayname='일상으로 돌아간 33+n살 렛찡', description=None, rawDescription=None, descriptionUrls=None, verified=None, created=None, followersCount=None, friendsCount=None, statusesCount=None, favouritesCount=None, listedCount=None, mediaCount=None, location=None, protected=None, linkUrl=None, linkTcourl=None, profileImageUrl=None, profileBannerUrl=None, label=None), mentionedUsers=[User(username='tavarez2k', id=2294313554, displayname='일상으로 돌아간 33+n살 렛찡', description=None, rawDescription=None, descriptionUrls=None, verified=None, created=None, followersCount=None, friendsCount=None, statusesCount=None, favouritesCount=None, listedCount=None, mediaCount=None, location=None, protected=None, linkUrl=None, linkTcourl=None, profileImageUrl=None, profileBannerUrl=None, label=None)], coordinates=None, place=None, hashtags=None, cashtags=None),\n",
       " Tweet(url='https://twitter.com/sunkidior/status/1408792515583561731', date=datetime.datetime(2021, 6, 26, 14, 21, 24, tzinfo=datetime.timezone.utc), content='아 ㅅㅂ 골스튜디오 슬리퍼 https://t.co/EK6Ebggxqg', renderedContent='아 ㅅㅂ 골스튜디오 슬리퍼 https://t.co/EK6Ebggxqg', id=1408792515583561731, user=User(username='sunkidior', id=1107286924090376192, displayname='࣪', description='#wonki: two pretty best friends 💭', rawDescription='#wonki: two pretty best friends 💭', descriptionUrls=None, verified=False, created=datetime.datetime(2019, 3, 17, 14, 25, 49, tzinfo=datetime.timezone.utc), followersCount=850, friendsCount=773, statusesCount=17355, favouritesCount=68494, listedCount=4, mediaCount=793, location='16 (ella) | only enhypen', protected=False, linkUrl='https://ramyeonz.xn--cl8h', linkTcourl='https://t.co/0d3HfoOoBT', profileImageUrl='https://pbs.twimg.com/profile_images/1438339905491505152/rRqMQL3-_normal.jpg', profileBannerUrl='https://pbs.twimg.com/profile_banners/1107286924090376192/1631572307', label=None), replyCount=0, retweetCount=0, likeCount=0, quoteCount=0, conversationId=1408792515583561731, lang='ko', source='<a href=\"http://twitter.com/download/android\" rel=\"nofollow\">Twitter for Android</a>', sourceUrl='http://twitter.com/download/android', sourceLabel='Twitter for Android', outlinks=None, tcooutlinks=None, media=[Video(thumbnailUrl='https://pbs.twimg.com/ext_tw_video_thumb/1408791107417231364/pu/img/f-mosP2Z7gjioSFQ.jpg', variants=[VideoVariant(contentType='video/mp4', url='https://video.twimg.com/ext_tw_video/1408791107417231364/pu/vid/320x320/z38wTG4fioSeIxPT.mp4?tag=12', bitrate=432000), VideoVariant(contentType='video/mp4', url='https://video.twimg.com/ext_tw_video/1408791107417231364/pu/vid/720x720/DYKb-UhwV6w_-J0K.mp4?tag=12', bitrate=1280000), VideoVariant(contentType='application/x-mpegURL', url='https://video.twimg.com/ext_tw_video/1408791107417231364/pu/pl/l-kGSMMlgDDze8n1.m3u8?tag=12&container=fmp4', bitrate=None), VideoVariant(contentType='video/mp4', url='https://video.twimg.com/ext_tw_video/1408791107417231364/pu/vid/540x540/5IrL8Xj8XQqnAa6k.mp4?tag=12', bitrate=832000)], duration=7.433, views=7205)], retweetedTweet=None, quotedTweet=None, inReplyToTweetId=None, inReplyToUser=None, mentionedUsers=None, coordinates=None, place=None, hashtags=None, cashtags=None),\n",
       " Tweet(url='https://twitter.com/pandaa__S2/status/1408791162551357441', date=datetime.datetime(2021, 6, 26, 14, 16, 1, tzinfo=datetime.timezone.utc), content='아 ㅅㅂ 골스튜디오 슬리퍼 https://t.co/EledsOeDjM', renderedContent='아 ㅅㅂ 골스튜디오 슬리퍼 https://t.co/EledsOeDjM', id=1408791162551357441, user=User(username='pandaa__S2', id=1286711135329112064, displayname='판다', description='', rawDescription='', descriptionUrls=None, verified=False, created=datetime.datetime(2020, 7, 24, 17, 13, 47, tzinfo=datetime.timezone.utc), followersCount=10414, friendsCount=66, statusesCount=14845, favouritesCount=1682, listedCount=501, mediaCount=7547, location='이희승', protected=False, linkUrl='http://asked.kr/kimpandaas2', linkTcourl='https://t.co/5kjoyqhDKT', profileImageUrl='https://pbs.twimg.com/profile_images/1389604299378814976/dKPxjq6e_normal.jpg', profileBannerUrl='https://pbs.twimg.com/profile_banners/1286711135329112064/1617242443', label=None), replyCount=0, retweetCount=101, likeCount=316, quoteCount=14, conversationId=1408791162551357441, lang='ko', source='<a href=\"http://twitter.com/download/iphone\" rel=\"nofollow\">Twitter for iPhone</a>', sourceUrl='http://twitter.com/download/iphone', sourceLabel='Twitter for iPhone', outlinks=None, tcooutlinks=None, media=[Video(thumbnailUrl='https://pbs.twimg.com/ext_tw_video_thumb/1408791107417231364/pu/img/f-mosP2Z7gjioSFQ.jpg', variants=[VideoVariant(contentType='video/mp4', url='https://video.twimg.com/ext_tw_video/1408791107417231364/pu/vid/320x320/z38wTG4fioSeIxPT.mp4?tag=12', bitrate=432000), VideoVariant(contentType='video/mp4', url='https://video.twimg.com/ext_tw_video/1408791107417231364/pu/vid/720x720/DYKb-UhwV6w_-J0K.mp4?tag=12', bitrate=1280000), VideoVariant(contentType='application/x-mpegURL', url='https://video.twimg.com/ext_tw_video/1408791107417231364/pu/pl/l-kGSMMlgDDze8n1.m3u8?tag=12&container=fmp4', bitrate=None), VideoVariant(contentType='video/mp4', url='https://video.twimg.com/ext_tw_video/1408791107417231364/pu/vid/540x540/5IrL8Xj8XQqnAa6k.mp4?tag=12', bitrate=832000)], duration=7.433, views=7205)], retweetedTweet=None, quotedTweet=None, inReplyToTweetId=None, inReplyToUser=None, mentionedUsers=None, coordinates=None, place=None, hashtags=None, cashtags=None),\n",
       " Tweet(url='https://twitter.com/MuseQueenSinger/status/1407565835779022851', date=datetime.datetime(2021, 6, 23, 5, 7, 1, tzinfo=datetime.timezone.utc), content='@kimharu0 추고 싶은 곡 골라서 거울모드 보고 외워보고, 난 보통... 연습실 꾸며놓고 찍거나 스튜디오 가는 편', renderedContent='@kimharu0 추고 싶은 곡 골라서 거울모드 보고 외워보고, 난 보통... 연습실 꾸며놓고 찍거나 스튜디오 가는 편', id=1407565835779022851, user=User(username='MuseQueenSinger', id=1577486688, displayname='💜MuseQueen💜', description='우타이테/코스어/오도리테/pv\\nTRPG 입문하는 새싹 탐사자\\n🔥RWBY🔥러브라이브/뱅드림/스도리카/Deemo/로오히/전오수/cyTus 2/티키틱/김경호\\n#뮤킨_찍혔다\\n#뮤킨_찍었다\\n#뮤킨_불렀다\\n#뮤킨_춤췄다', rawDescription='우타이테/코스어/오도리테/pv\\nTRPG 입문하는 새싹 탐사자\\n🔥RWBY🔥러브라이브/뱅드림/스도리카/Deemo/로오히/전오수/cyTus 2/티키틱/김경호\\n#뮤킨_찍혔다\\n#뮤킨_찍었다\\n#뮤킨_불렀다\\n#뮤킨_춤췄다', descriptionUrls=None, verified=False, created=datetime.datetime(2013, 7, 8, 12, 1, 25, tzinfo=datetime.timezone.utc), followersCount=584, friendsCount=952, statusesCount=63261, favouritesCount=5892, listedCount=10, mediaCount=3256, location='죄송하면 균형이 지켜지오?', protected=False, linkUrl='https://open.kakao.com/me/MuseQueen', linkTcourl='https://t.co/KmqSh9uf6C', profileImageUrl='https://pbs.twimg.com/profile_images/1438514993213804544/tDTgqij-_normal.jpg', profileBannerUrl='https://pbs.twimg.com/profile_banners/1577486688/1592661241', label=None), replyCount=1, retweetCount=0, likeCount=1, quoteCount=0, conversationId=1407545401440452611, lang='ko', source='<a href=\"http://twitter.com/download/android\" rel=\"nofollow\">Twitter for Android</a>', sourceUrl='http://twitter.com/download/android', sourceLabel='Twitter for Android', outlinks=None, tcooutlinks=None, media=None, retweetedTweet=None, quotedTweet=None, inReplyToTweetId=1407564903217389574, inReplyToUser=User(username='kimharu0', id=2890959102, displayname='사장', description=None, rawDescription=None, descriptionUrls=None, verified=None, created=None, followersCount=None, friendsCount=None, statusesCount=None, favouritesCount=None, listedCount=None, mediaCount=None, location=None, protected=None, linkUrl=None, linkTcourl=None, profileImageUrl=None, profileBannerUrl=None, label=None), mentionedUsers=[User(username='kimharu0', id=2890959102, displayname='사장', description=None, rawDescription=None, descriptionUrls=None, verified=None, created=None, followersCount=None, friendsCount=None, statusesCount=None, favouritesCount=None, listedCount=None, mediaCount=None, location=None, protected=None, linkUrl=None, linkTcourl=None, profileImageUrl=None, profileBannerUrl=None, label=None)], coordinates=None, place=None, hashtags=None, cashtags=None),\n",
       " Tweet(url='https://twitter.com/BamBi_NuNa/status/1406946416967094272', date=datetime.datetime(2021, 6, 21, 12, 5, 40, tzinfo=datetime.timezone.utc), content='역시 블랙으로 사길 잘했다😎\\n\\n#HEESEUNG #희승 #GOALSTUDIO https://t.co/BZPBbMR7OM', renderedContent='역시 블랙으로 사길 잘했다😎\\n\\n#HEESEUNG #희승 #GOALSTUDIO https://t.co/BZPBbMR7OM', id=1406946416967094272, user=User(username='BamBi_NuNa', id=1305141953068036097, displayname='꒰১밤비누나💜ᵗᵒʳʸ໒꒱', description='🌟ᴇɴʜʏᴘᴇɴ🦌ʜᴇᴇsᴇᴜɴɢ🌟⠀⠀⠀⠀⠀⠀⠀\\n#Masterpiece💜#Always_Together💜#Jalnandan💜\\n⠀⠀⠀⠀⠀⠀\\n🌟210504 1st Win🌟ఌ︎ ... HeeSeungToystory ᗒ\\nBamBi_NuNa🌹\\n\\n    ⠀⠀⠀ ⠀⠀⠀⠀⠀⠀⠀⠀⠀⠀', rawDescription='🌟ᴇɴʜʏᴘᴇɴ🦌ʜᴇᴇsᴇᴜɴɢ🌟⠀⠀⠀⠀⠀⠀⠀\\n#Masterpiece💜#Always_Together💜#Jalnandan💜\\n⠀⠀⠀⠀⠀⠀\\n🌟210504 1st Win🌟ఌ︎ ... HeeSeungToystory ᗒ\\nBamBi_NuNa🌹\\n\\n    ⠀⠀⠀ ⠀⠀⠀⠀⠀⠀⠀⠀⠀⠀', descriptionUrls=None, verified=False, created=datetime.datetime(2020, 9, 13, 13, 51, 16, tzinfo=datetime.timezone.utc), followersCount=2251, friendsCount=345, statusesCount=9015, favouritesCount=16716, listedCount=106, mediaCount=2427, location='', protected=False, linkUrl=None, linkTcourl=None, profileImageUrl='https://pbs.twimg.com/profile_images/1404767405969002498/KRjLZy71_normal.jpg', profileBannerUrl='https://pbs.twimg.com/profile_banners/1305141953068036097/1626562115', label=None), replyCount=1, retweetCount=15, likeCount=56, quoteCount=0, conversationId=1406946416967094272, lang='ko', source='<a href=\"http://twitter.com/download/android\" rel=\"nofollow\">Twitter for Android</a>', sourceUrl='http://twitter.com/download/android', sourceLabel='Twitter for Android', outlinks=None, tcooutlinks=None, media=[Photo(previewUrl='https://pbs.twimg.com/media/E4Z6TudUUAkFvoN?format=jpg&name=small', fullUrl='https://pbs.twimg.com/media/E4Z6TudUUAkFvoN?format=jpg&name=large'), Photo(previewUrl='https://pbs.twimg.com/media/E4Z6T3GVkAEulzH?format=jpg&name=small', fullUrl='https://pbs.twimg.com/media/E4Z6T3GVkAEulzH?format=jpg&name=large')], retweetedTweet=None, quotedTweet=None, inReplyToTweetId=None, inReplyToUser=None, mentionedUsers=None, coordinates=None, place=None, hashtags=['HEESEUNG', '희승', 'GOALSTUDIO'], cashtags=None),\n",
       " Tweet(url='https://twitter.com/WE0209/status/1406902880104185858', date=datetime.datetime(2021, 6, 21, 9, 12, 40, tzinfo=datetime.timezone.utc), content='goalstudio_korea 인스타\\n\\n#양정원 #정원 #JUNGWON https://t.co/y6KwMY03Kl', renderedContent='goalstudio_korea 인스타\\n\\n#양정원 #정원 #JUNGWON https://t.co/y6KwMY03Kl', id=1406902880104185858, user=User(username='WE0209', id=1297465286228992000, displayname='우리', description='언제나 정원이편', rawDescription='언제나 정원이편', descriptionUrls=None, verified=False, created=datetime.datetime(2020, 8, 23, 9, 26, 55, tzinfo=datetime.timezone.utc), followersCount=58, friendsCount=18, statusesCount=2812, favouritesCount=2288, listedCount=5, mediaCount=1492, location='🐈', protected=False, linkUrl=None, linkTcourl=None, profileImageUrl='https://pbs.twimg.com/profile_images/1436977346079199237/nwV9hfk3_normal.jpg', profileBannerUrl='https://pbs.twimg.com/profile_banners/1297465286228992000/1622456586', label=None), replyCount=0, retweetCount=0, likeCount=4, quoteCount=0, conversationId=1406902880104185858, lang='ko', source='<a href=\"http://twitter.com/download/android\" rel=\"nofollow\">Twitter for Android</a>', sourceUrl='http://twitter.com/download/android', sourceLabel='Twitter for Android', outlinks=None, tcooutlinks=None, media=[Photo(previewUrl='https://pbs.twimg.com/media/E4ZStSMVkAoRcnw?format=jpg&name=small', fullUrl='https://pbs.twimg.com/media/E4ZStSMVkAoRcnw?format=jpg&name=large')], retweetedTweet=None, quotedTweet=None, inReplyToTweetId=None, inReplyToUser=None, mentionedUsers=None, coordinates=None, place=None, hashtags=['양정원', '정원', 'JUNGWON'], cashtags=None)]"
      ]
     },
     "execution_count": 86,
     "metadata": {},
     "output_type": "execute_result"
    }
   ],
   "source": [
    "tweets_list"
   ]
  },
  {
   "cell_type": "code",
   "execution_count": 164,
   "id": "cc77c96f",
   "metadata": {},
   "outputs": [
    {
     "data": {
      "text/plain": [
       "{'url': 'https://twitter.com/WE0209/status/1406902880104185858',\n",
       " 'date': datetime.datetime(2021, 6, 21, 9, 12, 40, tzinfo=datetime.timezone.utc),\n",
       " 'content': 'goalstudio_korea 인스타\\n\\n#양정원 #정원 #JUNGWON https://t.co/y6KwMY03Kl',\n",
       " 'renderedContent': 'goalstudio_korea 인스타\\n\\n#양정원 #정원 #JUNGWON https://t.co/y6KwMY03Kl',\n",
       " 'id': 1406902880104185858,\n",
       " 'user': User(username='WE0209', id=1297465286228992000, displayname='우리', description='언제나 정원이편', rawDescription='언제나 정원이편', descriptionUrls=None, verified=False, created=datetime.datetime(2020, 8, 23, 9, 26, 55, tzinfo=datetime.timezone.utc), followersCount=58, friendsCount=18, statusesCount=2812, favouritesCount=2288, listedCount=5, mediaCount=1492, location='🐈', protected=False, linkUrl=None, linkTcourl=None, profileImageUrl='https://pbs.twimg.com/profile_images/1436977346079199237/nwV9hfk3_normal.jpg', profileBannerUrl='https://pbs.twimg.com/profile_banners/1297465286228992000/1622456586', label=None),\n",
       " 'replyCount': 0,\n",
       " 'retweetCount': 0,\n",
       " 'likeCount': 4,\n",
       " 'quoteCount': 0,\n",
       " 'conversationId': 1406902880104185858,\n",
       " 'lang': 'ko',\n",
       " 'source': '<a href=\"http://twitter.com/download/android\" rel=\"nofollow\">Twitter for Android</a>',\n",
       " 'sourceUrl': 'http://twitter.com/download/android',\n",
       " 'sourceLabel': 'Twitter for Android',\n",
       " 'outlinks': None,\n",
       " 'tcooutlinks': None,\n",
       " 'media': [Photo(previewUrl='https://pbs.twimg.com/media/E4ZStSMVkAoRcnw?format=jpg&name=small', fullUrl='https://pbs.twimg.com/media/E4ZStSMVkAoRcnw?format=jpg&name=large')],\n",
       " 'retweetedTweet': None,\n",
       " 'quotedTweet': None,\n",
       " 'inReplyToTweetId': None,\n",
       " 'inReplyToUser': None,\n",
       " 'mentionedUsers': None,\n",
       " 'coordinates': None,\n",
       " 'place': None,\n",
       " 'hashtags': ['양정원', '정원', 'JUNGWON'],\n",
       " 'cashtags': None}"
      ]
     },
     "execution_count": 164,
     "metadata": {},
     "output_type": "execute_result"
    }
   ],
   "source": [
    "tweets_list[50].__dict__"
   ]
  },
  {
   "cell_type": "code",
   "execution_count": 6,
   "id": "a00f17f8",
   "metadata": {},
   "outputs": [
    {
     "ename": "AttributeError",
     "evalue": "'str' object has no attribute 'astimezone'",
     "output_type": "error",
     "traceback": [
      "\u001b[0;31m---------------------------------------------------------------------------\u001b[0m",
      "\u001b[0;31mAttributeError\u001b[0m                            Traceback (most recent call last)",
      "\u001b[0;32m<ipython-input-6-c38303deb0f7>\u001b[0m in \u001b[0;36m<module>\u001b[0;34m\u001b[0m\n\u001b[1;32m      1\u001b[0m \u001b[0midx\u001b[0m \u001b[0;34m=\u001b[0m \u001b[0;36m0\u001b[0m\u001b[0;34m\u001b[0m\u001b[0;34m\u001b[0m\u001b[0m\n\u001b[1;32m      2\u001b[0m \u001b[0mtw\u001b[0m \u001b[0;34m=\u001b[0m \u001b[0mconvert2serialize\u001b[0m\u001b[0;34m(\u001b[0m\u001b[0mtweets_list\u001b[0m\u001b[0;34m[\u001b[0m\u001b[0midx\u001b[0m\u001b[0;34m]\u001b[0m\u001b[0;34m)\u001b[0m\u001b[0;34m\u001b[0m\u001b[0;34m\u001b[0m\u001b[0m\n\u001b[0;32m----> 3\u001b[0;31m \u001b[0mtw\u001b[0m\u001b[0;34m[\u001b[0m\u001b[0;34m'date'\u001b[0m\u001b[0;34m]\u001b[0m \u001b[0;34m=\u001b[0m \u001b[0mtw\u001b[0m\u001b[0;34m[\u001b[0m\u001b[0;34m'date'\u001b[0m\u001b[0;34m]\u001b[0m\u001b[0;34m.\u001b[0m\u001b[0mastimezone\u001b[0m\u001b[0;34m(\u001b[0m\u001b[0mKST\u001b[0m\u001b[0;34m)\u001b[0m\u001b[0;34m.\u001b[0m\u001b[0misoformat\u001b[0m\u001b[0;34m(\u001b[0m\u001b[0;34m)\u001b[0m\u001b[0;34m\u001b[0m\u001b[0;34m\u001b[0m\u001b[0m\n\u001b[0m\u001b[1;32m      4\u001b[0m \u001b[0mtw\u001b[0m\u001b[0;34m[\u001b[0m\u001b[0;34m'user'\u001b[0m\u001b[0;34m]\u001b[0m\u001b[0;34m[\u001b[0m\u001b[0;34m'created'\u001b[0m\u001b[0;34m]\u001b[0m \u001b[0;34m=\u001b[0m \u001b[0mtw\u001b[0m\u001b[0;34m[\u001b[0m\u001b[0;34m'user'\u001b[0m\u001b[0;34m]\u001b[0m\u001b[0;34m[\u001b[0m\u001b[0;34m'created'\u001b[0m\u001b[0;34m]\u001b[0m\u001b[0;34m.\u001b[0m\u001b[0mastimezone\u001b[0m\u001b[0;34m(\u001b[0m\u001b[0mKST\u001b[0m\u001b[0;34m)\u001b[0m\u001b[0;34m.\u001b[0m\u001b[0misoformat\u001b[0m\u001b[0;34m(\u001b[0m\u001b[0;34m)\u001b[0m\u001b[0;34m;\u001b[0m\u001b[0mtw\u001b[0m\u001b[0;34m\u001b[0m\u001b[0;34m\u001b[0m\u001b[0m\n",
      "\u001b[0;31mAttributeError\u001b[0m: 'str' object has no attribute 'astimezone'"
     ]
    }
   ],
   "source": [
    "idx = 0\n",
    "tw = convert2serialize(tweets_list[idx])\n",
    "tw['date'] = tw['date'].astimezone(KST).isoformat()\n",
    "tw['user']['created'] = tw['user']['created'].astimezone(KST).isoformat();tw"
   ]
  },
  {
   "cell_type": "code",
   "execution_count": 115,
   "id": "265bd4ec",
   "metadata": {},
   "outputs": [
    {
     "data": {
      "text/plain": [
       "{'username': 'www87mmcokr',\n",
       " 'id': 380846167,\n",
       " 'displayname': '87MM_OFFICIAL',\n",
       " 'description': 'Newwave Street Culture.',\n",
       " 'rawDescription': 'Newwave Street Culture.',\n",
       " 'descriptionUrls': None,\n",
       " 'verified': False,\n",
       " 'created': '2011-09-27T19:08:20+09:00',\n",
       " 'followersCount': 9104,\n",
       " 'friendsCount': 0,\n",
       " 'statusesCount': 527,\n",
       " 'favouritesCount': 154,\n",
       " 'listedCount': 37,\n",
       " 'mediaCount': 211,\n",
       " 'location': '대한민국 서울',\n",
       " 'protected': False,\n",
       " 'linkUrl': 'http://87mm.co.kr',\n",
       " 'linkTcourl': 'https://t.co/KjpxakTGkk',\n",
       " 'profileImageUrl': 'https://pbs.twimg.com/profile_images/1361594043008880642/NUNxbk63_normal.jpg',\n",
       " 'profileBannerUrl': 'https://pbs.twimg.com/profile_banners/380846167/1628652099'}"
      ]
     },
     "execution_count": 115,
     "metadata": {},
     "output_type": "execute_result"
    }
   ],
   "source": [
    "user = tw['user']; user"
   ]
  },
  {
   "cell_type": "code",
   "execution_count": 116,
   "id": "c0594362",
   "metadata": {},
   "outputs": [
    {
     "data": {
      "text/plain": [
       "{'url': 'https://twitter.com/www87mmcokr/status/1432176249565286401',\n",
       " 'date': '2021-08-30T12:00:01+09:00',\n",
       " 'content': 'Mmlg l 4TH DELIVERY\\n\\n&lt;WEFLAG&gt; 추가 컬렉션이 오픈되었습니다.🚩\\n레트로 스포티즘과 뉴프레피를 해석한 엠엠엘지의 컬렉션은\\n지금 팔칠엠엠 공식 온/오프라인 스토어에서 만나보실 수 있어요!\\n\\n🌏 https://t.co/ZBssYq7iiL\\n🏠 마포구 어울마당로 94-8\\n\\n#87MM #Mmlg https://t.co/GpHzdfpYNx',\n",
       " 'renderedContent': 'Mmlg l 4TH DELIVERY\\n\\n&lt;WEFLAG&gt; 추가 컬렉션이 오픈되었습니다.🚩\\n레트로 스포티즘과 뉴프레피를 해석한 엠엠엘지의 컬렉션은\\n지금 팔칠엠엠 공식 온/오프라인 스토어에서 만나보실 수 있어요!\\n\\n🌏 87mm.co.kr\\n🏠 마포구 어울마당로 94-8\\n\\n#87MM #Mmlg https://t.co/GpHzdfpYNx',\n",
       " 'id': 1432176249565286401,\n",
       " 'user': 'www87mmcokr',\n",
       " 'replyCount': 0,\n",
       " 'retweetCount': 3,\n",
       " 'likeCount': 3,\n",
       " 'quoteCount': 0,\n",
       " 'conversationId': 1432176249565286401,\n",
       " 'lang': 'ko',\n",
       " 'source': '<a href=\"https://mobile.twitter.com\" rel=\"nofollow\">Twitter Web App</a>',\n",
       " 'sourceUrl': 'https://mobile.twitter.com',\n",
       " 'sourceLabel': 'Twitter Web App',\n",
       " 'outlinks': ['http://87mm.co.kr'],\n",
       " 'tcooutlinks': ['https://t.co/ZBssYq7iiL'],\n",
       " 'media': [{'previewUrl': 'https://pbs.twimg.com/media/E-AH-ZGVQAEFfMp?format=jpg&name=small',\n",
       "   'fullUrl': 'https://pbs.twimg.com/media/E-AH-ZGVQAEFfMp?format=jpg&name=large'},\n",
       "  {'previewUrl': 'https://pbs.twimg.com/media/E-AH-ZIVkAEojaB?format=jpg&name=small',\n",
       "   'fullUrl': 'https://pbs.twimg.com/media/E-AH-ZIVkAEojaB?format=jpg&name=large'},\n",
       "  {'previewUrl': 'https://pbs.twimg.com/media/E-AH-ZIVIAU5LoP?format=jpg&name=small',\n",
       "   'fullUrl': 'https://pbs.twimg.com/media/E-AH-ZIVIAU5LoP?format=jpg&name=large'},\n",
       "  {'previewUrl': 'https://pbs.twimg.com/media/E-AH-ZHUUAUNlHR?format=jpg&name=small',\n",
       "   'fullUrl': 'https://pbs.twimg.com/media/E-AH-ZHUUAUNlHR?format=jpg&name=large'}],\n",
       " 'retweetedTweet': None,\n",
       " 'quotedTweet': None,\n",
       " 'inReplyToTweetId': None,\n",
       " 'inReplyToUser': None,\n",
       " 'mentionedUsers': None,\n",
       " 'coordinates': None,\n",
       " 'place': None,\n",
       " 'hashtags': ['87MM', 'Mmlg'],\n",
       " 'cashtags': None}"
      ]
     },
     "execution_count": 116,
     "metadata": {},
     "output_type": "execute_result"
    }
   ],
   "source": [
    "tw['user'] = user['username']; tw"
   ]
  },
  {
   "cell_type": "code",
   "execution_count": 121,
   "id": "b55baa05",
   "metadata": {},
   "outputs": [
    {
     "name": "stdout",
     "output_type": "stream",
     "text": [
      "scrapped/twitter/feed/2021-08-30T12;00;01+09;00.json\n",
      "scrapped/twitter/user/www87mmcokr.json\n"
     ]
    }
   ],
   "source": [
    "feed_fname = feed_download_to + '/' + tw['date'].replace(':',';') + '.json'\n",
    "user_fname = user_download_to + '/' + user['username'] + '.json'\n",
    "print(feed_fname)\n",
    "print(user_fname)"
   ]
  },
  {
   "cell_type": "code",
   "execution_count": 125,
   "id": "7398bc24",
   "metadata": {},
   "outputs": [],
   "source": [
    "# 같은 피드가 없으면 파일로 저장해라\n",
    "if not os.path.isfile(feed_fname):\n",
    "    with open(feed_fname, 'w', encoding='UTF-8-sig') as f:\n",
    "        json.dump(tw, f, ensure_ascii=False)"
   ]
  },
  {
   "cell_type": "code",
   "execution_count": 126,
   "id": "3e4fc865",
   "metadata": {},
   "outputs": [],
   "source": [
    "# 같은 유저가 있던말던 무조건 새 파일로 저장해라 (팔로워수 등은 업데이트 되므로)\n",
    "with open(user_fname, 'w', encoding='UTF-8-sig') as f:\n",
    "    json.dump(user, f, ensure_ascii=False)"
   ]
  },
  {
   "cell_type": "code",
   "execution_count": null,
   "id": "15f012a5",
   "metadata": {},
   "outputs": [],
   "source": []
  },
  {
   "cell_type": "code",
   "execution_count": null,
   "id": "734c041b",
   "metadata": {},
   "outputs": [],
   "source": []
  },
  {
   "cell_type": "code",
   "execution_count": null,
   "id": "633e198c",
   "metadata": {},
   "outputs": [],
   "source": []
  },
  {
   "cell_type": "code",
   "execution_count": 6,
   "id": "eb09421c",
   "metadata": {},
   "outputs": [
    {
     "data": {
      "text/plain": [
       "'032c OR 032씨 since:2021-03-01 until:2021-08-31 lang:ko'"
      ]
     },
     "execution_count": 6,
     "metadata": {},
     "output_type": "execute_result"
    }
   ],
   "source": [
    "user_download_to = 'scrapped/twitter/user'\n",
    "feed_download_to = 'scrapped/twitter/feed'\n",
    "# n_max = 10\n",
    "since = '2021-03-01'\n",
    "until = '2021-08-31'\n",
    "# baseqry = '032c OR 032씨'\n",
    "# qry = '{baseqry} until:{until} lang:ko'.format(baseqry=baseqry, until=until)\n",
    "qry = '{baseqry} since:{since} until:{until} lang:ko'.format(baseqry=baseqry, since=since, until=until); qry"
   ]
  },
  {
   "cell_type": "code",
   "execution_count": 17,
   "id": "90b91e10",
   "metadata": {},
   "outputs": [],
   "source": [
    "def record(tw, brand):\n",
    "    _tw = convert2serialize(tw)\n",
    "    _user = _tw['user']\n",
    "    _tw['user'] = _user['username']\n",
    "    _tw['brands'] = []\n",
    "    \n",
    "    feed_fname = feed_download_to + '/' + _tw['date'].replace(':', ';') + '.json'\n",
    "    user_fname = user_download_to + '/' + _user['username'] + '.json'\n",
    "\n",
    "    # 같은 피드가 없으면 파일로 저장해라\n",
    "    if not os.path.isfile(feed_fname):\n",
    "        with open(feed_fname, 'w', encoding='UTF-8-sig') as f:\n",
    "            _tw['brands'].append(brand)\n",
    "            json.dump(_tw, f, ensure_ascii=False)\n",
    "            \n",
    "    # 같은 피드가 있으면, 해당 브랜드를 추가로 입력해라\n",
    "    else:\n",
    "        with open(feed_fname, 'r', encoding='UTF-8-sig') as f:\n",
    "            _tw = json.load(f)\n",
    "            \n",
    "            if brand not in _tw['brands']:\n",
    "                _tw['brands'].append(brand)\n",
    "            \n",
    "        with open(feed_fname, 'w', encoding='UTF-8-sig') as f:            \n",
    "            json.dump(_tw, f, ensure_ascii=False)        \n",
    "            \n",
    "    # 같은 유저가 있던말던 무조건 새 파일로 저장해라 (팔로워수 등은 업데이트 되므로)\n",
    "    with open(user_fname, 'w', encoding='UTF-8-sig') as f:\n",
    "        json.dump(_user, f, ensure_ascii=False)        "
   ]
  },
  {
   "cell_type": "code",
   "execution_count": null,
   "id": "dcdfdf64",
   "metadata": {},
   "outputs": [],
   "source": []
  },
  {
   "cell_type": "code",
   "execution_count": 10,
   "id": "6a4fc47e",
   "metadata": {},
   "outputs": [
    {
     "data": {
      "text/plain": [
       "영문명 short\n",
       "032c                                            032c OR 032씨\n",
       "87mm                            87엠엠 OR 87앰앰 OR 팔칠앰앰 OR 팔칠엠엠\n",
       "99percentis             99percentis OR 99퍼센트이즈 OR 나인티나인퍼센트이즈\n",
       "jwanderson                   jwanderson OR jw앤더슨 OR 제이더블유앤더슨\n",
       "lostmanagementcities                                     엘엠씨\n",
       "                                        ...                 \n",
       "tictok                                          tictok OR 틱톡\n",
       "playmobil                                 playmobil OR 플레이모빌\n",
       "playstation                     playstation OR 플레이스테이션 OR 플스\n",
       "hansatoys                              \"hansatoys\" OR \"한사토이\"\n",
       "hottoys                                      hottoys OR 핫토이즈\n",
       "Name: 트위터 검색쿼리, Length: 569, dtype: object"
      ]
     },
     "execution_count": 10,
     "metadata": {},
     "output_type": "execute_result"
    }
   ],
   "source": [
    "qrys = df[df['검색잘됨']=='1']['트위터 검색쿼리']; qrys"
   ]
  },
  {
   "cell_type": "code",
   "execution_count": null,
   "id": "4a430e4e",
   "metadata": {},
   "outputs": [],
   "source": []
  },
  {
   "cell_type": "code",
   "execution_count": 20,
   "id": "b2f04d95",
   "metadata": {},
   "outputs": [
    {
     "data": {
      "application/vnd.jupyter.widget-view+json": {
       "model_id": "eb2287d8dbd54926821a5aec5ea7486b",
       "version_major": 2,
       "version_minor": 0
      },
      "text/plain": [
       "  0%|          | 0/569 [00:00<?, ?it/s]"
      ]
     },
     "metadata": {},
     "output_type": "display_data"
    },
    {
     "ename": "KeyboardInterrupt",
     "evalue": "",
     "output_type": "error",
     "traceback": [
      "\u001b[0;31m---------------------------------------------------------------------------\u001b[0m",
      "\u001b[0;31mKeyboardInterrupt\u001b[0m                         Traceback (most recent call last)",
      "\u001b[0;32m<ipython-input-20-de8f68146a3f>\u001b[0m in \u001b[0;36m<module>\u001b[0;34m\u001b[0m\n\u001b[1;32m      4\u001b[0m \u001b[0;34m\u001b[0m\u001b[0m\n\u001b[1;32m      5\u001b[0m     \u001b[0;32mfor\u001b[0m \u001b[0mi\u001b[0m\u001b[0;34m,\u001b[0m \u001b[0m_tw\u001b[0m \u001b[0;32min\u001b[0m \u001b[0menumerate\u001b[0m\u001b[0;34m(\u001b[0m\u001b[0msntwitter\u001b[0m\u001b[0;34m.\u001b[0m\u001b[0mTwitterSearchScraper\u001b[0m\u001b[0;34m(\u001b[0m\u001b[0mqry\u001b[0m\u001b[0;34m)\u001b[0m\u001b[0;34m.\u001b[0m\u001b[0mget_items\u001b[0m\u001b[0;34m(\u001b[0m\u001b[0;34m)\u001b[0m\u001b[0;34m)\u001b[0m\u001b[0;34m:\u001b[0m\u001b[0;34m\u001b[0m\u001b[0;34m\u001b[0m\u001b[0m\n\u001b[0;32m----> 6\u001b[0;31m         \u001b[0mrecord\u001b[0m\u001b[0;34m(\u001b[0m\u001b[0m_tw\u001b[0m\u001b[0;34m,\u001b[0m \u001b[0mbrand\u001b[0m\u001b[0;34m)\u001b[0m\u001b[0;34m\u001b[0m\u001b[0;34m\u001b[0m\u001b[0m\n\u001b[0m\u001b[1;32m      7\u001b[0m \u001b[0;34m\u001b[0m\u001b[0m\n\u001b[1;32m      8\u001b[0m     \u001b[0msleep\u001b[0m\u001b[0;34m(\u001b[0m\u001b[0;36m10\u001b[0m\u001b[0;34m)\u001b[0m\u001b[0;34m\u001b[0m\u001b[0;34m\u001b[0m\u001b[0m\n",
      "\u001b[0;32m<ipython-input-17-128337eb84e2>\u001b[0m in \u001b[0;36mrecord\u001b[0;34m(tw, brand)\u001b[0m\n\u001b[1;32m     12\u001b[0m         \u001b[0;32mwith\u001b[0m \u001b[0mopen\u001b[0m\u001b[0;34m(\u001b[0m\u001b[0mfeed_fname\u001b[0m\u001b[0;34m,\u001b[0m \u001b[0;34m'w'\u001b[0m\u001b[0;34m,\u001b[0m \u001b[0mencoding\u001b[0m\u001b[0;34m=\u001b[0m\u001b[0;34m'UTF-8-sig'\u001b[0m\u001b[0;34m)\u001b[0m \u001b[0;32mas\u001b[0m \u001b[0mf\u001b[0m\u001b[0;34m:\u001b[0m\u001b[0;34m\u001b[0m\u001b[0;34m\u001b[0m\u001b[0m\n\u001b[1;32m     13\u001b[0m             \u001b[0m_tw\u001b[0m\u001b[0;34m[\u001b[0m\u001b[0;34m'brands'\u001b[0m\u001b[0;34m]\u001b[0m\u001b[0;34m.\u001b[0m\u001b[0mappend\u001b[0m\u001b[0;34m(\u001b[0m\u001b[0mbrand\u001b[0m\u001b[0;34m)\u001b[0m\u001b[0;34m\u001b[0m\u001b[0;34m\u001b[0m\u001b[0m\n\u001b[0;32m---> 14\u001b[0;31m             \u001b[0mjson\u001b[0m\u001b[0;34m.\u001b[0m\u001b[0mdump\u001b[0m\u001b[0;34m(\u001b[0m\u001b[0m_tw\u001b[0m\u001b[0;34m,\u001b[0m \u001b[0mf\u001b[0m\u001b[0;34m,\u001b[0m \u001b[0mensure_ascii\u001b[0m\u001b[0;34m=\u001b[0m\u001b[0;32mFalse\u001b[0m\u001b[0;34m)\u001b[0m\u001b[0;34m\u001b[0m\u001b[0;34m\u001b[0m\u001b[0m\n\u001b[0m\u001b[1;32m     15\u001b[0m \u001b[0;34m\u001b[0m\u001b[0m\n\u001b[1;32m     16\u001b[0m     \u001b[0;31m# 같은 피드가 있으면, 해당 브랜드를 추가로 입력해라\u001b[0m\u001b[0;34m\u001b[0m\u001b[0;34m\u001b[0m\u001b[0;34m\u001b[0m\u001b[0m\n",
      "\u001b[0;31mKeyboardInterrupt\u001b[0m: "
     ]
    }
   ],
   "source": [
    "for brand, baseqry in tqdm(list(qrys.items())[:]):\n",
    "    qry = '{baseqry} since:{since} until:{until} lang:ko'.format(baseqry=baseqry, since=since, until=until)\n",
    "    #print(qry)\n",
    "    \n",
    "    for i, _tw in enumerate(sntwitter.TwitterSearchScraper(qry).get_items()):\n",
    "        record(_tw, brand)\n",
    "    \n",
    "    sleep(10)\n",
    "    #sleep(0.001)"
   ]
  },
  {
   "cell_type": "code",
   "execution_count": 16,
   "id": "740a0a24",
   "metadata": {},
   "outputs": [
    {
     "data": {
      "text/plain": [
       "False"
      ]
     },
     "execution_count": 16,
     "metadata": {},
     "output_type": "execute_result"
    }
   ],
   "source": [
    "1 not in [1,2,3]"
   ]
  },
  {
   "cell_type": "code",
   "execution_count": null,
   "id": "18b9aba6",
   "metadata": {},
   "outputs": [],
   "source": []
  }
 ],
 "metadata": {
  "kernelspec": {
   "display_name": "Python 3",
   "language": "python",
   "name": "python3"
  },
  "language_info": {
   "codemirror_mode": {
    "name": "ipython",
    "version": 3
   },
   "file_extension": ".py",
   "mimetype": "text/x-python",
   "name": "python",
   "nbconvert_exporter": "python",
   "pygments_lexer": "ipython3",
   "version": "3.8.8"
  }
 },
 "nbformat": 4,
 "nbformat_minor": 5
}
