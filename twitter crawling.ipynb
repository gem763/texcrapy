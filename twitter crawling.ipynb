{
 "cells": [
  {
   "cell_type": "code",
   "execution_count": 8,
   "id": "df4f563b",
   "metadata": {},
   "outputs": [
    {
     "name": "stdout",
     "output_type": "stream",
     "text": [
      "The autoreload extension is already loaded. To reload it, use:\n",
      "  %reload_ext autoreload\n"
     ]
    }
   ],
   "source": [
    "%load_ext autoreload\n",
    "%autoreload\n",
    "%matplotlib inline\n",
    "\n",
    "import pandas as pd\n",
    "import numpy as np\n",
    "import _pickle as pickle\n",
    "from IPython.core.debugger import set_trace\n",
    "from tqdm import tqdm_notebook\n",
    "import json\n",
    "import math\n",
    "import os\n",
    "import re\n",
    "import datetime\n",
    "from time import sleep\n",
    "from sklearn import preprocessing\n",
    "from tqdm.notebook import tqdm\n",
    "\n",
    "import gensim\n",
    "from gensim.models import Word2Vec, Doc2Vec, FastText\n",
    "from gensim.corpora import Dictionary\n",
    "from gensim.models.tfidfmodel import TfidfModel\n",
    "from gensim.matutils import sparse2full\n",
    "from gensim.models.doc2vec import TaggedDocument\n",
    "\n",
    "import pytz\n",
    "KST = pytz.timezone('Asia/Seoul')\n",
    "\n",
    "import snscrape\n",
    "import snscrape.modules.twitter as sntwitter\n",
    "import gspread\n",
    "from oauth2client.service_account import ServiceAccountCredentials"
   ]
  },
  {
   "cell_type": "markdown",
   "id": "a191b6e9",
   "metadata": {},
   "source": [
    "# 구글시트에서 트위터 검색쿼리 데이터 가져오기"
   ]
  },
  {
   "cell_type": "code",
   "execution_count": 2,
   "id": "787f3005",
   "metadata": {},
   "outputs": [],
   "source": [
    "scope = [\n",
    "    'https://spreadsheets.google.com/feeds',\n",
    "    'https://www.googleapis.com/auth/drive',\n",
    "]\n",
    "\n",
    "json_file_name = 'sideb-proejct-066e081b7bcd.json'\n",
    "credentials = ServiceAccountCredentials.from_json_keyfile_name(json_file_name, scope)\n",
    "gc = gspread.authorize(credentials)\n",
    "spreadsheet_url = 'https://docs.google.com/spreadsheets/d/1roV5_RPFtJ6z40I6EYGRmqx01Fe6JOOmaJ6nbDrfmkw/edit#gid=2020655845'\n",
    "\n",
    "# 스프레스시트 문서 가져오기 \n",
    "doc = gc.open_by_url(spreadsheet_url)\n",
    "\n",
    "# 시트 선택하기\n",
    "worksheet = doc.worksheet('20210913')\n",
    "values = worksheet.get_all_values()\n",
    "header, rows = values[0], values[1:]\n",
    "\n",
    "df = pd.DataFrame(rows, columns=header)\n",
    "df = df[['구분','한글명','영문명 full','영문명 short','트위터 검색쿼리','검색잘됨']].set_index('영문명 short')\n",
    "df = df.applymap(lambda x: x.strip() if isinstance(x, str) else x)"
   ]
  },
  {
   "cell_type": "code",
   "execution_count": null,
   "id": "bec819ef",
   "metadata": {},
   "outputs": [],
   "source": []
  },
  {
   "cell_type": "code",
   "execution_count": 175,
   "id": "c5faa893",
   "metadata": {},
   "outputs": [
    {
     "data": {
      "text/plain": [
       "'032c OR 032씨 since:2021-03-01 until:2021-08-31 lang:ko'"
      ]
     },
     "execution_count": 175,
     "metadata": {},
     "output_type": "execute_result"
    }
   ],
   "source": [
    "user_download_to = 'scrapped/twitter/user'\n",
    "feed_download_to = 'scrapped/twitter/feed'\n",
    "n_max = 10\n",
    "since = '2021-03-01'\n",
    "until = '2021-08-31'\n",
    "baseqry = '032c OR 032씨'\n",
    "# qry = '{baseqry} until:{until} lang:ko'.format(baseqry=baseqry, until=until)\n",
    "qry = '{baseqry} since:{since} until:{until} lang:ko'.format(baseqry=baseqry, since=since, until=until); qry"
   ]
  },
  {
   "cell_type": "code",
   "execution_count": 9,
   "id": "976aa415",
   "metadata": {},
   "outputs": [],
   "source": [
    "def convert2serialize(obj):\n",
    "    if isinstance(obj, dict):\n",
    "        return { k: convert2serialize(v) for k, v in obj.items() }\n",
    "    \n",
    "    elif hasattr(obj, \"_ast\"):\n",
    "        return convert2serialize(obj._ast())\n",
    "    \n",
    "    elif not isinstance(obj, str) and hasattr(obj, \"__iter__\"):\n",
    "        return [ convert2serialize(v) for v in obj ]\n",
    "    \n",
    "    elif hasattr(obj, \"__dict__\"):\n",
    "        return {\n",
    "            k: convert2serialize(v)\n",
    "            for k, v in obj.__dict__.items()\n",
    "            if not callable(v) and not k.startswith('_')\n",
    "        }\n",
    "    \n",
    "    elif isinstance(obj, datetime.date):\n",
    "        return obj.astimezone(KST).isoformat()\n",
    "    \n",
    "    else:\n",
    "        return obj"
   ]
  },
  {
   "cell_type": "code",
   "execution_count": 88,
   "id": "1af0b3c3",
   "metadata": {},
   "outputs": [],
   "source": [
    "tweets_list = []\n",
    "\n",
    "# Using TwitterSearchScraper to scrape data and append tweets to list\n",
    "for i, _tw in enumerate(sntwitter.TwitterSearchScraper(qry).get_items()):\n",
    "    if i > n_max:\n",
    "        break\n",
    "        \n",
    "    tweets_list.append(_tw)\n",
    "#     tweets_list1.append([tweet.date, tweet.id, tweet.content, tweet.user.username])"
   ]
  },
  {
   "cell_type": "code",
   "execution_count": 83,
   "id": "32ab3dbe",
   "metadata": {
    "collapsed": true
   },
   "outputs": [
    {
     "data": {
      "text/plain": [
       "[Tweet(url='https://twitter.com/www87mmcokr/status/1432176249565286401', date=datetime.datetime(2021, 8, 30, 3, 0, 1, tzinfo=datetime.timezone.utc), content='Mmlg l 4TH DELIVERY\\n\\n&lt;WEFLAG&gt; 추가 컬렉션이 오픈되었습니다.🚩\\n레트로 스포티즘과 뉴프레피를 해석한 엠엠엘지의 컬렉션은\\n지금 팔칠엠엠 공식 온/오프라인 스토어에서 만나보실 수 있어요!\\n\\n🌏 https://t.co/ZBssYq7iiL\\n🏠 마포구 어울마당로 94-8\\n\\n#87MM #Mmlg https://t.co/GpHzdfpYNx', renderedContent='Mmlg l 4TH DELIVERY\\n\\n&lt;WEFLAG&gt; 추가 컬렉션이 오픈되었습니다.🚩\\n레트로 스포티즘과 뉴프레피를 해석한 엠엠엘지의 컬렉션은\\n지금 팔칠엠엠 공식 온/오프라인 스토어에서 만나보실 수 있어요!\\n\\n🌏 87mm.co.kr\\n🏠 마포구 어울마당로 94-8\\n\\n#87MM #Mmlg https://t.co/GpHzdfpYNx', id=1432176249565286401, user=User(username='www87mmcokr', id=380846167, displayname='87MM_OFFICIAL', description='Newwave Street Culture.', rawDescription='Newwave Street Culture.', descriptionUrls=None, verified=False, created=datetime.datetime(2011, 9, 27, 10, 8, 20, tzinfo=datetime.timezone.utc), followersCount=9104, friendsCount=0, statusesCount=527, favouritesCount=154, listedCount=37, mediaCount=211, location='대한민국 서울', protected=False, linkUrl='http://87mm.co.kr', linkTcourl='https://t.co/KjpxakTGkk', profileImageUrl='https://pbs.twimg.com/profile_images/1361594043008880642/NUNxbk63_normal.jpg', profileBannerUrl='https://pbs.twimg.com/profile_banners/380846167/1628652099'), replyCount=0, retweetCount=3, likeCount=3, quoteCount=0, conversationId=1432176249565286401, lang='ko', source='<a href=\"https://mobile.twitter.com\" rel=\"nofollow\">Twitter Web App</a>', sourceUrl='https://mobile.twitter.com', sourceLabel='Twitter Web App', outlinks=['http://87mm.co.kr'], tcooutlinks=['https://t.co/ZBssYq7iiL'], media=[Photo(previewUrl='https://pbs.twimg.com/media/E-AH-ZGVQAEFfMp?format=jpg&name=small', fullUrl='https://pbs.twimg.com/media/E-AH-ZGVQAEFfMp?format=jpg&name=large'), Photo(previewUrl='https://pbs.twimg.com/media/E-AH-ZIVkAEojaB?format=jpg&name=small', fullUrl='https://pbs.twimg.com/media/E-AH-ZIVkAEojaB?format=jpg&name=large'), Photo(previewUrl='https://pbs.twimg.com/media/E-AH-ZIVIAU5LoP?format=jpg&name=small', fullUrl='https://pbs.twimg.com/media/E-AH-ZIVIAU5LoP?format=jpg&name=large'), Photo(previewUrl='https://pbs.twimg.com/media/E-AH-ZHUUAUNlHR?format=jpg&name=small', fullUrl='https://pbs.twimg.com/media/E-AH-ZHUUAUNlHR?format=jpg&name=large')], retweetedTweet=None, quotedTweet=None, inReplyToTweetId=None, inReplyToUser=None, mentionedUsers=None, coordinates=None, place=None, hashtags=['87MM', 'Mmlg'], cashtags=None),\n",
       " Tweet(url='https://twitter.com/www87mmcokr/status/1429639538285027333', date=datetime.datetime(2021, 8, 23, 3, 0, 2, tzinfo=datetime.timezone.utc), content='21FW l 2ND DELIVERY\\n\\n데일리 레이블 엠엠엘지의 두 번째 딜리버리,\\n&lt;WEFLAG&gt; 컬렉션이 공개되었습니다. 🚩\\n\\n레트로 스포티즘의 뉴프레피, 컬리지 무드로 디자인된 컬렉션은 현재 팔칠엠엠 공식 온/오프라인에서 만나보실 수 있습니다.✌🏻\\n\\n🌏 https://t.co/ZBssYpPGUb\\n🏠 마포구 어울마당로 94-8 https://t.co/WGzDhEZcug', renderedContent='21FW l 2ND DELIVERY\\n\\n데일리 레이블 엠엠엘지의 두 번째 딜리버리,\\n&lt;WEFLAG&gt; 컬렉션이 공개되었습니다. 🚩\\n\\n레트로 스포티즘의 뉴프레피, 컬리지 무드로 디자인된 컬렉션은 현재 팔칠엠엠 공식 온/오프라인에서 만나보실 수 있습니다.✌🏻\\n\\n🌏 87mm.co.kr\\n🏠 마포구 어울마당로 94-8 https://t.co/WGzDhEZcug', id=1429639538285027333, user=User(username='www87mmcokr', id=380846167, displayname='87MM_OFFICIAL', description='Newwave Street Culture.', rawDescription='Newwave Street Culture.', descriptionUrls=None, verified=False, created=datetime.datetime(2011, 9, 27, 10, 8, 20, tzinfo=datetime.timezone.utc), followersCount=9104, friendsCount=0, statusesCount=527, favouritesCount=154, listedCount=37, mediaCount=211, location='대한민국 서울', protected=False, linkUrl='http://87mm.co.kr', linkTcourl='https://t.co/KjpxakTGkk', profileImageUrl='https://pbs.twimg.com/profile_images/1361594043008880642/NUNxbk63_normal.jpg', profileBannerUrl='https://pbs.twimg.com/profile_banners/380846167/1628652099'), replyCount=0, retweetCount=0, likeCount=3, quoteCount=0, conversationId=1429639538285027333, lang='ko', source='<a href=\"https://mobile.twitter.com\" rel=\"nofollow\">Twitter Web App</a>', sourceUrl='https://mobile.twitter.com', sourceLabel='Twitter Web App', outlinks=['http://87mm.co.kr'], tcooutlinks=['https://t.co/ZBssYpPGUb'], media=[Photo(previewUrl='https://pbs.twimg.com/media/E9DbeunUUAkQUT1?format=jpg&name=small', fullUrl='https://pbs.twimg.com/media/E9DbeunUUAkQUT1?format=jpg&name=large'), Photo(previewUrl='https://pbs.twimg.com/media/E9DbeuoVoAIVTd4?format=jpg&name=small', fullUrl='https://pbs.twimg.com/media/E9DbeuoVoAIVTd4?format=jpg&name=large'), Photo(previewUrl='https://pbs.twimg.com/media/E9DbeulVgAUyUGc?format=jpg&name=small', fullUrl='https://pbs.twimg.com/media/E9DbeulVgAUyUGc?format=jpg&name=large'), Photo(previewUrl='https://pbs.twimg.com/media/E9DbeupVUAAslu2?format=jpg&name=small', fullUrl='https://pbs.twimg.com/media/E9DbeupVUAAslu2?format=jpg&name=large')], retweetedTweet=None, quotedTweet=None, inReplyToTweetId=None, inReplyToUser=None, mentionedUsers=None, coordinates=None, place=None, hashtags=None, cashtags=None),\n",
       " Tweet(url='https://twitter.com/insaengisdog/status/1426149094955700228', date=datetime.datetime(2021, 8, 13, 11, 50, 15, tzinfo=datetime.timezone.utc), content='이언니팔칠엠엠조아하네 https://t.co/YdKRMewoK1', renderedContent='이언니팔칠엠엠조아하네 twitter.com/Heegle4_0429/s…', id=1426149094955700228, user=User(username='insaengisdog', id=1357649348859863044, displayname='지마', description='', rawDescription='', descriptionUrls=None, verified=False, created=datetime.datetime(2021, 2, 5, 11, 16, 52, tzinfo=datetime.timezone.utc), followersCount=401, friendsCount=462, statusesCount=28179, favouritesCount=13737, listedCount=9, mediaCount=2775, location='박지에종천을곁들인', protected=False, linkUrl=None, linkTcourl=None, profileImageUrl='https://pbs.twimg.com/profile_images/1429320839304945668/q1bJ1h_k_normal.jpg', profileBannerUrl='https://pbs.twimg.com/profile_banners/1357649348859863044/1630327198'), replyCount=0, retweetCount=0, likeCount=0, quoteCount=0, conversationId=1426149094955700228, lang='ko', source='<a href=\"http://twitter.com/download/iphone\" rel=\"nofollow\">Twitter for iPhone</a>', sourceUrl='http://twitter.com/download/iphone', sourceLabel='Twitter for iPhone', outlinks=['https://twitter.com/Heegle4_0429/status/1426125389538021376'], tcooutlinks=['https://t.co/YdKRMewoK1'], media=None, retweetedTweet=None, quotedTweet=Tweet(url='https://twitter.com/Heegle4_0429/status/1426125389538021376', date=datetime.datetime(2021, 8, 13, 10, 16, 3, tzinfo=datetime.timezone.utc), content='김희진 1987 4단 컬렉션 모음 https://t.co/g9OY0poHTg', renderedContent='김희진 1987 4단 컬렉션 모음 https://t.co/g9OY0poHTg', id=1426125389538021376, user=User(username='Heegle4_0429', id=1420056821868339204, displayname='꿍🏐🧸', description='🐻김희진🐻은 배구를 찢어 그리고 내 마음도 갈기갈기 찢어', rawDescription='🐻김희진🐻은 배구를 찢어 그리고 내 마음도 갈기갈기 찢어', descriptionUrls=None, verified=False, created=datetime.datetime(2021, 7, 27, 16, 21, 52, tzinfo=datetime.timezone.utc), followersCount=888, friendsCount=87, statusesCount=4632, favouritesCount=47, listedCount=3, mediaCount=1212, location='♡ 김희진 NO.4 ♡ / 좋아하는 김희진을 올립니다♥', protected=False, linkUrl=None, linkTcourl=None, profileImageUrl='https://pbs.twimg.com/profile_images/1436131159595892743/98szfnwo_normal.jpg', profileBannerUrl='https://pbs.twimg.com/profile_banners/1420056821868339204/1627741375'), replyCount=0, retweetCount=50, likeCount=107, quoteCount=3, conversationId=1426125389538021376, lang='ko', source='<a href=\"http://twitter.com/download/iphone\" rel=\"nofollow\">Twitter for iPhone</a>', sourceUrl='http://twitter.com/download/iphone', sourceLabel='Twitter for iPhone', outlinks=None, tcooutlinks=None, media=[Photo(previewUrl='https://pbs.twimg.com/media/E8qdeoGUUAUoaUw?format=jpg&name=small', fullUrl='https://pbs.twimg.com/media/E8qdeoGUUAUoaUw?format=jpg&name=large'), Photo(previewUrl='https://pbs.twimg.com/media/E8qdeoFVgAc3tmg?format=jpg&name=small', fullUrl='https://pbs.twimg.com/media/E8qdeoFVgAc3tmg?format=jpg&name=large'), Photo(previewUrl='https://pbs.twimg.com/media/E8qdeoFVkAEcoDZ?format=jpg&name=small', fullUrl='https://pbs.twimg.com/media/E8qdeoFVkAEcoDZ?format=jpg&name=large'), Photo(previewUrl='https://pbs.twimg.com/media/E8qdeoGUUAItgvz?format=jpg&name=small', fullUrl='https://pbs.twimg.com/media/E8qdeoGUUAItgvz?format=jpg&name=large')], retweetedTweet=None, quotedTweet=None, inReplyToTweetId=None, inReplyToUser=None, mentionedUsers=None, coordinates=None, place=None, hashtags=None, cashtags=None), inReplyToTweetId=None, inReplyToUser=None, mentionedUsers=None, coordinates=None, place=None, hashtags=None, cashtags=None),\n",
       " Tweet(url='https://twitter.com/correct_posture/status/1425807610989617159', date=datetime.datetime(2021, 8, 12, 13, 13, 19, tzinfo=datetime.timezone.utc), content='와 내 친구(연락안한지백년이라이제는친구도아닌) 완전 짱 옛날에 팔칠엠엠들어갔는데 아직도 일하네', renderedContent='와 내 친구(연락안한지백년이라이제는친구도아닌) 완전 짱 옛날에 팔칠엠엠들어갔는데 아직도 일하네', id=1425807610989617159, user=User(username='correct_posture', id=171092590, displayname='바른자세🤧', description='이대로 죽을 순 없다 / Queen Yuna💕 /', rawDescription='이대로 죽을 순 없다 / Queen Yuna💕 /', descriptionUrls=None, verified=False, created=datetime.datetime(2010, 7, 26, 14, 54, 53, tzinfo=datetime.timezone.utc), followersCount=217, friendsCount=168, statusesCount=61893, favouritesCount=666, listedCount=3, mediaCount=4808, location='cosmic', protected=False, linkUrl=None, linkTcourl=None, profileImageUrl='https://pbs.twimg.com/profile_images/1406243927343042564/0rUumBzN_normal.png', profileBannerUrl='https://pbs.twimg.com/profile_banners/171092590/1616415181'), replyCount=0, retweetCount=0, likeCount=0, quoteCount=0, conversationId=1425807610989617159, lang='ko', source='<a href=\"http://twitter.com/download/iphone\" rel=\"nofollow\">Twitter for iPhone</a>', sourceUrl='http://twitter.com/download/iphone', sourceLabel='Twitter for iPhone', outlinks=None, tcooutlinks=None, media=None, retweetedTweet=None, quotedTweet=None, inReplyToTweetId=None, inReplyToUser=None, mentionedUsers=None, coordinates=None, place=None, hashtags=None, cashtags=None),\n",
       " Tweet(url='https://twitter.com/hjvv_4/status/1425007700232966149', date=datetime.datetime(2021, 8, 10, 8, 14, 45, tzinfo=datetime.timezone.utc), content='이정도면 희진 언니가 팔칠엠엠 모델해야됨\\n소화력 장난없죠? https://t.co/fOWCBILS4y', renderedContent='이정도면 희진 언니가 팔칠엠엠 모델해야됨\\n소화력 장난없죠? https://t.co/fOWCBILS4y', id=1425007700232966149, user=User(username='hjvv_4', id=1424218845644922884, displayname='히긁', description='김희진 𓂃🧸𓈒 𓂂𓏸', rawDescription='김희진 𓂃🧸𓈒 𓂂𓏸', descriptionUrls=None, verified=False, created=datetime.datetime(2021, 8, 8, 4, 0, 16, tzinfo=datetime.timezone.utc), followersCount=108, friendsCount=61, statusesCount=245, favouritesCount=247, listedCount=0, mediaCount=66, location='𝙉𝙀𝙑𝙀𝙍 𝙎𝘼𝙔 𝙉𝙀𝙑𝙀𝙍', protected=False, linkUrl=None, linkTcourl=None, profileImageUrl='https://pbs.twimg.com/profile_images/1424218991929610251/MU3NvopL_normal.jpg', profileBannerUrl='https://pbs.twimg.com/profile_banners/1424218845644922884/1628423641'), replyCount=0, retweetCount=0, likeCount=1, quoteCount=0, conversationId=1425007700232966149, lang='ko', source='<a href=\"http://twitter.com/download/iphone\" rel=\"nofollow\">Twitter for iPhone</a>', sourceUrl='http://twitter.com/download/iphone', sourceLabel='Twitter for iPhone', outlinks=None, tcooutlinks=None, media=[Photo(previewUrl='https://pbs.twimg.com/media/E8ak8hbVkAcnPDL?format=jpg&name=small', fullUrl='https://pbs.twimg.com/media/E8ak8hbVkAcnPDL?format=jpg&name=large'), Photo(previewUrl='https://pbs.twimg.com/media/E8ak8hbVcAI-yVi?format=jpg&name=small', fullUrl='https://pbs.twimg.com/media/E8ak8hbVcAI-yVi?format=jpg&name=large')], retweetedTweet=None, quotedTweet=None, inReplyToTweetId=None, inReplyToUser=None, mentionedUsers=None, coordinates=None, place=None, hashtags=None, cashtags=None),\n",
       " Tweet(url='https://twitter.com/mayu_universe/status/1424738970504613901', date=datetime.datetime(2021, 8, 9, 14, 26, 55, tzinfo=datetime.timezone.utc), content='@bbok_bbok_0915 승민수/빵민수\\n   /빵민수\\n사실 내가 팔칠엠엠 죠아해••\\U0001f972..💗\\n갠적으로.. 흰색 승민수가 진차진차 이쁨!!! https://t.co/e5bNvp4NjM', renderedContent='@bbok_bbok_0915 승민수/빵민수\\n   /빵민수\\n사실 내가 팔칠엠엠 죠아해••\\U0001f972..💗\\n갠적으로.. 흰색 승민수가 진차진차 이쁨!!! https://t.co/e5bNvp4NjM', id=1424738970504613901, user=User(username='mayu_universe', id=1420989135523700736, displayname='마유(｡◝‿◜｡)🦊', description='항상 정인이 옆에✨/ 8KZ / 성인테이 / 트친단종!➡️맞팔디엠 / peing.net/ko/mayu_univer…', rawDescription='항상 정인이 옆에✨/ 8KZ / 성인테이 / 트친단종!➡️맞팔디엠 / https://t.co/7OWC60GPZb', descriptionUrls=[{'text': 'peing.net/ko/mayu_univer…', 'url': 'https://peing.net/ko/mayu_universe', 'tcourl': 'https://t.co/7OWC60GPZb', 'indices': (39, 62)}], verified=False, created=datetime.datetime(2021, 7, 30, 6, 6, 33, tzinfo=datetime.timezone.utc), followersCount=323, friendsCount=345, statusesCount=3127, favouritesCount=4287, listedCount=29, mediaCount=537, location='YJI', protected=False, linkUrl=None, linkTcourl=None, profileImageUrl='https://pbs.twimg.com/profile_images/1429861159910338560/2Ao-pL9c_normal.jpg', profileBannerUrl='https://pbs.twimg.com/profile_banners/1420989135523700736/1631088593'), replyCount=2, retweetCount=0, likeCount=1, quoteCount=0, conversationId=1424629109041164291, lang='ko', source='<a href=\"http://twitter.com/download/iphone\" rel=\"nofollow\">Twitter for iPhone</a>', sourceUrl='http://twitter.com/download/iphone', sourceLabel='Twitter for iPhone', outlinks=None, tcooutlinks=None, media=[Photo(previewUrl='https://pbs.twimg.com/media/E8WwifiUUAIioll?format=jpg&name=small', fullUrl='https://pbs.twimg.com/media/E8WwifiUUAIioll?format=jpg&name=large')], retweetedTweet=None, quotedTweet=None, inReplyToTweetId=1424629109041164291, inReplyToUser=User(username='bbok_bbok_0915', id=1400401758774468613, displayname='뽁뽁', description=None, rawDescription=None, descriptionUrls=None, verified=None, created=None, followersCount=None, friendsCount=None, statusesCount=None, favouritesCount=None, listedCount=None, mediaCount=None, location=None, protected=None, linkUrl=None, linkTcourl=None, profileImageUrl=None, profileBannerUrl=None), mentionedUsers=[User(username='bbok_bbok_0915', id=1400401758774468613, displayname='뽁뽁', description=None, rawDescription=None, descriptionUrls=None, verified=None, created=None, followersCount=None, friendsCount=None, statusesCount=None, favouritesCount=None, listedCount=None, mediaCount=None, location=None, protected=None, linkUrl=None, linkTcourl=None, profileImageUrl=None, profileBannerUrl=None)], coordinates=None, place=None, hashtags=None, cashtags=None),\n",
       " Tweet(url='https://twitter.com/qtqtqtp/status/1404954337600696323', date=datetime.datetime(2021, 6, 16, 0, 9, 51, tzinfo=datetime.timezone.utc), content='에휴 팔칠엠엠 입던 정재혀니..', renderedContent='에휴 팔칠엠엠 입던 정재혀니..', id=1404954337600696323, user=User(username='qtqtqtp', id=1400050697068974083, displayname='크티', description='백만불짜리 보조개 ｡◠‿◠｡', rawDescription='백만불짜리 보조개 ｡◠‿◠｡', descriptionUrls=None, verified=False, created=datetime.datetime(2021, 6, 2, 11, 24, 51, tzinfo=datetime.timezone.utc), followersCount=0, friendsCount=36, statusesCount=80, favouritesCount=24, listedCount=0, mediaCount=2, location='', protected=False, linkUrl=None, linkTcourl=None, profileImageUrl='https://pbs.twimg.com/profile_images/1420706702375067651/FxKfkpCn_normal.jpg', profileBannerUrl=None), replyCount=0, retweetCount=0, likeCount=0, quoteCount=1, conversationId=1404954337600696323, lang='ko', source='<a href=\"http://twitter.com/download/iphone\" rel=\"nofollow\">Twitter for iPhone</a>', sourceUrl='http://twitter.com/download/iphone', sourceLabel='Twitter for iPhone', outlinks=None, tcooutlinks=None, media=None, retweetedTweet=None, quotedTweet=None, inReplyToTweetId=None, inReplyToUser=None, mentionedUsers=None, coordinates=None, place=None, hashtags=None, cashtags=None),\n",
       " Tweet(url='https://twitter.com/couchpopo/status/1391979657642221569', date=datetime.datetime(2021, 5, 11, 4, 53, 6, tzinfo=datetime.timezone.utc), content='@z_zS2potato 아 =͟͟͞͞개=͟͟͞͞웃=͟͟͞͞겨 비바스튜디오 팔칠엠엠 분발합시다', renderedContent='@z_zS2potato 아 =͟͟͞͞개=͟͟͞͞웃=͟͟͞͞겨 비바스튜디오 팔칠엠엠 분발합시다', id=1391979657642221569, user=User(username='couchpopo', id=1370607953431044097, displayname='카포', description='반사신경마냥 영훈이 사랑하는중 ~^_^~', rawDescription='반사신경마냥 영훈이 사랑하는중 ~^_^~', descriptionUrls=None, verified=False, created=datetime.datetime(2021, 3, 13, 5, 29, 43, tzinfo=datetime.timezone.utc), followersCount=6, friendsCount=49, statusesCount=3352, favouritesCount=3558, listedCount=0, mediaCount=561, location='', protected=False, linkUrl=None, linkTcourl=None, profileImageUrl='https://pbs.twimg.com/profile_images/1425853978349228038/q5UzVSFi_normal.png', profileBannerUrl=None), replyCount=0, retweetCount=0, likeCount=1, quoteCount=0, conversationId=1391959392237473792, lang='ko', source='<a href=\"http://twitter.com/download/iphone\" rel=\"nofollow\">Twitter for iPhone</a>', sourceUrl='http://twitter.com/download/iphone', sourceLabel='Twitter for iPhone', outlinks=None, tcooutlinks=None, media=None, retweetedTweet=None, quotedTweet=None, inReplyToTweetId=1391974549269356547, inReplyToUser=User(username='z_zS2potato', id=1357355293315788801, displayname='마루', description=None, rawDescription=None, descriptionUrls=None, verified=None, created=None, followersCount=None, friendsCount=None, statusesCount=None, favouritesCount=None, listedCount=None, mediaCount=None, location=None, protected=None, linkUrl=None, linkTcourl=None, profileImageUrl=None, profileBannerUrl=None), mentionedUsers=[User(username='z_zS2potato', id=1357355293315788801, displayname='마루', description=None, rawDescription=None, descriptionUrls=None, verified=None, created=None, followersCount=None, friendsCount=None, statusesCount=None, favouritesCount=None, listedCount=None, mediaCount=None, location=None, protected=None, linkUrl=None, linkTcourl=None, profileImageUrl=None, profileBannerUrl=None)], coordinates=None, place=None, hashtags=None, cashtags=None),\n",
       " Tweet(url='https://twitter.com/z_zS2potato/status/1391974549269356547', date=datetime.datetime(2021, 5, 11, 4, 32, 48, tzinfo=datetime.timezone.utc), content='@couchpopo 엘엠씨 디네댓 마크곤잘레스는 늘 있는데 비바 팔칠엠엠은 항상 없다는 게 존나 웃김요ㅅㅂ', renderedContent='@couchpopo 엘엠씨 디네댓 마크곤잘레스는 늘 있는데 비바 팔칠엠엠은 항상 없다는 게 존나 웃김요ㅅㅂ', id=1391974549269356547, user=User(username='z_zS2potato', id=1357355293315788801, displayname='마루', description='니왜튀김선택한거야\\n걍김밥이나둘둘말지\\n햄이나몰래주워먹지\\n참기름땜에손미끄덩\\n그래도닐사랑했을듯', rawDescription='니왜튀김선택한거야\\n걍김밥이나둘둘말지\\n햄이나몰래주워먹지\\n참기름땜에손미끄덩\\n그래도닐사랑했을듯', descriptionUrls=None, verified=False, created=datetime.datetime(2021, 2, 4, 15, 48, 22, tzinfo=datetime.timezone.utc), followersCount=619, friendsCount=24, statusesCount=2130, favouritesCount=1618, listedCount=3, mediaCount=639, location='', protected=False, linkUrl=None, linkTcourl=None, profileImageUrl='https://pbs.twimg.com/profile_images/1387491260055756800/bjxsOGN5_normal.jpg', profileBannerUrl='https://pbs.twimg.com/profile_banners/1357355293315788801/1623772530'), replyCount=1, retweetCount=0, likeCount=0, quoteCount=0, conversationId=1391959392237473792, lang='ko', source='<a href=\"http://twitter.com/download/android\" rel=\"nofollow\">Twitter for Android</a>', sourceUrl='http://twitter.com/download/android', sourceLabel='Twitter for Android', outlinks=None, tcooutlinks=None, media=None, retweetedTweet=None, quotedTweet=None, inReplyToTweetId=1391972710381625345, inReplyToUser=User(username='couchpopo', id=1370607953431044097, displayname='카포', description=None, rawDescription=None, descriptionUrls=None, verified=None, created=None, followersCount=None, friendsCount=None, statusesCount=None, favouritesCount=None, listedCount=None, mediaCount=None, location=None, protected=None, linkUrl=None, linkTcourl=None, profileImageUrl=None, profileBannerUrl=None), mentionedUsers=[User(username='couchpopo', id=1370607953431044097, displayname='카포', description=None, rawDescription=None, descriptionUrls=None, verified=None, created=None, followersCount=None, friendsCount=None, statusesCount=None, favouritesCount=None, listedCount=None, mediaCount=None, location=None, protected=None, linkUrl=None, linkTcourl=None, profileImageUrl=None, profileBannerUrl=None)], coordinates=None, place=None, hashtags=None, cashtags=None),\n",
       " Tweet(url='https://twitter.com/1231_SC/status/1387383427435876353', date=datetime.datetime(2021, 4, 28, 12, 29, 20, tzinfo=datetime.timezone.utc), content='아니 팔칠엠엠 옷 왤케 큰거야..? 실측보다 훨 큰거 같은데 ㅠ', renderedContent='아니 팔칠엠엠 옷 왤케 큰거야..? 실측보다 훨 큰거 같은데 ㅠ', id=1387383427435876353, user=User(username='1231_SC', id=1383416009722236935, displayname='yeni', description='김성철 뭐랭~', rawDescription='김성철 뭐랭~', descriptionUrls=None, verified=False, created=datetime.datetime(2021, 4, 17, 13, 44, 28, tzinfo=datetime.timezone.utc), followersCount=193, friendsCount=125, statusesCount=4553, favouritesCount=4192, listedCount=23, mediaCount=601, location='한남동', protected=False, linkUrl=None, linkTcourl=None, profileImageUrl='https://pbs.twimg.com/profile_images/1430309873196044288/BSJm3fni_normal.jpg', profileBannerUrl='https://pbs.twimg.com/profile_banners/1383416009722236935/1628508232'), replyCount=0, retweetCount=0, likeCount=0, quoteCount=0, conversationId=1387383427435876353, lang='ko', source='<a href=\"http://twitter.com/download/iphone\" rel=\"nofollow\">Twitter for iPhone</a>', sourceUrl='http://twitter.com/download/iphone', sourceLabel='Twitter for iPhone', outlinks=None, tcooutlinks=None, media=None, retweetedTweet=None, quotedTweet=None, inReplyToTweetId=None, inReplyToUser=None, mentionedUsers=None, coordinates=None, place=None, hashtags=None, cashtags=None),\n",
       " Tweet(url='https://twitter.com/TBTGBW/status/1386696366303236103', date=datetime.datetime(2021, 4, 26, 14, 59, 11, tzinfo=datetime.timezone.utc), content='@homobugg 이건 한국팬 조공템인듯 근데 팔칠엠엠은 옛날이라 조공아닐텐데ㅋㅋㅋㅋㅋㅋㅋㅋ걍 태국인도 무신사랑해임.. 개신기', renderedContent='@homobugg 이건 한국팬 조공템인듯 근데 팔칠엠엠은 옛날이라 조공아닐텐데ㅋㅋㅋㅋㅋㅋㅋㅋ걍 태국인도 무신사랑해임.. 개신기', id=1386696366303236103, user=User(username='TBTGBW', id=1292158550614056964, displayname='vim', description='기어서태국속으로', rawDescription='기어서태국속으로', descriptionUrls=None, verified=False, created=datetime.datetime(2020, 8, 8, 17, 59, 55, tzinfo=datetime.timezone.utc), followersCount=72, friendsCount=53, statusesCount=4908, favouritesCount=186, listedCount=1, mediaCount=2326, location='', protected=False, linkUrl=None, linkTcourl=None, profileImageUrl='https://pbs.twimg.com/profile_images/1363784258586771458/znc1sare_normal.png', profileBannerUrl='https://pbs.twimg.com/profile_banners/1292158550614056964/1602157109'), replyCount=0, retweetCount=0, likeCount=1, quoteCount=0, conversationId=1386694614539661314, lang='ko', source='<a href=\"http://twitter.com/download/iphone\" rel=\"nofollow\">Twitter for iPhone</a>', sourceUrl='http://twitter.com/download/iphone', sourceLabel='Twitter for iPhone', outlinks=None, tcooutlinks=None, media=None, retweetedTweet=None, quotedTweet=None, inReplyToTweetId=1386694614539661314, inReplyToUser=User(username='shotabugg', id=1322958909112381440, displayname=None, description=None, rawDescription=None, descriptionUrls=None, verified=None, created=None, followersCount=None, friendsCount=None, statusesCount=None, favouritesCount=None, listedCount=None, mediaCount=None, location=None, protected=None, linkUrl=None, linkTcourl=None, profileImageUrl=None, profileBannerUrl=None), mentionedUsers=None, coordinates=None, place=None, hashtags=None, cashtags=None)]"
      ]
     },
     "execution_count": 83,
     "metadata": {},
     "output_type": "execute_result"
    }
   ],
   "source": [
    "tweets_list"
   ]
  },
  {
   "cell_type": "code",
   "execution_count": 114,
   "id": "333c19bf",
   "metadata": {
    "collapsed": true
   },
   "outputs": [
    {
     "data": {
      "text/plain": [
       "{'url': 'https://twitter.com/www87mmcokr/status/1432176249565286401',\n",
       " 'date': '2021-08-30T12:00:01+09:00',\n",
       " 'content': 'Mmlg l 4TH DELIVERY\\n\\n&lt;WEFLAG&gt; 추가 컬렉션이 오픈되었습니다.🚩\\n레트로 스포티즘과 뉴프레피를 해석한 엠엠엘지의 컬렉션은\\n지금 팔칠엠엠 공식 온/오프라인 스토어에서 만나보실 수 있어요!\\n\\n🌏 https://t.co/ZBssYq7iiL\\n🏠 마포구 어울마당로 94-8\\n\\n#87MM #Mmlg https://t.co/GpHzdfpYNx',\n",
       " 'renderedContent': 'Mmlg l 4TH DELIVERY\\n\\n&lt;WEFLAG&gt; 추가 컬렉션이 오픈되었습니다.🚩\\n레트로 스포티즘과 뉴프레피를 해석한 엠엠엘지의 컬렉션은\\n지금 팔칠엠엠 공식 온/오프라인 스토어에서 만나보실 수 있어요!\\n\\n🌏 87mm.co.kr\\n🏠 마포구 어울마당로 94-8\\n\\n#87MM #Mmlg https://t.co/GpHzdfpYNx',\n",
       " 'id': 1432176249565286401,\n",
       " 'user': {'username': 'www87mmcokr',\n",
       "  'id': 380846167,\n",
       "  'displayname': '87MM_OFFICIAL',\n",
       "  'description': 'Newwave Street Culture.',\n",
       "  'rawDescription': 'Newwave Street Culture.',\n",
       "  'descriptionUrls': None,\n",
       "  'verified': False,\n",
       "  'created': '2011-09-27T19:08:20+09:00',\n",
       "  'followersCount': 9104,\n",
       "  'friendsCount': 0,\n",
       "  'statusesCount': 527,\n",
       "  'favouritesCount': 154,\n",
       "  'listedCount': 37,\n",
       "  'mediaCount': 211,\n",
       "  'location': '대한민국 서울',\n",
       "  'protected': False,\n",
       "  'linkUrl': 'http://87mm.co.kr',\n",
       "  'linkTcourl': 'https://t.co/KjpxakTGkk',\n",
       "  'profileImageUrl': 'https://pbs.twimg.com/profile_images/1361594043008880642/NUNxbk63_normal.jpg',\n",
       "  'profileBannerUrl': 'https://pbs.twimg.com/profile_banners/380846167/1628652099'},\n",
       " 'replyCount': 0,\n",
       " 'retweetCount': 3,\n",
       " 'likeCount': 3,\n",
       " 'quoteCount': 0,\n",
       " 'conversationId': 1432176249565286401,\n",
       " 'lang': 'ko',\n",
       " 'source': '<a href=\"https://mobile.twitter.com\" rel=\"nofollow\">Twitter Web App</a>',\n",
       " 'sourceUrl': 'https://mobile.twitter.com',\n",
       " 'sourceLabel': 'Twitter Web App',\n",
       " 'outlinks': ['http://87mm.co.kr'],\n",
       " 'tcooutlinks': ['https://t.co/ZBssYq7iiL'],\n",
       " 'media': [{'previewUrl': 'https://pbs.twimg.com/media/E-AH-ZGVQAEFfMp?format=jpg&name=small',\n",
       "   'fullUrl': 'https://pbs.twimg.com/media/E-AH-ZGVQAEFfMp?format=jpg&name=large'},\n",
       "  {'previewUrl': 'https://pbs.twimg.com/media/E-AH-ZIVkAEojaB?format=jpg&name=small',\n",
       "   'fullUrl': 'https://pbs.twimg.com/media/E-AH-ZIVkAEojaB?format=jpg&name=large'},\n",
       "  {'previewUrl': 'https://pbs.twimg.com/media/E-AH-ZIVIAU5LoP?format=jpg&name=small',\n",
       "   'fullUrl': 'https://pbs.twimg.com/media/E-AH-ZIVIAU5LoP?format=jpg&name=large'},\n",
       "  {'previewUrl': 'https://pbs.twimg.com/media/E-AH-ZHUUAUNlHR?format=jpg&name=small',\n",
       "   'fullUrl': 'https://pbs.twimg.com/media/E-AH-ZHUUAUNlHR?format=jpg&name=large'}],\n",
       " 'retweetedTweet': None,\n",
       " 'quotedTweet': None,\n",
       " 'inReplyToTweetId': None,\n",
       " 'inReplyToUser': None,\n",
       " 'mentionedUsers': None,\n",
       " 'coordinates': None,\n",
       " 'place': None,\n",
       " 'hashtags': ['87MM', 'Mmlg'],\n",
       " 'cashtags': None}"
      ]
     },
     "execution_count": 114,
     "metadata": {},
     "output_type": "execute_result"
    }
   ],
   "source": [
    "idx = 0\n",
    "tw = convert2serialize(tweets_list[idx])\n",
    "tw['date'] = tw['date'].astimezone(KST).isoformat()\n",
    "tw['user']['created'] = tw['user']['created'].astimezone(KST).isoformat();tw"
   ]
  },
  {
   "cell_type": "code",
   "execution_count": 115,
   "id": "020d2c27",
   "metadata": {},
   "outputs": [
    {
     "data": {
      "text/plain": [
       "{'username': 'www87mmcokr',\n",
       " 'id': 380846167,\n",
       " 'displayname': '87MM_OFFICIAL',\n",
       " 'description': 'Newwave Street Culture.',\n",
       " 'rawDescription': 'Newwave Street Culture.',\n",
       " 'descriptionUrls': None,\n",
       " 'verified': False,\n",
       " 'created': '2011-09-27T19:08:20+09:00',\n",
       " 'followersCount': 9104,\n",
       " 'friendsCount': 0,\n",
       " 'statusesCount': 527,\n",
       " 'favouritesCount': 154,\n",
       " 'listedCount': 37,\n",
       " 'mediaCount': 211,\n",
       " 'location': '대한민국 서울',\n",
       " 'protected': False,\n",
       " 'linkUrl': 'http://87mm.co.kr',\n",
       " 'linkTcourl': 'https://t.co/KjpxakTGkk',\n",
       " 'profileImageUrl': 'https://pbs.twimg.com/profile_images/1361594043008880642/NUNxbk63_normal.jpg',\n",
       " 'profileBannerUrl': 'https://pbs.twimg.com/profile_banners/380846167/1628652099'}"
      ]
     },
     "execution_count": 115,
     "metadata": {},
     "output_type": "execute_result"
    }
   ],
   "source": [
    "user = tw['user']; user"
   ]
  },
  {
   "cell_type": "code",
   "execution_count": 116,
   "id": "4cbc4cb7",
   "metadata": {},
   "outputs": [
    {
     "data": {
      "text/plain": [
       "{'url': 'https://twitter.com/www87mmcokr/status/1432176249565286401',\n",
       " 'date': '2021-08-30T12:00:01+09:00',\n",
       " 'content': 'Mmlg l 4TH DELIVERY\\n\\n&lt;WEFLAG&gt; 추가 컬렉션이 오픈되었습니다.🚩\\n레트로 스포티즘과 뉴프레피를 해석한 엠엠엘지의 컬렉션은\\n지금 팔칠엠엠 공식 온/오프라인 스토어에서 만나보실 수 있어요!\\n\\n🌏 https://t.co/ZBssYq7iiL\\n🏠 마포구 어울마당로 94-8\\n\\n#87MM #Mmlg https://t.co/GpHzdfpYNx',\n",
       " 'renderedContent': 'Mmlg l 4TH DELIVERY\\n\\n&lt;WEFLAG&gt; 추가 컬렉션이 오픈되었습니다.🚩\\n레트로 스포티즘과 뉴프레피를 해석한 엠엠엘지의 컬렉션은\\n지금 팔칠엠엠 공식 온/오프라인 스토어에서 만나보실 수 있어요!\\n\\n🌏 87mm.co.kr\\n🏠 마포구 어울마당로 94-8\\n\\n#87MM #Mmlg https://t.co/GpHzdfpYNx',\n",
       " 'id': 1432176249565286401,\n",
       " 'user': 'www87mmcokr',\n",
       " 'replyCount': 0,\n",
       " 'retweetCount': 3,\n",
       " 'likeCount': 3,\n",
       " 'quoteCount': 0,\n",
       " 'conversationId': 1432176249565286401,\n",
       " 'lang': 'ko',\n",
       " 'source': '<a href=\"https://mobile.twitter.com\" rel=\"nofollow\">Twitter Web App</a>',\n",
       " 'sourceUrl': 'https://mobile.twitter.com',\n",
       " 'sourceLabel': 'Twitter Web App',\n",
       " 'outlinks': ['http://87mm.co.kr'],\n",
       " 'tcooutlinks': ['https://t.co/ZBssYq7iiL'],\n",
       " 'media': [{'previewUrl': 'https://pbs.twimg.com/media/E-AH-ZGVQAEFfMp?format=jpg&name=small',\n",
       "   'fullUrl': 'https://pbs.twimg.com/media/E-AH-ZGVQAEFfMp?format=jpg&name=large'},\n",
       "  {'previewUrl': 'https://pbs.twimg.com/media/E-AH-ZIVkAEojaB?format=jpg&name=small',\n",
       "   'fullUrl': 'https://pbs.twimg.com/media/E-AH-ZIVkAEojaB?format=jpg&name=large'},\n",
       "  {'previewUrl': 'https://pbs.twimg.com/media/E-AH-ZIVIAU5LoP?format=jpg&name=small',\n",
       "   'fullUrl': 'https://pbs.twimg.com/media/E-AH-ZIVIAU5LoP?format=jpg&name=large'},\n",
       "  {'previewUrl': 'https://pbs.twimg.com/media/E-AH-ZHUUAUNlHR?format=jpg&name=small',\n",
       "   'fullUrl': 'https://pbs.twimg.com/media/E-AH-ZHUUAUNlHR?format=jpg&name=large'}],\n",
       " 'retweetedTweet': None,\n",
       " 'quotedTweet': None,\n",
       " 'inReplyToTweetId': None,\n",
       " 'inReplyToUser': None,\n",
       " 'mentionedUsers': None,\n",
       " 'coordinates': None,\n",
       " 'place': None,\n",
       " 'hashtags': ['87MM', 'Mmlg'],\n",
       " 'cashtags': None}"
      ]
     },
     "execution_count": 116,
     "metadata": {},
     "output_type": "execute_result"
    }
   ],
   "source": [
    "tw['user'] = user['username']; tw"
   ]
  },
  {
   "cell_type": "code",
   "execution_count": 121,
   "id": "00ef97d4",
   "metadata": {},
   "outputs": [
    {
     "name": "stdout",
     "output_type": "stream",
     "text": [
      "scrapped/twitter/feed/2021-08-30T12;00;01+09;00.json\n",
      "scrapped/twitter/user/www87mmcokr.json\n"
     ]
    }
   ],
   "source": [
    "feed_fname = feed_download_to + '/' + tw['date'].replace(':',';') + '.json'\n",
    "user_fname = user_download_to + '/' + user['username'] + '.json'\n",
    "print(feed_fname)\n",
    "print(user_fname)"
   ]
  },
  {
   "cell_type": "code",
   "execution_count": 125,
   "id": "d24f6355",
   "metadata": {},
   "outputs": [],
   "source": [
    "# 같은 피드가 없으면 파일로 저장해라\n",
    "if not os.path.isfile(feed_fname):\n",
    "    with open(feed_fname, 'w', encoding='UTF-8-sig') as f:\n",
    "        json.dump(tw, f, ensure_ascii=False)"
   ]
  },
  {
   "cell_type": "code",
   "execution_count": 126,
   "id": "02bcb149",
   "metadata": {},
   "outputs": [],
   "source": [
    "# 같은 유저가 있던말던 무조건 새 파일로 저장해라 (팔로워수 등은 업데이트 되므로)\n",
    "with open(user_fname, 'w', encoding='UTF-8-sig') as f:\n",
    "    json.dump(user, f, ensure_ascii=False)"
   ]
  },
  {
   "cell_type": "code",
   "execution_count": null,
   "id": "a16f6944",
   "metadata": {},
   "outputs": [],
   "source": []
  },
  {
   "cell_type": "code",
   "execution_count": null,
   "id": "aa10bad7",
   "metadata": {},
   "outputs": [],
   "source": []
  },
  {
   "cell_type": "code",
   "execution_count": null,
   "id": "35d4ea6b",
   "metadata": {},
   "outputs": [],
   "source": []
  },
  {
   "cell_type": "code",
   "execution_count": 6,
   "id": "99db44de",
   "metadata": {},
   "outputs": [
    {
     "data": {
      "text/plain": [
       "'032c OR 032씨 since:2021-03-01 until:2021-08-31 lang:ko'"
      ]
     },
     "execution_count": 6,
     "metadata": {},
     "output_type": "execute_result"
    }
   ],
   "source": [
    "user_download_to = 'scrapped/twitter/user'\n",
    "feed_download_to = 'scrapped/twitter/feed'\n",
    "# n_max = 10\n",
    "since = '2021-03-01'\n",
    "until = '2021-08-31'\n",
    "# baseqry = '032c OR 032씨'\n",
    "# qry = '{baseqry} until:{until} lang:ko'.format(baseqry=baseqry, until=until)\n",
    "qry = '{baseqry} since:{since} until:{until} lang:ko'.format(baseqry=baseqry, since=since, until=until); qry"
   ]
  },
  {
   "cell_type": "code",
   "execution_count": 17,
   "id": "05aca9ad",
   "metadata": {},
   "outputs": [],
   "source": [
    "def record(tw, brand):\n",
    "    _tw = convert2serialize(tw)\n",
    "    _user = _tw['user']\n",
    "    _tw['user'] = _user['username']\n",
    "    _tw['brands'] = []\n",
    "    \n",
    "    feed_fname = feed_download_to + '/' + _tw['date'].replace(':', ';') + '.json'\n",
    "    user_fname = user_download_to + '/' + _user['username'] + '.json'\n",
    "\n",
    "    # 같은 피드가 없으면 파일로 저장해라\n",
    "    if not os.path.isfile(feed_fname):\n",
    "        with open(feed_fname, 'w', encoding='UTF-8-sig') as f:\n",
    "            _tw['brands'].append(brand)\n",
    "            json.dump(_tw, f, ensure_ascii=False)\n",
    "            \n",
    "    # 같은 피드가 있으면, 해당 브랜드를 추가로 입력해라\n",
    "    else:\n",
    "        with open(feed_fname, 'r', encoding='UTF-8-sig') as f:\n",
    "            _tw = json.load(f)\n",
    "            \n",
    "            if brand not in _tw['brands']:\n",
    "                _tw['brands'].append(brand)\n",
    "            \n",
    "        with open(feed_fname, 'w', encoding='UTF-8-sig') as f:            \n",
    "            json.dump(_tw, f, ensure_ascii=False)        \n",
    "            \n",
    "    # 같은 유저가 있던말던 무조건 새 파일로 저장해라 (팔로워수 등은 업데이트 되므로)\n",
    "    with open(user_fname, 'w', encoding='UTF-8-sig') as f:\n",
    "        json.dump(_user, f, ensure_ascii=False)        "
   ]
  },
  {
   "cell_type": "code",
   "execution_count": null,
   "id": "7826aea9",
   "metadata": {},
   "outputs": [],
   "source": []
  },
  {
   "cell_type": "code",
   "execution_count": 10,
   "id": "bade019f",
   "metadata": {},
   "outputs": [
    {
     "data": {
      "text/plain": [
       "영문명 short\n",
       "032c                                            032c OR 032씨\n",
       "87mm                            87엠엠 OR 87앰앰 OR 팔칠앰앰 OR 팔칠엠엠\n",
       "99percentis             99percentis OR 99퍼센트이즈 OR 나인티나인퍼센트이즈\n",
       "jwanderson                   jwanderson OR jw앤더슨 OR 제이더블유앤더슨\n",
       "lostmanagementcities                                     엘엠씨\n",
       "                                        ...                 \n",
       "tictok                                          tictok OR 틱톡\n",
       "playmobil                                 playmobil OR 플레이모빌\n",
       "playstation                     playstation OR 플레이스테이션 OR 플스\n",
       "hansatoys                              \"hansatoys\" OR \"한사토이\"\n",
       "hottoys                                      hottoys OR 핫토이즈\n",
       "Name: 트위터 검색쿼리, Length: 569, dtype: object"
      ]
     },
     "execution_count": 10,
     "metadata": {},
     "output_type": "execute_result"
    }
   ],
   "source": [
    "qrys = df[df['검색잘됨']=='1']['트위터 검색쿼리']; qrys"
   ]
  },
  {
   "cell_type": "code",
   "execution_count": null,
   "id": "cf16c1c9",
   "metadata": {},
   "outputs": [],
   "source": []
  },
  {
   "cell_type": "code",
   "execution_count": 20,
   "id": "4efea92e",
   "metadata": {},
   "outputs": [
    {
     "data": {
      "application/vnd.jupyter.widget-view+json": {
       "model_id": "eb2287d8dbd54926821a5aec5ea7486b",
       "version_major": 2,
       "version_minor": 0
      },
      "text/plain": [
       "  0%|          | 0/569 [00:00<?, ?it/s]"
      ]
     },
     "metadata": {},
     "output_type": "display_data"
    },
    {
     "ename": "KeyboardInterrupt",
     "evalue": "",
     "output_type": "error",
     "traceback": [
      "\u001b[0;31m---------------------------------------------------------------------------\u001b[0m",
      "\u001b[0;31mKeyboardInterrupt\u001b[0m                         Traceback (most recent call last)",
      "\u001b[0;32m<ipython-input-20-de8f68146a3f>\u001b[0m in \u001b[0;36m<module>\u001b[0;34m\u001b[0m\n\u001b[1;32m      4\u001b[0m \u001b[0;34m\u001b[0m\u001b[0m\n\u001b[1;32m      5\u001b[0m     \u001b[0;32mfor\u001b[0m \u001b[0mi\u001b[0m\u001b[0;34m,\u001b[0m \u001b[0m_tw\u001b[0m \u001b[0;32min\u001b[0m \u001b[0menumerate\u001b[0m\u001b[0;34m(\u001b[0m\u001b[0msntwitter\u001b[0m\u001b[0;34m.\u001b[0m\u001b[0mTwitterSearchScraper\u001b[0m\u001b[0;34m(\u001b[0m\u001b[0mqry\u001b[0m\u001b[0;34m)\u001b[0m\u001b[0;34m.\u001b[0m\u001b[0mget_items\u001b[0m\u001b[0;34m(\u001b[0m\u001b[0;34m)\u001b[0m\u001b[0;34m)\u001b[0m\u001b[0;34m:\u001b[0m\u001b[0;34m\u001b[0m\u001b[0;34m\u001b[0m\u001b[0m\n\u001b[0;32m----> 6\u001b[0;31m         \u001b[0mrecord\u001b[0m\u001b[0;34m(\u001b[0m\u001b[0m_tw\u001b[0m\u001b[0;34m,\u001b[0m \u001b[0mbrand\u001b[0m\u001b[0;34m)\u001b[0m\u001b[0;34m\u001b[0m\u001b[0;34m\u001b[0m\u001b[0m\n\u001b[0m\u001b[1;32m      7\u001b[0m \u001b[0;34m\u001b[0m\u001b[0m\n\u001b[1;32m      8\u001b[0m     \u001b[0msleep\u001b[0m\u001b[0;34m(\u001b[0m\u001b[0;36m10\u001b[0m\u001b[0;34m)\u001b[0m\u001b[0;34m\u001b[0m\u001b[0;34m\u001b[0m\u001b[0m\n",
      "\u001b[0;32m<ipython-input-17-128337eb84e2>\u001b[0m in \u001b[0;36mrecord\u001b[0;34m(tw, brand)\u001b[0m\n\u001b[1;32m     12\u001b[0m         \u001b[0;32mwith\u001b[0m \u001b[0mopen\u001b[0m\u001b[0;34m(\u001b[0m\u001b[0mfeed_fname\u001b[0m\u001b[0;34m,\u001b[0m \u001b[0;34m'w'\u001b[0m\u001b[0;34m,\u001b[0m \u001b[0mencoding\u001b[0m\u001b[0;34m=\u001b[0m\u001b[0;34m'UTF-8-sig'\u001b[0m\u001b[0;34m)\u001b[0m \u001b[0;32mas\u001b[0m \u001b[0mf\u001b[0m\u001b[0;34m:\u001b[0m\u001b[0;34m\u001b[0m\u001b[0;34m\u001b[0m\u001b[0m\n\u001b[1;32m     13\u001b[0m             \u001b[0m_tw\u001b[0m\u001b[0;34m[\u001b[0m\u001b[0;34m'brands'\u001b[0m\u001b[0;34m]\u001b[0m\u001b[0;34m.\u001b[0m\u001b[0mappend\u001b[0m\u001b[0;34m(\u001b[0m\u001b[0mbrand\u001b[0m\u001b[0;34m)\u001b[0m\u001b[0;34m\u001b[0m\u001b[0;34m\u001b[0m\u001b[0m\n\u001b[0;32m---> 14\u001b[0;31m             \u001b[0mjson\u001b[0m\u001b[0;34m.\u001b[0m\u001b[0mdump\u001b[0m\u001b[0;34m(\u001b[0m\u001b[0m_tw\u001b[0m\u001b[0;34m,\u001b[0m \u001b[0mf\u001b[0m\u001b[0;34m,\u001b[0m \u001b[0mensure_ascii\u001b[0m\u001b[0;34m=\u001b[0m\u001b[0;32mFalse\u001b[0m\u001b[0;34m)\u001b[0m\u001b[0;34m\u001b[0m\u001b[0;34m\u001b[0m\u001b[0m\n\u001b[0m\u001b[1;32m     15\u001b[0m \u001b[0;34m\u001b[0m\u001b[0m\n\u001b[1;32m     16\u001b[0m     \u001b[0;31m# 같은 피드가 있으면, 해당 브랜드를 추가로 입력해라\u001b[0m\u001b[0;34m\u001b[0m\u001b[0;34m\u001b[0m\u001b[0;34m\u001b[0m\u001b[0m\n",
      "\u001b[0;31mKeyboardInterrupt\u001b[0m: "
     ]
    }
   ],
   "source": [
    "for brand, baseqry in tqdm(list(qrys.items())[:]):\n",
    "    qry = '{baseqry} since:{since} until:{until} lang:ko'.format(baseqry=baseqry, since=since, until=until)\n",
    "    #print(qry)\n",
    "    \n",
    "    for i, _tw in enumerate(sntwitter.TwitterSearchScraper(qry).get_items()):\n",
    "        record(_tw, brand)\n",
    "    \n",
    "    sleep(10)\n",
    "    #sleep(0.001)"
   ]
  },
  {
   "cell_type": "code",
   "execution_count": 16,
   "id": "ec61925e",
   "metadata": {},
   "outputs": [
    {
     "data": {
      "text/plain": [
       "False"
      ]
     },
     "execution_count": 16,
     "metadata": {},
     "output_type": "execute_result"
    }
   ],
   "source": [
    "1 not in [1,2,3]"
   ]
  },
  {
   "cell_type": "code",
   "execution_count": null,
   "id": "334a982d",
   "metadata": {},
   "outputs": [],
   "source": []
  }
 ],
 "metadata": {
  "kernelspec": {
   "display_name": "Python 3",
   "language": "python",
   "name": "python3"
  },
  "language_info": {
   "codemirror_mode": {
    "name": "ipython",
    "version": 3
   },
   "file_extension": ".py",
   "mimetype": "text/x-python",
   "name": "python",
   "nbconvert_exporter": "python",
   "pygments_lexer": "ipython3",
   "version": "3.8.8"
  }
 },
 "nbformat": 4,
 "nbformat_minor": 5
}
