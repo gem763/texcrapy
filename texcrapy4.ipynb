{
 "cells": [
  {
   "cell_type": "code",
   "execution_count": 1,
   "metadata": {},
   "outputs": [
    {
     "name": "stderr",
     "output_type": "stream",
     "text": [
      "C:\\ProgramData\\Anaconda3\\lib\\site-packages\\gensim\\utils.py:1197: UserWarning: detected Windows; aliasing chunkize to chunkize_serial\n",
      "  warnings.warn(\"detected Windows; aliasing chunkize to chunkize_serial\")\n"
     ]
    }
   ],
   "source": [
    "%load_ext autoreload\n",
    "%autoreload\n",
    "%matplotlib inline\n",
    "\n",
    "import pandas as pd\n",
    "import numpy as np\n",
    "from IPython.core.debugger import set_trace\n",
    "from tqdm import tqdm_notebook\n",
    "import texcrapy\n",
    "#from konlpy.corpus import word\n",
    "from ckonlpy.tag import Twitter, Postprocessor\n",
    "import json\n",
    "from soynlp.word import WordExtractor\n",
    "from soynlp.tokenizer import MaxScoreTokenizer, LTokenizer\n",
    "from soynlp.noun import LRNounExtractor_v2\n",
    "from soynlp.pos.tagset import tagset\n",
    "from soynlp.postagger import Dictionary as Dict\n",
    "from soynlp.postagger import LRTemplateMatcher\n",
    "from soynlp.postagger import LREvaluator\n",
    "from soynlp.postagger import SimpleTagger\n",
    "from soynlp.postagger import UnknowLRPostprocessor\n",
    "\n",
    "import nltk\n",
    "from nltk import Text\n",
    "from nltk.corpus import stopwords as STOPWORDS\n",
    "from nltk.corpus import words as WORDS\n",
    "from nltk.tag import untag\n",
    "import math\n",
    "import os\n",
    "import re\n",
    "\n",
    "from threading import Thread\n",
    "#from multiprocessing import Process\n",
    "import dask\n",
    "from dask import compute, delayed\n",
    "import dask.multiprocessing\n",
    "import dask.bag as db\n",
    "import jpype\n",
    "\n",
    "from gensim.models import Word2Vec, FastText\n",
    "from gensim.corpora import Dictionary\n",
    "from gensim.models.tfidfmodel import TfidfModel\n",
    "from gensim.matutils import sparse2full\n",
    "\n",
    "import seaborn as sns\n",
    "from matplotlib import rcParams\n",
    "from matplotlib import pyplot as plt\n",
    "from sklearn import preprocessing\n",
    "from sklearn.decomposition import PCA\n",
    "from sklearn.cluster import KMeans, DBSCAN, AffinityPropagation\n",
    "\n",
    "from wordcloud import WordCloud\n",
    "\n",
    "sns.set(style='ticks')\n",
    "rcParams['font.family'] = u'Malgun Gothic'"
   ]
  },
  {
   "cell_type": "code",
   "execution_count": 3,
   "metadata": {
    "scrolled": true
   },
   "outputs": [
    {
     "name": "stderr",
     "output_type": "stream",
     "text": [
      "[nltk_data] Downloading package stopwords to C:\\Users\\sekan.CA-\n",
      "[nltk_data]     AM\\AppData\\Roaming\\nltk_data...\n",
      "[nltk_data]   Package stopwords is already up-to-date!\n",
      "[nltk_data] Downloading package words to C:\\Users\\sekan.CA-\n",
      "[nltk_data]     AM\\AppData\\Roaming\\nltk_data...\n",
      "[nltk_data]   Package words is already up-to-date!\n"
     ]
    },
    {
     "data": {
      "text/plain": [
       "True"
      ]
     },
     "execution_count": 3,
     "metadata": {},
     "output_type": "execute_result"
    }
   ],
   "source": [
    "nltk.download('stopwords')\n",
    "nltk.download('words')"
   ]
  },
  {
   "cell_type": "markdown",
   "metadata": {},
   "source": [
    "# Scraping"
   ]
  },
  {
   "cell_type": "code",
   "execution_count": 175,
   "metadata": {},
   "outputs": [],
   "source": [
    "df = pd.read_excel('keywords and logos.xlsx', sheet_name='20190215')[['shortname','kw_supporter','kw_supported','keywords']]; df\n",
    "_or = lambda kw: ' OR '.join(['#' + k.strip() for k in kw.split(',')])\n",
    "\n",
    "qry_base = {row.shortname:_or(row.keywords) for row in df.itertuples()}\n",
    "supporters = df.shortname[df.kw_supporter==True]\n",
    "qry_sup = ' OR '.join([qry_base[sup] for sup in supporters]); qry_sup\n",
    "qry = {row.shortname: '(' + qry_base[row.shortname] + ') AND (' + qry_sup + ')' if row.kw_supported==True else qry_base[row.shortname] for row in df.itertuples()}"
   ]
  },
  {
   "cell_type": "code",
   "execution_count": null,
   "metadata": {},
   "outputs": [],
   "source": [
    "%%time\n",
    "what = ['id', 'timestamp', 'text']\n",
    "texcrapy.scrap(qry, what=what, lang='ko', end='2019-01-31', download_to='scrapped/twitter')"
   ]
  },
  {
   "cell_type": "code",
   "execution_count": null,
   "metadata": {},
   "outputs": [],
   "source": []
  },
  {
   "cell_type": "markdown",
   "metadata": {},
   "source": [
    "# Making Corpus"
   ]
  },
  {
   "cell_type": "code",
   "execution_count": 47,
   "metadata": {},
   "outputs": [],
   "source": [
    "def preproc(text, remove_url=True, remove_mention=True, remove_hashtag=False):\n",
    "    LINEBREAK = r'\\n' # str.replace에서는 r'\\n'으로 검색이 안된다\n",
    "    RT = '((?: rt)|(?:^rt))[^ @]?'\n",
    "    EMOJI = r'[\\U00010000-\\U0010ffff]'\n",
    "    DOTS = '…'\n",
    "    LONG_BLANK = r'[ ]+'\n",
    "    SPECIALS = r'([^ a-zA-Z0-9_\\u3131-\\u3163\\uac00-\\ud7a3]+)|([ㄱ-ㅣ]+)'\n",
    "    \n",
    "    # \\u3131-\\u3163\\uac00-\\ud7a3 는 한글을 의미함\n",
    "    # URL = r'(?P<url>(https?://)?(www[.])?[^ \\u3131-\\u3163\\uac00-\\ud7a3]+[.][a-z]{2,6}\\b([^ \\u3131-\\u3163\\uac00-\\ud7a3]*))'\n",
    "    URL1 = r'(?:https?:\\/\\/)?(?:www[.])?[^ :\\u3131-\\u3163\\uac00-\\ud7a3]+[.][a-z]{2,6}\\b(?:[^ \\u3131-\\u3163\\uac00-\\ud7a3]*)'\n",
    "    URL2 = r'pic.twitter.com/[a-zA-Z0-9_]+'\n",
    "    URL = '|'.join((URL1, URL2))\n",
    "    \n",
    "    HASHTAG = r'#(?P<inner_hashtag>[^ #@]+)'\n",
    "    MENTION = r'@(?P<inner_mention>[^ #@]+)' \n",
    "    \n",
    "    text = text.lower()\n",
    "    \n",
    "    if remove_url:\n",
    "        text = re.sub(URL, ' ', text)\n",
    "\n",
    "    if remove_mention:\n",
    "        text = re.sub(MENTION, ' ', text)        \n",
    "    else:\n",
    "        text = re.sub(MENTION, ' \\g<inner_mention>', text)\n",
    "        \n",
    "    if remove_hashtag:\n",
    "        text = re.sub(HASHTAG, ' ', text)\n",
    "    else:\n",
    "        text = re.sub(HASHTAG, ' \\g<inner_hashtag>', text)\n",
    "        \n",
    "    text = re.sub('|'.join((LINEBREAK, RT, EMOJI, DOTS, SPECIALS)), ' ', text)\n",
    "    return re.sub(LONG_BLANK, ' ', text).strip()\n",
    "    \n",
    "\n",
    "class JsonCorpus:\n",
    "    def __init__(self, *fnames, textkey='text'):\n",
    "        self.fnames = fnames\n",
    "        self.textkey = textkey\n",
    "        self.corpus = self._corpus()\n",
    "\n",
    "    def _corpus2(self):\n",
    "        corpus = {}\n",
    "        nfiles = len(self.fnames)\n",
    "        _preproc = lambda doc: preproc(doc[self.textkey])\n",
    "        f_preproc = np.vectorize(_preproc)\n",
    "        \n",
    "        for i, fname in enumerate(self.fnames):\n",
    "            with open(fname, encoding='UTF-8-sig') as f: \n",
    "                for item, docs in json.load(f).items():\n",
    "                    corpus[item] = f_preproc(docs) if len(docs)>0 else []\n",
    "                    \n",
    "                pct = '%.2f' % (100 * (i+1) / nfiles)\n",
    "                print('\\r {pct}% completed'.format(pct=pct), end='')\n",
    "                \n",
    "        print('\\n')\n",
    "        return corpus\n",
    "    \n",
    "    \n",
    "    def _corpus(self):\n",
    "        corpus = {}\n",
    "        nfiles = len(self.fnames)\n",
    "        \n",
    "        for i, fname in enumerate(self.fnames):\n",
    "            with open(fname, encoding='UTF-8-sig') as f:                \n",
    "                for item, docs in json.load(f).items():\n",
    "                    corpus[item] = [preproc(doc[self.textkey]) for doc in docs]\n",
    "                \n",
    "                pct = '%.2f' % (100 * (i+1) / nfiles)\n",
    "                print('\\r {pct}% completed'.format(pct=pct), end='')\n",
    "        \n",
    "        print('\\n')\n",
    "        return corpus\n",
    "    \n",
    "                \n",
    "    def __iter__(self):\n",
    "        for sents in self.corpus.values():\n",
    "            yield from sents\n",
    "\n",
    "    def __len__(self):\n",
    "        return sum([len(sents) for sents in self.corpus.values()])\n",
    "    \n",
    "    def tokenize(self, tagger):\n",
    "        return Tokens(tagger, **self.corpus)\n",
    "\n",
    "\n",
    "class Tokens:\n",
    "    def __init__(self, tagger, **corpora):\n",
    "        self.tagger = tagger\n",
    "        self.tokensdict = self._get_tokens2(**corpora)\n",
    "    \n",
    "    \n",
    "    def _get_tokens(self, **corpora):\n",
    "        tokens = [] #{}\n",
    "        ths = []\n",
    "        n_items = len(corpora)\n",
    "        \n",
    "        for item, corpus in list(corpora.items())[:50]:\n",
    "            th = Thread(target=do_concurrent_tagging, args=(item, corpus, n_items, tokens))\n",
    "            ths.append(th)\n",
    "            \n",
    "        for th in ths: th.start()\n",
    "        for th in ths: th.join()\n",
    "        \n",
    "        print('\\n')\n",
    "        return tokens\n",
    "    \n",
    "    \n",
    "    def _get_tokens2(self, **corpora):\n",
    "        tokens = {}\n",
    "        for item, corpus in tqdm_notebook(list(corpora.items())[:]):\n",
    "            tokens[item] = [[w[0] for w in self.tagger.tag(corp) if w[1] is not None] for corp in set(corpus)]\n",
    "        return tokens\n",
    "    \n",
    "    \n",
    "    def freq(self):\n",
    "        return {\n",
    "            item: Text(sum(toks, [])).vocab() \n",
    "            for item, toks in tqdm_notebook(self.tokensdict.items())\n",
    "            if item not in ['ootd','fashion','category']\n",
    "        }\n",
    "                \n",
    "    def __iter__(self):\n",
    "        for toks in self.tokensdict.values():\n",
    "            yield from toks\n",
    "            \n",
    "    def __len__(self):\n",
    "        return sum([len(toks) for toks in self.tokensdict.values()])"
   ]
  },
  {
   "cell_type": "code",
   "execution_count": 6,
   "metadata": {},
   "outputs": [
    {
     "name": "stdout",
     "output_type": "stream",
     "text": [
      " 100.00% completed\n",
      "\n",
      "Wall time: 25.3 s\n"
     ]
    }
   ],
   "source": [
    "%%time\n",
    "fnames = ['scrapped/twitter/' + fname for fname in os.listdir('scrapped/twitter')]\n",
    "jcorpus = JsonCorpus(*fnames)"
   ]
  },
  {
   "cell_type": "code",
   "execution_count": null,
   "metadata": {},
   "outputs": [],
   "source": []
  },
  {
   "cell_type": "markdown",
   "metadata": {},
   "source": [
    "# Making Dictionary"
   ]
  },
  {
   "cell_type": "markdown",
   "metadata": {},
   "source": [
    "### 1. From Scraping keywords"
   ]
  },
  {
   "cell_type": "code",
   "execution_count": 7,
   "metadata": {},
   "outputs": [],
   "source": [
    "df_keywords = pd.read_excel('keywords and logos.xlsx', sheet_name='20190215')['keywords']\n",
    "keywords = {w.strip() for w in ', '.join(df_keywords).split(',')}"
   ]
  },
  {
   "cell_type": "markdown",
   "metadata": {},
   "source": [
    "### 2. Soynlp nouns"
   ]
  },
  {
   "cell_type": "code",
   "execution_count": 8,
   "metadata": {
    "scrolled": true
   },
   "outputs": [
    {
     "name": "stdout",
     "output_type": "stream",
     "text": [
      "[Noun Extractor] use default predictors\n",
      "[Noun Extractor] num features: pos=1260, neg=1173, common=12\n",
      "[Noun Extractor] counting eojeols\n",
      "[EojeolCounter] n eojeol = 493329 from 429969 sents. mem=0.354 Gb                    \n",
      "[Noun Extractor] complete eojeol counter -> lr graph\n",
      "[Noun Extractor] has been trained. #eojeols=6680411, mem=1.464 Gb\n",
      "[Noun Extractor] batch prediction was completed for 112092 words\n",
      "[Noun Extractor] checked compounds. discovered 106245 compounds\n",
      "[Noun Extractor] postprocessing detaching_features : 23448 -> 23277\n",
      "[Noun Extractor] postprocessing ignore_features : 23277 -> 23178\n",
      "[Noun Extractor] postprocessing ignore_NJ : 23178 -> 22851\n",
      "[Noun Extractor] 22851 nouns (106245 compounds) with min frequency=5\n",
      "[Noun Extractor] flushing was done. mem=1.701 Gb                    \n",
      "[Noun Extractor] 75.02 % eojeols are covered\n"
     ]
    }
   ],
   "source": [
    "noun_extractor = LRNounExtractor_v2(verbose=True)\n",
    "_soynouns = noun_extractor.train_extract(jcorpus, min_noun_score=0.3, min_noun_frequency=5)"
   ]
  },
  {
   "cell_type": "code",
   "execution_count": 14,
   "metadata": {},
   "outputs": [],
   "source": [
    "soynouns = _soynouns.keys()\n",
    "soyngrams = {v for k,v in noun_extractor._compounds_components.items() if k in soynouns}"
   ]
  },
  {
   "cell_type": "code",
   "execution_count": null,
   "metadata": {},
   "outputs": [],
   "source": []
  },
  {
   "cell_type": "code",
   "execution_count": 162,
   "metadata": {},
   "outputs": [],
   "source": [
    "word_extractor = WordExtractor?"
   ]
  },
  {
   "cell_type": "code",
   "execution_count": 177,
   "metadata": {},
   "outputs": [
    {
     "name": "stdout",
     "output_type": "stream",
     "text": [
      "training was done. used memory 3.677 Gbse memory 3.832 Gb\n",
      "all cohesion probabilities was computed. # words = 264323\n",
      "all branching entropies was computed # words = 446112\n",
      "all accessor variety was computed # words = 446112\n"
     ]
    }
   ],
   "source": [
    "word_extractor = WordExtractor()\n",
    "word_extractor.train(jcorpus)\n",
    "_soywords = word_extractor.extract()"
   ]
  },
  {
   "cell_type": "code",
   "execution_count": 178,
   "metadata": {},
   "outputs": [],
   "source": [
    "def word_score(score):\n",
    "    return score.cohesion_forward * math.exp(score.right_branching_entropy)\n",
    "\n",
    "soywords = {word for word, score in soywords.items() if word_score(score)>0.1}"
   ]
  },
  {
   "cell_type": "code",
   "execution_count": null,
   "metadata": {},
   "outputs": [],
   "source": []
  },
  {
   "cell_type": "markdown",
   "metadata": {},
   "source": [
    "### 3. Korean words"
   ]
  },
  {
   "cell_type": "code",
   "execution_count": 180,
   "metadata": {},
   "outputs": [],
   "source": [
    "with open('dic_system.txt', encoding='UTF-8-sig') as f:\n",
    "    lines = f.readlines()\n",
    "    \n",
    "kowords = {tok.split('\\t')[0] for tok in lines}"
   ]
  },
  {
   "cell_type": "markdown",
   "metadata": {},
   "source": [
    "### 4. English words"
   ]
  },
  {
   "cell_type": "code",
   "execution_count": 181,
   "metadata": {},
   "outputs": [],
   "source": [
    "enwords = set(WORDS.words())"
   ]
  },
  {
   "cell_type": "markdown",
   "metadata": {},
   "source": [
    "### 5. Custom words"
   ]
  },
  {
   "cell_type": "code",
   "execution_count": 182,
   "metadata": {},
   "outputs": [],
   "source": [
    "cwords = '''\n",
    "'''\n",
    "\n",
    "cwords = set(re.findall(r'[^ ,]+', re.sub(r'\\n', '', cwords)))"
   ]
  },
  {
   "cell_type": "code",
   "execution_count": 183,
   "metadata": {},
   "outputs": [],
   "source": [
    "pos_dict = {\n",
    "    'Adverb': {}, \n",
    "    'Noun': keywords | soynouns | soywords | kowords | enwords | cwords, \n",
    "    'Josa': {},\n",
    "    'Verb': {},\n",
    "    'Adjective': {},\n",
    "    'Exclamation': {},\n",
    "}\n",
    "\n",
    "dictionary = Dict(pos_dict)\n",
    "generator = LRTemplateMatcher(dictionary)    \n",
    "evaluator = LREvaluator()\n",
    "postprocessor = UnknowLRPostprocessor()\n",
    "tagger = SimpleTagger(generator, evaluator, postprocessor)"
   ]
  },
  {
   "cell_type": "code",
   "execution_count": 184,
   "metadata": {
    "collapsed": true
   },
   "outputs": [
    {
     "data": {
      "text/plain": [
       "[('가성비', 'Noun'),\n",
       " ('좋', None),\n",
       " ('기로', 'Noun'),\n",
       " ('소문', 'Noun'),\n",
       " ('난', None),\n",
       " ('크록스', 'Noun'),\n",
       " ('중에서도', 'Noun'),\n",
       " ('레이웨지', 'Noun'),\n",
       " ('키작녀', 'Noun'),\n",
       " ('에게', 'Noun'),\n",
       " ('최고', 'Noun'),\n",
       " ('지', None),\n",
       " ('여름', 'Noun'),\n",
       " ('엔', None),\n",
       " ('정', None),\n",
       " ('했다', 'Noun'),\n",
       " ('ak몰', 'Noun'),\n",
       " ('패션', 'Noun'),\n",
       " ('신발', 'Noun'),\n",
       " ('패션잡화', 'Noun'),\n",
       " ('웨지힐', 'Noun')]"
      ]
     },
     "execution_count": 184,
     "metadata": {},
     "output_type": "execute_result"
    }
   ],
   "source": [
    "tagger.tag(jcorpus.corpus['crocs'][250])"
   ]
  },
  {
   "cell_type": "code",
   "execution_count": 185,
   "metadata": {},
   "outputs": [
    {
     "data": {
      "application/vnd.jupyter.widget-view+json": {
       "model_id": "520678b005344c729c6f622c36f7a4c7",
       "version_major": 2,
       "version_minor": 0
      },
      "text/plain": [
       "HBox(children=(IntProgress(value=0, max=327), HTML(value='')))"
      ]
     },
     "metadata": {},
     "output_type": "display_data"
    },
    {
     "name": "stdout",
     "output_type": "stream",
     "text": [
      "\n",
      "Wall time: 3min 17s\n"
     ]
    }
   ],
   "source": [
    "%%time\n",
    "tokens = jcorpus.tokenize(tagger)"
   ]
  },
  {
   "cell_type": "code",
   "execution_count": 42,
   "metadata": {},
   "outputs": [],
   "source": [
    "set(jcorpus.corpus['crocs']);"
   ]
  },
  {
   "cell_type": "code",
   "execution_count": 187,
   "metadata": {},
   "outputs": [],
   "source": [
    "tokens.tokensdict['crocs'];"
   ]
  },
  {
   "cell_type": "code",
   "execution_count": null,
   "metadata": {},
   "outputs": [],
   "source": []
  },
  {
   "cell_type": "code",
   "execution_count": null,
   "metadata": {},
   "outputs": [],
   "source": []
  },
  {
   "cell_type": "code",
   "execution_count": null,
   "metadata": {},
   "outputs": [],
   "source": []
  },
  {
   "cell_type": "code",
   "execution_count": null,
   "metadata": {},
   "outputs": [],
   "source": []
  },
  {
   "cell_type": "markdown",
   "metadata": {},
   "source": [
    "# Tagger setup"
   ]
  },
  {
   "cell_type": "markdown",
   "metadata": {},
   "source": [
    "### 1. Passtags"
   ]
  },
  {
   "cell_type": "code",
   "execution_count": 43,
   "metadata": {},
   "outputs": [],
   "source": [
    "stoptags = {'Foreign','Punctuation','KoreanParticle','Josa','Eomi','PreEomi','Exclamation','Determiner'}\n",
    "passtags = set(twitter.tagset.keys()) - stoptags"
   ]
  },
  {
   "cell_type": "markdown",
   "metadata": {},
   "source": [
    "### 2. Stopwords"
   ]
  },
  {
   "cell_type": "code",
   "execution_count": 70,
   "metadata": {},
   "outputs": [],
   "source": [
    "stopwords_en = STOPWORDS.words('english')\n",
    "\n",
    "with open('stopwords-ko.json', encoding='UTF-8-sig') as f:\n",
    "    stopwords_ko = json.load(f)\n",
    "    \n",
    "stopwords_custom = '''\n",
    "    엔, 줄, 내, 에는, 잖아요, 라는, 데, 는, 것은, 는, 인가요, 란, 말인가, 시, 은, 하네, 이나, 지, 있음, 수, 있는, \n",
    "    있으신가, 요, 그렇다면, 하고, 내는, 후, 생, 가거, 한, 하시겠어요, 만, 되네, 하려면, 하다, 랑, 하게, 근데, pic, 님의, \n",
    "    호, 하세요, 흑, 적인, 다욧, 니, 보니, 건, 다, 위해, 히, 께, 난, 해, 면서, 용, 보자, 가서, 하는, 중, 도, \n",
    "    잉, 인, 울, 하러가기, 인, 준, 든, 이셨으면, 와의, \n",
    "    드는, 되네요, 크흐, 이걸, 서, 에도, 됩니다, 하다고, 날, \n",
    "    하네요, 했습니다, 해지네요, 이였냐, 더, \n",
    "    되니, 하지않을, 아아, htm, 고, 냐고, 이야, 아니야, 너네, 된, 이냐, 해봐라, 해서, \n",
    "    vi, \n",
    "'''    \n",
    "\n",
    "stopwords_custom = re.findall(r'[^ ,]+', re.sub(r'\\n','',stopwords_custom))\n",
    "stopwords = set(stopwords_en + stopwords_ko)# + stopwords_custom)"
   ]
  },
  {
   "cell_type": "markdown",
   "metadata": {},
   "source": [
    "### 3. N-grams"
   ]
  },
  {
   "cell_type": "code",
   "execution_count": 45,
   "metadata": {},
   "outputs": [],
   "source": [
    "cngrams = {\n",
    "    ('캘빈','클라인'),('켈빈','클라인'),\n",
    "}\n",
    "#     ('the','boyz'),\n",
    "#     ('어글리','슈즈'),\n",
    "#     ('리미티드','에디션'),\n",
    "#     ('키코','코스타디노브'), ('kiko','kostadinov'),\n",
    "#     ('젤','카야노'),\n",
    "#     ('젤','라이트'),('gel','lyte'),\n",
    "#     ('스튜어트','와이츠먼'),\n",
    "#     ('주니','블랙'),\n",
    "#     ('jun','hyo','seong'),\n",
    "#     ('gel','ptg'),\n",
    "#     ('오니츠카','타이거'),\n",
    "#     ('노박','조코비치'),\n",
    "#     ('후디','티셔츠'),\n",
    "#     ('최종병기','활'),\n",
    "#     ('아이제아','토마스'),\n",
    "#     ('gel','ace')\n",
    "# ]\n",
    "\n",
    "ngrams = list(cngrams | soyngrams)"
   ]
  },
  {
   "cell_type": "code",
   "execution_count": 56,
   "metadata": {},
   "outputs": [],
   "source": [
    "tagger = Postprocessor(twitter)#, stopwords=stopwords, passtags=passtags, ngrams=ngrams)"
   ]
  },
  {
   "cell_type": "code",
   "execution_count": 32,
   "metadata": {},
   "outputs": [
    {
     "data": {
      "application/vnd.jupyter.widget-view+json": {
       "model_id": "9be0ad4134844446a9a6780a76b84652",
       "version_major": 2,
       "version_minor": 0
      },
      "text/plain": [
       "HBox(children=(IntProgress(value=0, max=327), HTML(value='')))"
      ]
     },
     "metadata": {},
     "output_type": "display_data"
    },
    {
     "name": "stdout",
     "output_type": "stream",
     "text": [
      "\n",
      "Wall time: 1h 16min 13s\n"
     ]
    }
   ],
   "source": [
    "%%time\n",
    "tokens = jcorpus.tokenize(tagger)"
   ]
  },
  {
   "cell_type": "code",
   "execution_count": null,
   "metadata": {},
   "outputs": [],
   "source": []
  },
  {
   "cell_type": "code",
   "execution_count": 62,
   "metadata": {},
   "outputs": [],
   "source": [
    "def do_concurrent(tagger, item, corpus):\n",
    "    return item, [untag(tagger.tag(corp)) for corp in corpus]"
   ]
  },
  {
   "cell_type": "code",
   "execution_count": 52,
   "metadata": {},
   "outputs": [
    {
     "name": "stdout",
     "output_type": "stream",
     "text": [
      "Wall time: 29.6 s\n"
     ]
    }
   ],
   "source": [
    "%%time\n",
    "if __name__ == '__main__':\n",
    "    values = [delayed(do_concurrent)(tagger, item, corpus) for item, corpus in list(jcorpus.corpus.items())[:5]]\n",
    "    result = compute(*values, scheduler='processes')"
   ]
  },
  {
   "cell_type": "code",
   "execution_count": 63,
   "metadata": {},
   "outputs": [
    {
     "name": "stdout",
     "output_type": "stream",
     "text": [
      "Wall time: 3.13 s\n"
     ]
    }
   ],
   "source": [
    "%%time\n",
    "test = [do_concurrent(tagger, item, corpus) for item, corpus in list(jcorpus.corpus.items())[:5]]"
   ]
  },
  {
   "cell_type": "code",
   "execution_count": null,
   "metadata": {},
   "outputs": [],
   "source": []
  },
  {
   "cell_type": "code",
   "execution_count": null,
   "metadata": {},
   "outputs": [],
   "source": []
  },
  {
   "cell_type": "code",
   "execution_count": 188,
   "metadata": {},
   "outputs": [
    {
     "data": {
      "application/vnd.jupyter.widget-view+json": {
       "model_id": "d707ece3679e4b61ac313fdf406d8b7c",
       "version_major": 2,
       "version_minor": 0
      },
      "text/plain": [
       "HBox(children=(IntProgress(value=0, max=327), HTML(value='')))"
      ]
     },
     "metadata": {},
     "output_type": "display_data"
    },
    {
     "name": "stdout",
     "output_type": "stream",
     "text": [
      "\n"
     ]
    }
   ],
   "source": [
    "tokensfreq = tokens.freq()"
   ]
  },
  {
   "cell_type": "code",
   "execution_count": 189,
   "metadata": {},
   "outputs": [],
   "source": [
    "with open('model/tokensfreq.json', 'w', encoding='UTF-8-sig') as f:\n",
    "    json.dump(tokensfreq, f, ensure_ascii=False)"
   ]
  },
  {
   "cell_type": "code",
   "execution_count": 30,
   "metadata": {},
   "outputs": [],
   "source": [
    "with open('model/tokensfreq.json', encoding='UTF-8-sig') as f:\n",
    "    tokensfreq = json.load(f)"
   ]
  },
  {
   "cell_type": "code",
   "execution_count": 33,
   "metadata": {},
   "outputs": [],
   "source": [
    "tokensfreq.keys();"
   ]
  },
  {
   "cell_type": "code",
   "execution_count": null,
   "metadata": {},
   "outputs": [],
   "source": []
  },
  {
   "cell_type": "markdown",
   "metadata": {},
   "source": [
    "# Word2vec"
   ]
  },
  {
   "cell_type": "code",
   "execution_count": 190,
   "metadata": {},
   "outputs": [],
   "source": [
    "w2v = Word2Vec(tokens, size=100, window=5, min_count=10, workers=4, sg=1)\n",
    "w2v.save('model/word2vec.model')"
   ]
  },
  {
   "cell_type": "code",
   "execution_count": 191,
   "metadata": {},
   "outputs": [],
   "source": [
    "w2v.init_sims(replace=True)"
   ]
  },
  {
   "cell_type": "code",
   "execution_count": 2,
   "metadata": {},
   "outputs": [
    {
     "name": "stdout",
     "output_type": "stream",
     "text": [
      "Wall time: 1.08 s\n"
     ]
    }
   ],
   "source": [
    "%%time\n",
    "w2v = Word2Vec.load('model/word2vec.model')"
   ]
  },
  {
   "cell_type": "code",
   "execution_count": 9,
   "metadata": {},
   "outputs": [
    {
     "data": {
      "text/plain": [
       "False"
      ]
     },
     "execution_count": 9,
     "metadata": {},
     "output_type": "execute_result"
    }
   ],
   "source": [
    "'isabelmarant' in w2v.wv.vocab"
   ]
  },
  {
   "cell_type": "code",
   "execution_count": 86,
   "metadata": {
    "scrolled": true
   },
   "outputs": [
    {
     "name": "stdout",
     "output_type": "stream",
     "text": [
      "Wall time: 33 ms\n"
     ]
    }
   ],
   "source": [
    "%%time\n",
    "dd = dict(w2v.wv.most_similar(positive=['사랑','가성비','스포티'], topn=1000))"
   ]
  },
  {
   "cell_type": "code",
   "execution_count": 105,
   "metadata": {},
   "outputs": [
    {
     "name": "stdout",
     "output_type": "stream",
     "text": [
      "Wall time: 75 ms\n"
     ]
    }
   ],
   "source": [
    "%%time\n",
    "out = {}\n",
    "for bname in tokensfreq.keys():\n",
    "    try:\n",
    "        out[bname] = w2v.wv.n_similarity([bname], ['편한','여성스러운'])\n",
    "    except:\n",
    "        pass\n",
    "\n",
    "out = sorted(out.items(), key=lambda x: x[1])"
   ]
  },
  {
   "cell_type": "code",
   "execution_count": 106,
   "metadata": {
    "collapsed": true
   },
   "outputs": [
    {
     "data": {
      "text/plain": [
       "[('mastermind', -0.006401319),\n",
       " ('peaceminusone', 0.027468547),\n",
       " ('bbc', 0.040993202),\n",
       " ('ambush', 0.057285804),\n",
       " ('champion', 0.05957389),\n",
       " ('newera', 0.06278716),\n",
       " ('spyder', 0.074900046),\n",
       " ('supreme', 0.07546665),\n",
       " ('haveagoodtime', 0.08361644),\n",
       " ('stussy', 0.08451557),\n",
       " ('wilson', 0.090866975),\n",
       " ('bape', 0.09162498),\n",
       " ('puma', 0.0918758),\n",
       " ('c2h4', 0.100677654),\n",
       " ('rimowa', 0.101043925),\n",
       " ('openingceremony', 0.103725255),\n",
       " ('032c', 0.11065915),\n",
       " ('canadagoose', 0.11088306),\n",
       " ('gucci', 0.11295648),\n",
       " ('richardson', 0.11307342),\n",
       " ('hermes', 0.11356528),\n",
       " ('incase', 0.118717924),\n",
       " ('oakley', 0.119101115),\n",
       " ('aape', 0.1215327),\n",
       " ('givenchy', 0.12167882),\n",
       " ('umbro', 0.121925),\n",
       " ('humanmade', 0.12245312),\n",
       " ('ovo', 0.12417588),\n",
       " ('rickowens', 0.12646002),\n",
       " ('thisisneverthat', 0.12673298),\n",
       " ('palace', 0.12957528),\n",
       " ('louisvuitton', 0.13230659),\n",
       " ('reebok', 0.1342256),\n",
       " ('antisocialsocialclub', 0.13575545),\n",
       " ('porter', 0.13607305),\n",
       " ('versace', 0.13831924),\n",
       " ('brixton', 0.13854636),\n",
       " ('gosharubchinskiy', 0.14442144),\n",
       " ('medicomtoy', 0.14823692),\n",
       " ('taylormade', 0.14860448),\n",
       " ('titleist', 0.14865714),\n",
       " ('nerdy', 0.1497711),\n",
       " ('huf', 0.1517991),\n",
       " ('chums', 0.15189746),\n",
       " ('juunj', 0.15243542),\n",
       " ('dolcegabbana', 0.15436757),\n",
       " ('placesplusfaces', 0.15472293),\n",
       " ('gyakusou', 0.15535927),\n",
       " ('chanel', 0.15921511),\n",
       " ('helinox', 0.1594544),\n",
       " ('tomford', 0.16024023),\n",
       " ('yeezy', 0.16056584),\n",
       " ('freitag', 0.16060431),\n",
       " ('herschel', 0.16178161),\n",
       " ('99percentis', 0.16374454),\n",
       " ('jeep', 0.1665618),\n",
       " ('mcm', 0.16771507),\n",
       " ('adidas', 0.16847399),\n",
       " ('patagonia', 0.17004433),\n",
       " ('heritagefloss', 0.17225169),\n",
       " ('undefeated', 0.17232403),\n",
       " ('noah', 0.17262164),\n",
       " ('dickies', 0.17314845),\n",
       " ('cpcompany', 0.1733762),\n",
       " ('mizuno', 0.17392501),\n",
       " ('liful', 0.17411023),\n",
       " ('nike', 0.17481065),\n",
       " ('levis', 0.17571452),\n",
       " ('thenorthface', 0.17617217),\n",
       " ('gentlemonster', 0.17625514),\n",
       " ('offwhite', 0.17896326),\n",
       " ('saintlaurent', 0.17982386),\n",
       " ('dior', 0.17983422),\n",
       " ('covernat', 0.17984368),\n",
       " ('valentino', 0.18277194),\n",
       " ('maisonkitsune', 0.18311934),\n",
       " ('stellamccartney', 0.18469429),\n",
       " ('millet', 0.18627742),\n",
       " ('newbalance', 0.1872934),\n",
       " ('underarmour', 0.18754366),\n",
       " ('sacai', 0.18760347),\n",
       " ('neighborhood', 0.18792854),\n",
       " ('vans', 0.18945745),\n",
       " ('fendi', 0.18970287),\n",
       " ('ferragamo', 0.19188023),\n",
       " ('adidasoriginal', 0.19278517),\n",
       " ('mindbridge', 0.19286638),\n",
       " ('obey', 0.19556761),\n",
       " ('jlindeberg', 0.1957175),\n",
       " ('carhartt', 0.19708401),\n",
       " ('fila', 0.19855478),\n",
       " ('acoldwall', 0.20071289),\n",
       " ('mlb', 0.20267652),\n",
       " ('montblanc', 0.20609303),\n",
       " ('thombrowne', 0.20612907),\n",
       " ('bally', 0.20682189),\n",
       " ('snowpeak', 0.20751688),\n",
       " ('converse', 0.20789379),\n",
       " ('charleskeith', 0.20839098),\n",
       " ('cavempt', 0.20892256),\n",
       " ('dkny', 0.20915848),\n",
       " ('muji', 0.20958425),\n",
       " ('xlarge', 0.21026427),\n",
       " ('visvim', 0.21087305),\n",
       " ('hugoboss', 0.21101633),\n",
       " ('thrasher', 0.21154153),\n",
       " ('8seconds', 0.21155755),\n",
       " ('calvinklein', 0.21226025),\n",
       " ('kangol', 0.2123497),\n",
       " ('poloralphlauren', 0.21277744),\n",
       " ('kith', 0.21279445),\n",
       " ('brooksrunning', 0.2131278),\n",
       " ('barrel', 0.21403699),\n",
       " ('lafuma', 0.21571934),\n",
       " ('lecoqsportif', 0.21697102),\n",
       " ('coach', 0.21974055),\n",
       " ('henderscheme', 0.22009733),\n",
       " ('guess', 0.22042045),\n",
       " ('beyondcloset', 0.22057876),\n",
       " ('jillstuart', 0.22080109),\n",
       " ('salomon', 0.22257397),\n",
       " ('aldo', 0.22290705),\n",
       " ('whitemountaineering', 0.2233642),\n",
       " ('sketchers', 0.22426221),\n",
       " ('kenzo', 0.224658),\n",
       " ('burberry', 0.22476047),\n",
       " ('stoneisland', 0.2248931),\n",
       " ('moschino', 0.22526662),\n",
       " ('series', 0.22540417),\n",
       " ('nohant', 0.2255601),\n",
       " ('commedesgarcons', 0.22660598),\n",
       " ('dsquared2', 0.22755049),\n",
       " ('nepa', 0.22791147),\n",
       " ('arcteryx', 0.22935206),\n",
       " ('braindead', 0.22978084),\n",
       " ('gregory', 0.23087126),\n",
       " ('lynn', 0.23117408),\n",
       " ('acronym', 0.23208115),\n",
       " ('miumiu', 0.23230082),\n",
       " ('descente', 0.23461102),\n",
       " ('y3', 0.23461886),\n",
       " ('adererror', 0.23562394),\n",
       " ('woolrich', 0.23622066),\n",
       " ('beanpole', 0.23624414),\n",
       " ('hazzys', 0.23657617),\n",
       " ('asics', 0.24028793),\n",
       " ('eider', 0.24139825),\n",
       " ('vetement', 0.24415755),\n",
       " ('blackyak', 0.24521208),\n",
       " ('iise', 0.24625452),\n",
       " ('munsingwear', 0.24725665),\n",
       " ('dynafit', 0.24772438),\n",
       " ('crocs', 0.249816),\n",
       " ('prada', 0.2505036),\n",
       " ('undercover', 0.25128388),\n",
       " ('zara', 0.25234437),\n",
       " ('jwanderson', 0.25377506),\n",
       " ('critic', 0.25400043),\n",
       " ('wtaps', 0.25437397),\n",
       " ('lanvin', 0.25557217),\n",
       " ('time', 0.25558206),\n",
       " ('uniqlo', 0.25745696),\n",
       " ('hoodbyair', 0.2583688),\n",
       " ('k2', 0.2594326),\n",
       " ('charms', 0.26129258),\n",
       " ('diesel', 0.26261604),\n",
       " ('celine', 0.26328754),\n",
       " ('gap', 0.26350117),\n",
       " ('n21', 0.26547188),\n",
       " ('hconnect', 0.26557922),\n",
       " ('rafsimons', 0.26587826),\n",
       " ('alexandermcqueen', 0.26607817),\n",
       " ('birkenstock', 0.26712567),\n",
       " ('lmc', 0.26770264),\n",
       " ('balmain', 0.26844636),\n",
       " ('moscot', 0.26966792),\n",
       " ('yojiyamamoto', 0.2697086),\n",
       " ('paulsmith', 0.27107942),\n",
       " ('tumi', 0.2722342),\n",
       " ('balenciaga', 0.27538398),\n",
       " ('tommyhilfiger', 0.27565035),\n",
       " ('kuho', 0.27770013),\n",
       " ('discovery', 0.28191683),\n",
       " ('gstarraw', 0.2820111),\n",
       " ('engineeredgarment', 0.2826233),\n",
       " ('hm', 0.2838135),\n",
       " ('plac', 0.2850262),\n",
       " ('pearlygates', 0.28544712),\n",
       " ('alexanderwang', 0.28665417),\n",
       " ('oioi', 0.2885602),\n",
       " ('goldengoose', 0.2911213),\n",
       " ('acnestudios', 0.29154074),\n",
       " ('ugg', 0.2916492),\n",
       " ('tartoptical', 0.29170623),\n",
       " ('iamnotahumanbeing', 0.29494077),\n",
       " ('kolonsport', 0.2978126),\n",
       " ('drmartens', 0.29816425),\n",
       " ('marceloburlon', 0.2987861),\n",
       " ('michaelkors', 0.3000003),\n",
       " ('maisonmargiela', 0.30195856),\n",
       " ('rayban', 0.3027964),\n",
       " ('prospecs', 0.30293128),\n",
       " ('forever21', 0.3135538),\n",
       " ('fog', 0.31393978),\n",
       " ('jansport', 0.31432548),\n",
       " ('sandro', 0.314816),\n",
       " ('bottegaveneta', 0.31716016),\n",
       " ('stereovinyls', 0.3179788),\n",
       " ('giordano', 0.31906933),\n",
       " ('ourlegacy', 0.32199746),\n",
       " ('suicoke', 0.32646364),\n",
       " ('eastpak', 0.32648152),\n",
       " ('onitsukatiger', 0.3284461),\n",
       " ('daks', 0.33149707),\n",
       " ('aecawhite', 0.334008),\n",
       " ('mine', 0.33527845),\n",
       " ('samsonite', 0.33531946),\n",
       " ('lacoste', 0.33560118),\n",
       " ('tods', 0.33562544),\n",
       " ('mulberry', 0.33874816),\n",
       " ('buckaroo', 0.33968136),\n",
       " ('mandarinaduck', 0.33977905),\n",
       " ('lap', 0.3412454),\n",
       " ('apc', 0.3417031),\n",
       " ('danner', 0.34359795),\n",
       " ('grds', 0.3477791),\n",
       " ('jimmychoo', 0.34799916),\n",
       " ('barbour', 0.3520904),\n",
       " ('keds', 0.35476428),\n",
       " ('maxmara', 0.35727054),\n",
       " ('vivastudio', 0.35936773),\n",
       " ('thursdayisland', 0.3599785),\n",
       " ('montbell', 0.3625425),\n",
       " ('system', 0.3627201),\n",
       " ('johnelliott', 0.36545488),\n",
       " ('filson', 0.36567402),\n",
       " ('cos', 0.36675256),\n",
       " ('nonnative', 0.3672515),\n",
       " ('marni', 0.36866534),\n",
       " ('ermenegildozegna', 0.37849483),\n",
       " ('keen', 0.38516918),\n",
       " ('jilsander', 0.3899246),\n",
       " ('marcjacobs', 0.3923025),\n",
       " ('mhl', 0.39295363),\n",
       " ('theory', 0.39690247),\n",
       " ('benetton', 0.40004218),\n",
       " ('topshop', 0.41048363),\n",
       " ('isseymiyake', 0.41090953),\n",
       " ('amiri', 0.4167803),\n",
       " ('allsaints', 0.4192093),\n",
       " ('teva', 0.42291874),\n",
       " ('eastlogue', 0.4286093),\n",
       " ('ami', 0.42963344),\n",
       " ('clubmonaco', 0.4299991),\n",
       " ('helmutlang', 0.43599686),\n",
       " ('topten', 0.43795526),\n",
       " ('eytys', 0.4392138),\n",
       " ('suecommabonnie', 0.441191),\n",
       " ('tomsshoes', 0.44167686),\n",
       " ('vivianwestwood', 0.44225323),\n",
       " ('toryburch', 0.44879597),\n",
       " ('superga', 0.46115434),\n",
       " ('maje', 0.46387893),\n",
       " ('fredperry', 0.47794104),\n",
       " ('cutlerandgross', 0.480785),\n",
       " ('tomboy', 0.48280936),\n",
       " ('bershka', 0.48766977),\n",
       " ('soup', 0.5414798),\n",
       " ('veja', 0.54786813)]"
      ]
     },
     "execution_count": 106,
     "metadata": {},
     "output_type": "execute_result"
    }
   ],
   "source": [
    "out"
   ]
  },
  {
   "cell_type": "code",
   "execution_count": null,
   "metadata": {},
   "outputs": [],
   "source": []
  },
  {
   "cell_type": "code",
   "execution_count": null,
   "metadata": {},
   "outputs": [],
   "source": []
  },
  {
   "cell_type": "code",
   "execution_count": 215,
   "metadata": {},
   "outputs": [],
   "source": [
    "id_pools = {\n",
    "    '럭셔리': '럭셔리,고급,호화,luxury', \n",
    "    '캐주얼': '캐주얼,캐쥬얼,casual', \n",
    "    \n",
    "    '유니크': '유니크,독특,독창,unique,개성,only,참신,신선,특이,아이디어',\n",
    "    '대중성': '대중,popular,mass,흔한', \n",
    "    \n",
    "    '정통성': '정통,traditional,클래식,classic,품격', \n",
    "    '트렌디': '트렌디,트랜디,트렌드,트랜드,유행,trend,trendy,변화,변동,새로운',#,'민감'],\n",
    "    \n",
    "    '포멀': '포멀,노멀,normal,평범,일상',\n",
    "    '화제성': '화제,인기,hot,튀는', \n",
    "    \n",
    "    #'가성비': ['가성비','저렴','효율','성능','실용'], \n",
    "    #'신뢰성': ['신뢰','믿음','trust','견고','품질','안정','클래식','classic'],\n",
    "    #'활동성': ['활동','활발','운동','액티브','스포츠','active','sport','sports','sporty'],\n",
    "    #'과감함': ['과감','선도','선구','대담','강렬','선명','예술','art'],\n",
    "    # 철학, 환상, 신상, 새로운, \n",
    "}"
   ]
  },
  {
   "cell_type": "code",
   "execution_count": 216,
   "metadata": {},
   "outputs": [],
   "source": [
    "dct = Dictionary(tokens)\n",
    "dct.filter_extremes(no_below=20, no_above=0.2)\n",
    "dct.compactify()"
   ]
  },
  {
   "cell_type": "code",
   "execution_count": 217,
   "metadata": {},
   "outputs": [
    {
     "data": {
      "application/vnd.jupyter.widget-view+json": {
       "model_id": "d94e2aac5be649a4b57c5ddd064de090",
       "version_major": 2,
       "version_minor": 0
      },
      "text/plain": [
       "HBox(children=(IntProgress(value=0, max=327), HTML(value='')))"
      ]
     },
     "metadata": {},
     "output_type": "display_data"
    },
    {
     "name": "stdout",
     "output_type": "stream",
     "text": [
      "\n"
     ]
    }
   ],
   "source": [
    "corp = {item:[dct.doc2bow(tok) for tok in toks] for item, toks in tqdm_notebook(tokens.tokensdict.items())}"
   ]
  },
  {
   "cell_type": "code",
   "execution_count": 218,
   "metadata": {},
   "outputs": [],
   "source": [
    "model_tfidf = TfidfModel(sum(corp.values(),[]), id2word=dct)"
   ]
  },
  {
   "cell_type": "code",
   "execution_count": 219,
   "metadata": {},
   "outputs": [],
   "source": [
    "wordlist = list(dct.values())\n",
    "identities = list(id_pools.keys())\n",
    "brands = list(tokens.tokensdict.keys())"
   ]
  },
  {
   "cell_type": "code",
   "execution_count": 220,
   "metadata": {},
   "outputs": [
    {
     "data": {
      "application/vnd.jupyter.widget-view+json": {
       "model_id": "ece950ea276e4c44b61b5ebfbe9f46b7",
       "version_major": 2,
       "version_minor": 0
      },
      "text/plain": [
       "HBox(children=(IntProgress(value=0, max=8), HTML(value='')))"
      ]
     },
     "metadata": {},
     "output_type": "display_data"
    },
    {
     "name": "stdout",
     "output_type": "stream",
     "text": [
      "\n"
     ]
    }
   ],
   "source": [
    "sim_mat = np.zeros((len(identities),len(wordlist)))\n",
    "for i, idty in enumerate(tqdm_notebook(identities)):\n",
    "    for j, word in enumerate(wordlist):\n",
    "        sims = []\n",
    "        for w in id_pools[idty].split(','):\n",
    "            try:\n",
    "                sims.append(w2v.wv.similarity(w, word))\n",
    "            except:\n",
    "                pass\n",
    "                #sims.append(0)\n",
    "        sim_mat[i,j] = np.mean(sims)\n",
    "        #sim_mat[i,j] = np.mean([w2v.wv.similarity(w, word) for w in id_pools[idty]])"
   ]
  },
  {
   "cell_type": "code",
   "execution_count": 221,
   "metadata": {},
   "outputs": [
    {
     "data": {
      "text/plain": [
       "(8, 25749)"
      ]
     },
     "execution_count": 221,
     "metadata": {},
     "output_type": "execute_result"
    }
   ],
   "source": [
    "sim_mat.shape"
   ]
  },
  {
   "cell_type": "code",
   "execution_count": 222,
   "metadata": {},
   "outputs": [],
   "source": [
    "def get_brand_vecs(bname):\n",
    "    brand_tfidf  = model_tfidf[corp[bname]]\n",
    "    return np.vstack([sparse2full(c, len(dct)) for c in brand_tfidf]).mean(axis=0)\n",
    "\n",
    "def plot_id(bname):\n",
    "    val = sim_mat.dot(get_brand_vecs(bname))\n",
    "    #val /= val.sum()\n",
    "    pd.Series(val, index=identities).plot.barh()"
   ]
  },
  {
   "cell_type": "code",
   "execution_count": 223,
   "metadata": {},
   "outputs": [
    {
     "name": "stdout",
     "output_type": "stream",
     "text": [
      "advisoryboardcrystals\n",
      "doublet\n",
      "engineeredgarment\n",
      "experthorror\n",
      "goat\n",
      "heliotemil\n",
      "ignoredprayers\n",
      "novacancyinn\n",
      "onlineceramics\n",
      "saterdaysnyc\n",
      "someware\n",
      "sssworldcorp\n",
      "ystrdystmrrw\n"
     ]
    }
   ],
   "source": [
    "id_dict = {}\n",
    "for bname in brands:\n",
    "    if bname not in ['ootd','fashion','category']:\n",
    "        try:\n",
    "            id_dict[bname] = sim_mat.dot(get_brand_vecs(bname))\n",
    "        except:\n",
    "            print(bname)"
   ]
  },
  {
   "cell_type": "code",
   "execution_count": 224,
   "metadata": {},
   "outputs": [],
   "source": [
    "pd.DataFrame(id_dict, index=identities).to_pickle('model/id_dict.pkl')"
   ]
  },
  {
   "cell_type": "code",
   "execution_count": 252,
   "metadata": {
    "scrolled": true
   },
   "outputs": [
    {
     "data": {
      "text/plain": [
       "<matplotlib.axes._subplots.AxesSubplot at 0x8caa72b0>"
      ]
     },
     "execution_count": 252,
     "metadata": {},
     "output_type": "execute_result"
    },
    {
     "data": {
      "image/png": "[encoded data removed]",
      "text/plain": [
       "<Figure size 432x288 with 1 Axes>"
      ]
     },
     "metadata": {},
     "output_type": "display_data"
    }
   ],
   "source": [
    "df = pd.DataFrame(id_dict, index=identities) #pd.read_pickle('model/id_dict.pkl')\n",
    "#df /= df.sum()\n",
    "df[['bape','chanel']].plot.barh()"
   ]
  },
  {
   "cell_type": "code",
   "execution_count": 226,
   "metadata": {},
   "outputs": [],
   "source": [
    "df_id = pd.DataFrame(columns=df.columns)\n",
    "df_id.loc['럭셔리-캐주얼'] = df.loc['럭셔리'] / (df.loc['럭셔리'] + df.loc['캐주얼'])\n",
    "df_id.loc['유니크-대중성'] = df.loc['유니크'] / (df.loc['유니크'] + df.loc['대중성'])\n",
    "df_id.loc['정통성-트렌디'] = df.loc['정통성'] / (df.loc['정통성'] + df.loc['트렌디'])\n",
    "df_id.loc['포멀-화제성'] = df.loc['포멀'] / (df.loc['포멀'] + df.loc['화제성'])"
   ]
  },
  {
   "cell_type": "code",
   "execution_count": 253,
   "metadata": {},
   "outputs": [],
   "source": [
    "df_id.to_pickle('model/id_dict.pkl')"
   ]
  },
  {
   "cell_type": "code",
   "execution_count": 235,
   "metadata": {},
   "outputs": [
    {
     "data": {
      "text/plain": [
       "<matplotlib.axes._subplots.AxesSubplot at 0x8c59e198>"
      ]
     },
     "execution_count": 235,
     "metadata": {},
     "output_type": "execute_result"
    },
    {
     "data": {
      "image/png": "[encoded data removed]",
      "text/plain": [
       "<Figure size 576x360 with 1 Axes>"
      ]
     },
     "metadata": {},
     "output_type": "display_data"
    }
   ],
   "source": [
    "df_id[['nike','crocs','chanel']].plot.barh(figsize=(8,5))"
   ]
  },
  {
   "cell_type": "code",
   "execution_count": null,
   "metadata": {},
   "outputs": [],
   "source": []
  },
  {
   "cell_type": "markdown",
   "metadata": {},
   "source": [
    "# 여기서 normalize 축을 바꾸면 어떨까?"
   ]
  },
  {
   "cell_type": "code",
   "execution_count": 243,
   "metadata": {},
   "outputs": [
    {
     "data": {
      "text/plain": [
       "<matplotlib.axes._subplots.AxesSubplot at 0x8cb4bda0>"
      ]
     },
     "execution_count": 243,
     "metadata": {},
     "output_type": "execute_result"
    },
    {
     "data": {
      "image/png": "[encoded data removed]",
      "text/plain": [
       "<Figure size 360x504 with 1 Axes>"
      ]
     },
     "metadata": {},
     "output_type": "display_data"
    }
   ],
   "source": [
    "#df = pd.read_pickle('model/id_dict.pkl')\n",
    "min_max_scaler = preprocessing.MinMaxScaler(feature_range=(0.1, 1))\n",
    "X_train_minmax = min_max_scaler.fit_transform(df_id)\n",
    "df2 = df_id.copy()\n",
    "df2[:] = X_train_minmax\n",
    "df2[['nike','crocs']].plot.barh(figsize=(5,7))"
   ]
  },
  {
   "cell_type": "code",
   "execution_count": 245,
   "metadata": {
    "collapsed": true
   },
   "outputs": [
    {
     "data": {
      "text/plain": [
       "032c                    12\n",
       "1017alyx9sm             12\n",
       "8seconds                 2\n",
       "99percentis              1\n",
       "aape                    14\n",
       "abecrombiefitch         11\n",
       "acnestudios              9\n",
       "acoldwall               13\n",
       "acronym                 12\n",
       "adererror                6\n",
       "adidas                  12\n",
       "adidasoriginal           0\n",
       "aecawhite                6\n",
       "aimeleondore            18\n",
       "aldo                     6\n",
       "alexandermcqueen        10\n",
       "alexanderwang            0\n",
       "allsaints                7\n",
       "alphaindustry            7\n",
       "ambush                   1\n",
       "ami                      7\n",
       "amiri                    2\n",
       "antisocialsocialclub     1\n",
       "apc                      6\n",
       "arcteryx                15\n",
       "asics                   18\n",
       "awakeny                 10\n",
       "balenciaga               0\n",
       "bally                    3\n",
       "balmain                 10\n",
       "                        ..\n",
       "tomsshoes                6\n",
       "topshop                 18\n",
       "topten                   2\n",
       "toryburch               17\n",
       "tumi                    10\n",
       "ugg                      0\n",
       "umbro                    1\n",
       "undefeated              15\n",
       "underarmour             12\n",
       "undercover               6\n",
       "uniqlo                   2\n",
       "urutokyo                 3\n",
       "valentino               17\n",
       "vans                     6\n",
       "veja                    16\n",
       "versace                 10\n",
       "vetement                 0\n",
       "visvim                  15\n",
       "vivastudio               7\n",
       "vivianwestwood          17\n",
       "whitemountaineering      6\n",
       "wilson                  14\n",
       "woolrich                15\n",
       "wtaps                    6\n",
       "xlarge                  18\n",
       "y3                      15\n",
       "yeezy                   12\n",
       "yojiyamamoto             3\n",
       "zara                     6\n",
       "zucca                    9\n",
       "Length: 311, dtype: int64"
      ]
     },
     "execution_count": 245,
     "metadata": {},
     "output_type": "execute_result"
    }
   ],
   "source": [
    "pca = PCA(n_components=0.9)\n",
    "X_reduced = pca.fit_transform(df2.T)\n",
    "# cluster = KMeans(n_clusters=10, random_state=0).fit(X_reduced)\n",
    "# cluster = DBSCAN().fit(X_reduced)\n",
    "cluster = AffinityPropagation().fit(X_reduced)\n",
    "clustered = pd.Series(cluster.labels_, index=df2.columns); clustered"
   ]
  },
  {
   "cell_type": "code",
   "execution_count": 247,
   "metadata": {
    "scrolled": true
   },
   "outputs": [],
   "source": [
    "clrd = pd.DataFrame(clustered.sort_values()).reset_index()\n",
    "clrd.columns = ['bname', 'cluster']\n",
    "clrd.to_excel('model/clustered.xlsx')"
   ]
  },
  {
   "cell_type": "code",
   "execution_count": 250,
   "metadata": {},
   "outputs": [
    {
     "data": {
      "text/html": [
       "<div>\n",
       "<style scoped>\n",
       "    .dataframe tbody tr th:only-of-type {\n",
       "        vertical-align: middle;\n",
       "    }\n",
       "\n",
       "    .dataframe tbody tr th {\n",
       "        vertical-align: top;\n",
       "    }\n",
       "\n",
       "    .dataframe thead th {\n",
       "        text-align: right;\n",
       "    }\n",
       "</style>\n",
       "<table border=\"1\" class=\"dataframe\">\n",
       "  <thead>\n",
       "    <tr style=\"text-align: right;\">\n",
       "      <th></th>\n",
       "      <th>bname</th>\n",
       "      <th>cluster</th>\n",
       "    </tr>\n",
       "  </thead>\n",
       "  <tbody>\n",
       "    <tr>\n",
       "      <th>158</th>\n",
       "      <td>chanel</td>\n",
       "      <td>10</td>\n",
       "    </tr>\n",
       "  </tbody>\n",
       "</table>\n",
       "</div>"
      ],
      "text/plain": [
       "      bname  cluster\n",
       "158  chanel       10"
      ]
     },
     "execution_count": 250,
     "metadata": {},
     "output_type": "execute_result"
    }
   ],
   "source": [
    "clrd[clrd.bname=='chanel']"
   ]
  },
  {
   "cell_type": "code",
   "execution_count": 251,
   "metadata": {},
   "outputs": [
    {
     "data": {
      "text/plain": [
       "Index(['alexandermcqueen', 'awakeny', 'balmain', 'bottegaveneta', 'burberry',\n",
       "       'chanel', 'dior', 'dkny', 'ermenegildozegna', 'fendi', 'ferragamo',\n",
       "       'gentlemonster', 'gucci', 'hermes', 'heronpreston', 'lanvin',\n",
       "       'louisvuitton', 'n21', 'prada', 'tods', 'tumi', 'versace'],\n",
       "      dtype='object')"
      ]
     },
     "execution_count": 251,
     "metadata": {},
     "output_type": "execute_result"
    }
   ],
   "source": [
    "clustered.index[clustered==10]"
   ]
  },
  {
   "cell_type": "code",
   "execution_count": 323,
   "metadata": {
    "collapsed": true
   },
   "outputs": [
    {
     "data": {
      "text/plain": [
       "032c                    0.921131\n",
       "1017alyx9sm             1.000000\n",
       "8seconds                0.894010\n",
       "99percentis             0.773222\n",
       "aape                    0.975499\n",
       "abecrombiefitch         0.844910\n",
       "acnestudios             1.000000\n",
       "acoldwall               1.000000\n",
       "acronym                 1.000000\n",
       "adererror               1.000000\n",
       "adidas                  0.907210\n",
       "adidasoriginal          1.000000\n",
       "aecawhite               1.000000\n",
       "aimeleondore            0.809190\n",
       "aldo                    1.000000\n",
       "alexandermcqueen        1.000000\n",
       "alexanderwang           1.000000\n",
       "allsaints               1.000000\n",
       "alphaindustry           0.916350\n",
       "ambush                  0.815106\n",
       "ami                     0.947703\n",
       "amiri                   0.979774\n",
       "antisocialsocialclub    0.971174\n",
       "apc                     0.955957\n",
       "arcteryx                0.983103\n",
       "asics                   0.862977\n",
       "awakeny                 0.987181\n",
       "balenciaga              1.000000\n",
       "bally                   0.899009\n",
       "balmain                 0.930140\n",
       "                          ...   \n",
       "tomsshoes               0.917824\n",
       "topshop                 0.745188\n",
       "topten                  0.649428\n",
       "toryburch               1.000000\n",
       "tumi                    0.924542\n",
       "ugg                     0.925125\n",
       "umbro                   0.729065\n",
       "undefeated              0.893982\n",
       "underarmour             0.800339\n",
       "undercover              0.907338\n",
       "uniqlo                  0.909249\n",
       "urutokyo                0.921592\n",
       "valentino               0.925484\n",
       "vans                    1.000000\n",
       "veja                    1.000000\n",
       "versace                 0.987600\n",
       "vetement                1.000000\n",
       "visvim                  1.000000\n",
       "vivastudio              0.865780\n",
       "vivianwestwood          1.000000\n",
       "whitemountaineering     1.000000\n",
       "wilson                  0.993942\n",
       "woolrich                0.829324\n",
       "wtaps                   1.000000\n",
       "xlarge                  1.000000\n",
       "y3                      0.981440\n",
       "yeezy                   1.000000\n",
       "yojiyamamoto            0.962689\n",
       "zara                    1.000000\n",
       "zucca                   0.970794\n",
       "Name: 신뢰성, Length: 311, dtype: float64"
      ]
     },
     "execution_count": 323,
     "metadata": {},
     "output_type": "execute_result"
    }
   ],
   "source": [
    "df2.loc['신뢰성']"
   ]
  },
  {
   "cell_type": "code",
   "execution_count": null,
   "metadata": {},
   "outputs": [],
   "source": []
  },
  {
   "cell_type": "code",
   "execution_count": null,
   "metadata": {},
   "outputs": [],
   "source": []
  },
  {
   "cell_type": "code",
   "execution_count": 325,
   "metadata": {},
   "outputs": [],
   "source": [
    "df_kw = pd.read_excel('keywords and logos.xlsx', sheet_name='20190215')[['shortname','keywords']].set_index('shortname')\n",
    "df_kw;"
   ]
  },
  {
   "cell_type": "code",
   "execution_count": 326,
   "metadata": {},
   "outputs": [],
   "source": [
    "def plot_wc(bname):\n",
    "    with open('model/tokensfreq.json', encoding='UTF-8-sig') as f:\n",
    "        j = json.load(f)[bname]\n",
    "        kws = [kw.strip() for kw in df_kw.keywords.loc[bname].split(',')]\n",
    "        [j.pop(kw, None) for kw in kws]\n",
    "\n",
    "    x,y = np.ogrid[:300, :300]\n",
    "    mask = (x-150)**2 + (y-150)**2 > 130**2\n",
    "    mask = 255 * mask.astype(int)\n",
    "        \n",
    "    font_path = r'c:\\Windows\\Fonts\\NanumBarunGothic.ttf'\n",
    "    wc = WordCloud(width=100, height=100, background_color='white', font_path=font_path, random_state=0, mask=mask)\n",
    "    \n",
    "    try:\n",
    "        fig, ax = plt.subplots(figsize=(7,7))\n",
    "        ax.imshow(wc.generate_from_frequencies(j), interpolation='bilinear')\n",
    "        ax.axis('off')\n",
    "        fig.savefig('model/wordcloud/wc_' + bname + '.png', format='png')\n",
    "        \n",
    "    except:\n",
    "        print(bname)\n",
    "        \n",
    "    finally:\n",
    "        plt.close(fig)"
   ]
  },
  {
   "cell_type": "code",
   "execution_count": 327,
   "metadata": {
    "collapsed": true
   },
   "outputs": [
    {
     "data": {
      "application/vnd.jupyter.widget-view+json": {
       "model_id": "a5375748340a4e71bff0bc61fae373fa",
       "version_major": 2,
       "version_minor": 0
      },
      "text/plain": [
       "HBox(children=(IntProgress(value=1, bar_style='info', max=1), HTML(value='')))"
      ]
     },
     "metadata": {},
     "output_type": "display_data"
    },
    {
     "name": "stdout",
     "output_type": "stream",
     "text": [
      "doublet\n",
      "engineeredgarment\n",
      "ignoredprayers\n",
      "saterdaysnyc\n",
      "advisoryboardcrystals\n",
      "experthorror\n",
      "goat\n",
      "heliotemil\n",
      "novacancyinn\n",
      "onlineceramics\n",
      "someware\n",
      "sssworldcorp\n",
      "ystrdystmrrw\n"
     ]
    }
   ],
   "source": [
    "for row in tqdm_notebook(df_kw.itertuples()):\n",
    "    bname = row.Index\n",
    "    \n",
    "    fname = 'model/wordcloud/wc_' + bname + '.png'\n",
    "    if os.path.isfile(fname):\n",
    "        continue\n",
    "        \n",
    "    if bname not in ['ootd','fashion','category']:\n",
    "        plot_wc(bname)"
   ]
  },
  {
   "cell_type": "code",
   "execution_count": null,
   "metadata": {},
   "outputs": [],
   "source": []
  },
  {
   "cell_type": "code",
   "execution_count": null,
   "metadata": {},
   "outputs": [],
   "source": []
  },
  {
   "cell_type": "code",
   "execution_count": 9,
   "metadata": {
    "collapsed": true
   },
   "outputs": [
    {
     "data": {
      "text/plain": [
       "soup               0.478494\n",
       "thursdayisland     0.523196\n",
       "hconnect           0.535815\n",
       "discovery          0.558666\n",
       "maxmara            0.597487\n",
       "fog                0.599294\n",
       "munsingwear        0.600664\n",
       "coteciel           0.614565\n",
       "mine               0.630577\n",
       "k2                 0.631754\n",
       "topten             0.649428\n",
       "bbc                0.657800\n",
       "buckaroo           0.695261\n",
       "reigningchamp      0.700859\n",
       "coach              0.706395\n",
       "gap                0.710637\n",
       "mains              0.710886\n",
       "plac               0.716768\n",
       "maje               0.718295\n",
       "placesplusfaces    0.724394\n",
       "umbro              0.729065\n",
       "mlb                0.732206\n",
       "plasticisland      0.739186\n",
       "topshop            0.745188\n",
       "charms             0.745581\n",
       "nonnative          0.750487\n",
       "lecoqsportif       0.752308\n",
       "tomboy             0.753768\n",
       "hoodbyair          0.754262\n",
       "palace             0.763309\n",
       "                     ...   \n",
       "porter             1.000000\n",
       "everywear          1.000000\n",
       "montblanc          1.000000\n",
       "liful              1.000000\n",
       "carhartt           1.000000\n",
       "daks               1.000000\n",
       "supreme            1.000000\n",
       "brixton            1.000000\n",
       "humanmade          1.000000\n",
       "billylosangeles    1.000000\n",
       "newera             1.000000\n",
       "gmbh               1.000000\n",
       "seventhheaven      1.000000\n",
       "thombrowne         1.000000\n",
       "tods               1.000000\n",
       "balenciaga         1.000000\n",
       "paulsmith          1.000000\n",
       "incase             1.000000\n",
       "goldengoose        1.000000\n",
       "converse           1.000000\n",
       "bape               1.000000\n",
       "freitag            1.000000\n",
       "veja               1.000000\n",
       "beanpole           1.000000\n",
       "vetement           1.000000\n",
       "pleatsplease       1.000000\n",
       "palmangels         1.000000\n",
       "beyondcloset       1.000000\n",
       "xlarge             1.000000\n",
       "celine             1.000000\n",
       "Name: 신뢰성, Length: 311, dtype: float64"
      ]
     },
     "execution_count": 9,
     "metadata": {},
     "output_type": "execute_result"
    }
   ],
   "source": [
    "df2.T['신뢰성'].sort_values()"
   ]
  },
  {
   "cell_type": "code",
   "execution_count": null,
   "metadata": {},
   "outputs": [],
   "source": []
  }
 ],
 "metadata": {
  "kernelspec": {
   "display_name": "Python 3",
   "language": "python",
   "name": "python3"
  },
  "language_info": {
   "codemirror_mode": {
    "name": "ipython",
    "version": 3
   },
   "file_extension": ".py",
   "mimetype": "text/x-python",
   "name": "python",
   "nbconvert_exporter": "python",
   "pygments_lexer": "ipython3",
   "version": "3.7.1"
  }
 },
 "nbformat": 4,
 "nbformat_minor": 2
}
