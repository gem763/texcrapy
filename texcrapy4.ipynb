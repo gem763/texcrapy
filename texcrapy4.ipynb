{
 "cells": [
  {
   "cell_type": "code",
   "execution_count": 1,
   "metadata": {},
   "outputs": [
    {
     "name": "stderr",
     "output_type": "stream",
     "text": [
      "C:\\ProgramData\\Anaconda3\\lib\\site-packages\\gensim\\utils.py:1197: UserWarning: detected Windows; aliasing chunkize to chunkize_serial\n",
      "  warnings.warn(\"detected Windows; aliasing chunkize to chunkize_serial\")\n"
     ]
    }
   ],
   "source": [
    "%load_ext autoreload\n",
    "%autoreload\n",
    "%matplotlib inline\n",
    "\n",
    "import pandas as pd\n",
    "import numpy as np\n",
    "from IPython.core.debugger import set_trace\n",
    "from tqdm import tqdm_notebook\n",
    "import texcrapy\n",
    "#from konlpy.corpus import word\n",
    "from ckonlpy.tag import Twitter, Postprocessor\n",
    "import json\n",
    "from soynlp.word import WordExtractor\n",
    "from soynlp.tokenizer import MaxScoreTokenizer, LTokenizer\n",
    "from soynlp.noun import LRNounExtractor_v2\n",
    "from soynlp.pos.tagset import tagset\n",
    "from soynlp.postagger import Dictionary as Dict\n",
    "from soynlp.postagger import LRTemplateMatcher\n",
    "from soynlp.postagger import LREvaluator\n",
    "from soynlp.postagger import SimpleTagger\n",
    "from soynlp.postagger import UnknowLRPostprocessor\n",
    "\n",
    "import nltk\n",
    "from nltk import Text\n",
    "from nltk.corpus import stopwords as STOPWORDS\n",
    "from nltk.corpus import words as WORDS\n",
    "from nltk.tag import untag\n",
    "import math\n",
    "import os\n",
    "import re\n",
    "\n",
    "from threading import Thread\n",
    "#from multiprocessing import Process\n",
    "import dask\n",
    "from dask import compute, delayed\n",
    "import dask.multiprocessing\n",
    "import dask.bag as db\n",
    "import jpype\n",
    "\n",
    "from gensim.models import Word2Vec, FastText\n",
    "from gensim.corpora import Dictionary\n",
    "from gensim.models.tfidfmodel import TfidfModel\n",
    "from gensim.matutils import sparse2full\n",
    "\n",
    "import seaborn as sns\n",
    "from matplotlib import rcParams\n",
    "from matplotlib import pyplot as plt\n",
    "from sklearn import preprocessing\n",
    "from sklearn.decomposition import PCA\n",
    "from sklearn.cluster import KMeans, DBSCAN, AffinityPropagation\n",
    "\n",
    "from wordcloud import WordCloud\n",
    "\n",
    "sns.set(style='ticks')\n",
    "rcParams['font.family'] = u'Malgun Gothic'"
   ]
  },
  {
   "cell_type": "code",
   "execution_count": 3,
   "metadata": {
    "scrolled": true
   },
   "outputs": [
    {
     "name": "stderr",
     "output_type": "stream",
     "text": [
      "[nltk_data] Downloading package stopwords to C:\\Users\\sekan.CA-\n",
      "[nltk_data]     AM\\AppData\\Roaming\\nltk_data...\n",
      "[nltk_data]   Package stopwords is already up-to-date!\n",
      "[nltk_data] Downloading package words to C:\\Users\\sekan.CA-\n",
      "[nltk_data]     AM\\AppData\\Roaming\\nltk_data...\n",
      "[nltk_data]   Package words is already up-to-date!\n"
     ]
    },
    {
     "data": {
      "text/plain": [
       "True"
      ]
     },
     "execution_count": 3,
     "metadata": {},
     "output_type": "execute_result"
    }
   ],
   "source": [
    "nltk.download('stopwords')\n",
    "nltk.download('words')"
   ]
  },
  {
   "cell_type": "markdown",
   "metadata": {},
   "source": [
    "# Scraping"
   ]
  },
  {
   "cell_type": "code",
   "execution_count": 175,
   "metadata": {},
   "outputs": [],
   "source": [
    "df = pd.read_excel('keywords and logos.xlsx', sheet_name='20190215')[['shortname','kw_supporter','kw_supported','keywords']]; df\n",
    "_or = lambda kw: ' OR '.join(['#' + k.strip() for k in kw.split(',')])\n",
    "\n",
    "qry_base = {row.shortname:_or(row.keywords) for row in df.itertuples()}\n",
    "supporters = df.shortname[df.kw_supporter==True]\n",
    "qry_sup = ' OR '.join([qry_base[sup] for sup in supporters]); qry_sup\n",
    "qry = {row.shortname: '(' + qry_base[row.shortname] + ') AND (' + qry_sup + ')' if row.kw_supported==True else qry_base[row.shortname] for row in df.itertuples()}"
   ]
  },
  {
   "cell_type": "code",
   "execution_count": null,
   "metadata": {},
   "outputs": [],
   "source": [
    "%%time\n",
    "what = ['id', 'timestamp', 'text']\n",
    "texcrapy.scrap(qry, what=what, lang='ko', end='2019-01-31', download_to='scrapped/twitter')"
   ]
  },
  {
   "cell_type": "code",
   "execution_count": null,
   "metadata": {},
   "outputs": [],
   "source": []
  },
  {
   "cell_type": "markdown",
   "metadata": {},
   "source": [
    "# Making Corpus"
   ]
  },
  {
   "cell_type": "code",
   "execution_count": 47,
   "metadata": {},
   "outputs": [],
   "source": [
    "def preproc(text, remove_url=True, remove_mention=True, remove_hashtag=False):\n",
    "    LINEBREAK = r'\\n' # str.replace에서는 r'\\n'으로 검색이 안된다\n",
    "    RT = '((?: rt)|(?:^rt))[^ @]?'\n",
    "    EMOJI = r'[\\U00010000-\\U0010ffff]'\n",
    "    DOTS = '…'\n",
    "    LONG_BLANK = r'[ ]+'\n",
    "    SPECIALS = r'([^ a-zA-Z0-9_\\u3131-\\u3163\\uac00-\\ud7a3]+)|([ㄱ-ㅣ]+)'\n",
    "    \n",
    "    # \\u3131-\\u3163\\uac00-\\ud7a3 는 한글을 의미함\n",
    "    # URL = r'(?P<url>(https?://)?(www[.])?[^ \\u3131-\\u3163\\uac00-\\ud7a3]+[.][a-z]{2,6}\\b([^ \\u3131-\\u3163\\uac00-\\ud7a3]*))'\n",
    "    URL1 = r'(?:https?:\\/\\/)?(?:www[.])?[^ :\\u3131-\\u3163\\uac00-\\ud7a3]+[.][a-z]{2,6}\\b(?:[^ \\u3131-\\u3163\\uac00-\\ud7a3]*)'\n",
    "    URL2 = r'pic.twitter.com/[a-zA-Z0-9_]+'\n",
    "    URL = '|'.join((URL1, URL2))\n",
    "    \n",
    "    HASHTAG = r'#(?P<inner_hashtag>[^ #@]+)'\n",
    "    MENTION = r'@(?P<inner_mention>[^ #@]+)' \n",
    "    \n",
    "    text = text.lower()\n",
    "    \n",
    "    if remove_url:\n",
    "        text = re.sub(URL, ' ', text)\n",
    "\n",
    "    if remove_mention:\n",
    "        text = re.sub(MENTION, ' ', text)        \n",
    "    else:\n",
    "        text = re.sub(MENTION, ' \\g<inner_mention>', text)\n",
    "        \n",
    "    if remove_hashtag:\n",
    "        text = re.sub(HASHTAG, ' ', text)\n",
    "    else:\n",
    "        text = re.sub(HASHTAG, ' \\g<inner_hashtag>', text)\n",
    "        \n",
    "    text = re.sub('|'.join((LINEBREAK, RT, EMOJI, DOTS, SPECIALS)), ' ', text)\n",
    "    return re.sub(LONG_BLANK, ' ', text).strip()\n",
    "    \n",
    "\n",
    "class JsonCorpus:\n",
    "    def __init__(self, *fnames, textkey='text'):\n",
    "        self.fnames = fnames\n",
    "        self.textkey = textkey\n",
    "        self.corpus = self._corpus()\n",
    "\n",
    "    def _corpus2(self):\n",
    "        corpus = {}\n",
    "        nfiles = len(self.fnames)\n",
    "        _preproc = lambda doc: preproc(doc[self.textkey])\n",
    "        f_preproc = np.vectorize(_preproc)\n",
    "        \n",
    "        for i, fname in enumerate(self.fnames):\n",
    "            with open(fname, encoding='UTF-8-sig') as f: \n",
    "                for item, docs in json.load(f).items():\n",
    "                    corpus[item] = f_preproc(docs) if len(docs)>0 else []\n",
    "                    \n",
    "                pct = '%.2f' % (100 * (i+1) / nfiles)\n",
    "                print('\\r {pct}% completed'.format(pct=pct), end='')\n",
    "                \n",
    "        print('\\n')\n",
    "        return corpus\n",
    "    \n",
    "    \n",
    "    def _corpus(self):\n",
    "        corpus = {}\n",
    "        nfiles = len(self.fnames)\n",
    "        \n",
    "        for i, fname in enumerate(self.fnames):\n",
    "            with open(fname, encoding='UTF-8-sig') as f:                \n",
    "                for item, docs in json.load(f).items():\n",
    "                    corpus[item] = [preproc(doc[self.textkey]) for doc in docs]\n",
    "                \n",
    "                pct = '%.2f' % (100 * (i+1) / nfiles)\n",
    "                print('\\r {pct}% completed'.format(pct=pct), end='')\n",
    "        \n",
    "        print('\\n')\n",
    "        return corpus\n",
    "    \n",
    "                \n",
    "    def __iter__(self):\n",
    "        for sents in self.corpus.values():\n",
    "            yield from sents\n",
    "\n",
    "    def __len__(self):\n",
    "        return sum([len(sents) for sents in self.corpus.values()])\n",
    "    \n",
    "    def tokenize(self, tagger):\n",
    "        return Tokens(tagger, **self.corpus)\n",
    "\n",
    "\n",
    "class Tokens:\n",
    "    def __init__(self, tagger, **corpora):\n",
    "        self.tagger = tagger\n",
    "        self.tokensdict = self._get_tokens2(**corpora)\n",
    "    \n",
    "    \n",
    "    def _get_tokens(self, **corpora):\n",
    "        tokens = [] #{}\n",
    "        ths = []\n",
    "        n_items = len(corpora)\n",
    "        \n",
    "        for item, corpus in list(corpora.items())[:50]:\n",
    "            th = Thread(target=do_concurrent_tagging, args=(item, corpus, n_items, tokens))\n",
    "            ths.append(th)\n",
    "            \n",
    "        for th in ths: th.start()\n",
    "        for th in ths: th.join()\n",
    "        \n",
    "        print('\\n')\n",
    "        return tokens\n",
    "    \n",
    "    \n",
    "    def _get_tokens2(self, **corpora):\n",
    "        tokens = {}\n",
    "        for item, corpus in tqdm_notebook(list(corpora.items())[:]):\n",
    "            tokens[item] = [[w[0] for w in self.tagger.tag(corp) if w[1] is not None] for corp in set(corpus)]\n",
    "        return tokens\n",
    "    \n",
    "    \n",
    "    def freq(self):\n",
    "        return {\n",
    "            item: Text(sum(toks, [])).vocab() \n",
    "            for item, toks in tqdm_notebook(self.tokensdict.items())\n",
    "            if item not in ['ootd','fashion','category']\n",
    "        }\n",
    "                \n",
    "    def __iter__(self):\n",
    "        for toks in self.tokensdict.values():\n",
    "            yield from toks\n",
    "            \n",
    "    def __len__(self):\n",
    "        return sum([len(toks) for toks in self.tokensdict.values()])"
   ]
  },
  {
   "cell_type": "code",
   "execution_count": 6,
   "metadata": {},
   "outputs": [
    {
     "name": "stdout",
     "output_type": "stream",
     "text": [
      " 100.00% completed\n",
      "\n",
      "Wall time: 25.3 s\n"
     ]
    }
   ],
   "source": [
    "%%time\n",
    "fnames = ['scrapped/twitter/' + fname for fname in os.listdir('scrapped/twitter')]\n",
    "jcorpus = JsonCorpus(*fnames)"
   ]
  },
  {
   "cell_type": "code",
   "execution_count": null,
   "metadata": {},
   "outputs": [],
   "source": []
  },
  {
   "cell_type": "markdown",
   "metadata": {},
   "source": [
    "# Making Dictionary"
   ]
  },
  {
   "cell_type": "markdown",
   "metadata": {},
   "source": [
    "### 1. From Scraping keywords"
   ]
  },
  {
   "cell_type": "code",
   "execution_count": 7,
   "metadata": {},
   "outputs": [],
   "source": [
    "df_keywords = pd.read_excel('keywords and logos.xlsx', sheet_name='20190215')['keywords']\n",
    "keywords = {w.strip() for w in ', '.join(df_keywords).split(',')}"
   ]
  },
  {
   "cell_type": "markdown",
   "metadata": {},
   "source": [
    "### 2. Soynlp nouns"
   ]
  },
  {
   "cell_type": "code",
   "execution_count": 8,
   "metadata": {
    "scrolled": true
   },
   "outputs": [
    {
     "name": "stdout",
     "output_type": "stream",
     "text": [
      "[Noun Extractor] use default predictors\n",
      "[Noun Extractor] num features: pos=1260, neg=1173, common=12\n",
      "[Noun Extractor] counting eojeols\n",
      "[EojeolCounter] n eojeol = 493329 from 429969 sents. mem=0.354 Gb                    \n",
      "[Noun Extractor] complete eojeol counter -> lr graph\n",
      "[Noun Extractor] has been trained. #eojeols=6680411, mem=1.464 Gb\n",
      "[Noun Extractor] batch prediction was completed for 112092 words\n",
      "[Noun Extractor] checked compounds. discovered 106245 compounds\n",
      "[Noun Extractor] postprocessing detaching_features : 23448 -> 23277\n",
      "[Noun Extractor] postprocessing ignore_features : 23277 -> 23178\n",
      "[Noun Extractor] postprocessing ignore_NJ : 23178 -> 22851\n",
      "[Noun Extractor] 22851 nouns (106245 compounds) with min frequency=5\n",
      "[Noun Extractor] flushing was done. mem=1.701 Gb                    \n",
      "[Noun Extractor] 75.02 % eojeols are covered\n"
     ]
    }
   ],
   "source": [
    "noun_extractor = LRNounExtractor_v2(verbose=True)\n",
    "_soynouns = noun_extractor.train_extract(jcorpus, min_noun_score=0.3, min_noun_frequency=5)"
   ]
  },
  {
   "cell_type": "code",
   "execution_count": 14,
   "metadata": {},
   "outputs": [],
   "source": [
    "soynouns = _soynouns.keys()\n",
    "soyngrams = {v for k,v in noun_extractor._compounds_components.items() if k in soynouns}"
   ]
  },
  {
   "cell_type": "code",
   "execution_count": null,
   "metadata": {},
   "outputs": [],
   "source": []
  },
  {
   "cell_type": "code",
   "execution_count": 162,
   "metadata": {},
   "outputs": [],
   "source": [
    "word_extractor = WordExtractor?"
   ]
  },
  {
   "cell_type": "code",
   "execution_count": 177,
   "metadata": {},
   "outputs": [
    {
     "name": "stdout",
     "output_type": "stream",
     "text": [
      "training was done. used memory 3.677 Gbse memory 3.832 Gb\n",
      "all cohesion probabilities was computed. # words = 264323\n",
      "all branching entropies was computed # words = 446112\n",
      "all accessor variety was computed # words = 446112\n"
     ]
    }
   ],
   "source": [
    "word_extractor = WordExtractor()\n",
    "word_extractor.train(jcorpus)\n",
    "_soywords = word_extractor.extract()"
   ]
  },
  {
   "cell_type": "code",
   "execution_count": 178,
   "metadata": {},
   "outputs": [],
   "source": [
    "def word_score(score):\n",
    "    return score.cohesion_forward * math.exp(score.right_branching_entropy)\n",
    "\n",
    "soywords = {word for word, score in soywords.items() if word_score(score)>0.1}"
   ]
  },
  {
   "cell_type": "code",
   "execution_count": null,
   "metadata": {},
   "outputs": [],
   "source": []
  },
  {
   "cell_type": "markdown",
   "metadata": {},
   "source": [
    "### 3. Korean words"
   ]
  },
  {
   "cell_type": "code",
   "execution_count": 180,
   "metadata": {},
   "outputs": [],
   "source": [
    "with open('dic_system.txt', encoding='UTF-8-sig') as f:\n",
    "    lines = f.readlines()\n",
    "    \n",
    "kowords = {tok.split('\\t')[0] for tok in lines}"
   ]
  },
  {
   "cell_type": "markdown",
   "metadata": {},
   "source": [
    "### 4. English words"
   ]
  },
  {
   "cell_type": "code",
   "execution_count": 181,
   "metadata": {},
   "outputs": [],
   "source": [
    "enwords = set(WORDS.words())"
   ]
  },
  {
   "cell_type": "markdown",
   "metadata": {},
   "source": [
    "### 5. Custom words"
   ]
  },
  {
   "cell_type": "code",
   "execution_count": 182,
   "metadata": {},
   "outputs": [],
   "source": [
    "cwords = '''\n",
    "'''\n",
    "\n",
    "cwords = set(re.findall(r'[^ ,]+', re.sub(r'\\n', '', cwords)))"
   ]
  },
  {
   "cell_type": "code",
   "execution_count": 183,
   "metadata": {},
   "outputs": [],
   "source": [
    "pos_dict = {\n",
    "    'Adverb': {}, \n",
    "    'Noun': keywords | soynouns | soywords | kowords | enwords | cwords, \n",
    "    'Josa': {},\n",
    "    'Verb': {},\n",
    "    'Adjective': {},\n",
    "    'Exclamation': {},\n",
    "}\n",
    "\n",
    "dictionary = Dict(pos_dict)\n",
    "generator = LRTemplateMatcher(dictionary)    \n",
    "evaluator = LREvaluator()\n",
    "postprocessor = UnknowLRPostprocessor()\n",
    "tagger = SimpleTagger(generator, evaluator, postprocessor)"
   ]
  },
  {
   "cell_type": "code",
   "execution_count": 184,
   "metadata": {
    "collapsed": true
   },
   "outputs": [
    {
     "data": {
      "text/plain": [
       "[('가성비', 'Noun'),\n",
       " ('좋', None),\n",
       " ('기로', 'Noun'),\n",
       " ('소문', 'Noun'),\n",
       " ('난', None),\n",
       " ('크록스', 'Noun'),\n",
       " ('중에서도', 'Noun'),\n",
       " ('레이웨지', 'Noun'),\n",
       " ('키작녀', 'Noun'),\n",
       " ('에게', 'Noun'),\n",
       " ('최고', 'Noun'),\n",
       " ('지', None),\n",
       " ('여름', 'Noun'),\n",
       " ('엔', None),\n",
       " ('정', None),\n",
       " ('했다', 'Noun'),\n",
       " ('ak몰', 'Noun'),\n",
       " ('패션', 'Noun'),\n",
       " ('신발', 'Noun'),\n",
       " ('패션잡화', 'Noun'),\n",
       " ('웨지힐', 'Noun')]"
      ]
     },
     "execution_count": 184,
     "metadata": {},
     "output_type": "execute_result"
    }
   ],
   "source": [
    "tagger.tag(jcorpus.corpus['crocs'][250])"
   ]
  },
  {
   "cell_type": "code",
   "execution_count": 185,
   "metadata": {},
   "outputs": [
    {
     "data": {
      "application/vnd.jupyter.widget-view+json": {
       "model_id": "520678b005344c729c6f622c36f7a4c7",
       "version_major": 2,
       "version_minor": 0
      },
      "text/plain": [
       "HBox(children=(IntProgress(value=0, max=327), HTML(value='')))"
      ]
     },
     "metadata": {},
     "output_type": "display_data"
    },
    {
     "name": "stdout",
     "output_type": "stream",
     "text": [
      "\n",
      "Wall time: 3min 17s\n"
     ]
    }
   ],
   "source": [
    "%%time\n",
    "tokens = jcorpus.tokenize(tagger)"
   ]
  },
  {
   "cell_type": "code",
   "execution_count": 42,
   "metadata": {},
   "outputs": [],
   "source": [
    "set(jcorpus.corpus['crocs']);"
   ]
  },
  {
   "cell_type": "code",
   "execution_count": 187,
   "metadata": {},
   "outputs": [],
   "source": [
    "tokens.tokensdict['crocs'];"
   ]
  },
  {
   "cell_type": "code",
   "execution_count": null,
   "metadata": {},
   "outputs": [],
   "source": []
  },
  {
   "cell_type": "code",
   "execution_count": null,
   "metadata": {},
   "outputs": [],
   "source": []
  },
  {
   "cell_type": "code",
   "execution_count": null,
   "metadata": {},
   "outputs": [],
   "source": []
  },
  {
   "cell_type": "code",
   "execution_count": null,
   "metadata": {},
   "outputs": [],
   "source": []
  },
  {
   "cell_type": "markdown",
   "metadata": {},
   "source": [
    "# Tagger setup"
   ]
  },
  {
   "cell_type": "markdown",
   "metadata": {},
   "source": [
    "### 1. Passtags"
   ]
  },
  {
   "cell_type": "code",
   "execution_count": 43,
   "metadata": {},
   "outputs": [],
   "source": [
    "stoptags = {'Foreign','Punctuation','KoreanParticle','Josa','Eomi','PreEomi','Exclamation','Determiner'}\n",
    "passtags = set(twitter.tagset.keys()) - stoptags"
   ]
  },
  {
   "cell_type": "markdown",
   "metadata": {},
   "source": [
    "### 2. Stopwords"
   ]
  },
  {
   "cell_type": "code",
   "execution_count": 70,
   "metadata": {},
   "outputs": [],
   "source": [
    "stopwords_en = STOPWORDS.words('english')\n",
    "\n",
    "with open('stopwords-ko.json', encoding='UTF-8-sig') as f:\n",
    "    stopwords_ko = json.load(f)\n",
    "    \n",
    "stopwords_custom = '''\n",
    "    엔, 줄, 내, 에는, 잖아요, 라는, 데, 는, 것은, 는, 인가요, 란, 말인가, 시, 은, 하네, 이나, 지, 있음, 수, 있는, \n",
    "    있으신가, 요, 그렇다면, 하고, 내는, 후, 생, 가거, 한, 하시겠어요, 만, 되네, 하려면, 하다, 랑, 하게, 근데, pic, 님의, \n",
    "    호, 하세요, 흑, 적인, 다욧, 니, 보니, 건, 다, 위해, 히, 께, 난, 해, 면서, 용, 보자, 가서, 하는, 중, 도, \n",
    "    잉, 인, 울, 하러가기, 인, 준, 든, 이셨으면, 와의, \n",
    "    드는, 되네요, 크흐, 이걸, 서, 에도, 됩니다, 하다고, 날, \n",
    "    하네요, 했습니다, 해지네요, 이였냐, 더, \n",
    "    되니, 하지않을, 아아, htm, 고, 냐고, 이야, 아니야, 너네, 된, 이냐, 해봐라, 해서, \n",
    "    vi, \n",
    "'''    \n",
    "\n",
    "stopwords_custom = re.findall(r'[^ ,]+', re.sub(r'\\n','',stopwords_custom))\n",
    "stopwords = set(stopwords_en + stopwords_ko)# + stopwords_custom)"
   ]
  },
  {
   "cell_type": "markdown",
   "metadata": {},
   "source": [
    "### 3. N-grams"
   ]
  },
  {
   "cell_type": "code",
   "execution_count": 45,
   "metadata": {},
   "outputs": [],
   "source": [
    "cngrams = {\n",
    "    ('캘빈','클라인'),('켈빈','클라인'),\n",
    "}\n",
    "#     ('the','boyz'),\n",
    "#     ('어글리','슈즈'),\n",
    "#     ('리미티드','에디션'),\n",
    "#     ('키코','코스타디노브'), ('kiko','kostadinov'),\n",
    "#     ('젤','카야노'),\n",
    "#     ('젤','라이트'),('gel','lyte'),\n",
    "#     ('스튜어트','와이츠먼'),\n",
    "#     ('주니','블랙'),\n",
    "#     ('jun','hyo','seong'),\n",
    "#     ('gel','ptg'),\n",
    "#     ('오니츠카','타이거'),\n",
    "#     ('노박','조코비치'),\n",
    "#     ('후디','티셔츠'),\n",
    "#     ('최종병기','활'),\n",
    "#     ('아이제아','토마스'),\n",
    "#     ('gel','ace')\n",
    "# ]\n",
    "\n",
    "ngrams = list(cngrams | soyngrams)"
   ]
  },
  {
   "cell_type": "code",
   "execution_count": 56,
   "metadata": {},
   "outputs": [],
   "source": [
    "tagger = Postprocessor(twitter)#, stopwords=stopwords, passtags=passtags, ngrams=ngrams)"
   ]
  },
  {
   "cell_type": "code",
   "execution_count": 32,
   "metadata": {},
   "outputs": [
    {
     "data": {
      "application/vnd.jupyter.widget-view+json": {
       "model_id": "9be0ad4134844446a9a6780a76b84652",
       "version_major": 2,
       "version_minor": 0
      },
      "text/plain": [
       "HBox(children=(IntProgress(value=0, max=327), HTML(value='')))"
      ]
     },
     "metadata": {},
     "output_type": "display_data"
    },
    {
     "name": "stdout",
     "output_type": "stream",
     "text": [
      "\n",
      "Wall time: 1h 16min 13s\n"
     ]
    }
   ],
   "source": [
    "%%time\n",
    "tokens = jcorpus.tokenize(tagger)"
   ]
  },
  {
   "cell_type": "code",
   "execution_count": null,
   "metadata": {},
   "outputs": [],
   "source": []
  },
  {
   "cell_type": "code",
   "execution_count": 62,
   "metadata": {},
   "outputs": [],
   "source": [
    "def do_concurrent(tagger, item, corpus):\n",
    "    return item, [untag(tagger.tag(corp)) for corp in corpus]"
   ]
  },
  {
   "cell_type": "code",
   "execution_count": 52,
   "metadata": {},
   "outputs": [
    {
     "name": "stdout",
     "output_type": "stream",
     "text": [
      "Wall time: 29.6 s\n"
     ]
    }
   ],
   "source": [
    "%%time\n",
    "if __name__ == '__main__':\n",
    "    values = [delayed(do_concurrent)(tagger, item, corpus) for item, corpus in list(jcorpus.corpus.items())[:5]]\n",
    "    result = compute(*values, scheduler='processes')"
   ]
  },
  {
   "cell_type": "code",
   "execution_count": 63,
   "metadata": {},
   "outputs": [
    {
     "name": "stdout",
     "output_type": "stream",
     "text": [
      "Wall time: 3.13 s\n"
     ]
    }
   ],
   "source": [
    "%%time\n",
    "test = [do_concurrent(tagger, item, corpus) for item, corpus in list(jcorpus.corpus.items())[:5]]"
   ]
  },
  {
   "cell_type": "code",
   "execution_count": null,
   "metadata": {},
   "outputs": [],
   "source": []
  },
  {
   "cell_type": "code",
   "execution_count": null,
   "metadata": {},
   "outputs": [],
   "source": []
  },
  {
   "cell_type": "code",
   "execution_count": 188,
   "metadata": {},
   "outputs": [
    {
     "data": {
      "application/vnd.jupyter.widget-view+json": {
       "model_id": "d707ece3679e4b61ac313fdf406d8b7c",
       "version_major": 2,
       "version_minor": 0
      },
      "text/plain": [
       "HBox(children=(IntProgress(value=0, max=327), HTML(value='')))"
      ]
     },
     "metadata": {},
     "output_type": "display_data"
    },
    {
     "name": "stdout",
     "output_type": "stream",
     "text": [
      "\n"
     ]
    }
   ],
   "source": [
    "tokensfreq = tokens.freq()"
   ]
  },
  {
   "cell_type": "code",
   "execution_count": 189,
   "metadata": {},
   "outputs": [],
   "source": [
    "with open('model/tokensfreq.json', 'w', encoding='UTF-8-sig') as f:\n",
    "    json.dump(tokensfreq, f, ensure_ascii=False)"
   ]
  },
  {
   "cell_type": "code",
   "execution_count": 3,
   "metadata": {},
   "outputs": [],
   "source": [
    "with open('model/tokensfreq.json', encoding='UTF-8-sig') as f:\n",
    "    tokensfreq = json.load(f)"
   ]
  },
  {
   "cell_type": "code",
   "execution_count": 33,
   "metadata": {},
   "outputs": [],
   "source": [
    "tokensfreq.keys();"
   ]
  },
  {
   "cell_type": "code",
   "execution_count": null,
   "metadata": {},
   "outputs": [],
   "source": []
  },
  {
   "cell_type": "markdown",
   "metadata": {},
   "source": [
    "# Word2vec"
   ]
  },
  {
   "cell_type": "code",
   "execution_count": 190,
   "metadata": {},
   "outputs": [],
   "source": [
    "w2v = Word2Vec(tokens, size=100, window=5, min_count=10, workers=4, sg=1)\n",
    "w2v.save('model/word2vec.model')"
   ]
  },
  {
   "cell_type": "code",
   "execution_count": 191,
   "metadata": {},
   "outputs": [],
   "source": [
    "w2v.init_sims(replace=True)"
   ]
  },
  {
   "cell_type": "code",
   "execution_count": 2,
   "metadata": {},
   "outputs": [
    {
     "name": "stdout",
     "output_type": "stream",
     "text": [
      "Wall time: 1.13 s\n"
     ]
    }
   ],
   "source": [
    "%%time\n",
    "w2v = Word2Vec.load('model/word2vec.model')"
   ]
  },
  {
   "cell_type": "code",
   "execution_count": 29,
   "metadata": {},
   "outputs": [],
   "source": [
    "blist = pd.read_excel('keywords and logos.xlsx', sheet_name='20190304')[['shortname','keywords']][3:].to_dict('record')"
   ]
  },
  {
   "cell_type": "code",
   "execution_count": 30,
   "metadata": {},
   "outputs": [],
   "source": [
    "res = []\n",
    "for brand1 in blist:\n",
    "    for brand2 in blist:\n",
    "        b1 = [w.strip() for w in brand1['keywords'].split(',')]\n",
    "        b2 = [w.strip() for w in brand2['keywords'].split(',')]\n",
    "        \n",
    "        try:\n",
    "            sim = w2v.wv.n_similarity(b1, b2)\n",
    "            res.append((brand1['shortname']+'-'+brand2['shortname'], sim))\n",
    "            \n",
    "        except:\n",
    "            _b1 = [w for w in b1 if w in w2v.wv.vocab]\n",
    "            _b2 = [w for w in b2 if w in w2v.wv.vocab]\n",
    "            if len(_b1)*len(_b2)!=0:\n",
    "                sim = w2v.wv.n_similarity(_b1, _b2)\n",
    "                res.append((brand1['shortname']+'-'+brand2['shortname'], sim))"
   ]
  },
  {
   "cell_type": "code",
   "execution_count": 31,
   "metadata": {},
   "outputs": [
    {
     "data": {
      "text/plain": [
       "[('tods-newera', -0.12983424886868136),\n",
       " ('newera-tods', -0.12983424886868136),\n",
       " ('patagonia-valentino', -0.10357279775721215),\n",
       " ('valentino-patagonia', -0.10357279775721215),\n",
       " ('kuho-yeezy', -0.10329808901096638),\n",
       " ('yeezy-kuho', -0.10329808901096638),\n",
       " ('soup-abecrombiefitch', -0.0956901706675369),\n",
       " ('abecrombiefitch-soup', -0.0956901706675369),\n",
       " ('beanpole-y3', -0.0936294050932798),\n",
       " ('y3-beanpole', -0.0936294050932798),\n",
       " ('patagonia-billylosangeles', -0.09244410385853158),\n",
       " ('billylosangeles-patagonia', -0.09244410385853158),\n",
       " ('valentino-helinox', -0.08826646256095232),\n",
       " ('helinox-valentino', -0.08826646256095232),\n",
       " ('oakley-billylosangeles', -0.08517653840085804),\n",
       " ('billylosangeles-oakley', -0.08517653840085804),\n",
       " ('coach-billylosangeles', -0.08096358456108801),\n",
       " ('billylosangeles-coach', -0.08096358456108801),\n",
       " ('buckaroo-rimowa', -0.0752983168677062),\n",
       " ('rimowa-buckaroo', -0.0752983168677062),\n",
       " ('adidas-billylosangeles', -0.07392189180870536),\n",
       " ('billylosangeles-adidas', -0.07392189180870536),\n",
       " ('lanvin-patagonia', -0.07218701861407774),\n",
       " ('patagonia-lanvin', -0.07218701861407774),\n",
       " ('thursdayisland-abecrombiefitch', -0.0717502450550824),\n",
       " ('abecrombiefitch-thursdayisland', -0.0717502450550824),\n",
       " ('thursdayisland-huf', -0.0666244689901189),\n",
       " ('huf-thursdayisland', -0.0666244689901189),\n",
       " ('stellamccartney-billylosangeles', -0.06658141477134512),\n",
       " ('billylosangeles-stellamccartney', -0.06658141477134512),\n",
       " ('allsaints-billylosangeles', -0.06449431020148688),\n",
       " ('billylosangeles-allsaints', -0.06449431020148688),\n",
       " ('alexandermcqueen-helinox', -0.06423252820458153),\n",
       " ('helinox-alexandermcqueen', -0.06423252820458153),\n",
       " ('mizuno-lynn', -0.061740400302940715),\n",
       " ('lynn-mizuno', -0.061740400302940715),\n",
       " ('rayban-billylosangeles', -0.06119143416582702),\n",
       " ('billylosangeles-rayban', -0.06119143416582702),\n",
       " ('alexanderwang-dynafit', -0.058694438971582386),\n",
       " ('dynafit-alexanderwang', -0.058694438971582386),\n",
       " ('jillstuart-abecrombiefitch', -0.05781634404114508),\n",
       " ('abecrombiefitch-jillstuart', -0.05781634404114508),\n",
       " ('juunj-billylosangeles', -0.05638749895312034),\n",
       " ('billylosangeles-juunj', -0.05638749895312034),\n",
       " ('hazzys-supreme', -0.055534082743477035),\n",
       " ('supreme-hazzys', -0.055534082743477035),\n",
       " ('lap-billylosangeles', -0.054651743493011495),\n",
       " ('billylosangeles-lap', -0.054651743493011495),\n",
       " ('millet-billylosangeles', -0.053620104621766),\n",
       " ('billylosangeles-millet', -0.053620104621766),\n",
       " ('rimowa-thursdayisland', -0.05313058940040464),\n",
       " ('thursdayisland-rimowa', -0.05313058940040464),\n",
       " ('samsonite-stoneisland', -0.05280816555441013),\n",
       " ('stoneisland-samsonite', -0.05280816555441013),\n",
       " ('theory-billylosangeles', -0.05273069231259141),\n",
       " ('billylosangeles-theory', -0.05273069231259141),\n",
       " ('gap-billylosangeles', -0.05266350421077498),\n",
       " ('billylosangeles-gap', -0.05266350421077498),\n",
       " ('givenchy-custommellow', -0.051343609405021876),\n",
       " ('custommellow-givenchy', -0.051343609405021876),\n",
       " ('topten-billylosangeles', -0.05078395661111064),\n",
       " ('billylosangeles-topten', -0.05078395661111064),\n",
       " ('underarmour-billylosangeles', -0.049732540063055906),\n",
       " ('billylosangeles-underarmour', -0.049732540063055906),\n",
       " ('titleist-nohant', -0.04907647836066396),\n",
       " ('nohant-titleist', -0.04907647836066396),\n",
       " ('lafuma-rafsimons', -0.04854756864621017),\n",
       " ('rafsimons-lafuma', -0.04854756864621017),\n",
       " ('guess-billylosangeles', -0.047348542551143985),\n",
       " ('billylosangeles-guess', -0.047348542551143985),\n",
       " ('arcteryx-miumiu', -0.045959964052651264),\n",
       " ('miumiu-arcteryx', -0.045959964052651264),\n",
       " ('michaelkors-billylosangeles', -0.04561067719527214),\n",
       " ('billylosangeles-michaelkors', -0.04561067719527214),\n",
       " ('tods-stussy', -0.04495755796002854),\n",
       " ('stussy-tods', -0.04495755796002854),\n",
       " ('dynafit-rafsimons', -0.0444912513189412),\n",
       " ('rafsimons-dynafit', -0.0444912513189412),\n",
       " ('8seconds-yeezy', -0.04424300838143549),\n",
       " ('yeezy-8seconds', -0.04424300838143549),\n",
       " ('reebok-lynn', -0.043789211050598374),\n",
       " ('lynn-reebok', -0.043789211050598374),\n",
       " ('nationalgeography-saintlaurent', -0.0429391467366927),\n",
       " ('saintlaurent-nationalgeography', -0.0429391467366927),\n",
       " ('louisvuitton-barrel', -0.042833371390423036),\n",
       " ('barrel-louisvuitton', -0.042833371390423036),\n",
       " ('jimmychoo-helinox', -0.0426212499329931),\n",
       " ('helinox-jimmychoo', -0.0426212499329931),\n",
       " ('jimmychoo-brixton', -0.04207676205027917),\n",
       " ('brixton-jimmychoo', -0.04207676205027917),\n",
       " ('mizuno-moschino', -0.04139725854454957),\n",
       " ('moschino-mizuno', -0.04139725854454957),\n",
       " ('balenciaga-dynafit', -0.04048606444699139),\n",
       " ('dynafit-balenciaga', -0.04048606444699139),\n",
       " ('billylosangeles-isabelmarant', -0.03992817976799945),\n",
       " ('isabelmarant-billylosangeles', -0.03992817976799945),\n",
       " ('prada-billylosangeles', -0.03924439704703031),\n",
       " ('billylosangeles-prada', -0.03924439704703031),\n",
       " ('patagonia-saintlaurent', -0.03905929742425153),\n",
       " ('saintlaurent-patagonia', -0.03905929742425153),\n",
       " ('dynafit-rickowens', -0.03873785236422272),\n",
       " ('rickowens-dynafit', -0.03873785236422272),\n",
       " ('hermes-lafuma', -0.03824989603587366),\n",
       " ('lafuma-hermes', -0.03824989603587366),\n",
       " ('cpcompany-billylosangeles', -0.03667692655044953),\n",
       " ('billylosangeles-cpcompany', -0.03667692655044953),\n",
       " ('diesel-billylosangeles', -0.0353574146171427),\n",
       " ('billylosangeles-diesel', -0.0353574146171427),\n",
       " ('valentino-snowpeak', -0.03471664538329296),\n",
       " ('snowpeak-valentino', -0.03471664538329296),\n",
       " ('crocs-thombrowne', -0.03416046194095235),\n",
       " ('thombrowne-crocs', -0.03416046194095235),\n",
       " ('jimmychoo-snowpeak', -0.03316514995359095),\n",
       " ('snowpeak-jimmychoo', -0.03316514995359095),\n",
       " ('custommellow-rimowa', -0.03277096650333269),\n",
       " ('rimowa-custommellow', -0.03277096650333269),\n",
       " ('tommyhilfiger-snowpeak', -0.032596494856564046),\n",
       " ('snowpeak-tommyhilfiger', -0.032596494856564046),\n",
       " ('beanpole-supreme', -0.03256546931496917),\n",
       " ('supreme-beanpole', -0.03256546931496917),\n",
       " ('dynafit-marni', -0.03217443645563166),\n",
       " ('marni-dynafit', -0.03217443645563166),\n",
       " ('hconnect-y3', -0.032051725834149),\n",
       " ('y3-hconnect', -0.032051725834149),\n",
       " ('charms-wilson', -0.030764509492653913),\n",
       " ('wilson-charms', -0.030764509492653913),\n",
       " ('jimmychoo-newera', -0.03065421430709111),\n",
       " ('newera-jimmychoo', -0.03065421430709111),\n",
       " ('saintlaurent-helinox', -0.03006943764386938),\n",
       " ('helinox-saintlaurent', -0.03006943764386938),\n",
       " ('mizuno-monclear', -0.02964821700668005),\n",
       " ('monclear-mizuno', -0.02964821700668005),\n",
       " ('blackyak-saintlaurent', -0.02913918603785469),\n",
       " ('saintlaurent-blackyak', -0.02913918603785469),\n",
       " ('kolonsport-sandro', -0.02906266632166877),\n",
       " ('sandro-kolonsport', -0.02906266632166877),\n",
       " ('alexandermcqueen-patagonia', -0.028854927183803485),\n",
       " ('patagonia-alexandermcqueen', -0.028854927183803485),\n",
       " ('prada-helinox', -0.028854288549911226),\n",
       " ('helinox-prada', -0.028854288549911226),\n",
       " ('mlb-billylosangeles', -0.028791026441493207),\n",
       " ('billylosangeles-mlb', -0.028791026441493207),\n",
       " ('mizuno-abecrombiefitch', -0.027570708978324546),\n",
       " ('abecrombiefitch-mizuno', -0.027570708978324546),\n",
       " ('ugg-billylosangeles', -0.02744911180338841),\n",
       " ('billylosangeles-ugg', -0.02744911180338841),\n",
       " ('kolonsport-marcjacobs', -0.02507944455224883),\n",
       " ('marcjacobs-kolonsport', -0.02507944455224883),\n",
       " ('mindbridge-vans', -0.024483478751449017),\n",
       " ('vans-mindbridge', -0.024483478751449017),\n",
       " ('beanpole-barrel', -0.024045105912946618),\n",
       " ('barrel-beanpole', -0.024045105912946618),\n",
       " ('dior-snowpeak', -0.023908796841683608),\n",
       " ('snowpeak-dior', -0.023908796841683608),\n",
       " ('samsonite-offwhite', -0.023652415036625726),\n",
       " ('offwhite-samsonite', -0.023652415036625726),\n",
       " ('helinox-nerdy', -0.022348428427266455),\n",
       " ('nerdy-helinox', -0.022348428427266455),\n",
       " ('yeezy-lynn', -0.02220384073840416),\n",
       " ('lynn-yeezy', -0.02220384073840416),\n",
       " ('beanpole-bape', -0.021888926550002585),\n",
       " ('bape-beanpole', -0.021888926550002585),\n",
       " ('moschino-patagonia', -0.0217156068585167),\n",
       " ('patagonia-moschino', -0.0217156068585167),\n",
       " ('billylosangeles-salomon', -0.021694803614864484),\n",
       " ('salomon-billylosangeles', -0.021694803614864484),\n",
       " ('moschino-salomon', -0.02101625534733223),\n",
       " ('salomon-moschino', -0.02101625534733223),\n",
       " ('dsquared2-billylosangeles', -0.0195300050775312),\n",
       " ('billylosangeles-dsquared2', -0.0195300050775312),\n",
       " ('beanpole-spyder', -0.019206470872573364),\n",
       " ('spyder-beanpole', -0.019206470872573364),\n",
       " ('givenchy-billylosangeles', -0.019047978498789073),\n",
       " ('billylosangeles-givenchy', -0.019047978498789073),\n",
       " ('hazzys-y3', -0.01903418585092754),\n",
       " ('y3-hazzys', -0.01903418585092754),\n",
       " ('superga-supreme', -0.01803858363335349),\n",
       " ('supreme-superga', -0.01803858363335349),\n",
       " ('nike-billylosangeles', -0.017920839149042828),\n",
       " ('billylosangeles-nike', -0.017920839149042828),\n",
       " ('newera-thursdayisland', -0.01778304267232783),\n",
       " ('thursdayisland-newera', -0.01778304267232783),\n",
       " ('alexandermcqueen-snowpeak', -0.017540265262286803),\n",
       " ('snowpeak-alexandermcqueen', -0.017540265262286803),\n",
       " ('lafuma-isseymiyake', -0.01637646111052364),\n",
       " ('isseymiyake-lafuma', -0.01637646111052364),\n",
       " ('givenchy-mizuno', -0.016275479243840055),\n",
       " ('mizuno-givenchy', -0.016275479243840055),\n",
       " ('millet-miumiu', -0.01588042295136226),\n",
       " ('miumiu-millet', -0.01588042295136226),\n",
       " ('woolrich-billylosangeles', -0.01502913077498158),\n",
       " ('billylosangeles-woolrich', -0.01502913077498158),\n",
       " ('dior-wilson', -0.014897767195463735),\n",
       " ('wilson-dior', -0.014897767195463735),\n",
       " ('lecoqsportif-monclear', -0.014063391431353343),\n",
       " ('monclear-lecoqsportif', -0.014063391431353343),\n",
       " ('michaelkors-snowpeak', -0.01330797223302456),\n",
       " ('snowpeak-michaelkors', -0.01330797223302456),\n",
       " ('mcm-thenorthface', -0.013048538920314531),\n",
       " ('thenorthface-mcm', -0.013048538920314531),\n",
       " ('nike-samsonite', -0.013020023908768),\n",
       " ('samsonite-nike', -0.013020023908768),\n",
       " ('forever21-nationalgeography', -0.0125320560859504),\n",
       " ('nationalgeography-forever21', -0.0125320560859504),\n",
       " ('tumi-lynn', -0.012269465608937644),\n",
       " ('lynn-tumi', -0.012269465608937644),\n",
       " ('eider-rayban', -0.01222158502337349),\n",
       " ('rayban-eider', -0.01222158502337349),\n",
       " ('arcteryx-charms', -0.012142812257455709),\n",
       " ('charms-arcteryx', -0.012142812257455709),\n",
       " ('bally-kangol', -0.011269906012929137),\n",
       " ('kangol-bally', -0.011269906012929137),\n",
       " ('saintlaurent-snowpeak', -0.01123567229186448),\n",
       " ('snowpeak-saintlaurent', -0.01123567229186448),\n",
       " ('bottegaveneta-billylosangeles', -0.010226503649096677),\n",
       " ('billylosangeles-bottegaveneta', -0.010226503649096677),\n",
       " ('topshop-billylosangeles', -0.010160470440292335),\n",
       " ('billylosangeles-topshop', -0.010160470440292335),\n",
       " ('lafuma-louisvuitton', -0.009756023108810095),\n",
       " ('louisvuitton-lafuma', -0.009756023108810095),\n",
       " ('plac-billylosangeles', -0.009512279350518855),\n",
       " ('billylosangeles-plac', -0.009512279350518855),\n",
       " ('billylosangeles-moscot', -0.009485524318299798),\n",
       " ('moscot-billylosangeles', -0.009485524318299798),\n",
       " ('prada-kangol', -0.009299936466169834),\n",
       " ('kangol-prada', -0.009299936466169834),\n",
       " ('stussy-thursdayisland', -0.009266883066139084),\n",
       " ('thursdayisland-stussy', -0.009266883066139084),\n",
       " ('nationalgeography-hoodbyair', -0.008687782734993932),\n",
       " ('hoodbyair-nationalgeography', -0.008687782734993932),\n",
       " ('newbalance-versace', -0.008657510776674787),\n",
       " ('versace-newbalance', -0.008657510776674787),\n",
       " ('mcm-wilson', -0.008319589639604628),\n",
       " ('wilson-mcm', -0.008319589639604628),\n",
       " ('gregory-maje', -0.007935320820453576),\n",
       " ('maje-gregory', -0.007935320820453576),\n",
       " ('kolonsport-clubmonaco', -0.00771680178189652),\n",
       " ('clubmonaco-kolonsport', -0.00771680178189652),\n",
       " ('dior-arcteryx', -0.007338618155724633),\n",
       " ('arcteryx-dior', -0.007338618155724633),\n",
       " ('underarmour-charms', -0.007210467337233312),\n",
       " ('charms-underarmour', -0.007210467337233312),\n",
       " ('mizuno-prada', -0.007114491310541926),\n",
       " ('prada-mizuno', -0.007114491310541926),\n",
       " ('converse-spyder', -0.006972314056072737),\n",
       " ('spyder-converse', -0.006972314056072737),\n",
       " ('bally-lafuma', -0.006770489757414566),\n",
       " ('lafuma-bally', -0.006770489757414566),\n",
       " ('kangol-lynn', -0.006706777696745263),\n",
       " ('lynn-kangol', -0.006706777696745263),\n",
       " ('lanvin-montbell', -0.006387396477319202),\n",
       " ('montbell-lanvin', -0.006387396477319202),\n",
       " ('jillstuart-huf', -0.006325128409864544),\n",
       " ('huf-jillstuart', -0.006325128409864544),\n",
       " ('beanpole-yeezy', -0.006197657888695647),\n",
       " ('yeezy-beanpole', -0.006197657888695647),\n",
       " ('levis-wilson', -0.006110247421324811),\n",
       " ('wilson-levis', -0.006110247421324811),\n",
       " ('fendi-newera', -0.006002371600644811),\n",
       " ('newera-fendi', -0.006002371600644811),\n",
       " ('mizuno-acnestudios', -0.005720807672549996),\n",
       " ('acnestudios-mizuno', -0.005720807672549996),\n",
       " ('dior-lafuma', -0.005512622236634002),\n",
       " ('lafuma-dior', -0.005512622236634002),\n",
       " ('descente-billylosangeles', -0.005003296617619425),\n",
       " ('billylosangeles-descente', -0.005003296617619425),\n",
       " ('k2-billylosangeles', -0.004534672114154904),\n",
       " ('billylosangeles-k2', -0.004534672114154904),\n",
       " ('puma-supreme', -0.004102621175722382),\n",
       " ('supreme-puma', -0.004102621175722382),\n",
       " ('stoneisland-billylosangeles', -0.003900320358482),\n",
       " ('billylosangeles-stoneisland', -0.003900320358482),\n",
       " ('pearlygates-nohant', -0.0037833733414311746),\n",
       " ('nohant-pearlygates', -0.0037833733414311746),\n",
       " ('hm-kolonsport', -0.0036436837856696908),\n",
       " ('kolonsport-hm', -0.0036436837856696908),\n",
       " ('burberry-muji', -0.0036199897601180697),\n",
       " ('muji-burberry', -0.0036199897601180697),\n",
       " ('thombrowne-yeezy', -0.002976284688283405),\n",
       " ('yeezy-thombrowne', -0.002976284688283405),\n",
       " ('aldo-gregory', -0.0026038733382861695),\n",
       " ('gregory-aldo', -0.0026038733382861695),\n",
       " ('nepa-rafsimons', -0.0021771579656590656),\n",
       " ('rafsimons-nepa', -0.0021771579656590656),\n",
       " ('chanel-sketchers', -0.0021666035135002384),\n",
       " ('sketchers-chanel', -0.0021666035135002384),\n",
       " ('hm-billylosangeles', -0.002047831707757096),\n",
       " ('billylosangeles-hm', -0.002047831707757096),\n",
       " ('bally-dynafit', -0.0016963893862692418),\n",
       " ('dynafit-bally', -0.0016963893862692418),\n",
       " ('valentino-lynn', -0.0016673613166270432),\n",
       " ('lynn-valentino', -0.0016673613166270432),\n",
       " ('hazzys-stoneisland', -0.0015629225788121245),\n",
       " ('stoneisland-hazzys', -0.0015629225788121245),\n",
       " ('dior-helinox', -0.0013717179696794979),\n",
       " ('helinox-dior', -0.0013717179696794979),\n",
       " ('lafuma-saintlaurent', -0.0011774458441527955),\n",
       " ('saintlaurent-lafuma', -0.0011774458441527955),\n",
       " ('jimmychoo-arcteryx', -0.001001948214886205),\n",
       " ('arcteryx-jimmychoo', -0.001001948214886205),\n",
       " ('lafuma-rickowens', -0.0005139643815761097),\n",
       " ('rickowens-lafuma', -0.0005139643815761097),\n",
       " ('supreme-teva', -0.0004260282862739266),\n",
       " ('teva-supreme', -0.0004260282862739266),\n",
       " ('fila-valentino', -0.0003076138905752368),\n",
       " ('valentino-fila', -0.0003076138905752368),\n",
       " ('descente-peaceminusone', -8.2686655052705e-05),\n",
       " ('peaceminusone-descente', -8.2686655052705e-05),\n",
       " ('rimowa-superga', -1.4116634994357224e-06),\n",
       " ('superga-rimowa', -1.4116634994357224e-06),\n",
       " ('bally-mizuno', 0.0001673489543852595),\n",
       " ('mizuno-bally', 0.0001673489543852595),\n",
       " ('eider-moscot', 0.0002697053378673507),\n",
       " ('moscot-eider', 0.0002697053378673507),\n",
       " ('miumiu-helinox', 0.00031214404259365114),\n",
       " ('helinox-miumiu', 0.00031214404259365114),\n",
       " ('alexanderwang-billylosangeles', 0.0005653524806475338),\n",
       " ('billylosangeles-alexanderwang', 0.0005653524806475338),\n",
       " ('suicoke-billylosangeles', 0.0015256194850888846),\n",
       " ('billylosangeles-suicoke', 0.0015256194850888846),\n",
       " ('cos-billylosangeles', 0.0015774868439033009),\n",
       " ('billylosangeles-cos', 0.0015774868439033009),\n",
       " ('michaelkors-helinox', 0.0017698725536277743),\n",
       " ('helinox-michaelkors', 0.0017698725536277743),\n",
       " ('teva-billylosangeles', 0.0024782607884393723),\n",
       " ('billylosangeles-teva', 0.0024782607884393723),\n",
       " ('samsonite-vetement', 0.0028815733716372974),\n",
       " ('vetement-samsonite', 0.0028815733716372974),\n",
       " ('mizuno-thombrowne', 0.0030476018404005135),\n",
       " ('thombrowne-mizuno', 0.0030476018404005135),\n",
       " ('toryburch-wilson', 0.003062748186171027),\n",
       " ('wilson-toryburch', 0.003062748186171027),\n",
       " ('dynafit-isseymiyake', 0.0033361101026201864),\n",
       " ('isseymiyake-dynafit', 0.0033361101026201864),\n",
       " ('beanpole-medicomtoy', 0.0036812343904917104),\n",
       " ('medicomtoy-beanpole', 0.0036812343904917104),\n",
       " ('samsonite-commedesgarcons', 0.003780280548782336),\n",
       " ('commedesgarcons-samsonite', 0.003780280548782336),\n",
       " ('dior-patagonia', 0.0038546488784135316),\n",
       " ('patagonia-dior', 0.0038546488784135316),\n",
       " ('supreme-thursdayisland', 0.003952108239239926),\n",
       " ('thursdayisland-supreme', 0.003952108239239926),\n",
       " ('burberry-hazzys', 0.0040065921647938),\n",
       " ('hazzys-burberry', 0.0040065921647938),\n",
       " ('newbalance-thombrowne', 0.004397201899926227),\n",
       " ('thombrowne-newbalance', 0.004397201899926227),\n",
       " ('custommellow-saintlaurent', 0.004600507844463364),\n",
       " ('saintlaurent-custommellow', 0.004600507844463364),\n",
       " ('jillstuart-salomon', 0.004685260056985541),\n",
       " ('salomon-jillstuart', 0.004685260056985541),\n",
       " ('nepa-yeezy', 0.00475286884171125),\n",
       " ('yeezy-nepa', 0.00475286884171125),\n",
       " ('zara-nationalgeography', 0.004805633329981615),\n",
       " ('nationalgeography-zara', 0.004805633329981615),\n",
       " ('nerdy-teva', 0.005038558409120902),\n",
       " ('teva-nerdy', 0.005038558409120902),\n",
       " ('keds-newera', 0.005211898715493303),\n",
       " ('newera-keds', 0.005211898715493303),\n",
       " ('buckaroo-abecrombiefitch', 0.0056204400800011906),\n",
       " ('abecrombiefitch-buckaroo', 0.0056204400800011906),\n",
       " ('millet-valentino', 0.005646901452885166),\n",
       " ('valentino-millet', 0.005646901452885166),\n",
       " ('samsonite-fog', 0.005667467417405106),\n",
       " ('fog-samsonite', 0.005667467417405106),\n",
       " ('crocs-stoneisland', 0.005950851352047662),\n",
       " ('stoneisland-crocs', 0.005950851352047662),\n",
       " ('blackyak-alexanderwang', 0.007076408730944804),\n",
       " ('alexanderwang-blackyak', 0.007076408730944804),\n",
       " ('spyder-brixton', 0.007263151463806464),\n",
       " ('brixton-spyder', 0.007263151463806464),\n",
       " ('crocs-balmain', 0.0073134940828728755),\n",
       " ('balmain-crocs', 0.0073134940828728755),\n",
       " ('valentino-abecrombiefitch', 0.007647266415080178),\n",
       " ('abecrombiefitch-valentino', 0.007647266415080178),\n",
       " ('tods-iamnotahumanbeing', 0.007719579329482196),\n",
       " ('iamnotahumanbeing-tods', 0.007719579329482196),\n",
       " ('givenchy-lecoqsportif', 0.007908326094622019),\n",
       " ('lecoqsportif-givenchy', 0.007908326094622019),\n",
       " ('louisvuitton-lynn', 0.00858029000959485),\n",
       " ('lynn-louisvuitton', 0.00858029000959485),\n",
       " ('sandro-snowpeak', 0.008820547872215187),\n",
       " ('snowpeak-sandro', 0.008820547872215187),\n",
       " ('superga-sacai', 0.008866933502255814),\n",
       " ('sacai-superga', 0.008866933502255814),\n",
       " ('samsonite-zara', 0.008960037256389365),\n",
       " ('zara-samsonite', 0.008960037256389365),\n",
       " ('onitsukatiger-billylosangeles', 0.009123383601539256),\n",
       " ('billylosangeles-onitsukatiger', 0.009123383601539256),\n",
       " ('spyder-nohant', 0.009253877418497425),\n",
       " ('nohant-spyder', 0.009253877418497425),\n",
       " ('mizuno-nationalgeography', 0.009486348040987476),\n",
       " ('nationalgeography-mizuno', 0.009486348040987476),\n",
       " ('kolonsport-wilson', 0.009587502384952602),\n",
       " ('wilson-kolonsport', 0.009587502384952602),\n",
       " ('marcjacobs-eider', 0.009651725619098057),\n",
       " ('eider-marcjacobs', 0.009651725619098057),\n",
       " ('goldengoose-lynn', 0.010096357598443212),\n",
       " ('lynn-goldengoose', 0.010096357598443212),\n",
       " ('bape-lynn', 0.01012677533696385),\n",
       " ('lynn-bape', 0.01012677533696385),\n",
       " ('miumiu-patagonia', 0.010168531744756293),\n",
       " ('patagonia-miumiu', 0.010168531744756293),\n",
       " ('lafuma-valentino', 0.010184192645483143),\n",
       " ('valentino-lafuma', 0.010184192645483143),\n",
       " ('birkenstock-billylosangeles', 0.010420261513854986),\n",
       " ('billylosangeles-birkenstock', 0.010420261513854986),\n",
       " ('hconnect-stoneisland', 0.010436164761543347),\n",
       " ('stoneisland-hconnect', 0.010436164761543347),\n",
       " ('puma-billylosangeles', 0.010808126678794723),\n",
       " ('billylosangeles-puma', 0.010808126678794723),\n",
       " ('rimowa-soup', 0.010859170387631553),\n",
       " ('soup-rimowa', 0.010859170387631553),\n",
       " ('hconnect-moscot', 0.010949788143562914),\n",
       " ('moscot-hconnect', 0.010949788143562914),\n",
       " ('sandro-peaceminusone', 0.011105151042992256),\n",
       " ('peaceminusone-sandro', 0.011105151042992256),\n",
       " ('kenzo-mizuno', 0.011360465977883857),\n",
       " ('mizuno-kenzo', 0.011360465977883857),\n",
       " ('suecommabonnie-abecrombiefitch', 0.011397061471401564),\n",
       " ('abecrombiefitch-suecommabonnie', 0.011397061471401564),\n",
       " ('alphaindustry-everywear', 0.01154797756320295),\n",
       " ('everywear-alphaindustry', 0.01154797756320295),\n",
       " ('huf-lynn', 0.011573852534123227),\n",
       " ('lynn-huf', 0.011573852534123227),\n",
       " ('lanvin-gregory', 0.01172651486880659),\n",
       " ('gregory-lanvin', 0.01172651486880659),\n",
       " ('vans-spyder', 0.011820334802213145),\n",
       " ('spyder-vans', 0.011820334802213145),\n",
       " ('montbell-moscot', 0.011858184779040715),\n",
       " ('moscot-montbell', 0.011858184779040715),\n",
       " ('chanel-lecoqsportif', 0.011931254364239377),\n",
       " ('lecoqsportif-chanel', 0.011931254364239377),\n",
       " ('lanvin-thenorthface', 0.012434295032076315),\n",
       " ('thenorthface-lanvin', 0.012434295032076315),\n",
       " ('oakley-valentino', 0.012605850593319937),\n",
       " ('valentino-oakley', 0.012605850593319937),\n",
       " ('burberry-patagonia', 0.012842719774247828),\n",
       " ('patagonia-burberry', 0.012842719774247828),\n",
       " ('beanpole-versace', 0.013053951960626961),\n",
       " ('versace-beanpole', 0.013053951960626961),\n",
       " ('canadagoose-mizuno', 0.013264525533773733),\n",
       " ('mizuno-canadagoose', 0.013264525533773733),\n",
       " ('millet-birkenstock', 0.013367010426753027),\n",
       " ('birkenstock-millet', 0.013367010426753027),\n",
       " ('hazzys-spyder', 0.013389274824866515),\n",
       " ('spyder-hazzys', 0.013389274824866515),\n",
       " ('goldengoose-gregory', 0.01345964016466077),\n",
       " ('gregory-goldengoose', 0.01345964016466077),\n",
       " ('woolrich-wilson', 0.013694678522448864),\n",
       " ('wilson-woolrich', 0.013694678522448864),\n",
       " ('chanel-champion', 0.013722046795417067),\n",
       " ('champion-chanel', 0.013722046795417067),\n",
       " ('dior-k2', 0.013794935405631835),\n",
       " ('k2-dior', 0.013794935405631835),\n",
       " ('montblanc-underarmour', 0.013867010225923843),\n",
       " ('underarmour-montblanc', 0.013867010225923843),\n",
       " ('rayban-yeezy', 0.014060602037305331),\n",
       " ('yeezy-rayban', 0.014060602037305331),\n",
       " ('maisonmargiela-billylosangeles', 0.01414880672332558),\n",
       " ('billylosangeles-maisonmargiela', 0.01414880672332558),\n",
       " ('uniqlo-valentino', 0.014244240045305678),\n",
       " ('valentino-uniqlo', 0.014244240045305678),\n",
       " ('thenorthface-valentino', 0.014303399228052543),\n",
       " ('valentino-thenorthface', 0.014303399228052543),\n",
       " ('uniqlo-peaceminusone', 0.014514729920843454),\n",
       " ('peaceminusone-uniqlo', 0.014514729920843454),\n",
       " ('zara-billylosangeles', 0.014577886052402074),\n",
       " ('billylosangeles-zara', 0.014577886052402074),\n",
       " ('lafuma-thombrowne', 0.01472355953436643),\n",
       " ('thombrowne-lafuma', 0.01472355953436643),\n",
       " ('newbalance-lynn', 0.014768053226048725),\n",
       " ('lynn-newbalance', 0.014768053226048725),\n",
       " ('underarmour-oioi', 0.014860587100206085),\n",
       " ('oioi-underarmour', 0.014860587100206085),\n",
       " ('lanvin-arcteryx', 0.01496734297111918),\n",
       " ('arcteryx-lanvin', 0.01496734297111918),\n",
       " ('montblanc-nepa', 0.015004313346744902),\n",
       " ('nepa-montblanc', 0.015004313346744902),\n",
       " ('tods-salomon', 0.015007142851904604),\n",
       " ('salomon-tods', 0.015007142851904604),\n",
       " ('puma-thenorthface', 0.015056379263362174),\n",
       " ('thenorthface-puma', 0.015056379263362174),\n",
       " ('nationalgeography-lynn', 0.015145257247781818),\n",
       " ('lynn-nationalgeography', 0.015145257247781818),\n",
       " ('newbalance-rimowa', 0.015215761605603395),\n",
       " ('rimowa-newbalance', 0.015215761605603395),\n",
       " ('discovery-billylosangeles', 0.015234702168035893),\n",
       " ('billylosangeles-discovery', 0.015234702168035893),\n",
       " ('arcteryx-billylosangeles', 0.01535434141455301),\n",
       " ('billylosangeles-arcteryx', 0.01535434141455301),\n",
       " ('hconnect-thombrowne', 0.015500085933520064),\n",
       " ('thombrowne-hconnect', 0.015500085933520064),\n",
       " ('thombrowne-billylosangeles', 0.0155139146987582),\n",
       " ('billylosangeles-thombrowne', 0.0155139146987582),\n",
       " ('nerdy-salomon', 0.01554654781730437),\n",
       " ('salomon-nerdy', 0.01554654781730437),\n",
       " ('nohant-salomon', 0.01571395405302653),\n",
       " ('salomon-nohant', 0.01571395405302653),\n",
       " ('lanvin-eider', 0.01574625048278898),\n",
       " ('eider-lanvin', 0.01574625048278898),\n",
       " ('fendi-teva', 0.015796804406938928),\n",
       " ('teva-fendi', 0.015796804406938928),\n",
       " ('adidas-bally', 0.015933341667395136),\n",
       " ('bally-adidas', 0.015933341667395136),\n",
       " ('jimmychoo-patagonia', 0.016023636208970557),\n",
       " ('patagonia-jimmychoo', 0.016023636208970557),\n",
       " ('gregory-toryburch', 0.0163856159361762),\n",
       " ('toryburch-gregory', 0.0163856159361762),\n",
       " ('maxmara-wilson', 0.016820570762126064),\n",
       " ('wilson-maxmara', 0.016820570762126064),\n",
       " ('gucci-barrel', 0.017035860256593503),\n",
       " ('barrel-gucci', 0.017035860256593503),\n",
       " ('louisvuitton-teva', 0.01713961263712256),\n",
       " ('teva-louisvuitton', 0.01713961263712256),\n",
       " ('tods-helinox', 0.01747724775199251),\n",
       " ('helinox-tods', 0.01747724775199251),\n",
       " ('marni-billylosangeles', 0.017520767029195715),\n",
       " ('billylosangeles-marni', 0.017520767029195715),\n",
       " ('dynafit-jwanderson', 0.017609610003746848),\n",
       " ('jwanderson-dynafit', 0.017609610003746848),\n",
       " ('prada-snowpeak', 0.01764006102870235),\n",
       " ('snowpeak-prada', 0.01764006102870235),\n",
       " ('goldengoose-hconnect', 0.017658323124734275),\n",
       " ('hconnect-goldengoose', 0.017658323124734275),\n",
       " ('mizuno-nohant', 0.017666724712974688),\n",
       " ('nohant-mizuno', 0.017666724712974688),\n",
       " ('dynafit-isabelmarant', 0.0179101183449461),\n",
       " ('isabelmarant-dynafit', 0.0179101183449461),\n",
       " ('stoneisland-everywear', 0.018022696502244535),\n",
       " ('everywear-stoneisland', 0.018022696502244535),\n",
       " ('muji-sacai', 0.018398304208228647),\n",
       " ('sacai-muji', 0.018398304208228647),\n",
       " ('hermes-sketchers', 0.018410215225736118),\n",
       " ('sketchers-hermes', 0.018410215225736118),\n",
       " ('aldo-nohant', 0.018528378286154237),\n",
       " ('nohant-aldo', 0.018528378286154237),\n",
       " ('dior-kangol', 0.018552013704659483),\n",
       " ('kangol-dior', 0.018552013704659483),\n",
       " ('dior-dickies', 0.01857923771596401),\n",
       " ('dickies-dior', 0.01857923771596401),\n",
       " ('arcteryx-saintlaurent', 0.01864638356417049),\n",
       " ('saintlaurent-arcteryx', 0.01864638356417049),\n",
       " ('beanpole-stussy', 0.019199358902184945),\n",
       " ('stussy-beanpole', 0.019199358902184945),\n",
       " ('gentlemonster-wilson', 0.019338157791935262),\n",
       " ('wilson-gentlemonster', 0.019338157791935262),\n",
       " ('marcjacobs-salomon', 0.01939488081365382),\n",
       " ('salomon-marcjacobs', 0.01939488081365382),\n",
       " ('8seconds-billylosangeles', 0.0194285692165054),\n",
       " ('billylosangeles-8seconds', 0.0194285692165054),\n",
       " ('clubmonaco-peaceminusone', 0.019459834666203584),\n",
       " ('peaceminusone-clubmonaco', 0.019459834666203584),\n",
       " ('givenchy-gregory', 0.019670068331700798),\n",
       " ('gregory-givenchy', 0.019670068331700798),\n",
       " ('nationalgeography-valentino', 0.020216462252918822),\n",
       " ('valentino-nationalgeography', 0.020216462252918822),\n",
       " ('zara-umbro', 0.020246620301247978),\n",
       " ('umbro-zara', 0.020246620301247978),\n",
       " ('lafuma-mulberry', 0.02033564981090858),\n",
       " ('mulberry-lafuma', 0.02033564981090858),\n",
       " ('gyakusou-maje', 0.020374195395452356),\n",
       " ('maje-gyakusou', 0.020374195395452356),\n",
       " ('helinox-plasticisland', 0.020790833061044615),\n",
       " ('plasticisland-helinox', 0.020790833061044615),\n",
       " ('bally-bape', 0.02083386614511506),\n",
       " ('bape-bally', 0.02083386614511506),\n",
       " ('charms-salomon', 0.020923790466535922),\n",
       " ('salomon-charms', 0.020923790466535922),\n",
       " ('lecoqsportif-moscot', 0.02099992298353101),\n",
       " ('moscot-lecoqsportif', 0.02099992298353101),\n",
       " ('chanel-columbiasportswear', 0.021006139073384847),\n",
       " ('columbiasportswear-chanel', 0.021006139073384847),\n",
       " ('newbalance-patagonia', 0.0212753711593332),\n",
       " ('patagonia-newbalance', 0.0212753711593332),\n",
       " ('puma-nationalgeography', 0.02135365967175315),\n",
       " ('nationalgeography-puma', 0.02135365967175315),\n",
       " ('beanpole-stoneisland', 0.0220034464568908),\n",
       " ('stoneisland-beanpole', 0.0220034464568908),\n",
       " ('nationalgeography-openingceremony', 0.022079247822812287),\n",
       " ('openingceremony-nationalgeography', 0.022079247822812287),\n",
       " ('suecommabonnie-billylosangeles', 0.02218274669333964),\n",
       " ('billylosangeles-suecommabonnie', 0.02218274669333964),\n",
       " ('nationalgeography-nerdy', 0.02222265118908521),\n",
       " ('nerdy-nationalgeography', 0.02222265118908521),\n",
       " ('saintlaurent-salomon', 0.022524702950363046),\n",
       " ('salomon-saintlaurent', 0.022524702950363046),\n",
       " ('drmartens-eider', 0.02252961396263494),\n",
       " ('eider-drmartens', 0.02252961396263494),\n",
       " ('bally-gyakusou', 0.02270483701653371),\n",
       " ('gyakusou-bally', 0.02270483701653371),\n",
       " ('champion-lynn', 0.022781103131345),\n",
       " ('lynn-champion', 0.022781103131345),\n",
       " ('tods-montbell', 0.022788591433511154),\n",
       " ('montbell-tods', 0.022788591433511154),\n",
       " ('mizuno-muji', 0.022880796846356882),\n",
       " ('muji-mizuno', 0.022880796846356882),\n",
       " ('keds-spyder', 0.023076763623224958),\n",
       " ('spyder-keds', 0.023076763623224958),\n",
       " ('givenchy-helinox', 0.023283824909251086),\n",
       " ('helinox-givenchy', 0.023283824909251086),\n",
       " ('blackyak-isseymiyake', 0.023346716885678027),\n",
       " ('isseymiyake-blackyak', 0.023346716885678027),\n",
       " ('buckaroo-hermes', 0.02351923089974976),\n",
       " ('hermes-buckaroo', 0.02351923089974976),\n",
       " ('lanvin-helinox', 0.023673726733858085),\n",
       " ('helinox-lanvin', 0.023673726733858085),\n",
       " ('columbiasportswear-valentino', 0.023782736049286435),\n",
       " ('valentino-columbiasportswear', 0.023782736049286435),\n",
       " ('newbalance-supreme', 0.02387488272477181),\n",
       " ('supreme-newbalance', 0.02387488272477181),\n",
       " ('allsaints-snowpeak', 0.024391252115060748),\n",
       " ('snowpeak-allsaints', 0.024391252115060748),\n",
       " ('allsaints-spyder', 0.02439317164285109),\n",
       " ('spyder-allsaints', 0.02439317164285109),\n",
       " ('munsingwear-nerdy', 0.02448758618694791),\n",
       " ('nerdy-munsingwear', 0.02448758618694791),\n",
       " ('lanvin-mandarinaduck', 0.02457081887658831),\n",
       " ('mandarinaduck-lanvin', 0.02457081887658831),\n",
       " ('gucci-plac', 0.0246407815207038),\n",
       " ('plac-gucci', 0.0246407815207038),\n",
       " ('system-billylosangeles', 0.02472725216852588),\n",
       " ('billylosangeles-system', 0.02472725216852588),\n",
       " ('montblanc-keds', 0.024792221728969967),\n",
       " ('keds-montblanc', 0.024792221728969967),\n",
       " ('tods-huf', 0.024792936242688135),\n",
       " ('huf-tods', 0.024792936242688135),\n",
       " ('blackyak-rafsimons', 0.024857114466414816),\n",
       " ('rafsimons-blackyak', 0.024857114466414816),\n",
       " ('converse-tumi', 0.025055582921699515),\n",
       " ('tumi-converse', 0.025055582921699515),\n",
       " ('kolonsport-forever21', 0.02521339015796805),\n",
       " ('forever21-kolonsport', 0.02521339015796805),\n",
       " ('kuho-supreme', 0.025222253045148968),\n",
       " ('supreme-kuho', 0.025222253045148968),\n",
       " ('beanpole-valentino', 0.025270550790935063),\n",
       " ('valentino-beanpole', 0.025270550790935063),\n",
       " ('beanpole-champion', 0.025508766224317705),\n",
       " ('champion-beanpole', 0.025508766224317705),\n",
       " ('dior-billylosangeles', 0.02562458573279304),\n",
       " ('billylosangeles-dior', 0.02562458573279304),\n",
       " ('samsonite-hoodbyair', 0.02595429285260667),\n",
       " ('hoodbyair-samsonite', 0.02595429285260667),\n",
       " ('asics-thombrowne', 0.025988967238492505),\n",
       " ('thombrowne-asics', 0.025988967238492505),\n",
       " ('mizuno-toryburch', 0.026000680748576574),\n",
       " ('toryburch-mizuno', 0.026000680748576574),\n",
       " ('mindbridge-reebok', 0.026196833885092207),\n",
       " ('reebok-mindbridge', 0.026196833885092207),\n",
       " ('chanel-fila', 0.026327551572701932),\n",
       " ('fila-chanel', 0.026327551572701932),\n",
       " ('gregory-sandro', 0.026380748120934987),\n",
       " ('sandro-gregory', 0.026380748120934987),\n",
       " ('maxmara-newera', 0.02642107714509733),\n",
       " ('newera-maxmara', 0.02642107714509733),\n",
       " ('lynn-palace', 0.026497901766623658),\n",
       " ('palace-lynn', 0.026497901766623658),\n",
       " ('beanpole-gosharubchinskiy', 0.026587976806957885),\n",
       " ('gosharubchinskiy-beanpole', 0.026587976806957885),\n",
       " ('beanpole-mastermind', 0.026671720324922488),\n",
       " ('mastermind-beanpole', 0.026671720324922488),\n",
       " ('dior-salomon', 0.02676914927104876),\n",
       " ('salomon-dior', 0.02676914927104876),\n",
       " ('umbro-lynn', 0.026772678760632218),\n",
       " ('lynn-umbro', 0.026772678760632218),\n",
       " ('bally-umbro', 0.026829660259116556),\n",
       " ('umbro-bally', 0.026829660259116556),\n",
       " ('adidas-lynn', 0.027101061632442816),\n",
       " ('lynn-adidas', 0.027101061632442816),\n",
       " ('jilsander-billylosangeles', 0.027145863316345605),\n",
       " ('billylosangeles-jilsander', 0.027145863316345605),\n",
       " ('titleist-peaceminusone', 0.02734840596961551),\n",
       " ('peaceminusone-titleist', 0.02734840596961551),\n",
       " ('lanvin-levis', 0.02743747845562506),\n",
       " ('levis-lanvin', 0.02743747845562506),\n",
       " ('mcm-patagonia', 0.027721791647824824),\n",
       " ('patagonia-mcm', 0.027721791647824824),\n",
       " ('beanpole-hoodbyair', 0.02777154862284978),\n",
       " ('hoodbyair-beanpole', 0.02777154862284978),\n",
       " ('arcteryx-moschino', 0.02784472084195616),\n",
       " ('moschino-arcteryx', 0.02784472084195616),\n",
       " ('montbell-y3', 0.02786836516826107),\n",
       " ('y3-montbell', 0.02786836516826107),\n",
       " ('nationalgeography-yeezy', 0.028020587280113855),\n",
       " ('yeezy-nationalgeography', 0.028020587280113855),\n",
       " ('valentino-salomon', 0.028249775979322475),\n",
       " ('salomon-valentino', 0.028249775979322475),\n",
       " ('millet-toryburch', 0.02838826005952036),\n",
       " ('toryburch-millet', 0.02838826005952036),\n",
       " ('dior-montbell', 0.02840130522801243),\n",
       " ('montbell-dior', 0.02840130522801243),\n",
       " ('samsonite-ourlegacy', 0.028540935532810445),\n",
       " ('ourlegacy-samsonite', 0.028540935532810445),\n",
       " ('samsonite-gosharubchinskiy', 0.02857319144379704),\n",
       " ('gosharubchinskiy-samsonite', 0.02857319144379704),\n",
       " ('hconnect-abecrombiefitch', 0.028632783179122486),\n",
       " ('abecrombiefitch-hconnect', 0.028632783179122486),\n",
       " ('oakley-charms', 0.028647581593564314),\n",
       " ('charms-oakley', 0.028647581593564314),\n",
       " ('kolonsport-cherryla', 0.028688713944818985),\n",
       " ('cherryla-kolonsport', 0.028688713944818985),\n",
       " ('billylosangeles-marceloburlon', 0.028705567449017755),\n",
       " ('marceloburlon-billylosangeles', 0.028705567449017755),\n",
       " ('nepa-mulberry', 0.028757349091191937),\n",
       " ('mulberry-nepa', 0.028757349091191937),\n",
       " ('fila-fendi', 0.028869704918356578),\n",
       " ('fendi-fila', 0.028869704918356578),\n",
       " ('blackyak-birkenstock', 0.028877374147087274),\n",
       " ('birkenstock-blackyak', 0.028877374147087274),\n",
       " ('tods-series', 0.028892603058763313),\n",
       " ('series-tods', 0.028892603058763313),\n",
       " ('levis-millet', 0.029000063946345946),\n",
       " ('millet-levis', 0.029000063946345946),\n",
       " ('hconnect-palace', 0.02912422264453539),\n",
       " ('palace-hconnect', 0.02912422264453539),\n",
       " ('nepa-tods', 0.029363729355369204),\n",
       " ('tods-nepa', 0.029363729355369204),\n",
       " ('newbalance-tomford', 0.02946524689759647),\n",
       " ('tomford-newbalance', 0.02946524689759647),\n",
       " ('nepa-charms', 0.02976570615476138),\n",
       " ('charms-nepa', 0.02976570615476138),\n",
       " ('maxmara-salomon', 0.029828256728091244),\n",
       " ('salomon-maxmara', 0.029828256728091244),\n",
       " ('keds-abecrombiefitch', 0.029918519517756863),\n",
       " ('abecrombiefitch-keds', 0.029918519517756863),\n",
       " ('plasticisland-billylosangeles', 0.030023365481571883),\n",
       " ('billylosangeles-plasticisland', 0.030023365481571883),\n",
       " ('custommellow-valentino', 0.03028118112534655),\n",
       " ('valentino-custommellow', 0.03028118112534655),\n",
       " ('dickies-valentino', 0.030320852452093913),\n",
       " ('valentino-dickies', 0.030320852452093913),\n",
       " ('muji-saintlaurent', 0.030413049786137045),\n",
       " ('saintlaurent-muji', 0.030413049786137045),\n",
       " ('marcjacobs-snowpeak', 0.030535914349576504),\n",
       " ('snowpeak-marcjacobs', 0.030535914349576504),\n",
       " ('ugg-nohant', 0.0306768453859686),\n",
       " ('nohant-ugg', 0.0306768453859686),\n",
       " ('mlb-tumi', 0.03087104979519154),\n",
       " ('tumi-mlb', 0.03087104979519154),\n",
       " ('balenciaga-muji', 0.030883533577744506),\n",
       " ('muji-balenciaga', 0.030883533577744506),\n",
       " ('descente-moschino', 0.03108428060355589),\n",
       " ('moschino-descente', 0.03108428060355589),\n",
       " ('bally-puma', 0.031133137407146565),\n",
       " ('puma-bally', 0.031133137407146565),\n",
       " ('nohant-snowpeak', 0.03128453211339567),\n",
       " ('snowpeak-nohant', 0.03128453211339567),\n",
       " ('montblanc-hconnect', 0.03136312921100952),\n",
       " ('hconnect-montblanc', 0.03136312921100952),\n",
       " ('bally-uniqlo', 0.03137017039943429),\n",
       " ('uniqlo-bally', 0.03137017039943429),\n",
       " ('clubmonaco-billylosangeles', 0.031529720040729896),\n",
       " ('billylosangeles-clubmonaco', 0.031529720040729896),\n",
       " ('buckaroo-burberry', 0.03165387679942992),\n",
       " ('burberry-buckaroo', 0.03165387679942992),\n",
       " ('canadagoose-custommellow', 0.03169700541299461),\n",
       " ('custommellow-canadagoose', 0.03169700541299461),\n",
       " ('kolonsport-muji', 0.03171655152089787),\n",
       " ('muji-kolonsport', 0.03171655152089787),\n",
       " ('dynafit-stoneisland', 0.031854959607297686),\n",
       " ('stoneisland-dynafit', 0.031854959607297686),\n",
       " ('adidas-woolrich', 0.03197283063180856),\n",
       " ('woolrich-adidas', 0.03197283063180856),\n",
       " ('mizuno-celine', 0.03237229685359077),\n",
       " ('celine-mizuno', 0.03237229685359077),\n",
       " ('millet-ferragamo', 0.032542073281249334),\n",
       " ('ferragamo-millet', 0.032542073281249334),\n",
       " ('lecoqsportif-zara', 0.03256532228824081),\n",
       " ('zara-lecoqsportif', 0.03256532228824081),\n",
       " ('hermes-dynafit', 0.03257726701143975),\n",
       " ('dynafit-hermes', 0.03257726701143975),\n",
       " ('maje-peaceminusone', 0.032803204299074976),\n",
       " ('peaceminusone-maje', 0.032803204299074976),\n",
       " ('gucci-lecoqsportif', 0.032947790263397905),\n",
       " ('lecoqsportif-gucci', 0.032947790263397905),\n",
       " ('fila-saintlaurent', 0.03306166115221139),\n",
       " ('saintlaurent-fila', 0.03306166115221139),\n",
       " ('balmain-montbell', 0.033419577580753534),\n",
       " ('montbell-balmain', 0.033419577580753534),\n",
       " ('marcjacobs-spyder', 0.03362416255707524),\n",
       " ('spyder-marcjacobs', 0.03362416255707524),\n",
       " ('alexandermcqueen-dynafit', 0.033863123907917334),\n",
       " ('dynafit-alexandermcqueen', 0.033863123907917334),\n",
       " ('mindbridge-medicomtoy', 0.033925945038926854),\n",
       " ('medicomtoy-mindbridge', 0.033925945038926854),\n",
       " ('kolonsport-c2h4', 0.03393917491998407),\n",
       " ('c2h4-kolonsport', 0.03393917491998407),\n",
       " ('adidas-kuho', 0.03429480178670565),\n",
       " ('kuho-adidas', 0.03429480178670565),\n",
       " ('underarmour-marni', 0.03433473606228966),\n",
       " ('marni-underarmour', 0.03433473606228966),\n",
       " ('lafuma-alexandermcqueen', 0.034357479158205584),\n",
       " ('alexandermcqueen-lafuma', 0.034357479158205584),\n",
       " ('lecoqsportif-fendi', 0.034445000281547775),\n",
       " ('fendi-lecoqsportif', 0.034445000281547775),\n",
       " ('paulsmith-dynafit', 0.034612652396176426),\n",
       " ('dynafit-paulsmith', 0.034612652396176426),\n",
       " ('hazzys-nike', 0.03466413319808222),\n",
       " ('nike-hazzys', 0.03466413319808222),\n",
       " ('8seconds-titleist', 0.034924560886422276),\n",
       " ('titleist-8seconds', 0.034924560886422276),\n",
       " ('burberry-mizuno', 0.035025012804907024),\n",
       " ('mizuno-burberry', 0.035025012804907024),\n",
       " ('toryburch-billylosangeles', 0.035050383204406205),\n",
       " ('billylosangeles-toryburch', 0.035050383204406205),\n",
       " ('burberry-keds', 0.03510695069579145),\n",
       " ('keds-burberry', 0.03510695069579145),\n",
       " ('fila-marni', 0.03510897539228333),\n",
       " ('marni-fila', 0.03510897539228333),\n",
       " ('lanvin-millet', 0.035318504387540244),\n",
       " ('millet-lanvin', 0.035318504387540244),\n",
       " ('nepa-goldengoose', 0.03554040698852992),\n",
       " ('goldengoose-nepa', 0.03554040698852992),\n",
       " ('maxmara-mizuno', 0.03562560238508636),\n",
       " ('mizuno-maxmara', 0.03562560238508636),\n",
       " ('mandarinaduck-lynn', 0.035653660311485494),\n",
       " ('lynn-mandarinaduck', 0.035653660311485494),\n",
       " ('kolonsport-moschino', 0.03577612209882644),\n",
       " ('moschino-kolonsport', 0.03577612209882644),\n",
       " ('mizuno-balmain', 0.03589327020033026),\n",
       " ('balmain-mizuno', 0.03589327020033026),\n",
       " ('tumi-nerdy', 0.03595755058819046),\n",
       " ('nerdy-tumi', 0.03595755058819046),\n",
       " ('chanel-spyder', 0.03636462126685832),\n",
       " ('spyder-chanel', 0.03636462126685832),\n",
       " ('beanpole-rickowens', 0.03639747335574749),\n",
       " ('rickowens-beanpole', 0.03639747335574749),\n",
       " ('dynafit-jilsander', 0.03643943916744453),\n",
       " ('jilsander-dynafit', 0.03643943916744453),\n",
       " ('millet-stussy', 0.03652564191899746),\n",
       " ('stussy-millet', 0.03652564191899746),\n",
       " ('lafuma-goldengoose', 0.03660772411090459),\n",
       " ('goldengoose-lafuma', 0.03660772411090459),\n",
       " ('gregory-miumiu', 0.03664164207820245),\n",
       " ('miumiu-gregory', 0.03664164207820245),\n",
       " ('crocs-nerdy', 0.036666662220482676),\n",
       " ('nerdy-crocs', 0.036666662220482676),\n",
       " ('kenzo-keds', 0.03708138040228297),\n",
       " ('keds-kenzo', 0.03708138040228297),\n",
       " ('descente-saintlaurent', 0.03757402865712742),\n",
       " ('saintlaurent-descente', 0.03757402865712742),\n",
       " ('mlb-tods', 0.037607463417097906),\n",
       " ('tods-mlb', 0.037607463417097906),\n",
       " ('alexandermcqueen-barrel', 0.03768178534461792),\n",
       " ('barrel-alexandermcqueen', 0.03768178534461792),\n",
       " ('chanel-umbro', 0.03777959181515708),\n",
       " ('umbro-chanel', 0.03777959181515708),\n",
       " ('buckaroo-dior', 0.03779779912197803),\n",
       " ('dior-buckaroo', 0.03779779912197803),\n",
       " ('converse-mindbridge', 0.037823731977963196),\n",
       " ('mindbridge-converse', 0.037823731977963196),\n",
       " ('kolonsport-maisonmargiela', 0.037937322886620335),\n",
       " ('maisonmargiela-kolonsport', 0.037937322886620335),\n",
       " ('levis-tomford', 0.03794381083422989),\n",
       " ('tomford-levis', 0.03794381083422989),\n",
       " ('toryburch-huf', 0.03806466346328695),\n",
       " ('huf-toryburch', 0.03806466346328695),\n",
       " ('bally-custommellow', 0.038195625813516515),\n",
       " ('custommellow-bally', 0.038195625813516515),\n",
       " ('bally-newbalance', 0.03830583705464687),\n",
       " ('newbalance-bally', 0.03830583705464687),\n",
       " ('stussy-suecommabonnie', 0.03835978337281723),\n",
       " ('suecommabonnie-stussy', 0.03835978337281723),\n",
       " ('montblanc-charms', 0.03843048849818554),\n",
       " ('charms-montblanc', 0.03843048849818554),\n",
       " ('lafuma-michaelkors', 0.038467199974795196),\n",
       " ('michaelkors-lafuma', 0.038467199974795196),\n",
       " ('barrel-saintlaurent', 0.03847575855920209),\n",
       " ('saintlaurent-barrel', 0.03847575855920209),\n",
       " ('mlb-gregory', 0.03854335980044286),\n",
       " ('gregory-mlb', 0.03854335980044286),\n",
       " ('pearlygates-everywear', 0.038576202186251234),\n",
       " ('everywear-pearlygates', 0.038576202186251234),\n",
       " ('kuho-y3', 0.038737485745077835),\n",
       " ('y3-kuho', 0.038737485745077835),\n",
       " ('plac-wilson', 0.0387499909147003),\n",
       " ('wilson-plac', 0.0387499909147003),\n",
       " ('nerdy-snowpeak', 0.03882157451130691),\n",
       " ('snowpeak-nerdy', 0.03882157451130691),\n",
       " ('newbalance-sacai', 0.038827829628892),\n",
       " ('sacai-newbalance', 0.038827829628892),\n",
       " ('muji-umbro', 0.03882993670334446),\n",
       " ('umbro-muji', 0.03882993670334446),\n",
       " ('maje-rimowa', 0.03884120790110753),\n",
       " ('rimowa-maje', 0.03884120790110753),\n",
       " ('underarmour-soup', 0.03887452386894368),\n",
       " ('soup-underarmour', 0.03887452386894368),\n",
       " ('thenorthface-miumiu', 0.03889233619431504),\n",
       " ('miumiu-thenorthface', 0.03889233619431504),\n",
       " ('arcteryx-valentino', 0.0389652222570645),\n",
       " ('valentino-arcteryx', 0.0389652222570645),\n",
       " ('bally-ourlegacy', 0.03897344557361543),\n",
       " ('ourlegacy-bally', 0.03897344557361543),\n",
       " ('maxmara-oakley', 0.03902414427852294),\n",
       " ('oakley-maxmara', 0.03902414427852294),\n",
       " ('adidasoriginal-spyder', 0.03926816291320843),\n",
       " ('spyder-adidasoriginal', 0.03926816291320843),\n",
       " ('dior-danner', 0.03927195688940206),\n",
       " ('danner-dior', 0.03927195688940206),\n",
       " ('nationalgeography-y3', 0.03928146113429434),\n",
       " ('y3-nationalgeography', 0.03928146113429434),\n",
       " ('goldengoose-snowpeak', 0.039337602203838785),\n",
       " ('snowpeak-goldengoose', 0.039337602203838785),\n",
       " ('stoneisland-teva', 0.03939076437836203),\n",
       " ('teva-stoneisland', 0.03939076437836203),\n",
       " ('lafuma-ferragamo', 0.03942214908984008),\n",
       " ('ferragamo-lafuma', 0.03942214908984008),\n",
       " ('dynafit-valentino', 0.03954256704642991),\n",
       " ('valentino-dynafit', 0.03954256704642991),\n",
       " ('newbalance-snowpeak', 0.03964533595454614),\n",
       " ('snowpeak-newbalance', 0.03964533595454614),\n",
       " ('vivianwestwood-billylosangeles', 0.039667762179301),\n",
       " ('billylosangeles-vivianwestwood', 0.039667762179301),\n",
       " ('maxmara-helinox', 0.039674433920043536),\n",
       " ('helinox-maxmara', 0.039674433920043536),\n",
       " ('maxmara-teva', 0.03975636108743197),\n",
       " ('teva-maxmara', 0.03975636108743197),\n",
       " ('lafuma-y3', 0.03984214572196871),\n",
       " ('y3-lafuma', 0.03984214572196871),\n",
       " ('beanpole-palace', 0.039871948748102355),\n",
       " ('palace-beanpole', 0.039871948748102355),\n",
       " ('newera-marni', 0.04036342356109318),\n",
       " ('marni-newera', 0.04036342356109318),\n",
       " ('tods-brixton', 0.04039152781125649),\n",
       " ('brixton-tods', 0.04039152781125649),\n",
       " ('billylosangeles-amiri', 0.04041417611279155),\n",
       " ('amiri-billylosangeles', 0.04041417611279155),\n",
       " ('monclear-keds', 0.040477652333710645),\n",
       " ('keds-monclear', 0.040477652333710645),\n",
       " ('paulsmith-barrel', 0.040503126578397414),\n",
       " ('barrel-paulsmith', 0.040503126578397414),\n",
       " ('converse-tomford', 0.04050663731471178),\n",
       " ('tomford-converse', 0.04050663731471178),\n",
       " ('critic-billylosangeles', 0.04064861893208842),\n",
       " ('billylosangeles-critic', 0.04064861893208842),\n",
       " ('marcjacobs-arcteryx', 0.0407214456494743),\n",
       " ('arcteryx-marcjacobs', 0.0407214456494743),\n",
       " ('muji-valentino', 0.04082580289388621),\n",
       " ('valentino-muji', 0.04082580289388621),\n",
       " ('beyondcloset-snowpeak', 0.040849507579178754),\n",
       " ('snowpeak-beyondcloset', 0.040849507579178754),\n",
       " ('mizuno-moscot', 0.0409849408341635),\n",
       " ('moscot-mizuno', 0.0409849408341635),\n",
       " ('lecoqsportif-levis', 0.04102100731110285),\n",
       " ('levis-lecoqsportif', 0.04102100731110285),\n",
       " ('mizuno-jwanderson', 0.04107514659328558),\n",
       " ('jwanderson-mizuno', 0.04107514659328558),\n",
       " ('underarmour-openingceremony', 0.041184729141193005),\n",
       " ('openingceremony-underarmour', 0.041184729141193005),\n",
       " ('thursdayisland-thrasher', 0.04123434278253061),\n",
       " ('thrasher-thursdayisland', 0.04123434278253061),\n",
       " ('nationalgeography-thombrowne', 0.041255887445421614),\n",
       " ('thombrowne-nationalgeography', 0.041255887445421614),\n",
       " ('ugg-balmain', 0.041288248140550696),\n",
       " ('balmain-ugg', 0.041288248140550696),\n",
       " ('bally-giordano', 0.041319789024403066),\n",
       " ('giordano-bally', 0.041319789024403066),\n",
       " ('converse-barrel', 0.04134437425148448),\n",
       " ('barrel-converse', 0.04134437425148448),\n",
       " ('dynafit-stellamccartney', 0.04144519907662782),\n",
       " ('stellamccartney-dynafit', 0.04144519907662782),\n",
       " ('champion-toryburch', 0.04158563441436702),\n",
       " ('toryburch-champion', 0.04158563441436702),\n",
       " ('benetton-billylosangeles', 0.04159566209121736),\n",
       " ('billylosangeles-benetton', 0.04159566209121736),\n",
       " ('hazzys-dsquared2', 0.04166039604254919),\n",
       " ('dsquared2-hazzys', 0.04166039604254919),\n",
       " ('lafuma-stoneisland', 0.041760968178918785),\n",
       " ('stoneisland-lafuma', 0.041760968178918785),\n",
       " ('mizuno-uniqlo', 0.041926966117637646),\n",
       " ('uniqlo-mizuno', 0.041926966117637646),\n",
       " ('mulberry-teva', 0.041967712736726226),\n",
       " ('teva-mulberry', 0.041967712736726226),\n",
       " ('samsonite-nerdy', 0.042029628229850034),\n",
       " ('nerdy-samsonite', 0.042029628229850034),\n",
       " ('lafuma-moschino', 0.042173707716169795),\n",
       " ('moschino-lafuma', 0.042173707716169795),\n",
       " ('mizuno-saintlaurent', 0.04222184551473472),\n",
       " ('saintlaurent-mizuno', 0.04222184551473472),\n",
       " ('dior-keds', 0.04229044523537572),\n",
       " ('keds-dior', 0.04229044523537572),\n",
       " ('nepa-toryburch', 0.04233719450325624),\n",
       " ('toryburch-nepa', 0.04233719450325624),\n",
       " ('hazzys-offwhite', 0.0423695060542361),\n",
       " ('offwhite-hazzys', 0.0423695060542361),\n",
       " ('jimmychoo-bape', 0.04240037067894475),\n",
       " ('bape-jimmychoo', 0.04240037067894475),\n",
       " ('lafuma-alexanderwang', 0.04259169704062106),\n",
       " ('alexanderwang-lafuma', 0.04259169704062106),\n",
       " ('samsonite-obey', 0.042786100388509746),\n",
       " ('obey-samsonite', 0.042786100388509746),\n",
       " ('hconnect-huf', 0.04284341967385655),\n",
       " ('huf-hconnect', 0.04284341967385655),\n",
       " ('yeezy-liful', 0.042881396124608964),\n",
       " ('liful-yeezy', 0.042881396124608964),\n",
       " ('helmutlang-billylosangeles', 0.042972722459121246),\n",
       " ('billylosangeles-helmutlang', 0.042972722459121246),\n",
       " ('lecoqsportif-abecrombiefitch', 0.042977923049888386),\n",
       " ('abecrombiefitch-lecoqsportif', 0.042977923049888386),\n",
       " ('marcjacobs-gregory', 0.042989908087405646),\n",
       " ('gregory-marcjacobs', 0.042989908087405646),\n",
       " ...]"
      ]
     },
     "execution_count": 31,
     "metadata": {},
     "output_type": "execute_result"
    }
   ],
   "source": [
    "sorted(res, key=lambda x:x[1])"
   ]
  },
  {
   "cell_type": "code",
   "execution_count": 86,
   "metadata": {
    "scrolled": true
   },
   "outputs": [
    {
     "name": "stdout",
     "output_type": "stream",
     "text": [
      "Wall time: 33 ms\n"
     ]
    }
   ],
   "source": [
    "%%time\n",
    "dd = dict(w2v.wv.most_similar(positive=['사랑','가성비','스포티'], topn=1000))"
   ]
  },
  {
   "cell_type": "code",
   "execution_count": 105,
   "metadata": {},
   "outputs": [
    {
     "name": "stdout",
     "output_type": "stream",
     "text": [
      "Wall time: 75 ms\n"
     ]
    }
   ],
   "source": [
    "%%time\n",
    "out = {}\n",
    "for bname in tokensfreq.keys():\n",
    "    try:\n",
    "        out[bname] = w2v.wv.n_similarity([bname], ['편한','여성스러운'])\n",
    "    except:\n",
    "        pass\n",
    "\n",
    "out = sorted(out.items(), key=lambda x: x[1])"
   ]
  },
  {
   "cell_type": "code",
   "execution_count": 106,
   "metadata": {
    "collapsed": true
   },
   "outputs": [
    {
     "data": {
      "text/plain": [
       "[('mastermind', -0.006401319),\n",
       " ('peaceminusone', 0.027468547),\n",
       " ('bbc', 0.040993202),\n",
       " ('ambush', 0.057285804),\n",
       " ('champion', 0.05957389),\n",
       " ('newera', 0.06278716),\n",
       " ('spyder', 0.074900046),\n",
       " ('supreme', 0.07546665),\n",
       " ('haveagoodtime', 0.08361644),\n",
       " ('stussy', 0.08451557),\n",
       " ('wilson', 0.090866975),\n",
       " ('bape', 0.09162498),\n",
       " ('puma', 0.0918758),\n",
       " ('c2h4', 0.100677654),\n",
       " ('rimowa', 0.101043925),\n",
       " ('openingceremony', 0.103725255),\n",
       " ('032c', 0.11065915),\n",
       " ('canadagoose', 0.11088306),\n",
       " ('gucci', 0.11295648),\n",
       " ('richardson', 0.11307342),\n",
       " ('hermes', 0.11356528),\n",
       " ('incase', 0.118717924),\n",
       " ('oakley', 0.119101115),\n",
       " ('aape', 0.1215327),\n",
       " ('givenchy', 0.12167882),\n",
       " ('umbro', 0.121925),\n",
       " ('humanmade', 0.12245312),\n",
       " ('ovo', 0.12417588),\n",
       " ('rickowens', 0.12646002),\n",
       " ('thisisneverthat', 0.12673298),\n",
       " ('palace', 0.12957528),\n",
       " ('louisvuitton', 0.13230659),\n",
       " ('reebok', 0.1342256),\n",
       " ('antisocialsocialclub', 0.13575545),\n",
       " ('porter', 0.13607305),\n",
       " ('versace', 0.13831924),\n",
       " ('brixton', 0.13854636),\n",
       " ('gosharubchinskiy', 0.14442144),\n",
       " ('medicomtoy', 0.14823692),\n",
       " ('taylormade', 0.14860448),\n",
       " ('titleist', 0.14865714),\n",
       " ('nerdy', 0.1497711),\n",
       " ('huf', 0.1517991),\n",
       " ('chums', 0.15189746),\n",
       " ('juunj', 0.15243542),\n",
       " ('dolcegabbana', 0.15436757),\n",
       " ('placesplusfaces', 0.15472293),\n",
       " ('gyakusou', 0.15535927),\n",
       " ('chanel', 0.15921511),\n",
       " ('helinox', 0.1594544),\n",
       " ('tomford', 0.16024023),\n",
       " ('yeezy', 0.16056584),\n",
       " ('freitag', 0.16060431),\n",
       " ('herschel', 0.16178161),\n",
       " ('99percentis', 0.16374454),\n",
       " ('jeep', 0.1665618),\n",
       " ('mcm', 0.16771507),\n",
       " ('adidas', 0.16847399),\n",
       " ('patagonia', 0.17004433),\n",
       " ('heritagefloss', 0.17225169),\n",
       " ('undefeated', 0.17232403),\n",
       " ('noah', 0.17262164),\n",
       " ('dickies', 0.17314845),\n",
       " ('cpcompany', 0.1733762),\n",
       " ('mizuno', 0.17392501),\n",
       " ('liful', 0.17411023),\n",
       " ('nike', 0.17481065),\n",
       " ('levis', 0.17571452),\n",
       " ('thenorthface', 0.17617217),\n",
       " ('gentlemonster', 0.17625514),\n",
       " ('offwhite', 0.17896326),\n",
       " ('saintlaurent', 0.17982386),\n",
       " ('dior', 0.17983422),\n",
       " ('covernat', 0.17984368),\n",
       " ('valentino', 0.18277194),\n",
       " ('maisonkitsune', 0.18311934),\n",
       " ('stellamccartney', 0.18469429),\n",
       " ('millet', 0.18627742),\n",
       " ('newbalance', 0.1872934),\n",
       " ('underarmour', 0.18754366),\n",
       " ('sacai', 0.18760347),\n",
       " ('neighborhood', 0.18792854),\n",
       " ('vans', 0.18945745),\n",
       " ('fendi', 0.18970287),\n",
       " ('ferragamo', 0.19188023),\n",
       " ('adidasoriginal', 0.19278517),\n",
       " ('mindbridge', 0.19286638),\n",
       " ('obey', 0.19556761),\n",
       " ('jlindeberg', 0.1957175),\n",
       " ('carhartt', 0.19708401),\n",
       " ('fila', 0.19855478),\n",
       " ('acoldwall', 0.20071289),\n",
       " ('mlb', 0.20267652),\n",
       " ('montblanc', 0.20609303),\n",
       " ('thombrowne', 0.20612907),\n",
       " ('bally', 0.20682189),\n",
       " ('snowpeak', 0.20751688),\n",
       " ('converse', 0.20789379),\n",
       " ('charleskeith', 0.20839098),\n",
       " ('cavempt', 0.20892256),\n",
       " ('dkny', 0.20915848),\n",
       " ('muji', 0.20958425),\n",
       " ('xlarge', 0.21026427),\n",
       " ('visvim', 0.21087305),\n",
       " ('hugoboss', 0.21101633),\n",
       " ('thrasher', 0.21154153),\n",
       " ('8seconds', 0.21155755),\n",
       " ('calvinklein', 0.21226025),\n",
       " ('kangol', 0.2123497),\n",
       " ('poloralphlauren', 0.21277744),\n",
       " ('kith', 0.21279445),\n",
       " ('brooksrunning', 0.2131278),\n",
       " ('barrel', 0.21403699),\n",
       " ('lafuma', 0.21571934),\n",
       " ('lecoqsportif', 0.21697102),\n",
       " ('coach', 0.21974055),\n",
       " ('henderscheme', 0.22009733),\n",
       " ('guess', 0.22042045),\n",
       " ('beyondcloset', 0.22057876),\n",
       " ('jillstuart', 0.22080109),\n",
       " ('salomon', 0.22257397),\n",
       " ('aldo', 0.22290705),\n",
       " ('whitemountaineering', 0.2233642),\n",
       " ('sketchers', 0.22426221),\n",
       " ('kenzo', 0.224658),\n",
       " ('burberry', 0.22476047),\n",
       " ('stoneisland', 0.2248931),\n",
       " ('moschino', 0.22526662),\n",
       " ('series', 0.22540417),\n",
       " ('nohant', 0.2255601),\n",
       " ('commedesgarcons', 0.22660598),\n",
       " ('dsquared2', 0.22755049),\n",
       " ('nepa', 0.22791147),\n",
       " ('arcteryx', 0.22935206),\n",
       " ('braindead', 0.22978084),\n",
       " ('gregory', 0.23087126),\n",
       " ('lynn', 0.23117408),\n",
       " ('acronym', 0.23208115),\n",
       " ('miumiu', 0.23230082),\n",
       " ('descente', 0.23461102),\n",
       " ('y3', 0.23461886),\n",
       " ('adererror', 0.23562394),\n",
       " ('woolrich', 0.23622066),\n",
       " ('beanpole', 0.23624414),\n",
       " ('hazzys', 0.23657617),\n",
       " ('asics', 0.24028793),\n",
       " ('eider', 0.24139825),\n",
       " ('vetement', 0.24415755),\n",
       " ('blackyak', 0.24521208),\n",
       " ('iise', 0.24625452),\n",
       " ('munsingwear', 0.24725665),\n",
       " ('dynafit', 0.24772438),\n",
       " ('crocs', 0.249816),\n",
       " ('prada', 0.2505036),\n",
       " ('undercover', 0.25128388),\n",
       " ('zara', 0.25234437),\n",
       " ('jwanderson', 0.25377506),\n",
       " ('critic', 0.25400043),\n",
       " ('wtaps', 0.25437397),\n",
       " ('lanvin', 0.25557217),\n",
       " ('time', 0.25558206),\n",
       " ('uniqlo', 0.25745696),\n",
       " ('hoodbyair', 0.2583688),\n",
       " ('k2', 0.2594326),\n",
       " ('charms', 0.26129258),\n",
       " ('diesel', 0.26261604),\n",
       " ('celine', 0.26328754),\n",
       " ('gap', 0.26350117),\n",
       " ('n21', 0.26547188),\n",
       " ('hconnect', 0.26557922),\n",
       " ('rafsimons', 0.26587826),\n",
       " ('alexandermcqueen', 0.26607817),\n",
       " ('birkenstock', 0.26712567),\n",
       " ('lmc', 0.26770264),\n",
       " ('balmain', 0.26844636),\n",
       " ('moscot', 0.26966792),\n",
       " ('yojiyamamoto', 0.2697086),\n",
       " ('paulsmith', 0.27107942),\n",
       " ('tumi', 0.2722342),\n",
       " ('balenciaga', 0.27538398),\n",
       " ('tommyhilfiger', 0.27565035),\n",
       " ('kuho', 0.27770013),\n",
       " ('discovery', 0.28191683),\n",
       " ('gstarraw', 0.2820111),\n",
       " ('engineeredgarment', 0.2826233),\n",
       " ('hm', 0.2838135),\n",
       " ('plac', 0.2850262),\n",
       " ('pearlygates', 0.28544712),\n",
       " ('alexanderwang', 0.28665417),\n",
       " ('oioi', 0.2885602),\n",
       " ('goldengoose', 0.2911213),\n",
       " ('acnestudios', 0.29154074),\n",
       " ('ugg', 0.2916492),\n",
       " ('tartoptical', 0.29170623),\n",
       " ('iamnotahumanbeing', 0.29494077),\n",
       " ('kolonsport', 0.2978126),\n",
       " ('drmartens', 0.29816425),\n",
       " ('marceloburlon', 0.2987861),\n",
       " ('michaelkors', 0.3000003),\n",
       " ('maisonmargiela', 0.30195856),\n",
       " ('rayban', 0.3027964),\n",
       " ('prospecs', 0.30293128),\n",
       " ('forever21', 0.3135538),\n",
       " ('fog', 0.31393978),\n",
       " ('jansport', 0.31432548),\n",
       " ('sandro', 0.314816),\n",
       " ('bottegaveneta', 0.31716016),\n",
       " ('stereovinyls', 0.3179788),\n",
       " ('giordano', 0.31906933),\n",
       " ('ourlegacy', 0.32199746),\n",
       " ('suicoke', 0.32646364),\n",
       " ('eastpak', 0.32648152),\n",
       " ('onitsukatiger', 0.3284461),\n",
       " ('daks', 0.33149707),\n",
       " ('aecawhite', 0.334008),\n",
       " ('mine', 0.33527845),\n",
       " ('samsonite', 0.33531946),\n",
       " ('lacoste', 0.33560118),\n",
       " ('tods', 0.33562544),\n",
       " ('mulberry', 0.33874816),\n",
       " ('buckaroo', 0.33968136),\n",
       " ('mandarinaduck', 0.33977905),\n",
       " ('lap', 0.3412454),\n",
       " ('apc', 0.3417031),\n",
       " ('danner', 0.34359795),\n",
       " ('grds', 0.3477791),\n",
       " ('jimmychoo', 0.34799916),\n",
       " ('barbour', 0.3520904),\n",
       " ('keds', 0.35476428),\n",
       " ('maxmara', 0.35727054),\n",
       " ('vivastudio', 0.35936773),\n",
       " ('thursdayisland', 0.3599785),\n",
       " ('montbell', 0.3625425),\n",
       " ('system', 0.3627201),\n",
       " ('johnelliott', 0.36545488),\n",
       " ('filson', 0.36567402),\n",
       " ('cos', 0.36675256),\n",
       " ('nonnative', 0.3672515),\n",
       " ('marni', 0.36866534),\n",
       " ('ermenegildozegna', 0.37849483),\n",
       " ('keen', 0.38516918),\n",
       " ('jilsander', 0.3899246),\n",
       " ('marcjacobs', 0.3923025),\n",
       " ('mhl', 0.39295363),\n",
       " ('theory', 0.39690247),\n",
       " ('benetton', 0.40004218),\n",
       " ('topshop', 0.41048363),\n",
       " ('isseymiyake', 0.41090953),\n",
       " ('amiri', 0.4167803),\n",
       " ('allsaints', 0.4192093),\n",
       " ('teva', 0.42291874),\n",
       " ('eastlogue', 0.4286093),\n",
       " ('ami', 0.42963344),\n",
       " ('clubmonaco', 0.4299991),\n",
       " ('helmutlang', 0.43599686),\n",
       " ('topten', 0.43795526),\n",
       " ('eytys', 0.4392138),\n",
       " ('suecommabonnie', 0.441191),\n",
       " ('tomsshoes', 0.44167686),\n",
       " ('vivianwestwood', 0.44225323),\n",
       " ('toryburch', 0.44879597),\n",
       " ('superga', 0.46115434),\n",
       " ('maje', 0.46387893),\n",
       " ('fredperry', 0.47794104),\n",
       " ('cutlerandgross', 0.480785),\n",
       " ('tomboy', 0.48280936),\n",
       " ('bershka', 0.48766977),\n",
       " ('soup', 0.5414798),\n",
       " ('veja', 0.54786813)]"
      ]
     },
     "execution_count": 106,
     "metadata": {},
     "output_type": "execute_result"
    }
   ],
   "source": [
    "out"
   ]
  },
  {
   "cell_type": "code",
   "execution_count": null,
   "metadata": {},
   "outputs": [],
   "source": []
  },
  {
   "cell_type": "code",
   "execution_count": null,
   "metadata": {},
   "outputs": [],
   "source": []
  },
  {
   "cell_type": "code",
   "execution_count": 215,
   "metadata": {},
   "outputs": [],
   "source": [
    "id_pools = {\n",
    "    '럭셔리': '럭셔리,고급,호화,luxury', \n",
    "    '캐주얼': '캐주얼,캐쥬얼,casual', \n",
    "    \n",
    "    '유니크': '유니크,독특,독창,unique,개성,only,참신,신선,특이,아이디어',\n",
    "    '대중성': '대중,popular,mass,흔한', \n",
    "    \n",
    "    '정통성': '정통,traditional,클래식,classic,품격', \n",
    "    '트렌디': '트렌디,트랜디,트렌드,트랜드,유행,trend,trendy,변화,변동,새로운',#,'민감'],\n",
    "    \n",
    "    '포멀': '포멀,노멀,normal,평범,일상',\n",
    "    '화제성': '화제,인기,hot,튀는', \n",
    "    \n",
    "    #'가성비': ['가성비','저렴','효율','성능','실용'], \n",
    "    #'신뢰성': ['신뢰','믿음','trust','견고','품질','안정','클래식','classic'],\n",
    "    #'활동성': ['활동','활발','운동','액티브','스포츠','active','sport','sports','sporty'],\n",
    "    #'과감함': ['과감','선도','선구','대담','강렬','선명','예술','art'],\n",
    "    # 철학, 환상, 신상, 새로운, \n",
    "}"
   ]
  },
  {
   "cell_type": "code",
   "execution_count": 216,
   "metadata": {},
   "outputs": [],
   "source": [
    "dct = Dictionary(tokens)\n",
    "dct.filter_extremes(no_below=20, no_above=0.2)\n",
    "dct.compactify()"
   ]
  },
  {
   "cell_type": "code",
   "execution_count": 217,
   "metadata": {},
   "outputs": [
    {
     "data": {
      "application/vnd.jupyter.widget-view+json": {
       "model_id": "d94e2aac5be649a4b57c5ddd064de090",
       "version_major": 2,
       "version_minor": 0
      },
      "text/plain": [
       "HBox(children=(IntProgress(value=0, max=327), HTML(value='')))"
      ]
     },
     "metadata": {},
     "output_type": "display_data"
    },
    {
     "name": "stdout",
     "output_type": "stream",
     "text": [
      "\n"
     ]
    }
   ],
   "source": [
    "corp = {item:[dct.doc2bow(tok) for tok in toks] for item, toks in tqdm_notebook(tokens.tokensdict.items())}"
   ]
  },
  {
   "cell_type": "code",
   "execution_count": 218,
   "metadata": {},
   "outputs": [],
   "source": [
    "model_tfidf = TfidfModel(sum(corp.values(),[]), id2word=dct)"
   ]
  },
  {
   "cell_type": "code",
   "execution_count": 219,
   "metadata": {},
   "outputs": [],
   "source": [
    "wordlist = list(dct.values())\n",
    "identities = list(id_pools.keys())\n",
    "brands = list(tokens.tokensdict.keys())"
   ]
  },
  {
   "cell_type": "code",
   "execution_count": 220,
   "metadata": {},
   "outputs": [
    {
     "data": {
      "application/vnd.jupyter.widget-view+json": {
       "model_id": "ece950ea276e4c44b61b5ebfbe9f46b7",
       "version_major": 2,
       "version_minor": 0
      },
      "text/plain": [
       "HBox(children=(IntProgress(value=0, max=8), HTML(value='')))"
      ]
     },
     "metadata": {},
     "output_type": "display_data"
    },
    {
     "name": "stdout",
     "output_type": "stream",
     "text": [
      "\n"
     ]
    }
   ],
   "source": [
    "sim_mat = np.zeros((len(identities),len(wordlist)))\n",
    "for i, idty in enumerate(tqdm_notebook(identities)):\n",
    "    for j, word in enumerate(wordlist):\n",
    "        sims = []\n",
    "        for w in id_pools[idty].split(','):\n",
    "            try:\n",
    "                sims.append(w2v.wv.similarity(w, word))\n",
    "            except:\n",
    "                pass\n",
    "                #sims.append(0)\n",
    "        sim_mat[i,j] = np.mean(sims)\n",
    "        #sim_mat[i,j] = np.mean([w2v.wv.similarity(w, word) for w in id_pools[idty]])"
   ]
  },
  {
   "cell_type": "code",
   "execution_count": 221,
   "metadata": {},
   "outputs": [
    {
     "data": {
      "text/plain": [
       "(8, 25749)"
      ]
     },
     "execution_count": 221,
     "metadata": {},
     "output_type": "execute_result"
    }
   ],
   "source": [
    "sim_mat.shape"
   ]
  },
  {
   "cell_type": "code",
   "execution_count": 222,
   "metadata": {},
   "outputs": [],
   "source": [
    "def get_brand_vecs(bname):\n",
    "    brand_tfidf  = model_tfidf[corp[bname]]\n",
    "    return np.vstack([sparse2full(c, len(dct)) for c in brand_tfidf]).mean(axis=0)\n",
    "\n",
    "def plot_id(bname):\n",
    "    val = sim_mat.dot(get_brand_vecs(bname))\n",
    "    #val /= val.sum()\n",
    "    pd.Series(val, index=identities).plot.barh()"
   ]
  },
  {
   "cell_type": "code",
   "execution_count": 223,
   "metadata": {},
   "outputs": [
    {
     "name": "stdout",
     "output_type": "stream",
     "text": [
      "advisoryboardcrystals\n",
      "doublet\n",
      "engineeredgarment\n",
      "experthorror\n",
      "goat\n",
      "heliotemil\n",
      "ignoredprayers\n",
      "novacancyinn\n",
      "onlineceramics\n",
      "saterdaysnyc\n",
      "someware\n",
      "sssworldcorp\n",
      "ystrdystmrrw\n"
     ]
    }
   ],
   "source": [
    "id_dict = {}\n",
    "for bname in brands:\n",
    "    if bname not in ['ootd','fashion','category']:\n",
    "        try:\n",
    "            id_dict[bname] = sim_mat.dot(get_brand_vecs(bname))\n",
    "        except:\n",
    "            print(bname)"
   ]
  },
  {
   "cell_type": "code",
   "execution_count": 224,
   "metadata": {},
   "outputs": [],
   "source": [
    "pd.DataFrame(id_dict, index=identities).to_pickle('model/id_dict.pkl')"
   ]
  },
  {
   "cell_type": "code",
   "execution_count": 252,
   "metadata": {
    "scrolled": true
   },
   "outputs": [
    {
     "data": {
      "text/plain": [
       "<matplotlib.axes._subplots.AxesSubplot at 0x8caa72b0>"
      ]
     },
     "execution_count": 252,
     "metadata": {},
     "output_type": "execute_result"
    },
    {
     "data": {
      "image/png": "[encoded data removed]",
      "text/plain": [
       "<Figure size 432x288 with 1 Axes>"
      ]
     },
     "metadata": {},
     "output_type": "display_data"
    }
   ],
   "source": [
    "df = pd.DataFrame(id_dict, index=identities) #pd.read_pickle('model/id_dict.pkl')\n",
    "#df /= df.sum()\n",
    "df[['bape','chanel']].plot.barh()"
   ]
  },
  {
   "cell_type": "code",
   "execution_count": 226,
   "metadata": {},
   "outputs": [],
   "source": [
    "df_id = pd.DataFrame(columns=df.columns)\n",
    "df_id.loc['럭셔리-캐주얼'] = df.loc['럭셔리'] / (df.loc['럭셔리'] + df.loc['캐주얼'])\n",
    "df_id.loc['유니크-대중성'] = df.loc['유니크'] / (df.loc['유니크'] + df.loc['대중성'])\n",
    "df_id.loc['정통성-트렌디'] = df.loc['정통성'] / (df.loc['정통성'] + df.loc['트렌디'])\n",
    "df_id.loc['포멀-화제성'] = df.loc['포멀'] / (df.loc['포멀'] + df.loc['화제성'])"
   ]
  },
  {
   "cell_type": "code",
   "execution_count": 253,
   "metadata": {},
   "outputs": [],
   "source": [
    "df_id.to_pickle('model/id_dict.pkl')"
   ]
  },
  {
   "cell_type": "code",
   "execution_count": 235,
   "metadata": {},
   "outputs": [
    {
     "data": {
      "text/plain": [
       "<matplotlib.axes._subplots.AxesSubplot at 0x8c59e198>"
      ]
     },
     "execution_count": 235,
     "metadata": {},
     "output_type": "execute_result"
    },
    {
     "data": {
      "image/png": "[encoded data removed]",
      "text/plain": [
       "<Figure size 576x360 with 1 Axes>"
      ]
     },
     "metadata": {},
     "output_type": "display_data"
    }
   ],
   "source": [
    "df_id[['nike','crocs','chanel']].plot.barh(figsize=(8,5))"
   ]
  },
  {
   "cell_type": "code",
   "execution_count": null,
   "metadata": {},
   "outputs": [],
   "source": []
  },
  {
   "cell_type": "markdown",
   "metadata": {},
   "source": [
    "# 여기서 normalize 축을 바꾸면 어떨까?"
   ]
  },
  {
   "cell_type": "code",
   "execution_count": 243,
   "metadata": {},
   "outputs": [
    {
     "data": {
      "text/plain": [
       "<matplotlib.axes._subplots.AxesSubplot at 0x8cb4bda0>"
      ]
     },
     "execution_count": 243,
     "metadata": {},
     "output_type": "execute_result"
    },
    {
     "data": {
      "image/png": "[encoded data removed]",
      "text/plain": [
       "<Figure size 360x504 with 1 Axes>"
      ]
     },
     "metadata": {},
     "output_type": "display_data"
    }
   ],
   "source": [
    "#df = pd.read_pickle('model/id_dict.pkl')\n",
    "min_max_scaler = preprocessing.MinMaxScaler(feature_range=(0.1, 1))\n",
    "X_train_minmax = min_max_scaler.fit_transform(df_id)\n",
    "df2 = df_id.copy()\n",
    "df2[:] = X_train_minmax\n",
    "df2[['nike','crocs']].plot.barh(figsize=(5,7))"
   ]
  },
  {
   "cell_type": "code",
   "execution_count": 245,
   "metadata": {
    "collapsed": true
   },
   "outputs": [
    {
     "data": {
      "text/plain": [
       "032c                    12\n",
       "1017alyx9sm             12\n",
       "8seconds                 2\n",
       "99percentis              1\n",
       "aape                    14\n",
       "abecrombiefitch         11\n",
       "acnestudios              9\n",
       "acoldwall               13\n",
       "acronym                 12\n",
       "adererror                6\n",
       "adidas                  12\n",
       "adidasoriginal           0\n",
       "aecawhite                6\n",
       "aimeleondore            18\n",
       "aldo                     6\n",
       "alexandermcqueen        10\n",
       "alexanderwang            0\n",
       "allsaints                7\n",
       "alphaindustry            7\n",
       "ambush                   1\n",
       "ami                      7\n",
       "amiri                    2\n",
       "antisocialsocialclub     1\n",
       "apc                      6\n",
       "arcteryx                15\n",
       "asics                   18\n",
       "awakeny                 10\n",
       "balenciaga               0\n",
       "bally                    3\n",
       "balmain                 10\n",
       "                        ..\n",
       "tomsshoes                6\n",
       "topshop                 18\n",
       "topten                   2\n",
       "toryburch               17\n",
       "tumi                    10\n",
       "ugg                      0\n",
       "umbro                    1\n",
       "undefeated              15\n",
       "underarmour             12\n",
       "undercover               6\n",
       "uniqlo                   2\n",
       "urutokyo                 3\n",
       "valentino               17\n",
       "vans                     6\n",
       "veja                    16\n",
       "versace                 10\n",
       "vetement                 0\n",
       "visvim                  15\n",
       "vivastudio               7\n",
       "vivianwestwood          17\n",
       "whitemountaineering      6\n",
       "wilson                  14\n",
       "woolrich                15\n",
       "wtaps                    6\n",
       "xlarge                  18\n",
       "y3                      15\n",
       "yeezy                   12\n",
       "yojiyamamoto             3\n",
       "zara                     6\n",
       "zucca                    9\n",
       "Length: 311, dtype: int64"
      ]
     },
     "execution_count": 245,
     "metadata": {},
     "output_type": "execute_result"
    }
   ],
   "source": [
    "pca = PCA(n_components=0.9)\n",
    "X_reduced = pca.fit_transform(df2.T)\n",
    "# cluster = KMeans(n_clusters=10, random_state=0).fit(X_reduced)\n",
    "# cluster = DBSCAN().fit(X_reduced)\n",
    "cluster = AffinityPropagation().fit(X_reduced)\n",
    "clustered = pd.Series(cluster.labels_, index=df2.columns); clustered"
   ]
  },
  {
   "cell_type": "code",
   "execution_count": 247,
   "metadata": {
    "scrolled": true
   },
   "outputs": [],
   "source": [
    "clrd = pd.DataFrame(clustered.sort_values()).reset_index()\n",
    "clrd.columns = ['bname', 'cluster']\n",
    "clrd.to_excel('model/clustered.xlsx')"
   ]
  },
  {
   "cell_type": "code",
   "execution_count": 250,
   "metadata": {},
   "outputs": [
    {
     "data": {
      "text/html": [
       "<div>\n",
       "<style scoped>\n",
       "    .dataframe tbody tr th:only-of-type {\n",
       "        vertical-align: middle;\n",
       "    }\n",
       "\n",
       "    .dataframe tbody tr th {\n",
       "        vertical-align: top;\n",
       "    }\n",
       "\n",
       "    .dataframe thead th {\n",
       "        text-align: right;\n",
       "    }\n",
       "</style>\n",
       "<table border=\"1\" class=\"dataframe\">\n",
       "  <thead>\n",
       "    <tr style=\"text-align: right;\">\n",
       "      <th></th>\n",
       "      <th>bname</th>\n",
       "      <th>cluster</th>\n",
       "    </tr>\n",
       "  </thead>\n",
       "  <tbody>\n",
       "    <tr>\n",
       "      <th>158</th>\n",
       "      <td>chanel</td>\n",
       "      <td>10</td>\n",
       "    </tr>\n",
       "  </tbody>\n",
       "</table>\n",
       "</div>"
      ],
      "text/plain": [
       "      bname  cluster\n",
       "158  chanel       10"
      ]
     },
     "execution_count": 250,
     "metadata": {},
     "output_type": "execute_result"
    }
   ],
   "source": [
    "clrd[clrd.bname=='chanel']"
   ]
  },
  {
   "cell_type": "code",
   "execution_count": 251,
   "metadata": {},
   "outputs": [
    {
     "data": {
      "text/plain": [
       "Index(['alexandermcqueen', 'awakeny', 'balmain', 'bottegaveneta', 'burberry',\n",
       "       'chanel', 'dior', 'dkny', 'ermenegildozegna', 'fendi', 'ferragamo',\n",
       "       'gentlemonster', 'gucci', 'hermes', 'heronpreston', 'lanvin',\n",
       "       'louisvuitton', 'n21', 'prada', 'tods', 'tumi', 'versace'],\n",
       "      dtype='object')"
      ]
     },
     "execution_count": 251,
     "metadata": {},
     "output_type": "execute_result"
    }
   ],
   "source": [
    "clustered.index[clustered==10]"
   ]
  },
  {
   "cell_type": "code",
   "execution_count": 323,
   "metadata": {
    "collapsed": true
   },
   "outputs": [
    {
     "data": {
      "text/plain": [
       "032c                    0.921131\n",
       "1017alyx9sm             1.000000\n",
       "8seconds                0.894010\n",
       "99percentis             0.773222\n",
       "aape                    0.975499\n",
       "abecrombiefitch         0.844910\n",
       "acnestudios             1.000000\n",
       "acoldwall               1.000000\n",
       "acronym                 1.000000\n",
       "adererror               1.000000\n",
       "adidas                  0.907210\n",
       "adidasoriginal          1.000000\n",
       "aecawhite               1.000000\n",
       "aimeleondore            0.809190\n",
       "aldo                    1.000000\n",
       "alexandermcqueen        1.000000\n",
       "alexanderwang           1.000000\n",
       "allsaints               1.000000\n",
       "alphaindustry           0.916350\n",
       "ambush                  0.815106\n",
       "ami                     0.947703\n",
       "amiri                   0.979774\n",
       "antisocialsocialclub    0.971174\n",
       "apc                     0.955957\n",
       "arcteryx                0.983103\n",
       "asics                   0.862977\n",
       "awakeny                 0.987181\n",
       "balenciaga              1.000000\n",
       "bally                   0.899009\n",
       "balmain                 0.930140\n",
       "                          ...   \n",
       "tomsshoes               0.917824\n",
       "topshop                 0.745188\n",
       "topten                  0.649428\n",
       "toryburch               1.000000\n",
       "tumi                    0.924542\n",
       "ugg                     0.925125\n",
       "umbro                   0.729065\n",
       "undefeated              0.893982\n",
       "underarmour             0.800339\n",
       "undercover              0.907338\n",
       "uniqlo                  0.909249\n",
       "urutokyo                0.921592\n",
       "valentino               0.925484\n",
       "vans                    1.000000\n",
       "veja                    1.000000\n",
       "versace                 0.987600\n",
       "vetement                1.000000\n",
       "visvim                  1.000000\n",
       "vivastudio              0.865780\n",
       "vivianwestwood          1.000000\n",
       "whitemountaineering     1.000000\n",
       "wilson                  0.993942\n",
       "woolrich                0.829324\n",
       "wtaps                   1.000000\n",
       "xlarge                  1.000000\n",
       "y3                      0.981440\n",
       "yeezy                   1.000000\n",
       "yojiyamamoto            0.962689\n",
       "zara                    1.000000\n",
       "zucca                   0.970794\n",
       "Name: 신뢰성, Length: 311, dtype: float64"
      ]
     },
     "execution_count": 323,
     "metadata": {},
     "output_type": "execute_result"
    }
   ],
   "source": [
    "df2.loc['신뢰성']"
   ]
  },
  {
   "cell_type": "code",
   "execution_count": null,
   "metadata": {},
   "outputs": [],
   "source": []
  },
  {
   "cell_type": "code",
   "execution_count": null,
   "metadata": {},
   "outputs": [],
   "source": []
  },
  {
   "cell_type": "code",
   "execution_count": 325,
   "metadata": {},
   "outputs": [],
   "source": [
    "df_kw = pd.read_excel('keywords and logos.xlsx', sheet_name='20190215')[['shortname','keywords']].set_index('shortname')\n",
    "df_kw;"
   ]
  },
  {
   "cell_type": "code",
   "execution_count": 326,
   "metadata": {},
   "outputs": [],
   "source": [
    "def plot_wc(bname):\n",
    "    with open('model/tokensfreq.json', encoding='UTF-8-sig') as f:\n",
    "        j = json.load(f)[bname]\n",
    "        kws = [kw.strip() for kw in df_kw.keywords.loc[bname].split(',')]\n",
    "        [j.pop(kw, None) for kw in kws]\n",
    "\n",
    "    x,y = np.ogrid[:300, :300]\n",
    "    mask = (x-150)**2 + (y-150)**2 > 130**2\n",
    "    mask = 255 * mask.astype(int)\n",
    "        \n",
    "    font_path = r'c:\\Windows\\Fonts\\NanumBarunGothic.ttf'\n",
    "    wc = WordCloud(width=100, height=100, background_color='white', font_path=font_path, random_state=0, mask=mask)\n",
    "    \n",
    "    try:\n",
    "        fig, ax = plt.subplots(figsize=(7,7))\n",
    "        ax.imshow(wc.generate_from_frequencies(j), interpolation='bilinear')\n",
    "        ax.axis('off')\n",
    "        fig.savefig('model/wordcloud/wc_' + bname + '.png', format='png')\n",
    "        \n",
    "    except:\n",
    "        print(bname)\n",
    "        \n",
    "    finally:\n",
    "        plt.close(fig)"
   ]
  },
  {
   "cell_type": "code",
   "execution_count": 327,
   "metadata": {
    "collapsed": true
   },
   "outputs": [
    {
     "data": {
      "application/vnd.jupyter.widget-view+json": {
       "model_id": "a5375748340a4e71bff0bc61fae373fa",
       "version_major": 2,
       "version_minor": 0
      },
      "text/plain": [
       "HBox(children=(IntProgress(value=1, bar_style='info', max=1), HTML(value='')))"
      ]
     },
     "metadata": {},
     "output_type": "display_data"
    },
    {
     "name": "stdout",
     "output_type": "stream",
     "text": [
      "doublet\n",
      "engineeredgarment\n",
      "ignoredprayers\n",
      "saterdaysnyc\n",
      "advisoryboardcrystals\n",
      "experthorror\n",
      "goat\n",
      "heliotemil\n",
      "novacancyinn\n",
      "onlineceramics\n",
      "someware\n",
      "sssworldcorp\n",
      "ystrdystmrrw\n"
     ]
    }
   ],
   "source": [
    "for row in tqdm_notebook(df_kw.itertuples()):\n",
    "    bname = row.Index\n",
    "    \n",
    "    fname = 'model/wordcloud/wc_' + bname + '.png'\n",
    "    if os.path.isfile(fname):\n",
    "        continue\n",
    "        \n",
    "    if bname not in ['ootd','fashion','category']:\n",
    "        plot_wc(bname)"
   ]
  },
  {
   "cell_type": "code",
   "execution_count": null,
   "metadata": {},
   "outputs": [],
   "source": []
  },
  {
   "cell_type": "code",
   "execution_count": null,
   "metadata": {},
   "outputs": [],
   "source": []
  },
  {
   "cell_type": "code",
   "execution_count": 9,
   "metadata": {
    "collapsed": true
   },
   "outputs": [
    {
     "data": {
      "text/plain": [
       "soup               0.478494\n",
       "thursdayisland     0.523196\n",
       "hconnect           0.535815\n",
       "discovery          0.558666\n",
       "maxmara            0.597487\n",
       "fog                0.599294\n",
       "munsingwear        0.600664\n",
       "coteciel           0.614565\n",
       "mine               0.630577\n",
       "k2                 0.631754\n",
       "topten             0.649428\n",
       "bbc                0.657800\n",
       "buckaroo           0.695261\n",
       "reigningchamp      0.700859\n",
       "coach              0.706395\n",
       "gap                0.710637\n",
       "mains              0.710886\n",
       "plac               0.716768\n",
       "maje               0.718295\n",
       "placesplusfaces    0.724394\n",
       "umbro              0.729065\n",
       "mlb                0.732206\n",
       "plasticisland      0.739186\n",
       "topshop            0.745188\n",
       "charms             0.745581\n",
       "nonnative          0.750487\n",
       "lecoqsportif       0.752308\n",
       "tomboy             0.753768\n",
       "hoodbyair          0.754262\n",
       "palace             0.763309\n",
       "                     ...   \n",
       "porter             1.000000\n",
       "everywear          1.000000\n",
       "montblanc          1.000000\n",
       "liful              1.000000\n",
       "carhartt           1.000000\n",
       "daks               1.000000\n",
       "supreme            1.000000\n",
       "brixton            1.000000\n",
       "humanmade          1.000000\n",
       "billylosangeles    1.000000\n",
       "newera             1.000000\n",
       "gmbh               1.000000\n",
       "seventhheaven      1.000000\n",
       "thombrowne         1.000000\n",
       "tods               1.000000\n",
       "balenciaga         1.000000\n",
       "paulsmith          1.000000\n",
       "incase             1.000000\n",
       "goldengoose        1.000000\n",
       "converse           1.000000\n",
       "bape               1.000000\n",
       "freitag            1.000000\n",
       "veja               1.000000\n",
       "beanpole           1.000000\n",
       "vetement           1.000000\n",
       "pleatsplease       1.000000\n",
       "palmangels         1.000000\n",
       "beyondcloset       1.000000\n",
       "xlarge             1.000000\n",
       "celine             1.000000\n",
       "Name: 신뢰성, Length: 311, dtype: float64"
      ]
     },
     "execution_count": 9,
     "metadata": {},
     "output_type": "execute_result"
    }
   ],
   "source": [
    "df2.T['신뢰성'].sort_values()"
   ]
  },
  {
   "cell_type": "code",
   "execution_count": null,
   "metadata": {},
   "outputs": [],
   "source": []
  }
 ],
 "metadata": {
  "kernelspec": {
   "display_name": "Python 3",
   "language": "python",
   "name": "python3"
  },
  "language_info": {
   "codemirror_mode": {
    "name": "ipython",
    "version": 3
   },
   "file_extension": ".py",
   "mimetype": "text/x-python",
   "name": "python",
   "nbconvert_exporter": "python",
   "pygments_lexer": "ipython3",
   "version": "3.7.1"
  }
 },
 "nbformat": 4,
 "nbformat_minor": 2
}
